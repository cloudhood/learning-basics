{
  "nbformat": 4,
  "nbformat_minor": 0,
  "metadata": {
    "colab": {
      "name": "knn_unsupervised.ipynb",
      "provenance": [],
      "collapsed_sections": [],
      "authorship_tag": "ABX9TyOCR1AWa82WsgcSTNskR58y",
      "include_colab_link": true
    },
    "kernelspec": {
      "name": "python3",
      "display_name": "Python 3"
    },
    "language_info": {
      "name": "python"
    }
  },
  "cells": [
    {
      "cell_type": "markdown",
      "metadata": {
        "id": "view-in-github",
        "colab_type": "text"
      },
      "source": [
        "<a href=\"https://colab.research.google.com/github/cloudhood/learning-basics/blob/main/notebooks/knn_unsupervised.ipynb\" target=\"_parent\"><img src=\"https://colab.research.google.com/assets/colab-badge.svg\" alt=\"Open In Colab\"/></a>"
      ]
    },
    {
      "cell_type": "code",
      "source": [
        "!pip install --upgrade ipython nb_black &> /dev/null"
      ],
      "metadata": {
        "id": "pRmNi20ucVWe"
      },
      "execution_count": 109,
      "outputs": []
    },
    {
      "cell_type": "code",
      "source": [
        "%load_ext nb_black"
      ],
      "metadata": {
        "id": "Zm9et8AVdVHi"
      },
      "execution_count": 5,
      "outputs": []
    },
    {
      "cell_type": "code",
      "execution_count": 6,
      "metadata": {
        "id": "Y90dKjh0vHla"
      },
      "outputs": [],
      "source": [
        "import numpy as np\n",
        "import matplotlib.pyplot as plt\n",
        "\n",
        "from sklearn import datasets\n",
        "from sklearn.neighbors import NearestNeighbors\n",
        "\n",
        "from sklearn.preprocessing import StandardScaler"
      ]
    },
    {
      "cell_type": "code",
      "source": [
        "# Load data\n",
        "iris = datasets.load_iris()\n",
        "features = iris.data\n",
        "\n",
        "# Create standardizer\n",
        "standardizer = StandardScaler()\n",
        "\n",
        "# Standardize features\n",
        "features_standardized = standardizer.fit_transform(features)\n",
        "\n",
        "# Two nearest neighbors\n",
        "nearest_neighbors = NearestNeighbors(n_neighbors=2).fit(features_standardized)\n",
        "\n",
        "# Create an observation\n",
        "new_observation = [ 1,  1,  1,  1]\n",
        "\n",
        "# Find distances and indices of the observation's nearest neighbors\n",
        "distances, indices = nearest_neighbors.kneighbors([new_observation])\n",
        "\n",
        "# View the nearest neighbors\n",
        "features_standardized[indices]"
      ],
      "metadata": {
        "id": "cm1u03x-x_Gw"
      },
      "execution_count": 47,
      "outputs": []
    },
    {
      "cell_type": "code",
      "source": [
        "features[indices[0]]"
      ],
      "metadata": {
        "colab": {
          "base_uri": "https://localhost:8080/"
        },
        "id": "e2o96Ckwy5Wx",
        "outputId": "20fb2e83-fc6a-43ba-8a19-edb485dad6c1"
      },
      "execution_count": 51,
      "outputs": [
        {
          "output_type": "execute_result",
          "data": {
            "text/plain": [
              "array([[6.7, 3.3, 5.7, 2.1],\n",
              "       [6.5, 3.2, 5.1, 2. ]])"
            ]
          },
          "metadata": {},
          "execution_count": 51
        }
      ]
    },
    {
      "cell_type": "code",
      "source": [
        "# List of lists indicating each observation's 3 nearest neighbors\n",
        "# (including itself)\n",
        "nearest_neighbors_with_self = nearestneighbors_euclidean.kneighbors_graph(\n",
        "    features_standardized\n",
        ").toarray()\n",
        "\n",
        "# Remove 1's marking an observation is a nearest neighbor to itself\n",
        "for i, x in enumerate(nearest_neighbors_with_self):\n",
        "    x[i] = 0\n",
        "\n",
        "# View first observation's two nearest neighbors\n",
        "nearest_neighbors_with_self[0]"
      ],
      "metadata": {
        "colab": {
          "base_uri": "https://localhost:8080/"
        },
        "id": "XS1A4jzWySXi",
        "outputId": "5c4021b7-8d7e-4ca7-8007-d0932e35eba8"
      },
      "execution_count": 48,
      "outputs": [
        {
          "output_type": "execute_result",
          "data": {
            "text/plain": [
              "array([0., 0., 0., 0., 0., 0., 0., 0., 0., 0., 0., 0., 0., 0., 0., 0., 0.,\n",
              "       1., 0., 0., 0., 0., 0., 0., 0., 0., 0., 0., 0., 0., 0., 0., 0., 0.,\n",
              "       0., 0., 0., 0., 0., 0., 0., 0., 0., 0., 0., 0., 0., 0., 0., 0., 0.,\n",
              "       0., 0., 0., 0., 0., 0., 0., 0., 0., 0., 0., 0., 0., 0., 0., 0., 0.,\n",
              "       0., 0., 0., 0., 0., 0., 0., 0., 0., 0., 0., 0., 0., 0., 0., 0., 0.,\n",
              "       0., 0., 0., 0., 0., 0., 0., 0., 0., 0., 0., 0., 0., 0., 0., 0., 0.,\n",
              "       0., 0., 0., 0., 0., 0., 0., 0., 0., 0., 0., 0., 0., 0., 0., 0., 0.,\n",
              "       0., 0., 0., 0., 0., 0., 0., 0., 0., 0., 0., 0., 0., 0., 0., 0., 0.,\n",
              "       0., 0., 0., 0., 0., 0., 0., 0., 0., 0., 0., 0., 0., 0.])"
            ]
          },
          "metadata": {},
          "execution_count": 48
        }
      ]
    },
    {
      "cell_type": "code",
      "source": [
        "X = np.array([[2.1, 1.3], [1.3, 3.2], [2.9, 2.5], [2.7, 5.4], [3.8, 0.9], \n",
        "        [7.3, 2.1], [4.2, 6.5], [3.8, 3.7], [2.5, 4.1], [3.4, 1.9],\n",
        "        [5.7, 3.5], [6.1, 4.3], [5.1, 2.2], [6.2, 1.1]])\n",
        "k = 5\n",
        "test_data_point = np.array([4.3, 2.7])\n",
        "\n",
        "plt.figure()\n",
        "plt.title('Input data')\n",
        "plt.scatter(X[:,0], X[:,1], marker='o', s=75, color='black')"
      ],
      "metadata": {
        "colab": {
          "base_uri": "https://localhost:8080/",
          "height": 298
        },
        "id": "X77VaaHrzFSm",
        "outputId": "fa2ccb2e-4198-482c-ce0f-b798fab694b5"
      },
      "execution_count": 60,
      "outputs": [
        {
          "output_type": "execute_result",
          "data": {
            "text/plain": [
              "<matplotlib.collections.PathCollection at 0x7fc7a79f9d90>"
            ]
          },
          "metadata": {},
          "execution_count": 60
        },
        {
          "output_type": "display_data",
          "data": {
            "text/plain": [
              "<Figure size 432x288 with 1 Axes>"
            ],
            "image/png": "[encoded data removed]"
          },
          "metadata": {
            "needs_background": "light"
          }
        }
      ]
    },
    {
      "cell_type": "code",
      "source": [
        "knn_model = NearestNeighbors(n_neighbors=k, algorithm='ball_tree').fit(X) \n",
        "distances, indices = knn_model.kneighbors(test_data_point.reshape(1, -1))"
      ],
      "metadata": {
        "id": "X_dCuf5PzKlQ"
      },
      "execution_count": 61,
      "outputs": []
    },
    {
      "cell_type": "code",
      "source": [
        "# Print the 'k' nearest neighbors\n",
        "print(\"\\nK Nearest Neighbors:\")\n",
        "for rank, index in enumerate(indices[0][:k], start=1):\n",
        "    print(str(rank) + \" ==>\", X[index])"
      ],
      "metadata": {
        "colab": {
          "base_uri": "https://localhost:8080/"
        },
        "id": "-XzInjDfzN1q",
        "outputId": "86c957ed-54dc-4d14-8139-d23f32b8465f"
      },
      "execution_count": 62,
      "outputs": [
        {
          "output_type": "stream",
          "name": "stdout",
          "text": [
            "\n",
            "K Nearest Neighbors:\n",
            "1 ==> [5.1 2.2]\n",
            "2 ==> [3.8 3.7]\n",
            "3 ==> [3.4 1.9]\n",
            "4 ==> [2.9 2.5]\n",
            "5 ==> [5.7 3.5]\n"
          ]
        }
      ]
    },
    {
      "cell_type": "code",
      "source": [
        "# Visualize the nearest neighbors along with the test datapoint\n",
        "plt.figure()\n",
        "plt.title('Nearest neighbors')\n",
        "plt.scatter(X[:, 0], X[:, 1], marker='o', s=75, color='k')\n",
        "plt.scatter(X[indices][0][:][:, 0], X[indices][0][:][:, 1],\n",
        "        marker='o', s=250, color='k', facecolors='none')\n",
        "plt.scatter(test_data_point[0], test_data_point[1],\n",
        "        marker='x', s=75)\n",
        "plt.show()"
      ],
      "metadata": {
        "colab": {
          "base_uri": "https://localhost:8080/",
          "height": 281
        },
        "id": "2Rym7f7pzUZS",
        "outputId": "eb18989d-25ac-43fd-c0e7-69560a09a0c7"
      },
      "execution_count": 65,
      "outputs": [
        {
          "output_type": "display_data",
          "data": {
            "text/plain": [
              "<Figure size 432x288 with 1 Axes>"
            ],
            "image/png": "[encoded data removed]"
          },
          "metadata": {
            "needs_background": "light"
          }
        }
      ]
    },
    {
      "cell_type": "code",
      "source": [
        "from scipy.spatial.distance import pdist\n",
        "nb_samples = 100\n",
        "nb_bins = 100\n",
        "def max_min_mean(p=1.0, d=2):\n",
        "    Xs = np.random.uniform(0.0, 1.0,\n",
        "         size=(nb_bins, nb_samples, d))\n",
        "    pd_max = np.zeros(shape=(nb_bins,))\n",
        "    pd_min = np.zeros(shape=(nb_bins,))\n",
        "    for i in range(nb_bins):\n",
        "        pd = pdist(Xs[i], metric='minkowski', p=p)\n",
        "        pd_max[i] = np.max(pd)\n",
        "        pd_min[i] = np.min(pd)\n",
        "    return np.mean(pd_max - pd_min)"
      ],
      "metadata": {
        "id": "Rw-X08Fezrv4"
      },
      "execution_count": 66,
      "outputs": []
    },
    {
      "cell_type": "code",
      "source": [
        "def ar1(rng, n=1000, rho=.9, plot=True):\n",
        "  eps = rng.normal(size=steps)\n",
        "  y = np.zeros(steps)\n",
        "  for i in range(1, len(e)):\n",
        "    y[i] = rho * y[i] + e[i]\n",
        "  if plot:\n",
        "    plt.plot(y)\n",
        "    plt.show()\n",
        "  return y\n",
        "x = ar1(rng=rng)"
      ],
      "metadata": {
        "colab": {
          "base_uri": "https://localhost:8080/",
          "height": 265
        },
        "id": "YkQhp7laztOM",
        "outputId": "daa6957f-a545-4cc6-f2ce-393f2c100edb"
      },
      "execution_count": 97,
      "outputs": [
        {
          "output_type": "display_data",
          "data": {
            "text/plain": [
              "<Figure size 432x288 with 1 Axes>"
            ],
            "image/png": "[encoded data removed]"
          },
          "metadata": {
            "needs_background": "light"
          }
        }
      ]
    },
    {
      "cell_type": "markdown",
      "source": [
        "# K-Nearest Neighbours\n",
        "Instance-based learning. There is no parametrized model, but rather a _rearrangement_ of the samples to speed up specific queries. The brute force approach to finding a radius neighbourhood of a test sample $x_i$ would be:\n",
        "\n",
        "![image.png](data:image/png;base64,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)\n",
        "\n"
      ],
      "metadata": {
        "id": "0jWe7aqAwTHa"
      }
    },
    {
      "cell_type": "markdown",
      "source": [
        "The set $v(\\bar{x}_i)$ is a _ball_ centred on $x_i$ and includes all samples whose distance is less than or equal to $R$. We can also compute only the top $k$ nearest neighbours, which are the $k$ samples closer to $x_i$. Unfortunately this is too computationally expensive as it involves computing $M^2$ $N$-dimensional distances, assuming $N$ operations per distance - giving a complexity of $O(NM^2)$.\n",
        "\n",
        "The first alternative approach is **kd-trees**, which are a natural extension of binary trees to multi-dimensional datasets."
      ],
      "metadata": {
        "id": "b-MqCAElwqLx"
      }
    },
    {
      "cell_type": "markdown",
      "source": [
        "## Content-based systems\n",
        "* Based only on products modelled as $m$-dimensional feature vectors: \n",
        "\n",
        "$$I = \\{\\bar{i}_1, \\bar{i}_2, \\ldots, \\bar{i}_n\\}\\ \\mathrm{where} \\ \\bar{i}_j \\in \\mathbb{R}^m$$"
      ],
      "metadata": {
        "id": "cTXfqIzdrf_V"
      }
    },
    {
      "cell_type": "code",
      "source": [
        "rng = np.random.default_rng(seed=123)"
      ],
      "metadata": {
        "id": "sbrOY6wwipZP"
      },
      "execution_count": 7,
      "outputs": []
    },
    {
      "cell_type": "code",
      "source": [
        "# Generate dummy product data with 1,000 samples and 4 integer features \n",
        "# between 0 and 100.\n",
        "n_items = 1_000\n",
        "n_features = 4\n",
        "items = np.zeros(shape=(n_items, n_features))\n",
        "\n",
        "for i in range(n_items):\n",
        "    for j in range(n_features):\n",
        "        items[i, j] = rng.integers(0, 100)\n",
        "\n",
        "nn = NearestNeighbors(n_neighbors=10, radius=5.0)\n",
        "nn.fit(items)"
      ],
      "metadata": {
        "colab": {
          "base_uri": "https://localhost:8080/"
        },
        "id": "dYd89ZH3tysW",
        "outputId": "903aab6d-bc42-4fa9-cd74-36b02119ee5a"
      },
      "execution_count": 28,
      "outputs": [
        {
          "output_type": "execute_result",
          "data": {
            "text/plain": [
              "NearestNeighbors(n_neighbors=10, radius=5.0)"
            ]
          },
          "metadata": {},
          "execution_count": 28
        }
      ]
    },
    {
      "cell_type": "code",
      "source": [
        "test_product = np.array([15, 60, 28, 73])\n",
        "test_product_r = test_product.reshape(1, -1)\n",
        "\n",
        "d, suggestions = nn.radius_neighbors(test_product_r, radius=20)\n",
        "print(suggestions)\n",
        "\n",
        "d, suggestions = nn.radius_neighbors(test_product_r, radius=30)\n",
        "print(suggestions)"
      ],
      "metadata": {
        "colab": {
          "base_uri": "https://localhost:8080/"
        },
        "id": "VYRZYBIytyUi",
        "outputId": "a1836028-8300-44a4-ac1b-1599d8590c7c"
      },
      "execution_count": 31,
      "outputs": [
        {
          "output_type": "stream",
          "name": "stdout",
          "text": [
            "[array([373, 420, 634,   3,  31, 267, 144, 639])]\n",
            "[array([191, 548,  75, 101,   8, 829, 441, 166, 579, 529, 187, 368, 221,\n",
            "        251, 526, 753, 373, 902, 420, 634,   3,  31, 267, 269, 144, 639,\n",
            "        560, 256,  70, 377, 646, 833, 714, 456, 706,  78])              ]\n"
          ]
        }
      ]
    },
    {
      "cell_type": "code",
      "source": [
        "# Difference distances may be used depending on the data. For example,\n",
        "# the Hamming distance measures the proportion of disagreement between\n",
        "# two vectors (if they are binary, this is the normalized number of different\n",
        "# bits). This can be useful when we need to compare itens where the representation\n",
        "# is made up of binary states.\n",
        "from scipy.spatial.distance import hamming\n",
        "\n",
        "a = np.array([0, 1, 0, 0, 1, 0, 1, 1, 0, 0])\n",
        "b = np.array([1, 1, 0, 0, 0, 1, 1, 1, 1, 0])\n",
        "d = hamming(a, b)\n",
        "\n",
        "print(d)"
      ],
      "metadata": {
        "colab": {
          "base_uri": "https://localhost:8080/"
        },
        "id": "QAaHN5arvFsY",
        "outputId": "e0a28741-6589-405f-eac0-704f7ed892ae"
      },
      "execution_count": 35,
      "outputs": [
        {
          "output_type": "stream",
          "name": "stdout",
          "text": [
            "0.4\n"
          ]
        }
      ]
    },
    {
      "cell_type": "markdown",
      "source": [
        "![image.png](data:image/png;base64,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)"
      ],
      "metadata": {
        "id": "3WebmtjXvlc-"
      }
    },
    {
      "cell_type": "code",
      "source": [
        "# The Jaccard distance measures the dissimilarity between two different \n",
        "# sets A and B.\n",
        "from scipy.spatial.distance import jaccard\n",
        "\n",
        "d = jaccard(a, b)\n",
        "print(d)\n",
        "0.5714285714285714"
      ],
      "metadata": {
        "colab": {
          "base_uri": "https://localhost:8080/"
        },
        "id": "ZfL3_OiuvUcc",
        "outputId": "1d8886b1-bfde-4507-b806-eeb20a3fb6c4"
      },
      "execution_count": 34,
      "outputs": [
        {
          "output_type": "stream",
          "name": "stdout",
          "text": [
            "0.5714285714285714\n"
          ]
        },
        {
          "output_type": "execute_result",
          "data": {
            "text/plain": [
              "0.5714285714285714"
            ]
          },
          "metadata": {},
          "execution_count": 34
        }
      ]
    },
    {
      "cell_type": "code",
      "source": [
        "for m in ('minkowski', 'hamming', 'jaccard'):\n",
        "    nn = NearestNeighbors(n_neighbors=10, radius=5.0, metric=m)\n",
        "    nn.fit(items)"
      ],
      "metadata": {
        "id": "DqHvELKVvumo"
      },
      "execution_count": 44,
      "outputs": []
    },
    {
      "cell_type": "code",
      "source": [
        "X = np.array(\n",
        "    [\n",
        "        [2.1, 1.3], [1.3, 3.2], [2.9, 2.5], [2.7, 5.4], [3.8, 0.9],  \n",
        "        [7.3, 2.1], [4.2, 6.5], [3.8, 3.7], [2.5, 4.1], [3.4, 1.9], \n",
        "        [5.7, 3.5], [6.1, 4.3], [5.1, 2.2], [6.2, 1.1]\n",
        "     ]\n",
        ") "
      ],
      "metadata": {
        "id": "nTPNGzcBgANA"
      },
      "execution_count": 9,
      "outputs": []
    },
    {
      "cell_type": "code",
      "source": [
        "k = 5 \n",
        "test_datapoint = np.array([4.3, 2.7])\n",
        "\n",
        "plt.figure() \n",
        "plt.title('Input data') \n",
        "plt.scatter(X[:,0], X[:,1], marker='o', s=75, color='black') \n",
        "plt.show()"
      ],
      "metadata": {
        "colab": {
          "base_uri": "https://localhost:8080/",
          "height": 281
        },
        "id": "fLLZiY2zgOOC",
        "outputId": "08e019df-25cc-4410-9ceb-c84ae213eb21"
      },
      "execution_count": 15,
      "outputs": [
        {
          "output_type": "display_data",
          "data": {
            "text/plain": [
              "<Figure size 432x288 with 1 Axes>"
            ],
            "image/png": "[encoded data removed]"
          },
          "metadata": {
            "needs_background": "light"
          }
        }
      ]
    },
    {
      "cell_type": "code",
      "source": [
        "knn_model = NearestNeighbors(n_neighbors=k, algorithm='ball_tree').fit(X) \n",
        "distances, indices = knn_model.kneighbors(test_datapoint.reshape(1, -1)) "
      ],
      "metadata": {
        "id": "NGXohb1_gOLH"
      },
      "execution_count": 17,
      "outputs": []
    },
    {
      "cell_type": "code",
      "source": [
        "distances"
      ],
      "metadata": {
        "colab": {
          "base_uri": "https://localhost:8080/"
        },
        "id": "OVCyZQ3t7M8_",
        "outputId": "26662fe1-2e57-405c-b6f6-46bc0e41caf2"
      },
      "execution_count": 98,
      "outputs": [
        {
          "output_type": "execute_result",
          "data": {
            "text/plain": [
              "array([[0.94339811, 1.11803399, 1.20415946, 1.41421356, 1.61245155]])"
            ]
          },
          "metadata": {},
          "execution_count": 98
        }
      ]
    },
    {
      "cell_type": "code",
      "source": [
        "print(\"\\nK Nearest Neighbors:\") \n",
        "for rank, index in enumerate(indices[0][:k], start=1): \n",
        "    print(str(rank) + \" ==>\", X[index]) "
      ],
      "metadata": {
        "colab": {
          "base_uri": "https://localhost:8080/"
        },
        "id": "avKpcT8SgOIF",
        "outputId": "e0014263-ed61-4551-8216-733aa056d10f"
      },
      "execution_count": 18,
      "outputs": [
        {
          "output_type": "stream",
          "name": "stdout",
          "text": [
            "\n",
            "K Nearest Neighbors:\n",
            "1 ==> [5.1 2.2]\n",
            "2 ==> [3.8 3.7]\n",
            "3 ==> [3.4 1.9]\n",
            "4 ==> [2.9 2.5]\n",
            "5 ==> [5.7 3.5]\n"
          ]
        }
      ]
    },
    {
      "cell_type": "markdown",
      "source": [
        "* Partition points on a Cartesian plane into regions based on the positions and characteristics of the training objects. \n",
        "* Represent objects through positional vectors in a multidimensional spac.e\n",
        "* Assign to a class if it is the most frequent of the $k$ examples closts to the object of interest.\n",
        "* Measure proximity using the distance between points. "
      ],
      "metadata": {
        "id": "wJl2jtb3q-8-"
      }
    },
    {
      "cell_type": "code",
      "source": [
        "plt.figure() \n",
        "plt.title('Nearest neighbors') \n",
        "plt.scatter(X[:, 0], X[:, 1], marker='o', s=75, color='k') \n",
        "plt.scatter(X[indices][0][:][:, 0], X[indices][0][:][:, 1],  \n",
        "        marker='o', s=300, color='k', facecolors='none') \n",
        "plt.scatter(test_datapoint[0], test_datapoint[1], \n",
        "        marker='x', s=75) \n",
        " \n",
        "plt.show() "
      ],
      "metadata": {
        "colab": {
          "base_uri": "https://localhost:8080/",
          "height": 281
        },
        "id": "yXLXIO8QgOC6",
        "outputId": "83d2086b-3f97-4ed9-c225-06c8e2474c40"
      },
      "execution_count": 23,
      "outputs": [
        {
          "output_type": "display_data",
          "data": {
            "text/plain": [
              "<Figure size 432x288 with 1 Axes>"
            ],
            "image/png": "[encoded data removed]"
          },
          "metadata": {
            "needs_background": "light"
          }
        }
      ]
    },
    {
      "cell_type": "code",
      "source": [
        ""
      ],
      "metadata": {
        "id": "pSeHTzhWgNrZ"
      },
      "execution_count": null,
      "outputs": []
    },
    {
      "cell_type": "code",
      "source": [
        "# 1K users with 4 features\n",
        "nb_users = 1000\n",
        "users = np.zeros(shape=(nb_users, 4))\n",
        "\n",
        "for i in range(nb_users):\n",
        "    users[i, 0] = rng.integers(4)\n",
        "    users[i, 1] = rng.integers(2)\n",
        "    users[i, 2] = rng.integers(5)\n",
        "    users[i, 3] = rng.integers(5)"
      ],
      "metadata": {
        "id": "_13TD-GRizdM"
      },
      "execution_count": 113,
      "outputs": []
    },
    {
      "cell_type": "code",
      "source": [
        "# 20 different items, each user purchased upto 5 of each.\n",
        "nb_product = 20\n",
        "user_products = rng.integers(nb_product, size=(nb_users, 5))"
      ],
      "metadata": {
        "id": "uoQ4_2lNi3k6"
      },
      "execution_count": 26,
      "outputs": []
    },
    {
      "cell_type": "code",
      "source": [
        "# Cluster using kNN. 20 neighbours with a Eucliean radius of 2.0.\n",
        "# Tells us which items are contained in the ball who centre is a sample with \n",
        "# a fixed radius.\n",
        "nn = NearestNeighbors(n_neighbors=20, radius=2.)"
      ],
      "metadata": {
        "id": "rR8SesFokLXr"
      },
      "execution_count": 29,
      "outputs": []
    },
    {
      "cell_type": "code",
      "source": [
        "nn.fit(users)"
      ],
      "metadata": {
        "colab": {
          "base_uri": "https://localhost:8080/"
        },
        "id": "W6FNtE95ksFt",
        "outputId": "97ea0a50-506f-433d-8694-fb6846500fdb"
      },
      "execution_count": 30,
      "outputs": [
        {
          "output_type": "execute_result",
          "data": {
            "text/plain": [
              "NearestNeighbors(n_neighbors=20, radius=2.0)"
            ]
          },
          "metadata": {},
          "execution_count": 30
        }
      ]
    },
    {
      "cell_type": "code",
      "source": [
        "# Get all the neighbours of a test user\n",
        "test_user = np.array([2, 0, 3, 2])\n",
        "dists, nbrs = nn.kneighbors(test_user.reshape(1, -1))\n",
        "print(nbrs)"
      ],
      "metadata": {
        "colab": {
          "base_uri": "https://localhost:8080/"
        },
        "id": "zVrFp73OktFn",
        "outputId": "9d8fd922-bd95-4eb2-ef56-37c0946bbe04"
      },
      "execution_count": 52,
      "outputs": [
        {
          "output_type": "stream",
          "name": "stdout",
          "text": [
            "[[325  25 921 951 362 753 305 551 145 972 505 116 303 344 787 913  77 875\n",
            "  526 333]]\n"
          ]
        }
      ]
    },
    {
      "cell_type": "code",
      "source": [
        "suggested_products = []\n",
        "\n",
        "for n in nbrs:\n",
        "    for products in user_products[n]:\n",
        "        for product in products:\n",
        "            if product != 0 and product not in suggested_products:\n",
        "                suggested_products.append(product)\n",
        "\n",
        "print(suggested_products)"
      ],
      "metadata": {
        "colab": {
          "base_uri": "https://localhost:8080/"
        },
        "id": "c0KtJuPnl64W",
        "outputId": "f42cf7f8-bfe1-4dd8-f9f4-5da6a5792abe"
      },
      "execution_count": 53,
      "outputs": [
        {
          "output_type": "stream",
          "name": "stdout",
          "text": [
            "[3, 5, 18, 10, 14, 17, 9, 12, 19, 16, 8, 2, 15, 6, 1, 13, 7, 4, 11]\n"
          ]
        }
      ]
    },
    {
      "cell_type": "code",
      "source": [
        "aaaa"
      ],
      "metadata": {
        "id": "qn0XvK5K_JIl"
      },
      "execution_count": null,
      "outputs": []
    },
    {
      "cell_type": "code",
      "source": [
        "sd, sd_arg = np.sort(dists[0]), np.argsort(dists[0])"
      ],
      "metadata": {
        "id": "sF-wGJqxluhl"
      },
      "execution_count": 54,
      "outputs": []
    },
    {
      "cell_type": "code",
      "source": [
        "sd_arg"
      ],
      "metadata": {
        "colab": {
          "base_uri": "https://localhost:8080/"
        },
        "id": "JPTzaKhlmPFb",
        "outputId": "d1e19246-c9d3-46ba-f46b-f089fd864921"
      },
      "execution_count": 59,
      "outputs": [
        {
          "output_type": "execute_result",
          "data": {
            "text/plain": [
              "array([ 0,  1,  2,  3,  4,  5,  6,  7, 17, 16, 15, 14, 13,  9, 11, 10, 18,\n",
              "        8, 12, 19])"
            ]
          },
          "metadata": {},
          "execution_count": 59
        }
      ]
    },
    {
      "cell_type": "code",
      "source": [
        "user_products.shape"
      ],
      "metadata": {
        "colab": {
          "base_uri": "https://localhost:8080/"
        },
        "id": "kAJAhdEomPPK",
        "outputId": "25e2e3f4-cf7d-459d-8407-b070d295e566"
      },
      "execution_count": 62,
      "outputs": [
        {
          "output_type": "execute_result",
          "data": {
            "text/plain": [
              "(1000, 5)"
            ]
          },
          "metadata": {},
          "execution_count": 62
        }
      ]
    },
    {
      "cell_type": "code",
      "source": [
        "# Input data \n",
        "X = np.array(\n",
        "    [[1, 1], \n",
        "     [1, 3], \n",
        "     [2, 2], \n",
        "     [2.5, 5], \n",
        "     [3, 1], \n",
        "     [4, 2], \n",
        "     [2, 3.5], \n",
        "     [3, 3], \n",
        "     [3.5, 4]]\n",
        ")"
      ],
      "metadata": {
        "id": "ZXaQhp2-mja6"
      },
      "execution_count": 65,
      "outputs": []
    },
    {
      "cell_type": "code",
      "source": [
        "# Find 3 closest neighbours to any given point.\n",
        "num_neighbors = 3 "
      ],
      "metadata": {
        "id": "eZzBkjBWAQA4"
      },
      "execution_count": 78,
      "outputs": []
    },
    {
      "cell_type": "code",
      "source": [
        "# Random input data point that isn't present in the data.\n",
        "input_point = np.array([2.6, 1.7] )"
      ],
      "metadata": {
        "id": "GN-V08SmA5OB"
      },
      "execution_count": 79,
      "outputs": []
    },
    {
      "cell_type": "code",
      "source": [
        "# Plot data\n",
        "plt.figure() \n",
        "plt.scatter(X[:,0], X[:,1], marker='o', s=25, color='k') "
      ],
      "metadata": {
        "colab": {
          "base_uri": "https://localhost:8080/",
          "height": 282
        },
        "id": "YWMRQ7iMA7Ga",
        "outputId": "4ff07be0-2486-4393-9202-cc7126850adb"
      },
      "execution_count": 80,
      "outputs": [
        {
          "output_type": "execute_result",
          "data": {
            "text/plain": [
              "<matplotlib.collections.PathCollection at 0x7fbcdcb25dd0>"
            ]
          },
          "metadata": {},
          "execution_count": 80
        },
        {
          "output_type": "display_data",
          "data": {
            "text/plain": [
              "<Figure size 432x288 with 1 Axes>"
            ],
            "image/png": "[encoded data removed]"
          },
          "metadata": {
            "needs_background": "light"
          }
        }
      ]
    },
    {
      "cell_type": "code",
      "source": [
        "# Fit kNN\n",
        "knn = NearestNeighbors(\n",
        "    n_neighbors=num_neighbors, \n",
        "    algorithm='ball_tree'\n",
        ").fit(X) \n"
      ],
      "metadata": {
        "id": "Qmy8KMelA7-k"
      },
      "execution_count": 81,
      "outputs": []
    },
    {
      "cell_type": "code",
      "source": [
        "distances, indices = knn.kneighbors(input_point.reshape(1, -1)) "
      ],
      "metadata": {
        "id": "pCSOBBRCA96F"
      },
      "execution_count": 82,
      "outputs": []
    },
    {
      "cell_type": "code",
      "source": [
        "print(\"k nearest neighbors\")\n",
        "for rank, index in enumerate(indices[0][:num_neighbors]):\n",
        "    print(str(rank+1) + \" -->\", X[index])"
      ],
      "metadata": {
        "colab": {
          "base_uri": "https://localhost:8080/"
        },
        "id": "jsikl1NmA_Go",
        "outputId": "3f8f883d-98a4-42af-bdd4-573eec044add"
      },
      "execution_count": 84,
      "outputs": [
        {
          "output_type": "stream",
          "name": "stdout",
          "text": [
            "k nearest neighbors\n",
            "1 --> [2. 2.]\n",
            "2 --> [3. 1.]\n",
            "3 --> [3. 3.]\n"
          ]
        }
      ]
    },
    {
      "cell_type": "code",
      "source": [
        "plt.scatter(input_point[0], input_point[1], marker='x')"
      ],
      "metadata": {
        "colab": {
          "base_uri": "https://localhost:8080/",
          "height": 282
        },
        "id": "BJGhZFtua0-1",
        "outputId": "f0c7b147-fba7-47a1-f1ca-32a1a8ab2612"
      },
      "execution_count": 93,
      "outputs": [
        {
          "output_type": "execute_result",
          "data": {
            "text/plain": [
              "<matplotlib.collections.PathCollection at 0x7fbcdc923b90>"
            ]
          },
          "metadata": {},
          "execution_count": 93
        },
        {
          "output_type": "display_data",
          "data": {
            "text/plain": [
              "<Figure size 432x288 with 1 Axes>"
            ],
            "image/png": "[encoded data removed]"
          },
          "metadata": {
            "needs_background": "light"
          }
        }
      ]
    },
    {
      "cell_type": "code",
      "source": [
        "input_point"
      ],
      "metadata": {
        "colab": {
          "base_uri": "https://localhost:8080/"
        },
        "id": "ueX5CkM9bcj4",
        "outputId": "5cbfeeea-10d2-4a5e-ae18-067faf67fac1"
      },
      "execution_count": 95,
      "outputs": [
        {
          "output_type": "execute_result",
          "data": {
            "text/plain": [
              "array([2.6, 1.7])"
            ]
          },
          "metadata": {},
          "execution_count": 95
        }
      ]
    },
    {
      "cell_type": "markdown",
      "source": [
        "Partition points on a Cartesian plane"
      ],
      "metadata": {
        "id": "-KRMFOxWb2YC"
      }
    },
    {
      "cell_type": "code",
      "source": [
        "# plt.figure() \n",
        "plt.scatter(X[:,0], X[:,1], marker='o', s=25, color='k') \n",
        "plt.scatter(X[indices][0][:][:,0], X[indices][0][:][:,1],  \n",
        "        marker='o', s=150, color='k', facecolors='none') \n",
        "plt.scatter(input_point[0], input_point[1], \n",
        "        marker='x') \n",
        " \n",
        "plt.show() "
      ],
      "metadata": {
        "colab": {
          "base_uri": "https://localhost:8080/",
          "height": 265
        },
        "id": "Z_GccvcrBEX-",
        "outputId": "6b7d683e-52df-4dd5-bd5d-c2863c885b77"
      },
      "execution_count": 98,
      "outputs": [
        {
          "output_type": "display_data",
          "data": {
            "text/plain": [
              "<Figure size 432x288 with 1 Axes>"
            ],
            "image/png": "[encoded data removed]"
          },
          "metadata": {
            "needs_background": "light"
          }
        }
      ]
    },
    {
      "cell_type": "code",
      "source": [
        "X = np.array([[2.1, 1.3], [1.3, 3.2], [2.9, 2.5], [2.7, 5.4], [3.8, 0.9],  \n",
        "        [7.3, 2.1], [4.2, 6.5], [3.8, 3.7], [2.5, 4.1], [3.4, 1.9], \n",
        "        [5.7, 3.5], [6.1, 4.3], [5.1, 2.2], [6.2, 1.1]]) "
      ],
      "metadata": {
        "id": "xWUSmN9uBGGO"
      },
      "execution_count": null,
      "outputs": []
    }
  ]
}