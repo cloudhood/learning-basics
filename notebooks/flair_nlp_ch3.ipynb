{
  "nbformat": 4,
  "nbformat_minor": 0,
  "metadata": {
    "colab": {
      "name": "flair_nlp_ch3.ipynb",
      "provenance": [],
      "authorship_tag": "ABX9TyO3QaAUi/ouqVKs9z3U1zME",
      "include_colab_link": true
    },
    "kernelspec": {
      "name": "python3",
      "display_name": "Python 3"
    },
    "language_info": {
      "name": "python"
    },
    "widgets": {
      "application/vnd.jupyter.widget-state+json": {
        "0445b925af3d42d39bb28f8b0df99f6a": {
          "model_module": "@jupyter-widgets/controls",
          "model_name": "HBoxModel",
          "model_module_version": "1.5.0",
          "state": {
            "_dom_classes": [],
            "_model_module": "@jupyter-widgets/controls",
            "_model_module_version": "1.5.0",
            "_model_name": "HBoxModel",
            "_view_count": null,
            "_view_module": "@jupyter-widgets/controls",
            "_view_module_version": "1.5.0",
            "_view_name": "HBoxView",
            "box_style": "",
            "children": [
              "IPY_MODEL_6982796252b74b29a43e8749c9e9a4d4",
              "IPY_MODEL_71f9741f7d564d19bb8d34fd1784d3b7",
              "IPY_MODEL_f0165437a807416ab35510a02ddde12b"
            ],
            "layout": "IPY_MODEL_1865fc26bbf14f44b7525be5c99af42b"
          }
        },
        "6982796252b74b29a43e8749c9e9a4d4": {
          "model_module": "@jupyter-widgets/controls",
          "model_name": "HTMLModel",
          "model_module_version": "1.5.0",
          "state": {
            "_dom_classes": [],
            "_model_module": "@jupyter-widgets/controls",
            "_model_module_version": "1.5.0",
            "_model_name": "HTMLModel",
            "_view_count": null,
            "_view_module": "@jupyter-widgets/controls",
            "_view_module_version": "1.5.0",
            "_view_name": "HTMLView",
            "description": "",
            "description_tooltip": null,
            "layout": "IPY_MODEL_c241e7951e6046c69eeea8a2284e0b9d",
            "placeholder": "​",
            "style": "IPY_MODEL_928c4624d1514dc1b1ab540383273c57",
            "value": "Downloading: 100%"
          }
        },
        "71f9741f7d564d19bb8d34fd1784d3b7": {
          "model_module": "@jupyter-widgets/controls",
          "model_name": "FloatProgressModel",
          "model_module_version": "1.5.0",
          "state": {
            "_dom_classes": [],
            "_model_module": "@jupyter-widgets/controls",
            "_model_module_version": "1.5.0",
            "_model_name": "FloatProgressModel",
            "_view_count": null,
            "_view_module": "@jupyter-widgets/controls",
            "_view_module_version": "1.5.0",
            "_view_name": "ProgressView",
            "bar_style": "success",
            "description": "",
            "description_tooltip": null,
            "layout": "IPY_MODEL_702b7f2d0cc846bcb6469b2719ec1bf6",
            "max": 28,
            "min": 0,
            "orientation": "horizontal",
            "style": "IPY_MODEL_9d2511196dac4de5b54ad6a354d4b521",
            "value": 28
          }
        },
        "f0165437a807416ab35510a02ddde12b": {
          "model_module": "@jupyter-widgets/controls",
          "model_name": "HTMLModel",
          "model_module_version": "1.5.0",
          "state": {
            "_dom_classes": [],
            "_model_module": "@jupyter-widgets/controls",
            "_model_module_version": "1.5.0",
            "_model_name": "HTMLModel",
            "_view_count": null,
            "_view_module": "@jupyter-widgets/controls",
            "_view_module_version": "1.5.0",
            "_view_name": "HTMLView",
            "description": "",
            "description_tooltip": null,
            "layout": "IPY_MODEL_754d6526080147fca06d13bc2c060787",
            "placeholder": "​",
            "style": "IPY_MODEL_98680860d8bf4e2a8d4f3a09e3c05910",
            "value": " 28.0/28.0 [00:00&lt;00:00, 277B/s]"
          }
        },
        "1865fc26bbf14f44b7525be5c99af42b": {
          "model_module": "@jupyter-widgets/base",
          "model_name": "LayoutModel",
          "model_module_version": "1.2.0",
          "state": {
            "_model_module": "@jupyter-widgets/base",
            "_model_module_version": "1.2.0",
            "_model_name": "LayoutModel",
            "_view_count": null,
            "_view_module": "@jupyter-widgets/base",
            "_view_module_version": "1.2.0",
            "_view_name": "LayoutView",
            "align_content": null,
            "align_items": null,
            "align_self": null,
            "border": null,
            "bottom": null,
            "display": null,
            "flex": null,
            "flex_flow": null,
            "grid_area": null,
            "grid_auto_columns": null,
            "grid_auto_flow": null,
            "grid_auto_rows": null,
            "grid_column": null,
            "grid_gap": null,
            "grid_row": null,
            "grid_template_areas": null,
            "grid_template_columns": null,
            "grid_template_rows": null,
            "height": null,
            "justify_content": null,
            "justify_items": null,
            "left": null,
            "margin": null,
            "max_height": null,
            "max_width": null,
            "min_height": null,
            "min_width": null,
            "object_fit": null,
            "object_position": null,
            "order": null,
            "overflow": null,
            "overflow_x": null,
            "overflow_y": null,
            "padding": null,
            "right": null,
            "top": null,
            "visibility": null,
            "width": null
          }
        },
        "c241e7951e6046c69eeea8a2284e0b9d": {
          "model_module": "@jupyter-widgets/base",
          "model_name": "LayoutModel",
          "model_module_version": "1.2.0",
          "state": {
            "_model_module": "@jupyter-widgets/base",
            "_model_module_version": "1.2.0",
            "_model_name": "LayoutModel",
            "_view_count": null,
            "_view_module": "@jupyter-widgets/base",
            "_view_module_version": "1.2.0",
            "_view_name": "LayoutView",
            "align_content": null,
            "align_items": null,
            "align_self": null,
            "border": null,
            "bottom": null,
            "display": null,
            "flex": null,
            "flex_flow": null,
            "grid_area": null,
            "grid_auto_columns": null,
            "grid_auto_flow": null,
            "grid_auto_rows": null,
            "grid_column": null,
            "grid_gap": null,
            "grid_row": null,
            "grid_template_areas": null,
            "grid_template_columns": null,
            "grid_template_rows": null,
            "height": null,
            "justify_content": null,
            "justify_items": null,
            "left": null,
            "margin": null,
            "max_height": null,
            "max_width": null,
            "min_height": null,
            "min_width": null,
            "object_fit": null,
            "object_position": null,
            "order": null,
            "overflow": null,
            "overflow_x": null,
            "overflow_y": null,
            "padding": null,
            "right": null,
            "top": null,
            "visibility": null,
            "width": null
          }
        },
        "928c4624d1514dc1b1ab540383273c57": {
          "model_module": "@jupyter-widgets/controls",
          "model_name": "DescriptionStyleModel",
          "model_module_version": "1.5.0",
          "state": {
            "_model_module": "@jupyter-widgets/controls",
            "_model_module_version": "1.5.0",
            "_model_name": "DescriptionStyleModel",
            "_view_count": null,
            "_view_module": "@jupyter-widgets/base",
            "_view_module_version": "1.2.0",
            "_view_name": "StyleView",
            "description_width": ""
          }
        },
        "702b7f2d0cc846bcb6469b2719ec1bf6": {
          "model_module": "@jupyter-widgets/base",
          "model_name": "LayoutModel",
          "model_module_version": "1.2.0",
          "state": {
            "_model_module": "@jupyter-widgets/base",
            "_model_module_version": "1.2.0",
            "_model_name": "LayoutModel",
            "_view_count": null,
            "_view_module": "@jupyter-widgets/base",
            "_view_module_version": "1.2.0",
            "_view_name": "LayoutView",
            "align_content": null,
            "align_items": null,
            "align_self": null,
            "border": null,
            "bottom": null,
            "display": null,
            "flex": null,
            "flex_flow": null,
            "grid_area": null,
            "grid_auto_columns": null,
            "grid_auto_flow": null,
            "grid_auto_rows": null,
            "grid_column": null,
            "grid_gap": null,
            "grid_row": null,
            "grid_template_areas": null,
            "grid_template_columns": null,
            "grid_template_rows": null,
            "height": null,
            "justify_content": null,
            "justify_items": null,
            "left": null,
            "margin": null,
            "max_height": null,
            "max_width": null,
            "min_height": null,
            "min_width": null,
            "object_fit": null,
            "object_position": null,
            "order": null,
            "overflow": null,
            "overflow_x": null,
            "overflow_y": null,
            "padding": null,
            "right": null,
            "top": null,
            "visibility": null,
            "width": null
          }
        },
        "9d2511196dac4de5b54ad6a354d4b521": {
          "model_module": "@jupyter-widgets/controls",
          "model_name": "ProgressStyleModel",
          "model_module_version": "1.5.0",
          "state": {
            "_model_module": "@jupyter-widgets/controls",
            "_model_module_version": "1.5.0",
            "_model_name": "ProgressStyleModel",
            "_view_count": null,
            "_view_module": "@jupyter-widgets/base",
            "_view_module_version": "1.2.0",
            "_view_name": "StyleView",
            "bar_color": null,
            "description_width": ""
          }
        },
        "754d6526080147fca06d13bc2c060787": {
          "model_module": "@jupyter-widgets/base",
          "model_name": "LayoutModel",
          "model_module_version": "1.2.0",
          "state": {
            "_model_module": "@jupyter-widgets/base",
            "_model_module_version": "1.2.0",
            "_model_name": "LayoutModel",
            "_view_count": null,
            "_view_module": "@jupyter-widgets/base",
            "_view_module_version": "1.2.0",
            "_view_name": "LayoutView",
            "align_content": null,
            "align_items": null,
            "align_self": null,
            "border": null,
            "bottom": null,
            "display": null,
            "flex": null,
            "flex_flow": null,
            "grid_area": null,
            "grid_auto_columns": null,
            "grid_auto_flow": null,
            "grid_auto_rows": null,
            "grid_column": null,
            "grid_gap": null,
            "grid_row": null,
            "grid_template_areas": null,
            "grid_template_columns": null,
            "grid_template_rows": null,
            "height": null,
            "justify_content": null,
            "justify_items": null,
            "left": null,
            "margin": null,
            "max_height": null,
            "max_width": null,
            "min_height": null,
            "min_width": null,
            "object_fit": null,
            "object_position": null,
            "order": null,
            "overflow": null,
            "overflow_x": null,
            "overflow_y": null,
            "padding": null,
            "right": null,
            "top": null,
            "visibility": null,
            "width": null
          }
        },
        "98680860d8bf4e2a8d4f3a09e3c05910": {
          "model_module": "@jupyter-widgets/controls",
          "model_name": "DescriptionStyleModel",
          "model_module_version": "1.5.0",
          "state": {
            "_model_module": "@jupyter-widgets/controls",
            "_model_module_version": "1.5.0",
            "_model_name": "DescriptionStyleModel",
            "_view_count": null,
            "_view_module": "@jupyter-widgets/base",
            "_view_module_version": "1.2.0",
            "_view_name": "StyleView",
            "description_width": ""
          }
        },
        "ac2b93faafb745ad8ad1c40043f37945": {
          "model_module": "@jupyter-widgets/controls",
          "model_name": "HBoxModel",
          "model_module_version": "1.5.0",
          "state": {
            "_dom_classes": [],
            "_model_module": "@jupyter-widgets/controls",
            "_model_module_version": "1.5.0",
            "_model_name": "HBoxModel",
            "_view_count": null,
            "_view_module": "@jupyter-widgets/controls",
            "_view_module_version": "1.5.0",
            "_view_name": "HBoxView",
            "box_style": "",
            "children": [
              "IPY_MODEL_81758233d7794cf9b314ae8bc8183efa",
              "IPY_MODEL_994837f88c7f4eb3a16e3eb4b5ac46c1",
              "IPY_MODEL_f820d261a2cc4fbd939e01916fb25117"
            ],
            "layout": "IPY_MODEL_8485364f305e425891807f1a81de5589"
          }
        },
        "81758233d7794cf9b314ae8bc8183efa": {
          "model_module": "@jupyter-widgets/controls",
          "model_name": "HTMLModel",
          "model_module_version": "1.5.0",
          "state": {
            "_dom_classes": [],
            "_model_module": "@jupyter-widgets/controls",
            "_model_module_version": "1.5.0",
            "_model_name": "HTMLModel",
            "_view_count": null,
            "_view_module": "@jupyter-widgets/controls",
            "_view_module_version": "1.5.0",
            "_view_name": "HTMLView",
            "description": "",
            "description_tooltip": null,
            "layout": "IPY_MODEL_4243b579887e4b969c9f859f36b7d777",
            "placeholder": "​",
            "style": "IPY_MODEL_f8f3234e3c5d4e12ad48eed1b285d560",
            "value": "Downloading: 100%"
          }
        },
        "994837f88c7f4eb3a16e3eb4b5ac46c1": {
          "model_module": "@jupyter-widgets/controls",
          "model_name": "FloatProgressModel",
          "model_module_version": "1.5.0",
          "state": {
            "_dom_classes": [],
            "_model_module": "@jupyter-widgets/controls",
            "_model_module_version": "1.5.0",
            "_model_name": "FloatProgressModel",
            "_view_count": null,
            "_view_module": "@jupyter-widgets/controls",
            "_view_module_version": "1.5.0",
            "_view_name": "ProgressView",
            "bar_style": "success",
            "description": "",
            "description_tooltip": null,
            "layout": "IPY_MODEL_64859fea8faf484695f4d2018f7d107c",
            "max": 570,
            "min": 0,
            "orientation": "horizontal",
            "style": "IPY_MODEL_f236bf242c604ab1b7cb8024a4cf3700",
            "value": 570
          }
        },
        "f820d261a2cc4fbd939e01916fb25117": {
          "model_module": "@jupyter-widgets/controls",
          "model_name": "HTMLModel",
          "model_module_version": "1.5.0",
          "state": {
            "_dom_classes": [],
            "_model_module": "@jupyter-widgets/controls",
            "_model_module_version": "1.5.0",
            "_model_name": "HTMLModel",
            "_view_count": null,
            "_view_module": "@jupyter-widgets/controls",
            "_view_module_version": "1.5.0",
            "_view_name": "HTMLView",
            "description": "",
            "description_tooltip": null,
            "layout": "IPY_MODEL_0a07e84ee1354fbda0fe44055e8d3a7f",
            "placeholder": "​",
            "style": "IPY_MODEL_ed0edfd3c58a441eaefd85d72f170e0b",
            "value": " 570/570 [00:00&lt;00:00, 5.92kB/s]"
          }
        },
        "8485364f305e425891807f1a81de5589": {
          "model_module": "@jupyter-widgets/base",
          "model_name": "LayoutModel",
          "model_module_version": "1.2.0",
          "state": {
            "_model_module": "@jupyter-widgets/base",
            "_model_module_version": "1.2.0",
            "_model_name": "LayoutModel",
            "_view_count": null,
            "_view_module": "@jupyter-widgets/base",
            "_view_module_version": "1.2.0",
            "_view_name": "LayoutView",
            "align_content": null,
            "align_items": null,
            "align_self": null,
            "border": null,
            "bottom": null,
            "display": null,
            "flex": null,
            "flex_flow": null,
            "grid_area": null,
            "grid_auto_columns": null,
            "grid_auto_flow": null,
            "grid_auto_rows": null,
            "grid_column": null,
            "grid_gap": null,
            "grid_row": null,
            "grid_template_areas": null,
            "grid_template_columns": null,
            "grid_template_rows": null,
            "height": null,
            "justify_content": null,
            "justify_items": null,
            "left": null,
            "margin": null,
            "max_height": null,
            "max_width": null,
            "min_height": null,
            "min_width": null,
            "object_fit": null,
            "object_position": null,
            "order": null,
            "overflow": null,
            "overflow_x": null,
            "overflow_y": null,
            "padding": null,
            "right": null,
            "top": null,
            "visibility": null,
            "width": null
          }
        },
        "4243b579887e4b969c9f859f36b7d777": {
          "model_module": "@jupyter-widgets/base",
          "model_name": "LayoutModel",
          "model_module_version": "1.2.0",
          "state": {
            "_model_module": "@jupyter-widgets/base",
            "_model_module_version": "1.2.0",
            "_model_name": "LayoutModel",
            "_view_count": null,
            "_view_module": "@jupyter-widgets/base",
            "_view_module_version": "1.2.0",
            "_view_name": "LayoutView",
            "align_content": null,
            "align_items": null,
            "align_self": null,
            "border": null,
            "bottom": null,
            "display": null,
            "flex": null,
            "flex_flow": null,
            "grid_area": null,
            "grid_auto_columns": null,
            "grid_auto_flow": null,
            "grid_auto_rows": null,
            "grid_column": null,
            "grid_gap": null,
            "grid_row": null,
            "grid_template_areas": null,
            "grid_template_columns": null,
            "grid_template_rows": null,
            "height": null,
            "justify_content": null,
            "justify_items": null,
            "left": null,
            "margin": null,
            "max_height": null,
            "max_width": null,
            "min_height": null,
            "min_width": null,
            "object_fit": null,
            "object_position": null,
            "order": null,
            "overflow": null,
            "overflow_x": null,
            "overflow_y": null,
            "padding": null,
            "right": null,
            "top": null,
            "visibility": null,
            "width": null
          }
        },
        "f8f3234e3c5d4e12ad48eed1b285d560": {
          "model_module": "@jupyter-widgets/controls",
          "model_name": "DescriptionStyleModel",
          "model_module_version": "1.5.0",
          "state": {
            "_model_module": "@jupyter-widgets/controls",
            "_model_module_version": "1.5.0",
            "_model_name": "DescriptionStyleModel",
            "_view_count": null,
            "_view_module": "@jupyter-widgets/base",
            "_view_module_version": "1.2.0",
            "_view_name": "StyleView",
            "description_width": ""
          }
        },
        "64859fea8faf484695f4d2018f7d107c": {
          "model_module": "@jupyter-widgets/base",
          "model_name": "LayoutModel",
          "model_module_version": "1.2.0",
          "state": {
            "_model_module": "@jupyter-widgets/base",
            "_model_module_version": "1.2.0",
            "_model_name": "LayoutModel",
            "_view_count": null,
            "_view_module": "@jupyter-widgets/base",
            "_view_module_version": "1.2.0",
            "_view_name": "LayoutView",
            "align_content": null,
            "align_items": null,
            "align_self": null,
            "border": null,
            "bottom": null,
            "display": null,
            "flex": null,
            "flex_flow": null,
            "grid_area": null,
            "grid_auto_columns": null,
            "grid_auto_flow": null,
            "grid_auto_rows": null,
            "grid_column": null,
            "grid_gap": null,
            "grid_row": null,
            "grid_template_areas": null,
            "grid_template_columns": null,
            "grid_template_rows": null,
            "height": null,
            "justify_content": null,
            "justify_items": null,
            "left": null,
            "margin": null,
            "max_height": null,
            "max_width": null,
            "min_height": null,
            "min_width": null,
            "object_fit": null,
            "object_position": null,
            "order": null,
            "overflow": null,
            "overflow_x": null,
            "overflow_y": null,
            "padding": null,
            "right": null,
            "top": null,
            "visibility": null,
            "width": null
          }
        },
        "f236bf242c604ab1b7cb8024a4cf3700": {
          "model_module": "@jupyter-widgets/controls",
          "model_name": "ProgressStyleModel",
          "model_module_version": "1.5.0",
          "state": {
            "_model_module": "@jupyter-widgets/controls",
            "_model_module_version": "1.5.0",
            "_model_name": "ProgressStyleModel",
            "_view_count": null,
            "_view_module": "@jupyter-widgets/base",
            "_view_module_version": "1.2.0",
            "_view_name": "StyleView",
            "bar_color": null,
            "description_width": ""
          }
        },
        "0a07e84ee1354fbda0fe44055e8d3a7f": {
          "model_module": "@jupyter-widgets/base",
          "model_name": "LayoutModel",
          "model_module_version": "1.2.0",
          "state": {
            "_model_module": "@jupyter-widgets/base",
            "_model_module_version": "1.2.0",
            "_model_name": "LayoutModel",
            "_view_count": null,
            "_view_module": "@jupyter-widgets/base",
            "_view_module_version": "1.2.0",
            "_view_name": "LayoutView",
            "align_content": null,
            "align_items": null,
            "align_self": null,
            "border": null,
            "bottom": null,
            "display": null,
            "flex": null,
            "flex_flow": null,
            "grid_area": null,
            "grid_auto_columns": null,
            "grid_auto_flow": null,
            "grid_auto_rows": null,
            "grid_column": null,
            "grid_gap": null,
            "grid_row": null,
            "grid_template_areas": null,
            "grid_template_columns": null,
            "grid_template_rows": null,
            "height": null,
            "justify_content": null,
            "justify_items": null,
            "left": null,
            "margin": null,
            "max_height": null,
            "max_width": null,
            "min_height": null,
            "min_width": null,
            "object_fit": null,
            "object_position": null,
            "order": null,
            "overflow": null,
            "overflow_x": null,
            "overflow_y": null,
            "padding": null,
            "right": null,
            "top": null,
            "visibility": null,
            "width": null
          }
        },
        "ed0edfd3c58a441eaefd85d72f170e0b": {
          "model_module": "@jupyter-widgets/controls",
          "model_name": "DescriptionStyleModel",
          "model_module_version": "1.5.0",
          "state": {
            "_model_module": "@jupyter-widgets/controls",
            "_model_module_version": "1.5.0",
            "_model_name": "DescriptionStyleModel",
            "_view_count": null,
            "_view_module": "@jupyter-widgets/base",
            "_view_module_version": "1.2.0",
            "_view_name": "StyleView",
            "description_width": ""
          }
        },
        "1a4666c8d17f40878be3cedaa19a62b6": {
          "model_module": "@jupyter-widgets/controls",
          "model_name": "HBoxModel",
          "model_module_version": "1.5.0",
          "state": {
            "_dom_classes": [],
            "_model_module": "@jupyter-widgets/controls",
            "_model_module_version": "1.5.0",
            "_model_name": "HBoxModel",
            "_view_count": null,
            "_view_module": "@jupyter-widgets/controls",
            "_view_module_version": "1.5.0",
            "_view_name": "HBoxView",
            "box_style": "",
            "children": [
              "IPY_MODEL_74df3a9c0d644596b55c66922bd919ba",
              "IPY_MODEL_1bae4f1a5ac446439b6e7ef9f075e6c3",
              "IPY_MODEL_c38ded9133a345839c8cefa040448f26"
            ],
            "layout": "IPY_MODEL_3cadb74086554dab94d4948feba593dd"
          }
        },
        "74df3a9c0d644596b55c66922bd919ba": {
          "model_module": "@jupyter-widgets/controls",
          "model_name": "HTMLModel",
          "model_module_version": "1.5.0",
          "state": {
            "_dom_classes": [],
            "_model_module": "@jupyter-widgets/controls",
            "_model_module_version": "1.5.0",
            "_model_name": "HTMLModel",
            "_view_count": null,
            "_view_module": "@jupyter-widgets/controls",
            "_view_module_version": "1.5.0",
            "_view_name": "HTMLView",
            "description": "",
            "description_tooltip": null,
            "layout": "IPY_MODEL_f5ce10f7f41844299c2b0cf50d356912",
            "placeholder": "​",
            "style": "IPY_MODEL_e9733217922a43efa04aea35b752e8eb",
            "value": "Downloading: 100%"
          }
        },
        "1bae4f1a5ac446439b6e7ef9f075e6c3": {
          "model_module": "@jupyter-widgets/controls",
          "model_name": "FloatProgressModel",
          "model_module_version": "1.5.0",
          "state": {
            "_dom_classes": [],
            "_model_module": "@jupyter-widgets/controls",
            "_model_module_version": "1.5.0",
            "_model_name": "FloatProgressModel",
            "_view_count": null,
            "_view_module": "@jupyter-widgets/controls",
            "_view_module_version": "1.5.0",
            "_view_name": "ProgressView",
            "bar_style": "success",
            "description": "",
            "description_tooltip": null,
            "layout": "IPY_MODEL_9176952f866349048f0e881b49371c59",
            "max": 231508,
            "min": 0,
            "orientation": "horizontal",
            "style": "IPY_MODEL_2421de89ec8049b281b19ef5634344bc",
            "value": 231508
          }
        },
        "c38ded9133a345839c8cefa040448f26": {
          "model_module": "@jupyter-widgets/controls",
          "model_name": "HTMLModel",
          "model_module_version": "1.5.0",
          "state": {
            "_dom_classes": [],
            "_model_module": "@jupyter-widgets/controls",
            "_model_module_version": "1.5.0",
            "_model_name": "HTMLModel",
            "_view_count": null,
            "_view_module": "@jupyter-widgets/controls",
            "_view_module_version": "1.5.0",
            "_view_name": "HTMLView",
            "description": "",
            "description_tooltip": null,
            "layout": "IPY_MODEL_1c9018d07a1543ce8680b4615d9ac386",
            "placeholder": "​",
            "style": "IPY_MODEL_4b14c78595b14faaad046ff18a086806",
            "value": " 226k/226k [00:00&lt;00:00, 788kB/s]"
          }
        },
        "3cadb74086554dab94d4948feba593dd": {
          "model_module": "@jupyter-widgets/base",
          "model_name": "LayoutModel",
          "model_module_version": "1.2.0",
          "state": {
            "_model_module": "@jupyter-widgets/base",
            "_model_module_version": "1.2.0",
            "_model_name": "LayoutModel",
            "_view_count": null,
            "_view_module": "@jupyter-widgets/base",
            "_view_module_version": "1.2.0",
            "_view_name": "LayoutView",
            "align_content": null,
            "align_items": null,
            "align_self": null,
            "border": null,
            "bottom": null,
            "display": null,
            "flex": null,
            "flex_flow": null,
            "grid_area": null,
            "grid_auto_columns": null,
            "grid_auto_flow": null,
            "grid_auto_rows": null,
            "grid_column": null,
            "grid_gap": null,
            "grid_row": null,
            "grid_template_areas": null,
            "grid_template_columns": null,
            "grid_template_rows": null,
            "height": null,
            "justify_content": null,
            "justify_items": null,
            "left": null,
            "margin": null,
            "max_height": null,
            "max_width": null,
            "min_height": null,
            "min_width": null,
            "object_fit": null,
            "object_position": null,
            "order": null,
            "overflow": null,
            "overflow_x": null,
            "overflow_y": null,
            "padding": null,
            "right": null,
            "top": null,
            "visibility": null,
            "width": null
          }
        },
        "f5ce10f7f41844299c2b0cf50d356912": {
          "model_module": "@jupyter-widgets/base",
          "model_name": "LayoutModel",
          "model_module_version": "1.2.0",
          "state": {
            "_model_module": "@jupyter-widgets/base",
            "_model_module_version": "1.2.0",
            "_model_name": "LayoutModel",
            "_view_count": null,
            "_view_module": "@jupyter-widgets/base",
            "_view_module_version": "1.2.0",
            "_view_name": "LayoutView",
            "align_content": null,
            "align_items": null,
            "align_self": null,
            "border": null,
            "bottom": null,
            "display": null,
            "flex": null,
            "flex_flow": null,
            "grid_area": null,
            "grid_auto_columns": null,
            "grid_auto_flow": null,
            "grid_auto_rows": null,
            "grid_column": null,
            "grid_gap": null,
            "grid_row": null,
            "grid_template_areas": null,
            "grid_template_columns": null,
            "grid_template_rows": null,
            "height": null,
            "justify_content": null,
            "justify_items": null,
            "left": null,
            "margin": null,
            "max_height": null,
            "max_width": null,
            "min_height": null,
            "min_width": null,
            "object_fit": null,
            "object_position": null,
            "order": null,
            "overflow": null,
            "overflow_x": null,
            "overflow_y": null,
            "padding": null,
            "right": null,
            "top": null,
            "visibility": null,
            "width": null
          }
        },
        "e9733217922a43efa04aea35b752e8eb": {
          "model_module": "@jupyter-widgets/controls",
          "model_name": "DescriptionStyleModel",
          "model_module_version": "1.5.0",
          "state": {
            "_model_module": "@jupyter-widgets/controls",
            "_model_module_version": "1.5.0",
            "_model_name": "DescriptionStyleModel",
            "_view_count": null,
            "_view_module": "@jupyter-widgets/base",
            "_view_module_version": "1.2.0",
            "_view_name": "StyleView",
            "description_width": ""
          }
        },
        "9176952f866349048f0e881b49371c59": {
          "model_module": "@jupyter-widgets/base",
          "model_name": "LayoutModel",
          "model_module_version": "1.2.0",
          "state": {
            "_model_module": "@jupyter-widgets/base",
            "_model_module_version": "1.2.0",
            "_model_name": "LayoutModel",
            "_view_count": null,
            "_view_module": "@jupyter-widgets/base",
            "_view_module_version": "1.2.0",
            "_view_name": "LayoutView",
            "align_content": null,
            "align_items": null,
            "align_self": null,
            "border": null,
            "bottom": null,
            "display": null,
            "flex": null,
            "flex_flow": null,
            "grid_area": null,
            "grid_auto_columns": null,
            "grid_auto_flow": null,
            "grid_auto_rows": null,
            "grid_column": null,
            "grid_gap": null,
            "grid_row": null,
            "grid_template_areas": null,
            "grid_template_columns": null,
            "grid_template_rows": null,
            "height": null,
            "justify_content": null,
            "justify_items": null,
            "left": null,
            "margin": null,
            "max_height": null,
            "max_width": null,
            "min_height": null,
            "min_width": null,
            "object_fit": null,
            "object_position": null,
            "order": null,
            "overflow": null,
            "overflow_x": null,
            "overflow_y": null,
            "padding": null,
            "right": null,
            "top": null,
            "visibility": null,
            "width": null
          }
        },
        "2421de89ec8049b281b19ef5634344bc": {
          "model_module": "@jupyter-widgets/controls",
          "model_name": "ProgressStyleModel",
          "model_module_version": "1.5.0",
          "state": {
            "_model_module": "@jupyter-widgets/controls",
            "_model_module_version": "1.5.0",
            "_model_name": "ProgressStyleModel",
            "_view_count": null,
            "_view_module": "@jupyter-widgets/base",
            "_view_module_version": "1.2.0",
            "_view_name": "StyleView",
            "bar_color": null,
            "description_width": ""
          }
        },
        "1c9018d07a1543ce8680b4615d9ac386": {
          "model_module": "@jupyter-widgets/base",
          "model_name": "LayoutModel",
          "model_module_version": "1.2.0",
          "state": {
            "_model_module": "@jupyter-widgets/base",
            "_model_module_version": "1.2.0",
            "_model_name": "LayoutModel",
            "_view_count": null,
            "_view_module": "@jupyter-widgets/base",
            "_view_module_version": "1.2.0",
            "_view_name": "LayoutView",
            "align_content": null,
            "align_items": null,
            "align_self": null,
            "border": null,
            "bottom": null,
            "display": null,
            "flex": null,
            "flex_flow": null,
            "grid_area": null,
            "grid_auto_columns": null,
            "grid_auto_flow": null,
            "grid_auto_rows": null,
            "grid_column": null,
            "grid_gap": null,
            "grid_row": null,
            "grid_template_areas": null,
            "grid_template_columns": null,
            "grid_template_rows": null,
            "height": null,
            "justify_content": null,
            "justify_items": null,
            "left": null,
            "margin": null,
            "max_height": null,
            "max_width": null,
            "min_height": null,
            "min_width": null,
            "object_fit": null,
            "object_position": null,
            "order": null,
            "overflow": null,
            "overflow_x": null,
            "overflow_y": null,
            "padding": null,
            "right": null,
            "top": null,
            "visibility": null,
            "width": null
          }
        },
        "4b14c78595b14faaad046ff18a086806": {
          "model_module": "@jupyter-widgets/controls",
          "model_name": "DescriptionStyleModel",
          "model_module_version": "1.5.0",
          "state": {
            "_model_module": "@jupyter-widgets/controls",
            "_model_module_version": "1.5.0",
            "_model_name": "DescriptionStyleModel",
            "_view_count": null,
            "_view_module": "@jupyter-widgets/base",
            "_view_module_version": "1.2.0",
            "_view_name": "StyleView",
            "description_width": ""
          }
        },
        "0bf3acc882b54ffd93941fc4323c153a": {
          "model_module": "@jupyter-widgets/controls",
          "model_name": "HBoxModel",
          "model_module_version": "1.5.0",
          "state": {
            "_dom_classes": [],
            "_model_module": "@jupyter-widgets/controls",
            "_model_module_version": "1.5.0",
            "_model_name": "HBoxModel",
            "_view_count": null,
            "_view_module": "@jupyter-widgets/controls",
            "_view_module_version": "1.5.0",
            "_view_name": "HBoxView",
            "box_style": "",
            "children": [
              "IPY_MODEL_0d21692373244d16943d41c65a01a661",
              "IPY_MODEL_5ca56c1d9b3b4253a30b4a3575fef84a",
              "IPY_MODEL_342bdab244a14a90a7bc912ced89c84c"
            ],
            "layout": "IPY_MODEL_517dad8f85084b9bbb83a0b4b32e3114"
          }
        },
        "0d21692373244d16943d41c65a01a661": {
          "model_module": "@jupyter-widgets/controls",
          "model_name": "HTMLModel",
          "model_module_version": "1.5.0",
          "state": {
            "_dom_classes": [],
            "_model_module": "@jupyter-widgets/controls",
            "_model_module_version": "1.5.0",
            "_model_name": "HTMLModel",
            "_view_count": null,
            "_view_module": "@jupyter-widgets/controls",
            "_view_module_version": "1.5.0",
            "_view_name": "HTMLView",
            "description": "",
            "description_tooltip": null,
            "layout": "IPY_MODEL_1754ce0c053340609ac9e8745e0aec9c",
            "placeholder": "​",
            "style": "IPY_MODEL_9e97bc2c445b45af819921b0b79f7aee",
            "value": "Downloading: 100%"
          }
        },
        "5ca56c1d9b3b4253a30b4a3575fef84a": {
          "model_module": "@jupyter-widgets/controls",
          "model_name": "FloatProgressModel",
          "model_module_version": "1.5.0",
          "state": {
            "_dom_classes": [],
            "_model_module": "@jupyter-widgets/controls",
            "_model_module_version": "1.5.0",
            "_model_name": "FloatProgressModel",
            "_view_count": null,
            "_view_module": "@jupyter-widgets/controls",
            "_view_module_version": "1.5.0",
            "_view_name": "ProgressView",
            "bar_style": "success",
            "description": "",
            "description_tooltip": null,
            "layout": "IPY_MODEL_33a8b3533c27460eaa0b09353903b38e",
            "max": 466062,
            "min": 0,
            "orientation": "horizontal",
            "style": "IPY_MODEL_4385ab6c494849c5b53f742197e15eda",
            "value": 466062
          }
        },
        "342bdab244a14a90a7bc912ced89c84c": {
          "model_module": "@jupyter-widgets/controls",
          "model_name": "HTMLModel",
          "model_module_version": "1.5.0",
          "state": {
            "_dom_classes": [],
            "_model_module": "@jupyter-widgets/controls",
            "_model_module_version": "1.5.0",
            "_model_name": "HTMLModel",
            "_view_count": null,
            "_view_module": "@jupyter-widgets/controls",
            "_view_module_version": "1.5.0",
            "_view_name": "HTMLView",
            "description": "",
            "description_tooltip": null,
            "layout": "IPY_MODEL_e282966901a94e4eae63e84b1305c5e7",
            "placeholder": "​",
            "style": "IPY_MODEL_3f3a199f2abb4fc6a68410be03be7c19",
            "value": " 455k/455k [00:00&lt;00:00, 983kB/s]"
          }
        },
        "517dad8f85084b9bbb83a0b4b32e3114": {
          "model_module": "@jupyter-widgets/base",
          "model_name": "LayoutModel",
          "model_module_version": "1.2.0",
          "state": {
            "_model_module": "@jupyter-widgets/base",
            "_model_module_version": "1.2.0",
            "_model_name": "LayoutModel",
            "_view_count": null,
            "_view_module": "@jupyter-widgets/base",
            "_view_module_version": "1.2.0",
            "_view_name": "LayoutView",
            "align_content": null,
            "align_items": null,
            "align_self": null,
            "border": null,
            "bottom": null,
            "display": null,
            "flex": null,
            "flex_flow": null,
            "grid_area": null,
            "grid_auto_columns": null,
            "grid_auto_flow": null,
            "grid_auto_rows": null,
            "grid_column": null,
            "grid_gap": null,
            "grid_row": null,
            "grid_template_areas": null,
            "grid_template_columns": null,
            "grid_template_rows": null,
            "height": null,
            "justify_content": null,
            "justify_items": null,
            "left": null,
            "margin": null,
            "max_height": null,
            "max_width": null,
            "min_height": null,
            "min_width": null,
            "object_fit": null,
            "object_position": null,
            "order": null,
            "overflow": null,
            "overflow_x": null,
            "overflow_y": null,
            "padding": null,
            "right": null,
            "top": null,
            "visibility": null,
            "width": null
          }
        },
        "1754ce0c053340609ac9e8745e0aec9c": {
          "model_module": "@jupyter-widgets/base",
          "model_name": "LayoutModel",
          "model_module_version": "1.2.0",
          "state": {
            "_model_module": "@jupyter-widgets/base",
            "_model_module_version": "1.2.0",
            "_model_name": "LayoutModel",
            "_view_count": null,
            "_view_module": "@jupyter-widgets/base",
            "_view_module_version": "1.2.0",
            "_view_name": "LayoutView",
            "align_content": null,
            "align_items": null,
            "align_self": null,
            "border": null,
            "bottom": null,
            "display": null,
            "flex": null,
            "flex_flow": null,
            "grid_area": null,
            "grid_auto_columns": null,
            "grid_auto_flow": null,
            "grid_auto_rows": null,
            "grid_column": null,
            "grid_gap": null,
            "grid_row": null,
            "grid_template_areas": null,
            "grid_template_columns": null,
            "grid_template_rows": null,
            "height": null,
            "justify_content": null,
            "justify_items": null,
            "left": null,
            "margin": null,
            "max_height": null,
            "max_width": null,
            "min_height": null,
            "min_width": null,
            "object_fit": null,
            "object_position": null,
            "order": null,
            "overflow": null,
            "overflow_x": null,
            "overflow_y": null,
            "padding": null,
            "right": null,
            "top": null,
            "visibility": null,
            "width": null
          }
        },
        "9e97bc2c445b45af819921b0b79f7aee": {
          "model_module": "@jupyter-widgets/controls",
          "model_name": "DescriptionStyleModel",
          "model_module_version": "1.5.0",
          "state": {
            "_model_module": "@jupyter-widgets/controls",
            "_model_module_version": "1.5.0",
            "_model_name": "DescriptionStyleModel",
            "_view_count": null,
            "_view_module": "@jupyter-widgets/base",
            "_view_module_version": "1.2.0",
            "_view_name": "StyleView",
            "description_width": ""
          }
        },
        "33a8b3533c27460eaa0b09353903b38e": {
          "model_module": "@jupyter-widgets/base",
          "model_name": "LayoutModel",
          "model_module_version": "1.2.0",
          "state": {
            "_model_module": "@jupyter-widgets/base",
            "_model_module_version": "1.2.0",
            "_model_name": "LayoutModel",
            "_view_count": null,
            "_view_module": "@jupyter-widgets/base",
            "_view_module_version": "1.2.0",
            "_view_name": "LayoutView",
            "align_content": null,
            "align_items": null,
            "align_self": null,
            "border": null,
            "bottom": null,
            "display": null,
            "flex": null,
            "flex_flow": null,
            "grid_area": null,
            "grid_auto_columns": null,
            "grid_auto_flow": null,
            "grid_auto_rows": null,
            "grid_column": null,
            "grid_gap": null,
            "grid_row": null,
            "grid_template_areas": null,
            "grid_template_columns": null,
            "grid_template_rows": null,
            "height": null,
            "justify_content": null,
            "justify_items": null,
            "left": null,
            "margin": null,
            "max_height": null,
            "max_width": null,
            "min_height": null,
            "min_width": null,
            "object_fit": null,
            "object_position": null,
            "order": null,
            "overflow": null,
            "overflow_x": null,
            "overflow_y": null,
            "padding": null,
            "right": null,
            "top": null,
            "visibility": null,
            "width": null
          }
        },
        "4385ab6c494849c5b53f742197e15eda": {
          "model_module": "@jupyter-widgets/controls",
          "model_name": "ProgressStyleModel",
          "model_module_version": "1.5.0",
          "state": {
            "_model_module": "@jupyter-widgets/controls",
            "_model_module_version": "1.5.0",
            "_model_name": "ProgressStyleModel",
            "_view_count": null,
            "_view_module": "@jupyter-widgets/base",
            "_view_module_version": "1.2.0",
            "_view_name": "StyleView",
            "bar_color": null,
            "description_width": ""
          }
        },
        "e282966901a94e4eae63e84b1305c5e7": {
          "model_module": "@jupyter-widgets/base",
          "model_name": "LayoutModel",
          "model_module_version": "1.2.0",
          "state": {
            "_model_module": "@jupyter-widgets/base",
            "_model_module_version": "1.2.0",
            "_model_name": "LayoutModel",
            "_view_count": null,
            "_view_module": "@jupyter-widgets/base",
            "_view_module_version": "1.2.0",
            "_view_name": "LayoutView",
            "align_content": null,
            "align_items": null,
            "align_self": null,
            "border": null,
            "bottom": null,
            "display": null,
            "flex": null,
            "flex_flow": null,
            "grid_area": null,
            "grid_auto_columns": null,
            "grid_auto_flow": null,
            "grid_auto_rows": null,
            "grid_column": null,
            "grid_gap": null,
            "grid_row": null,
            "grid_template_areas": null,
            "grid_template_columns": null,
            "grid_template_rows": null,
            "height": null,
            "justify_content": null,
            "justify_items": null,
            "left": null,
            "margin": null,
            "max_height": null,
            "max_width": null,
            "min_height": null,
            "min_width": null,
            "object_fit": null,
            "object_position": null,
            "order": null,
            "overflow": null,
            "overflow_x": null,
            "overflow_y": null,
            "padding": null,
            "right": null,
            "top": null,
            "visibility": null,
            "width": null
          }
        },
        "3f3a199f2abb4fc6a68410be03be7c19": {
          "model_module": "@jupyter-widgets/controls",
          "model_name": "DescriptionStyleModel",
          "model_module_version": "1.5.0",
          "state": {
            "_model_module": "@jupyter-widgets/controls",
            "_model_module_version": "1.5.0",
            "_model_name": "DescriptionStyleModel",
            "_view_count": null,
            "_view_module": "@jupyter-widgets/base",
            "_view_module_version": "1.2.0",
            "_view_name": "StyleView",
            "description_width": ""
          }
        },
        "a01b55286a434c93b906435b975e5de2": {
          "model_module": "@jupyter-widgets/controls",
          "model_name": "HBoxModel",
          "model_module_version": "1.5.0",
          "state": {
            "_dom_classes": [],
            "_model_module": "@jupyter-widgets/controls",
            "_model_module_version": "1.5.0",
            "_model_name": "HBoxModel",
            "_view_count": null,
            "_view_module": "@jupyter-widgets/controls",
            "_view_module_version": "1.5.0",
            "_view_name": "HBoxView",
            "box_style": "",
            "children": [
              "IPY_MODEL_813836a914c546f9b9f9fd949c841fc8",
              "IPY_MODEL_7bee905f3f024132a065dfcac19d461f",
              "IPY_MODEL_29ef296b58f941609e50d5983e27a154"
            ],
            "layout": "IPY_MODEL_56ae2d6e8a1c4fc393b5da895c56c631"
          }
        },
        "813836a914c546f9b9f9fd949c841fc8": {
          "model_module": "@jupyter-widgets/controls",
          "model_name": "HTMLModel",
          "model_module_version": "1.5.0",
          "state": {
            "_dom_classes": [],
            "_model_module": "@jupyter-widgets/controls",
            "_model_module_version": "1.5.0",
            "_model_name": "HTMLModel",
            "_view_count": null,
            "_view_module": "@jupyter-widgets/controls",
            "_view_module_version": "1.5.0",
            "_view_name": "HTMLView",
            "description": "",
            "description_tooltip": null,
            "layout": "IPY_MODEL_31bb14f20929465d9e5d35a1e66b2beb",
            "placeholder": "​",
            "style": "IPY_MODEL_8f6852a458cd4a3987741347a2251d20",
            "value": "Downloading: 100%"
          }
        },
        "7bee905f3f024132a065dfcac19d461f": {
          "model_module": "@jupyter-widgets/controls",
          "model_name": "FloatProgressModel",
          "model_module_version": "1.5.0",
          "state": {
            "_dom_classes": [],
            "_model_module": "@jupyter-widgets/controls",
            "_model_module_version": "1.5.0",
            "_model_name": "FloatProgressModel",
            "_view_count": null,
            "_view_module": "@jupyter-widgets/controls",
            "_view_module_version": "1.5.0",
            "_view_name": "ProgressView",
            "bar_style": "success",
            "description": "",
            "description_tooltip": null,
            "layout": "IPY_MODEL_af9194c95ad446dfb78ef4e971d372b2",
            "max": 440473133,
            "min": 0,
            "orientation": "horizontal",
            "style": "IPY_MODEL_c19642441efb47f4ba98db10790264f9",
            "value": 440473133
          }
        },
        "29ef296b58f941609e50d5983e27a154": {
          "model_module": "@jupyter-widgets/controls",
          "model_name": "HTMLModel",
          "model_module_version": "1.5.0",
          "state": {
            "_dom_classes": [],
            "_model_module": "@jupyter-widgets/controls",
            "_model_module_version": "1.5.0",
            "_model_name": "HTMLModel",
            "_view_count": null,
            "_view_module": "@jupyter-widgets/controls",
            "_view_module_version": "1.5.0",
            "_view_name": "HTMLView",
            "description": "",
            "description_tooltip": null,
            "layout": "IPY_MODEL_d0c916f1fff942fb8a3bfb0d008c72b4",
            "placeholder": "​",
            "style": "IPY_MODEL_78bbeeeae2bb4499a4f17196e38f043d",
            "value": " 420M/420M [00:16&lt;00:00, 39.0MB/s]"
          }
        },
        "56ae2d6e8a1c4fc393b5da895c56c631": {
          "model_module": "@jupyter-widgets/base",
          "model_name": "LayoutModel",
          "model_module_version": "1.2.0",
          "state": {
            "_model_module": "@jupyter-widgets/base",
            "_model_module_version": "1.2.0",
            "_model_name": "LayoutModel",
            "_view_count": null,
            "_view_module": "@jupyter-widgets/base",
            "_view_module_version": "1.2.0",
            "_view_name": "LayoutView",
            "align_content": null,
            "align_items": null,
            "align_self": null,
            "border": null,
            "bottom": null,
            "display": null,
            "flex": null,
            "flex_flow": null,
            "grid_area": null,
            "grid_auto_columns": null,
            "grid_auto_flow": null,
            "grid_auto_rows": null,
            "grid_column": null,
            "grid_gap": null,
            "grid_row": null,
            "grid_template_areas": null,
            "grid_template_columns": null,
            "grid_template_rows": null,
            "height": null,
            "justify_content": null,
            "justify_items": null,
            "left": null,
            "margin": null,
            "max_height": null,
            "max_width": null,
            "min_height": null,
            "min_width": null,
            "object_fit": null,
            "object_position": null,
            "order": null,
            "overflow": null,
            "overflow_x": null,
            "overflow_y": null,
            "padding": null,
            "right": null,
            "top": null,
            "visibility": null,
            "width": null
          }
        },
        "31bb14f20929465d9e5d35a1e66b2beb": {
          "model_module": "@jupyter-widgets/base",
          "model_name": "LayoutModel",
          "model_module_version": "1.2.0",
          "state": {
            "_model_module": "@jupyter-widgets/base",
            "_model_module_version": "1.2.0",
            "_model_name": "LayoutModel",
            "_view_count": null,
            "_view_module": "@jupyter-widgets/base",
            "_view_module_version": "1.2.0",
            "_view_name": "LayoutView",
            "align_content": null,
            "align_items": null,
            "align_self": null,
            "border": null,
            "bottom": null,
            "display": null,
            "flex": null,
            "flex_flow": null,
            "grid_area": null,
            "grid_auto_columns": null,
            "grid_auto_flow": null,
            "grid_auto_rows": null,
            "grid_column": null,
            "grid_gap": null,
            "grid_row": null,
            "grid_template_areas": null,
            "grid_template_columns": null,
            "grid_template_rows": null,
            "height": null,
            "justify_content": null,
            "justify_items": null,
            "left": null,
            "margin": null,
            "max_height": null,
            "max_width": null,
            "min_height": null,
            "min_width": null,
            "object_fit": null,
            "object_position": null,
            "order": null,
            "overflow": null,
            "overflow_x": null,
            "overflow_y": null,
            "padding": null,
            "right": null,
            "top": null,
            "visibility": null,
            "width": null
          }
        },
        "8f6852a458cd4a3987741347a2251d20": {
          "model_module": "@jupyter-widgets/controls",
          "model_name": "DescriptionStyleModel",
          "model_module_version": "1.5.0",
          "state": {
            "_model_module": "@jupyter-widgets/controls",
            "_model_module_version": "1.5.0",
            "_model_name": "DescriptionStyleModel",
            "_view_count": null,
            "_view_module": "@jupyter-widgets/base",
            "_view_module_version": "1.2.0",
            "_view_name": "StyleView",
            "description_width": ""
          }
        },
        "af9194c95ad446dfb78ef4e971d372b2": {
          "model_module": "@jupyter-widgets/base",
          "model_name": "LayoutModel",
          "model_module_version": "1.2.0",
          "state": {
            "_model_module": "@jupyter-widgets/base",
            "_model_module_version": "1.2.0",
            "_model_name": "LayoutModel",
            "_view_count": null,
            "_view_module": "@jupyter-widgets/base",
            "_view_module_version": "1.2.0",
            "_view_name": "LayoutView",
            "align_content": null,
            "align_items": null,
            "align_self": null,
            "border": null,
            "bottom": null,
            "display": null,
            "flex": null,
            "flex_flow": null,
            "grid_area": null,
            "grid_auto_columns": null,
            "grid_auto_flow": null,
            "grid_auto_rows": null,
            "grid_column": null,
            "grid_gap": null,
            "grid_row": null,
            "grid_template_areas": null,
            "grid_template_columns": null,
            "grid_template_rows": null,
            "height": null,
            "justify_content": null,
            "justify_items": null,
            "left": null,
            "margin": null,
            "max_height": null,
            "max_width": null,
            "min_height": null,
            "min_width": null,
            "object_fit": null,
            "object_position": null,
            "order": null,
            "overflow": null,
            "overflow_x": null,
            "overflow_y": null,
            "padding": null,
            "right": null,
            "top": null,
            "visibility": null,
            "width": null
          }
        },
        "c19642441efb47f4ba98db10790264f9": {
          "model_module": "@jupyter-widgets/controls",
          "model_name": "ProgressStyleModel",
          "model_module_version": "1.5.0",
          "state": {
            "_model_module": "@jupyter-widgets/controls",
            "_model_module_version": "1.5.0",
            "_model_name": "ProgressStyleModel",
            "_view_count": null,
            "_view_module": "@jupyter-widgets/base",
            "_view_module_version": "1.2.0",
            "_view_name": "StyleView",
            "bar_color": null,
            "description_width": ""
          }
        },
        "d0c916f1fff942fb8a3bfb0d008c72b4": {
          "model_module": "@jupyter-widgets/base",
          "model_name": "LayoutModel",
          "model_module_version": "1.2.0",
          "state": {
            "_model_module": "@jupyter-widgets/base",
            "_model_module_version": "1.2.0",
            "_model_name": "LayoutModel",
            "_view_count": null,
            "_view_module": "@jupyter-widgets/base",
            "_view_module_version": "1.2.0",
            "_view_name": "LayoutView",
            "align_content": null,
            "align_items": null,
            "align_self": null,
            "border": null,
            "bottom": null,
            "display": null,
            "flex": null,
            "flex_flow": null,
            "grid_area": null,
            "grid_auto_columns": null,
            "grid_auto_flow": null,
            "grid_auto_rows": null,
            "grid_column": null,
            "grid_gap": null,
            "grid_row": null,
            "grid_template_areas": null,
            "grid_template_columns": null,
            "grid_template_rows": null,
            "height": null,
            "justify_content": null,
            "justify_items": null,
            "left": null,
            "margin": null,
            "max_height": null,
            "max_width": null,
            "min_height": null,
            "min_width": null,
            "object_fit": null,
            "object_position": null,
            "order": null,
            "overflow": null,
            "overflow_x": null,
            "overflow_y": null,
            "padding": null,
            "right": null,
            "top": null,
            "visibility": null,
            "width": null
          }
        },
        "78bbeeeae2bb4499a4f17196e38f043d": {
          "model_module": "@jupyter-widgets/controls",
          "model_name": "DescriptionStyleModel",
          "model_module_version": "1.5.0",
          "state": {
            "_model_module": "@jupyter-widgets/controls",
            "_model_module_version": "1.5.0",
            "_model_name": "DescriptionStyleModel",
            "_view_count": null,
            "_view_module": "@jupyter-widgets/base",
            "_view_module_version": "1.2.0",
            "_view_name": "StyleView",
            "description_width": ""
          }
        }
      }
    }
  },
  "cells": [
    {
      "cell_type": "markdown",
      "metadata": {
        "id": "view-in-github",
        "colab_type": "text"
      },
      "source": [
        "<a href=\"https://colab.research.google.com/github/cloudhood/learning-basics/blob/main/notebooks/flair_nlp_ch3.ipynb\" target=\"_parent\"><img src=\"https://colab.research.google.com/assets/colab-badge.svg\" alt=\"Open In Colab\"/></a>"
      ]
    },
    {
      "cell_type": "markdown",
      "source": [
        "# Embeddings in Flair\n",
        "Word embeddings are machine-interpretable representations of words \n",
        "such that embeddings of word pairs with similar _meanings_ will have\n",
        "similar _embeddings_.\n",
        "\n",
        "Flair offers a range of embeddings under the following categories:\n",
        "* Classic\n",
        "* Flair\n",
        "* Stacked\n",
        "* Document\n",
        "* Other\n",
        "\n",
        "It's important to understand what embeddings to use in what situation."
      ],
      "metadata": {
        "id": "5zn4JWmUgTjj"
      }
    },
    {
      "cell_type": "code",
      "execution_count": 1,
      "metadata": {
        "id": "cgjDM_QEgFo8"
      },
      "outputs": [],
      "source": [
        "!pip install flair &> /dev/null"
      ]
    },
    {
      "cell_type": "markdown",
      "source": [
        "## Cosine similarity\n",
        "This metric is often used to measure the similarity between two \n",
        "embedding vectors $A$ and $B$:\n",
        "![image.png](data:image/png;base64,iVBORw0KGgoAAAANSUhEUgAAAoQAAACACAYAAACSuXhwAAAgAElEQVR4nOydeXQU15nof713q1stqbXvuxBaACE2GbMIMBhvGOx4IzaO7cnMc/wSzyTjTDLzZl7ivDmTzLzMJCfnOV4ydjwEJ04wIcbYBrPvYgctSAKhtbWrJbXUrV7r/cFUpVtqgQCxmfqdoyOpu+rWvVV3+eq736IQBEFARkZGRkZGRkbmrkV5qysgIyMjIyMjIyNza5EFQhkZGRkZGRmZuxxZIJSRkZGRkZGRucuRBUIZGRkZGRkZmbscWSCUkZGRkZGRkbnLkQVCGRkZGRkZGZm7HFkglJGRkZGRkZG5y5EFQhkZGRkZGRmZuxxZIJSRkZGRkZGRucuRBUIZGRkZGRkZmbscWSCUkZGRkZGRkbnLkQVCGRkZGRkZGZm7HFkglJGRkZGRkZG5y5EFQhkZGRkZGRmZuxz1ra6AjIyMjIzMnY7f7wdAoVCgUCiu6bzRKBQKBEFAEISgz0QEQUCplPU6MpODLBDKyMjIyMhcI4EC20QFQfF4QRCChD7xb7GcQEEw1PlXI3jKyFwJ+dVCRkZGRkbmGhAEAb/ff0UBbjxEATCwPPH3aK2g+CMLgzI3CllDKCMjIyMjcw24XC6sVivt7e3S1u/VotVqSU5OJjk5GUEQ8Hq9NDc3Y7fbSUxMJD4+HrfbTU9PD42NjcTGxpKUlERYWJgsFMpMKrJAKCMjc0u5Gq3KZC6AgZqWq9XsjGZ0GfJCfXfgdrtpbGzk3Xffxe12o1ariY6OxmKxjHuOz+djeHhYEiItFgsPP/wwiYmJDAwMcPz4cdra2qisrOSee+5h7ty59PX1UVNTQ0VFBeHh4TzwwANMmzYNrVZ7E1t7bRrQG32NG1GHuxVZIJSRkbnl+P1+bDYbPp8PAL1eT3h4uPT9ZE/qgVtygiDgdrvp7+8PutborTnxf61Wi8FgQKPRoFQqg2zAZCP/uwdBEFCr1ej1evbu3YvVakWr1bJ48WLS09MxGAwhhRuXy8Xg4CCHDh3CarWSkJDA1KlTWbJkCa2traxfv57c3Fw++eQTbDYbXq+XgYEBrFYrw8PDfPDBB5hMJrKysrBYLEE2h7cCv9+Py+XCbrej0+kICwtDrVZflzAoCAJ9fX34fL6QL25i2eJYVKvVqFSqSWrR3YssEMrIyNxSBEFgeHiY9957j8HBQQRBYM6cOTzwwAM3bKELXKidTicXL17ko48+wuPxBAmAoQS8tLQ0Zs2aRVJSEpGRkajVf55GZWHw7sJgMFBUVMS6dev41a9+RXt7OyaTiUWLFjFz5kypL422M3Q6neTn5/PjH/9YegkCiI2N5Z//+Z9Rq9Xs3r2bCxcu0NXVxaJFi8jPz6ehoYEDBw5gs9mw2+1YLBb8fv9NE4ZC2Uo6HA5Onz7Njh07KCwsZN68eSQlJV3z2BUEAZ/PxwcffEB3d7ck8IYaW5mZmZSUlJCcnExERETQMbJm8OqRBUIZGZlbysDAAFu3buWNN96gr68PhULB4OAgCxculLSEN1oL4nK52LNnDzU1NYyMjAR9N9r7U6PRoNPpiIiI4NFHH+Uv//IvSUpKuin1lLn9CAsL4+tf/zp79+6lt7eXPXv2kJKSQnFxsbSlG9gnlEolBoOBRx99lLfffpuenh7gkrYrJiYGgPb2dklQjI6OJi8vD7/fT3d3Nx6Ph8jISGls3Kr+Jr4wWa1WfvWrX7F161YKCgqIiooiOTn5mssVnWdWrFjBP//zP7Nr1y6USiVTp05lzpw50nGdnZ3s2LGD1tZWMjIyeP7553nkkUeIiIiQ6iePxatDFghlZGRuKZ2dnfz0pz+lpaVF0tCJ9lJLly69IZN64PaTXq8nOzubf/zHf+Qv/uIvaG9vB2D69Om8+OKL5ObmAmCz2aioqOCLL76gsrKSjo4O3n//fXJycli5ciWxsbGTXk+Z25fAl4T4+HheeuklhoaGOH36NHv27OGDDz5g3bp1IQUThUJBTEwM5eXlHDx4UPpMrVbj9/upra3F4XCwcOFCysrK0Gg0OBwOzp49i1qtJi4u7pYLhAqFArfbTXNzMzt27KC3t5eamhq6urrwer3XvG0Ml4TmtLQ0pk6dypEjR3A6nUyZMoW1a9dK1x4ZGeHixYt8/PHHbNiwga6uLpKTk5kzZw4mk2kym3rXIAuEMjIytwRBEPB4PHR3d1NZWUlMTAx9fX24XC7Onj3Lli1bWLJkyVUH+p0IozU2ERERlJWVERYWJn0eHR1NWVkZpaWlwKWtsaKiInw+H5WVlXi9XlpaWvjP//xPMjIyZIHwLkUU5JYsWcKhQ4dobm7m/PnzbNq0iRUrVhAdHY1Gowmyf1MoFKhUKlasWEF4eDjp6elSeYIgUF1dDVzaEhW1zw6Hg88++wylUonZbEaj0Ujl3WzEtvT29nLhwgUMBgNz586ltraWixcv0t3dTWJi4jWXr1Ao0Ol0REdHYzQa8Xq9WCwWcnJygo7LyMjA4/Gwb98+zp07x7Zt20hPTw+yP5aZOLLBi4yMzE0l0AGjra2Nffv2AfDggw8SHx8PQEdHB9XV1dK22ei4bJPBaEEzlEYjMP6b0WiksLBQ0hiKHDlyhI6Ojkmtm8ztz2gHh4SEBFauXElpaSl2u50TJ07wm9/8BrvdPm7fLSkpYdWqVUybNk0q0+v1cvz4cfx+PyaTCbVajc/nw263c+zYMRITE4mKigoaR7cCQRC4cOECp0+fZtGiRaxcuRKj0ciJEyeora29pjIDx5toNyje39HfwaXt+pSUFLKysgCoq6uT7vetui93MrJAKCMjc1MJXEjr6urYtGkTKSkpPPvss6SkpEgTvsfjoa+vD7/ff9tM7qG0lenp6ZjNZun/26WuMjcXhULB4sWLWblyJampqXR2dvKzn/2M06dPMzw8POZ4QRCwWCxMnz6d9PR0Kci10+nk9OnThIWFERkZCVwKVTMwMMDQ0BBFRUUYjUY6Ojro7u6+2c0ELrXV5XJRV1dHfX09q1ev5t5778VkMnHq1CnOnTt3Q68fKPB5vV6cTidwSSg3GAxB9ZSZOLJAKCMjc1MRJ3Ov10tXVxdWq5XVq1dTWFgY5LVrs9k4dOhQkBfmrcbr9eL1eqX/1Wo1X/3qV5kyZQogC4N3E6O90QVBwGg0snLlStauXYtCoaC9vZ13332XhoaGMbaEgdovEZ/PR19fH/39/ZSWlkqaL3G8aLVawsPDaW5uZt++fZw5c+bmNXgUnZ2dtLW1ERYWxsKFCykqKiIiIoKenh46OjpwuVw39PqiUNre3k5tbS1ms5mVK1cGbVXL4/HqkAVCGRmZm4q4ELa0tHDu3DkiIyP5i7/4C8xmM9HR0VL8tosXL/LGG2/cVgKh1WrFarVKNmDZ2dmsWrVKsgG7EfaOMncW6enpzJ8/n5ycHHw+H3/605+oqqpiaGgoKM5eKDweD01NTfj9fnJzc4mLiwNAo9GQkJBASUkJ77zzDhs2bJDC29wqqquraW5uJjs7G4PBgMViYcaMGej1elpbW7FarTe8DufOnWPHjh24XC6effZZ5s6di9lslsfhNSI7lcjIyNxURE3Jvn372Lx5MxqNhrS0NFQqFatXr6axsZH9+/fjcDi4ePEibrcbrVY7oQleEATa29t57LHHcDgcrFu3jjVr1pCRkXHV9Wxra2Pjxo1UVFQAlzQihw8f5sSJE8TFxfHII4/w8ssvk52dLS8+dzGjn71araakpIRXX32Vr3/96wwNDfGzn/2MsLAwVq1addlzDQYDc+bMYdu2bcTFxUnCjUqlIiEhgV/+8peMjIwQFhaGxWJBo9Hckr7ncrk4cOAAvb29PP3005LHdVlZGUeOHKGyspK9e/cGjbtAW8DLae5CtWdgYICKigreeOMN4JImVXyh1Gg0/PSnP2XZsmVER0ePCWAdmFJQFhQvjywQysjI3FRE+8CWlhYEQeCBBx5Ap9OhUCiYO3cuGRkZ7N+/H5/Ph8PhoKOjg/T0dHQ63YTK93g8VFVVYbfbr2vrqrW1lQ8//BC9Xi8FE+7p6cHr9ZKbm0tWVhZTp06VtrhHOxnIfPkZ71lHR0czf/581qxZw+eff05lZSUnTpxgzpw5JCQkBAlHImIQdKPRSH5+vvRZYPzLzMzMy173ZtHY2EhHRwdxcXHMmDFD+nzatGnEx8dz9uxZ6urqgLF1DSUMXmns+Hw+hoaG6OzsBC4F+rZarTQ0NKBSqbDZbJhMJpRK5WWFTXmMXh5ZIJSRkbnpVFZWUlNTQ1JSEqtXr5Ym6Li4OCnjgM/nw+l08vnnn/PUU09NOKzLRDURVyIuLo7ly5dLQXYdDge1tbVUVlbS19fH7t270Wq1PPHEEyQmJkpZEuTF5u5F7G8ajYaUlBReeuklDh06RHd3NyMjI3g8HuDO7SNi+yoqKnA4HJSUlAR5PKelpREfH8+RI0doampicHBQcowZvV0uBtpuaGggJSWFxMREKZTOaAwGA1lZWSxZskQqY2BggIKCAioqKti4cSN2u50XXniBuLi4oIwlfr+f9vZ2mpqaSEtLIykpKSi7kMyfke+KjIzMTWfnzp0cP36ciIgITp06RU1NjfRdfX299LfD4eC3v/0tK1asmJBAKIaHefLJJ3G73ZSWlgZ5AF8NGRkZfO1rX6O0tBSFQsHQ0BAnT57knXfeYf369XR0dHD27FnCwsJ45JFHJGN2OUOCDFzKPJKVlYVGoyE9PZ3MzMygLBoQLBgG5sSGSykVOzs7USqVJCUljSss3WwcDgcHDx6koaEBk8nE+vXrpe9Ezd3IyAhNTU2cOXOGBQsWhCzH4/Fw7Ngxtm7dyqOPPkpCQsK4GjyDwUBGRsaYsubOnYvFYuFf/uVf+MUvfkFubi7Lli0jKioq6DoVFRVs376dNWvWkJCQMFm34kuHLBDKyMjcUEZr6VwuFydOnMBqtWKz2fjhD3845niTycTAwABut5vDhw8zMDCA3+8Pmc909OJhsVh46623Qn53NQTmTxXrdO+991JfX88nn3xCX18f7e3tvPnmm2RnZ0sLjSwM3j2Mp4H2+/309/ezZcsWAFauXMm8efMkm8CJlNXc3My2bdsIDw/niSeeCBIIA48NVd7VasZH291drqzGxkbq6uro6emhsrKSysrKoK1ah8OByWTCarWyc+fOMUKceC2v10tNTQ01NTXcd999qFSqq25LbGwss2bNorS0lE2bNrF582YKCgqwWCyScO3z+aiurqampoahoaGblvf5TkQWCGVkZG4YoSbzixcv0tfXR3Z2NgsXLiQxMVGyn4JLAuPBgwf5/PPPpXN6e3slY/rAckMtIJMhkIUyPhc1f7m5uSxevJhNmzYBSFvIoezCZL78jO6Lor3pmTNneO2117j33nt59tlnmT59+hX7RmBZVVVVfPbZZ0yZMoVnnnkGv98v9cvA48bTSIcae+Jxfr8fn8/HyMgIer1+QtpHUcASA8l/73vf42tf+5okYInXq6mp4d///d/ZuHEjlZWV445VlUpFfn4+CQkJFBcXS0JlYPtGt2G0zaVCocBkMpGWloYgCDQ3NzM8PBx0nlKpZNq0aWRkZDBt2rSQL5Uyl5AFQhkZmZvKv//7v3Pq1CnWrl3Ld77zHYxGoxSKRlx0TCYTO3bswOfzIQgCu3fvJjs7W8oScr32geMRKAiKi2aoa4X6XzZYvzsZ3T/8fj/Hjx/nJz/5CdHR0bz++usUFBRI30+0n8TFxfHwww+TkZGBRqMJ6TAxEfOEwPqJHrfitu/bb7/NCy+8IAWVvlxZgiDgcrnYuHEjer2ehISEkMJVcnIycXFxDA4OUltbS19fH5GRkWMER71ez3333Yff7x+T2i+w7hMRosVxGgrxOoIgTNgx7W5FFpVlZGRuKIGBe30+H+fOncNms2E0GomJicFkMmE0GjEYDBiNRoxGo+R1LC4S69evp6amJkhzMNmC1+h0V2K4j8DPBEHAarVy5swZ6XgxdqIc0uLuI5RWuKamhi1bttDR0cEPf/hDCgsLpf4xkZRq4nHTp09nzZo1lJWVjXFYmkg/C+yP4t/9/f188cUX/O3f/i3f/va32bFjB4ODg9J27eW2s10uF1VVVVy8eJHS0tIxwdjFehuNRjIzM8nIyKC/v5/du3dLmUQEQcDhcHD48GFeeukl7r//fj799FMGBgauavwE3sPh4WFaW1sBSExMRK/XS58fPHiQF198kQceeIDPP/+c/v7+CZV/tyJrCGVkZG4o4iTvcDjYvn07VqsVj8eDUqkck6tU/D16cbBarfT09OByudDr9TdE8PJ4PCGFQnGhGxwc5MyZM3zxxRe0tbVJdXj22WeDwoQEtkXmy81o4a6zs5PPP/+cgwcPMnv2bB555BHJaz6wb4zXP/x+PwMDA3z44YfU1NQwc+ZMlixZIjmjeL1eDh48SH9//xhN2mg0Gg0xMTHMmDEDtVrN0NAQp06dor6+ntmzZ+N0Omlubg4K/H65F63BwUH++Mc/YrPZSElJITo6eswxCoUCtVpNUlISWVlZHDt2jC1btgRpIDUajZSjuaKiQtIQhmrHldJWdnd3c+LECY4fP47RaOSBBx6QnLu0Wi0mkwm/38+RI0fw+Xy3jWPO7cpNEQgvZ8tws7ie7aVbPbmPV/c7pV4TvffX054rGVlP9LxQ5Vxr2TJ/vqd9fX3s3buXt956i66uLgRBoKGhgerqagoLC4OEwbq6Ourq6sb0mx07dpCWlsa8efMwmUzXVa/Asr1eLz09PWzduhWbzSZ93tTUxK9//Wu2b9+OIAgMDQ1x7tw5jh8/js/nIzk5mbKyMp588knJhknm7sXtdrN9+3Y+++wzwsLCWLt2bZBHa6i5o6enhz179hAfH8/8+fOl4zo7O/n4449Rq9VB2Ug8Hg8ffvhhkCf+eJhMJkpLSyksLEStVqNQKIiMjKSoqIjs7Gz8fj+ffvrphNo2MDDAiRMn2Lx5M0NDQ3R0dNDf309UVNQYwXRkZITBwUGGh4cZHh5mz549VFVVYTQaMZlMaLVaKSuRxWIhMTGRsLCwMffHbrfT0tJCf3+/5LW8f/9+AOkFraqqij179qDT6Xj++edZtGgRFosFhUKBVqslIiICi8VCTEyMdB2Z8blpGsLLGYfeqjqIyIv8tTNRb7fxnv/1alTGC3I6kfImYhcW6m+5v0wc8b719PSwa9cu2traSEpKAqC/v5/Tp09TUFAQdE/PnTtHR0cHOTk5Qfe9vr6ekydPUlBQgNFonLQXCI/HQ3t7Ox9//DGRkZFBi8a2bdvGnBsTE8O0adMoKCjg8ccfJz8/X9qmArl/3E2ILzx+v59Tp07x0UcfMTw8zDPPPMPixYulY8bjzJkzvPXWW9xzzz3cc889qFQqIiIimDJlCtHR0SQkJEjp68R5zWAwSC9El3sJMRqNQdp0o9HIzJkzUSgU2Gy2oG3o8bSWojdwe3s7x44dw+v1kpmZSVtbm5R2UvTohUsBpJubm2lqakKhUJCVlYVSqeTkyZOkp6ej1+tRqVQMDw9TW1tLUlISZrM5KC6geD/PnTtHV1eXFEJG3O6GP2tSOzs7CQsLY926daxdu5bExMSgQPHDw8NcuHCBtLQ0IiIi5PiDV+Cm3p1QGpdbQSgX++HhYZxOpzTo9Ho9BoNBdlG/DIGGyl6vF0EQghbG0cfdCI/QUBq+aylT3CoUHQmUSqU0ecgL/PUTFhbG1KlTycvLC/o8JiZmjOBtsVhYtGgR9957b9AzFQSBnJycIOP0a302o7UaJpOJ+++//4p5kxUKBenp6ZSWlhIfHx/0+a2e12RuPuKcYbPZ+OUvf0ljYyOPP/44a9euDTKHGI3f78fpdLJjxw66u7vRarVSf/b7/Zw/f17a8g0LCwtal/71X/81qL+FcuwY70X8WnC5XDidTiwWC//zf/5PqcyBgQHa2trGxPy7ePEi4eHhPPPMM0H1GR4exu12o9Pp6Onp4ejRo8yaNUuyrxx9f2prayksLKSoqGhMWxQKBdnZ2WRnZ5Ofnx+0fR0opPf19XHy5Enmz58vOZTI8/n43FSBMNBt/lYxnkbp2LFjHDx4kJGREdRqNfPmzWP27NlSlPVbSSgPxtuhU4uTl8PhoLu7m6GhIQoKCsa10xi98AuCcNlJc6J1EMvzer2SE8BEJsJAYUP86enpobe3F4PBQGpqatD9Fsu9He79nYQgCCQlJfH1r389yCYv1HGApC0RPwtc8CbrOQT2EZ1OR25uLrm5uddleiD3kbsPUdDZsmULe/bs4eGHH2bVqlWYzWbJQx4ImucE4VJYmkOHDrFx40Z6e3tRq9WSnaHH42H79u04nU7pBTuwP/n9fslbWJyDx6ubyPW8OImaxZKSkpBlBa5NBoOBFStWXLY+w8PDdHd3MzAwQFlZ2ZjA8aKd4Ve/+tWgcSren9GC8OgxJ/4tBvYeHByUzExkG9/Lc9MEwqqqKikm0fTp0yksLLxZl5aoqanhzJkzeL1eSkpKguowc+ZMOjs7+elPf4rVaiUxMTEoR+OtpLa2llOnTuFyuZg9eza5ubm3hXHsyMgIe/bsYePGjTQ3N/PYY4+Rk5Nz2bqJgUx7enowGo0UFxczbdq06w4HYLVa2b59O3a7fULHZ2ZmMnPmTOLi4oK2EWw2G1u2bGHnzp3k5ubyzW9+k9TUVCmJvDyRXB2hJu9Axts1uNKLz/U+hytdV9b2yUwEp9PJ6dOn+d//+39jtVp5//332bRpE1qtNugFYTSi1253dzcxMTHSnOnz+RgcHMRqtTJr1izS0tKCznO73Xz00Ud0d3dL5UDo8aDT6UhLS2Pp0qXXHXtv9AuPyOXGoSiojvaQdjqd9PX1odFomDVrFkaj8bLXHX2d0YLheIiCp0ajoaSkhPDw8KC2yIzlpgiECoWCEydO8OGHHxIdHS3FEruZKBQKTp8+zYYNGzAYDOTn5wdph0wmE+Hh4Xg8HgYHByV7h9uBqqoq1q9fLwnTMPatKJDAdk0Wowdff38/b775JidPniQzM5MnnniCnJycKwp2n376KZs3b6anpweDwUBBQQE/+9nPiImJua76ulwuzp8/z9atW3E6nWPemkdrpYxGI4mJiRQWFvLcc8+Rm5uLTqcjOTmZVatWkZOTw7Zt23jllVd45ZVXmD9//m2hLb7TGP1MxxP0xjMnGM8hbTIEtsAxEnj9wHF1rQ5SMl9+fD4f9fX1/OQnP5E85wcGBq46tIlKpZKEJp/PR19fHx6Ph+LiYlJSUqTjBEHA7Xbz4YcfUl1dLX023jpgNptZsGABixYtCnpJD/TcDRTyQr0cTWRnarT5hViv8YRQm81GU1MTYWFhZGZm4vF4sNls6HQ6yX5XLGd0GVd6UQzcKu/t7eXixYsYDAbS09NxuVx4PB70er3sXDION01DKHoUTp8+/ZYtrC0tLVRXV5Oenh5k9wCXOpjX62V4eBilUklaWhoGg+GW1HM0HR0dVFdXExkZSWRk5JjFy+v10trayptvvsmSJUsoLS0lOjp6Ut+ERhvhv/XWW+zatYvCwkJWr15NSUnJFbWWvb29nDx5klOnTjEyMoJKpaK3t5fe3l6ioqKu6y3WYrEwb948PvvsM5qbmxkZGQFgxowZPPXUU2i1WimZ+o4dOzhz5gxVVVWcOXOGpqYmfvSjH5GVlYXJZCI3N5eEhATMZjO/+MUveO+99/D7/SxbtkyeSK6SydLk3axyr+e7iXwv8+VBFKIMBgNLly695vk2NjaWjIwMSeC7ePEigiCQkZGB2WzGbrdLW7cajYbHH398whrC9PT0MQ4b4vGjnUlGl3U9W86XE9hE+76RkRH279+Px+OhsLCQKVOmjLmHE73uaAFXRLTV3L9/P263m8LCQqZOnXpVbbmbuGlhZ4qLi3niiSfIzc0NMsa+WQiCQEFBAV/5ylekSOqBuFwuent7GRwcJDMzk6ioqNvGoSQ/P58nnniCyMhIoqOjg1TwgiBgs9nYs2cPP//5z0lLS6OoqGjS1eLitRwOB3v37mX9+vXMnj2bNWvWMGvWrCsKcwqFggMHDtDQ0IDH40GlUuHz+RgYGKCxsZHk5ORr3gYXBIGIiAjmzJlDcXExDQ0NOJ1OFAoFU6ZM4eWXX8ZoNOL3++nq6iIlJYX/+q//oqKiAqvVyh/+8AfWrVtHYmKi5L0XHh7OwoULcbvd/NM//RN/+MMfsFgszJ8/X170ZWRkUCqVJCUl8dxzzwFXHzFBnFMNBgPZ2dnAJQ3h0NAQfr8fq9XK0aNHMZlMZGdnSyFbnn766THlXI7Rmj9BEBgZGaGzsxOv10tvby/Dw8PjKkAmW6lgsVgoKSlh1qxZnD9/nsTERHQ63aSbQUVHR1NaWkpVVRUXLlyQglbfDuZWtys3TSBcs2YNa9asuWWLqSAIPPjggzz44IMht4f6+/uxWq34/X7mz59/22wXAyxdupQlS5YAY7eDPR4P58+fZ/PmzbjdbrKysiRbiclENF7u6uri5z//OT6fj4ceekgSBq80GQqCwObNmxkeHiY+Ph673c7g4CBer5ejR49SXFw8xrj4ahEDoo434JVKJQkJCaxevZrW1lYqKiqkunV0dOB0OqXgqYIgoFaruf/++9mxYwfbt29ny5YtFBcXy1vHMjIyKJVK4uLiePDBB6XPrlYoHH28VqslIyODvLw86urqcDqdkvZsdLlXa74gCAL9/f309vbS2dlJW1sbCQkJtLe3U1NTQ0ZGBkajcczu0mTvNEVHR1NeXk5kZCRut5t58+ZJsQMnwylLPDc2Npb77ruP6OhofD4fc+bMwWKxyLmML8OEBUKx84lepSMjI3g8HslWS6PRoNFoCAsLkwxq/X4/drtdeuMJCwvDZDKh0+mk8lwul+SOrtFoMJvNUl5Dp9OJw+HA4/GgVqsJDw+XBDW3243D4ZBCxRgMBsxm8xitngV6C8IAACAASURBVCAIUh18Ph8Gg4Hw8PAxtm4dHR20trYSFhZGYWFhUDmjB57T6cTpdOJ2u/H5fKjVanQ6HQaDgaGhIclGQeyY4n1wOp2oVCqMRqO09ehyuXA4HLhcLuBSeA5RMLLb7VL7dTodkZGRkrAjDu7GxkZ27tzJzp078fv9eDweenp66O/vR6/XB50jBgr1+/3o9XrMZnPQ4PD5fDidTux2O36/H7VajcViCTq/traW/fv388orr1BcXBwULiEUYj8YGhqiurqakpISlEolR48exW634/P52LZtGw8//DDJyckhz78coWxcQtlP+v1+qa1ms1kSmsVJSHQaGX1dQRB4+umnOX/+POfOnaO6upqysrIr1nO8yfpaJrrx7OhkZK6G8bYEr7UvTYYX65eVq5m3AoWgsLAwZsyYwd/93d/R1dXF9OnTpTidobZTr2RLF1gXQRCoq6vj4MGDAGRlZZGVlQXA8ePHqaurIy8vTwr3NNkEtiE6Opply5aFtCWerGurVCpiYmJYvnw5wLje2DIBCBPE7/cLfr9faG9vF/7jP/5DWLFihZCSkiIYDAYhPDxcmD17tvD8888L27ZtE+x2u+Dz+YSOjg7hu9/9rpCSkiIYjUZh3bp1wuHDh6Wy/H6/sH37dmHt2rVCXl6e8PjjjwunT58WvF6vMDQ0JLz33nvCihUrhPT0dOG+++4TNm/eLIyMjAh+v184cOCA8I1vfEPIzMwU4uLihK997WtCY2Oj4PF4BJ/PJ/j9fsHn8wmDg4PCD37wAyEnJ0cwGo3CE088EVQH8dgPPvhAmDdvnlBUVCQcPnxYcLlc0veB5Xk8HuF3v/udsG7dOiEvL0+IiooSiouLhVdffVXYvn27sHr1auGtt94Sent7Bb/fL3g8HqGrq0t47bXXhNzcXKG8vFzYsGGD4PV6BbfbLezcuVN48cUXhZycHGHKlCnC//pf/0s679/+7d+E4uJiISwsTHj44YeF48ePS/V2OBzCX/7lXwoGg0HQ6XSCUqkUAEGv1wthYWHSOceOHRN8Pp/gdruFd955R1iwYIGQnZ0tvPLKK0J3d7fUNr/fLzQ3Nwv/9//+XyE9PV0IDw8XSkpKhKNHj0rHnDlzRnjiiScElUolfPzxx8Lg4GDQsxR/RjM4OCj87ne/E1JTU4Wf/OQnwqeffir81V/9laBQKARAKs/pdI655xPtl36/X+jp6RG+//3vC7GxsYJCoRAUCoXw1FNPSf1RPK6jo0P4/ve/LwDSz65du6TrB/6Iz/zb3/62kJmZKbz88suCx+MRvF5vUJmjEdsQeMxE2nOlNoplyshcLWL/EZnoGLtSeddTxp1OqPnvauetUD8ej0dwu91j5o+JXme848V1Z7wfr9d7Te253vs1mXNkYDk3si1fRiasIfT/d2Tw73znO1itVlasWMEPfvADFAoFHR0d/Ou//ivbtm2jrKxMsrOKiorilVde4dixYxw+fBiLxSJ5TblcLrZv384f//hHvF4vERERnDlzhk8//ZS0tDT+z//5PzidTtLS0rDb7Rw6dIiuri5KSko4cOAAR48exePxMHPmTPbt28fmzZu59957eeCBB4JsFPV6PS+++CInT56ks7MTk8kU5Ln130KxtIUpxp8brWn0er10dHTwH//xHxw4cICFCxfyb//2byQmJtLV1cWHH37Iq6++SmtrK0uXLsVgMEjbud/5znfIyMggKiqKmpoadu7cycyZM9m9ezeVlZXodDp0Oh1Go1GyJVEqlTzzzDOcPHmSxsZGtFqtlKMRLhkMf+9732PVqlV8+umn/Nd//RdPPfUUX/nKV6QtTbPZTGJiIi6Xi1//+tecO3dO0ozt37+fP/3pT6xbt056I4uLi2POnDmUlZXx0UcfUVpaKuXQFP5bI1lZWYnf7ycmJmbCOWXtdjvvvvsuPp+PlJQUSkpKqKurQ61W4/V68fl8tLS0MDAwINl2XosRs/gTKj5VYHm7d+9m37590j166aWXyM7OljTbIkJAyJSwsDBGRka4ePEiQ0ND0n25XH3Ea7e3t7Njxw4cDsdVtSmQoqIipk6dOsYZSkbmanC73TQ1NXH48GHJ8epq0Wg0FBYWMmfOnEnTNt6pXGt7r3Te9WbUGK98lUp1S23jb1T/uFHOZ3cbE+51ojPB4cOHWb58OeXl5dL2n91up7e3l3fffReTySRt+arVakkgMRgMJCYmYrFY8Pl8DA8Pc+TIEcrLy0lOTmbjxo1s2bKF1tZW3nnnHfLz88nOzsZsNrNr1y6ampq4cOGCZIc2d+5cKYWOz+dj8+bNNDU1SYuuOEGpVCoSEhLwer3o9Xri4+OxWCxSuxQKBR6Ph87OToaGhqSUQYHfA7S2trJ+/Xp+//vf8/TTT/Poo49SUFCAyWSiu7ubxsZGNm3aRFpaGsnJyWi1Wjo6Ojh+/Djl5eXcc889aLVaurq6qKmpYdeuXdhsNtasWUNERAQ5OTn4/X5mzpwpXTc2NhaFQoFOpyMuLo6oqKigiTc1NZWuri4cDgd6vZ4FCxZQUlJCRERE0ERtt9tpa2tjyZIl3H///fzud79j8+bNfPLJJzzzzDOSIKTRaFCpVLhcLrRaLStWrJDCwYgxszo7OyWbj4lMLG63m66uLk6fPs2SJUvIzc0lKiqKhIQELBYLXV1dKBSXQgKVlZWNcfa5FgLvUWtrK3/84x+lNl64cIHt27dz8eJF5syZw0MPPcRjjz0m3evRiIJdZmYmycnJDA4O0t7eTnh4uGQ7eaXJqK2tjf/8z/+kp6fnmsKWKBQK1q5dS3x8vCwQylwz4jiurq7mnXfeob+//5r6o9Fo5Mknn2T27Nnygisj8yViwgKhx+Ohvr4eu92OwWDAaDRKbzHh4eHcf//9hIeHU1RUJAkKPp8Pm81GX18fCQkJJCYmotVqgUvGs2VlZZSWlqLT6di9ezfDw8M0NjaSmJjIwoULSU1NRavVYrVaiYqKoqenh4qKClatWsX8+fOJj4/HbDaTmpoKXLK/C2VD2Nvbi81mIzY2ViozkIGBAbq6ulCr1UyZMkWyixMZGhri1KlTbNq0icTERFatWsX06dMlryydTkd8fDwqlYqioiISEhJQKpXo9XpycnJYsGABSUlJ7NmzB7VaTVdXF42NjTz00EPMnj0brVaLxWLB4/EEJUPv6+tjYGCA2NhYSYM1mvb2dmpra9FqtRQUFISMA6jVaikvL2fatGmEhYVx7tw5/vSnP1FbW4vT6QyynxOF+4KCAmbMmCF53Q4PD9PV1YXH42HGjBkTziUrJm/v6+ujvLyc1NRUyTYxMzOTrq4uBEFg7969LF26lKKioisKWldDfX09v/zlL6V+YbVasVqtREREUFBQwOLFi8nLy7uicJuVlUVmZibnz5+nubmZnJycCdVPEARiYmJ4+OGHGRoauuZ2zJgx47qdbmTuboT/tpXNyMhg1apV16yx1mq1TJs2bcznsnAoI3NnM2GBUK1Wk5aWhslk4vjx4+Tm5mIymUhKSkKtVpOQkMCaNWuCznG73dTX1zM8PExxcTHx8fHS9p3JZGLlypUANDU1YbPZcLlcuFwuli9fTkpKCjqdTnKUGBkZQalUkpmZyezZs6VtYTGQNCDVLxAxeKjdbic9PV0SHgNpamqivb2dyMhI8vPzgeDJ7eLFi+zatYvW1lb+7u/+jry8PPR6vSS0uFwumpub8fl85OXlSflZLRYLc+fOlcoZHBzE6XQSGxtLbm4uZWVl0vamGJE+ULN3/vx5bDYbqampQTlgA+vW399PR0cHYWFhkmZytOGxwWBgyZIlkpAbHR1NVFQUQ0NDDAwMYDQaUSqVeL1e+vr6GBkZYc2aNcTHx0tC/9DQEL29vahUqqAE4oGE0jZYrVa2bt1KeHg4BQUFUhzFpKQk5s2bx5EjR4BLWWSampoYGRm57lh/4lYxgMFgIDk5GbVajSAIREZG4vP5GBkZob29nQMHDhAREUFubu5lPcvj4+OJjY3l7NmztLW1TagOIunp6bz66qvXbDB9LVqcwPO8Xi+dnZ3s3r37msqRuf1Rq9XMnDlzTND/0f1Nr9czY8aMoCxM19Mnx9sqFv47PuqWLVsYHh6+6vJlZGSuj2nTpjF16tSrCrMzYYHQaDSybNkyPv74Y3bt2sX777+P3W5nxYoVZGZmSl61gYEh3W63lHItKytr3PiDTU1NUpLsOXPmUFpaKi3qopDS3d1NYmIizzzzTJAWbXh4mKamJjQaDampqWOECa/Xy+nTpxkaGiI1NZXk5OQxdi9VVVU0NzcTFRUl2fCJCIJAVVUVu3btIiwsjJUrVwaFJhG3ZCsqKnC73eTk5ARtSYt4PB66u7vxeDxMnz6dRx55JCie4Og6AZw8eZLe3l6ys7NJS0sbM+l6vV4GBgYYGRkhPz8/pNZutHAoCAJms5m4uDhaWlro6OggLi4OjUZDV1cXzc3NmEwmnnjiiSABSfQ+VqlUmM3mcW1cRCFZFOTb29uprKwkNjaW9vZ2Tp8+jUKhYGhoaMz2sJhH+HKpjK6WefPm8atf/UrS5ra1tfH222+zYcMGtm3bxqFDh2hububb3/72mCCugfdNp9Oh1Wpxu9309fVdVR1utebE5XJx9uxZvvWtb8mZNr6EiC99P/zhD8nJyQn6PNSxN4rRWn2Xy8UPfvADWlpaxhwnIyNzYxDH4GuvvUZWVhZqtXrC437CAqFSqcRisfCjH/2IH//4x3zyySf8y7/8C9u2beN73/sec+fOHZOI2+l0cuDAARwOB7m5uSQlJQFjXeIvXLhAU1MTKSkpPPLII0Hf22w2rFYrWq2W+++/n4SEBGnRFgSBoaEh2traSElJIS4uTtoyFevg9Xo5fPgwAwMDpKWlSQ4lgddoamqip6eH1NRUMjIygtotxt5rbm4mMTGRjIyMoK1b4b+DNdfX1wMQFRWFwWAIEowBurq6aGtrIz4+nlmzZgXZKY5GPO/YsWP09PQQFxcXMiSLzWajra0NjUZDeXn5GO3geKSnpzNjxgwaGhqoq6tjypQp6PV6KioqOHfuHPfeey/p6elBZXm9XlwuF0qlUmrfePh8PsmZ4tSpU3R0dNDX18dXv/rVoPaNXhhqa2upr68nNTX1hoU9SElJ4Zvf/CYAP/rRjxgcHOSNN96gvLwci8Uyro2eaIzt9Xqlrd/L1TFQwPd6vTgcjuvaBtdqtZKN50QR+6BSqSQ2NnbM2JL58iDGr7tc/xIEAZ/PJwUmvp6+IDrCweUdGJYtWxb0AhWovZeRkZl8xPGYm5s7Jof8FZ2ZrvZiycnJvP766yxfvpxf//rXfPbZZ5w/f5533nmH2bNnB23ZejweGhoa8Hq9REZGjtH8iJXr7e2lr6+P3NxcactD/K69vZ3W1lZMJhMzZswIsncbGhqipaWFvr4+HnvssZAaMr/fT2trK263G7PZHFL71NPTg8fjISYmhpiYGOlzQRDo7u6mvb0dvV7PvHnzxtjxjYyM0NbWRk1NDUVFRVLUdbEN4oNoaGhgcHCQ1NRUyf5sPAFB/K6npwen0ynZbI6mpaUFq9UqRbJXKpUTin8VFxdHTk6OlCbJ5XIxMjLC2bNn8Xg8fPWrXw2paRRt+9xu92UndbETnjhxgk2bNmE2m3n66afHaG/7+vrYunUrPT09+P1+KioqmDt3LosXL550T7jA9kRFRZGYmIjZbGZgYACAs2fPMnPmzHEFQp/PJ8UyDIyjORGOHDnCyy+/THd39zUthiqVihdeeIG1a9dKAWoniiAI6HQ6iouL+elPfwrceo2lzI3hSqk2Rc38559/zuuvvy4JalfbJ00mE88//zzf//73pfND9SmdTsc//MM/4Pf7pe/lvicjc+MIHMt6vT6kT8HluGqBUKVSYbFYKC8vx2QyERERwe9//3s++ugjMjMzMZlM0puozWajpqaG/Px8yb5NRJwYhoeHaWhowO12k52dPSbLRmNjI3V1dZhMpjH5cltaWjhz5gxqtZrS0lJpQhRvit/vp7+/n4aGBnJzc0lLSxtzgwYGBmhtbcVsNpOTkzNG4PP5fHi9XrRaLbGxsUF1h0u2bx9++CGCIDBr1qwgD9/Atu7atYuOjg4KCwvH2AuORvTCbmlpITc3l7y8vDH1FgSBM2fOUF1dTXh4eEhBYbyJOioqStLCiankvvjiC5xOJwsWLAiysxTvpV6vl56NGGj8crjdbtra2ujq6mLGjBl861vfku6tWKeOjg40Gg2/+c1vGB4epru7m9bW1gmFdblWxHsiCs+BmuTx2iQKwWLw9FDPeDTitjkgjRe73X7N9Z46depVZ6AJDLmj0WjkDCtfYiYq1Gk0GpKTk1m6dOk1OznpdLpxbZpHfxYRETGpmS5kZGRuHOMKhIFvdb29vTQ0NDBjxgxUKhVKpZKIiAhmzpxJe3s7v/vd77Barbjdbul8MUyJ3W4nLS0Ns9ksbVV4vV7JY7K7u5uenh7MZjNZWVlj0sp0dHTQ1tZGZGQkqampQd+LHrY6nY7p06ej1+vp6+uTspq43W46OjoYGhpixowZWCwWBEHA5XLh8XgIDw+nq6uLgYEBoqKiSEpKkhb/kZERjEajtMUh2sQFTrwXLlzg+PHj9PT0oFKpmDp1KkajMSgbiLi93dDQgN1ux2KxEBsbe1kVrtfrpaWlhaGhIclrWayXx+ORNKE2m43+/n5SU1ODFvuhoSG8Xi86nW6MVk6hUKDVaomKiiI8PJz9+/fT0dFBRUUFkZGRLFq0KEj4FOsnZoLxer3YbDZ8Pt94XQe45N1bXV2NXq9n6dKlZGVlSVq/wMVi+fLlbNy4UcrI0tHRQWNjI9OnTweCYwmK/4e6Z+Iz8vv9V8ygMDQ0RH9/v5QdBi6lORqtYQm85sDAAAMDA1IIoIkscOIxKSkpvPDCC3i93iueMx5xcXEhbVMnynj3bPR3k7F4jxZORptPXE/51xrvLlS7rqdOE71Pl+uvE73m5coQmWhZer2eqVOn8uKLL15zfxQzQEzkpehGcLfGPLzZTNZ9lp/XrWdSbAhFTV9tbS3r16/ntddeC8oVK6aqUygUxMfHB2nXXC6XtCUhbneKHpqpqalS2IK6ujp6e3uJjY0lPT096Noej0eKs1dUVCRpZsQONjAwQHd3NyqViujoaLq6ujhy5AipqamUlpbidrvp7u7G7/dLnrTnzp2joaGB9PR0iouL6e3txeVyodfrpdiB+/btIysri/z8fCndntPppLa2FpvNRmRkJE1NTVRUVNDR0SE5uZjNZlwuF0ePHkWhUFBWViaFk2lvb0ehUEiC2OXwer20tbVJwp9araa+vp6qqiry8vLIz89HrVZL25gul4ve3l7S0tJobW3lyJEjxMbGBnkSBiKGxImIiKCyspINGzagVqspKysjMzMTGNuBzGYz8fHx+P1+zpw5g9PpDFm2QqHA5/Nx5MgRjh07htFolFIvjRY89Ho9eXl5ktAs2pMeOnRICj8Dl7y8T5w4wcjICLNnzw7ShgYuln6/n56enssKq/39/ezYsYO9e/fidrtRKpVERkaSl5c3JqxL4ILb2NhIS0sLYWFhknb1Sou6+J3ZbJYE3JtJKAFoopPz9XiejhYAQ3022d7Woa45kbJGP8OJmFyEus7ovh2YKvFyTOR6l/tctBGdSFkKhQK1Wj3GNOZGcz3PerJeJGSuj8kYr/KzvHVctw2heKLD4aCmpoaPPvqI3Nxc7rnnHsxmM36/n7a2No4ePUpqairz58/HbDYHTcxKpRK1Wk1bWxu7du2SnBICvYQrKyvp6upi6tSpklG0eL7NZqOjo0OKsSc6TQRqjZRKJQ6Hgy+++ELSMInaSLEOKpWKtrY29uzZg0qlwul0Slk/lEolSqWSnp4ejhw5Qnd3N9XV1ZJWzmw2k5aWRkREBCdPnuT3v/89cXFxtLe34/P5SE9PR6PR4PV6OX78OA6Hg7q6OrKyspg7dy5+v1+yQ4yLiyMpKWnM1mmoey86MVitVvbu3YvBYKC7u5v09HSp/dHR0VgsFjo7O9m0aRMtLS20trbS2trKPffcE9LdXLx/er2epKQkKisr2bZtG6+++iozZ84c13s4LCyM+Ph4jEYjx48fZ3BwEL/fP8bWb2RkhKqqKnbu3EltbS1JSUm0trbS2dlJbGysFLTc5/MxMDDAhQsX8Hg80vkXL15k27ZtzJ07l6KiItRqNXV1dfzqV7+ip6eHv/7rvyYvL2/MAux0OiWtZKCmuq2tja1bt0r3vL29nT/84Q8cOHAAtVpNamoqixcvpqCgIKSdpnivL168SGNjI5mZmZKm+k42jr+Sxux6yw2ldZzsRSBUfceb+G7EAnSlSfZKAuxE63QjntOdgNhOh8PBxYsXaWpqwufzoVQqMZlMUrQHmclDzJZ1NZ6pl0Mc+06nk5MnT9LT0wNcUiaZzWZ0Op38DG8AOp2OxMTEyzqvhuKKNoTDw8N4vV6ioqL4zW9+Q21tLTExMfh8Ppqbm+no6OArX/kKDzzwQJC9iNFoJCsriylTplBTU0NDQwMPPvgg69atk8LKwKXtaIVCQXp6OpmZmUGTXXt7O263m9TUVLKzs4MMk0WtZH5+Po2Njbz++usUFBTwN3/zNyxYsEDqaDk5OeTm5lJXV0dDQwPLli3jxRdfZNasWQBkZGSQmZnJF198wYYNG5g6dSrf/e53gxxIiouLeeCBB9i8eTP/9E//RFhYGEuXLuW5556jqKiIPXv2EB0dzYcffkhcXBwvvPACjz76KLGxsTidTs6fP49Go6GkpGRMWJvxHmZBQQG5ublUVlZy/vx57r33Xr7xjW9ImUwAZs6cyb333stHH33EW2+9xXvvvUdhYSHf+ta3WLhwYUgjc/H+RkZGUlRUxK5du1iwYAFlZWXjhgUS77nZbCY7O5sDBw7Q3d2Ny+UK2pIWBAGbzcb777/PyZMn0ev1OJ1OPvnkEzIzM1m4cKEkcI6MjHD+/Hnee+899Hp9kMaitraW999/n9dff10yUVAqlXg8HimmWaCQIQgC7e3tfPLJJ7S2tmI0GqW219TU8PLLLwe1RUwDmJCQwPLly/nmN7+J2WwOqdERNZ69vb2MjIxIMRwD23ynTGji/XI4HIyMjKDRaCQh2O1243A40Ol06PX663LqCVzIXS4XPp8PlUqF0Wi8aiPnULhcLhwOR1D9h4aGpAw7oQJ4u1wuhoeHpXNEB4vLnTMeIyMj2O32oP4yXh8QTUcMBgMqleqa+opoj63VajEYDKjValwulxQGKiIi4pamI7sRBArbnZ2dvP3227zzzjvodDo8Hg/JyclkZWXd4lp++cjPz+fv//7viYqKmlSBsKuri3/8x3/kyJEjaDQaNBoNaWlpREdHT0iTLjNxFAoFiYmJPP300yxdulT6bCJcUSBMTEzk+eef5+GHH5a0bMPDw4SHh0t5b8WA0/BnjYoo1Lz//vtS7t7p06eP8eIsLi7GaDRSWloaNCmLC/GcOXOYN2+eJMAFMnv2bGJiYpg3bx7h4eEsXbqU6OhoSejQarVkZWXx//7f/2Pfvn3k5uZSWloaJHzExcXx3e9+l/LycjQaDUuXLh0jGM2ePZv09HQWL15MVVUVixYtCmrLkiVLeOONNzh9+jSPPvooOTk50sIn3o+nn36aKVOmXDE0BCBpUX/yk59w6NAhKYiz6NQiMn36dF577TWWLVtGZWUlhYWFzJs3j6ioKGmBGE+LotFoiImJITExkZdeeumKRuJwycN89erVHD58mPr6eoqKikIKnUVFRZK9m0KhkLbjA72gFQoFYWFhzJgxg5KSkjFliE4lgQ4ger0+yFYyUFOs0WhISEjg+eefv2I7pkyZQmFhIcnJyURGRkqazlDbjqKneWdnJ1lZWTz00ENSUPI7lRMnTnDy5EkyMjJYvnw5CoWC+vp6tm/fTllZGdOmTZuUWJAHDhygsrISu91ObGwsCxcuZOrUqdcsvIjP+vz582zdupWsrCxWrlyJ0WjkwIEDVFRUkJmZGdJLvq6ujk8++YTc3FxWrlxJWFgY+/fvp6KigqysLJ577rkJ1+Ps2bN8+umnE3oZUCgUzJw5k1mzZhEbGxs0BiZyviBcyiH+5ptvkpmZyYIFC0hOTqauro7NmzdjNBp56aWXbpgT1q0i8L44HA6am5sxm8088sgjHD58mKqqKurr6+/ocXg7MjAwgNfrnTS7P3EnZXBwELfbTVlZGTk5OZw6dYrDhw9PRpVlQjBlyhTKy8uv+rwJeRlrtVri4+OJjo4mNzdXcjjRarXo9fpxbXB0Op20FRwYtyrwuIceegiPx4NOpxuzxVlUVCSFoQmVRUKj0ZCZmUl8fDxKpTJk6jq1Wi3VQaPRjClHoVCQnZ0txSccL0tGdHQ0999/P0uWLMFgMAS1xWw2U15ezvz58zEajUHtMBgMzJkzh+nTp4e8fijEe5Ofny8FSw51nkKhIC4uLihXssFgCHrjCmW34XK5qKys5JNPPuHHP/4x2dnZE4pmHhcXx9KlS0lJSeG3v/0tU6dOlRa5wPo8+eSTQQbrCsWlwM6BwmNYWBgFBQVBdqOBiPEOAc6cOUNjYyM5OTnMnj17zHEASUlJPPfcc1d0doFL/Vmr1UrbIuMJKKLAuXHjRk6ePMnMmTNZtmyZ1KY7ldOnT7NhwwbKysooLy9HoVBQW1sraWvz8vKuWyBUKBS8//777NixQ3Lg2rdvH+++++41C4TiPa+rq+Ott96ivLycJUuWYDQa2bNnD++88w4LFy7k2WefHXNufX09b7/9NsuWLaO8vJywsDDpnMWLF09YIBSES3FHz549y969e0PaZQZqr8V5MjExkaVLl/KNb3yDpKSkCWtFRIHwl7/8JQsWLCAvL4+kpCTq6ur4xS9+QUxMDE899dSXTiAUEYRL05RwBAAAIABJREFUqUcPHDhAeXk5f/VXf8Xf//3f43K57ugxeLsi7tZMtsbZarWi0WhYvnw5zz33nBTqDO7sufR2RaPRXJMT4hVtCMW/RXvAiQg0gefp9frLnnM5B4srnQt/Xtwvx2hh9Gq/ByTP5VCoVKoxKfNERE3YRNOxjRaoJ1IvtVodcgEXPW4Dy/T5fOzevZutW7fy8MMPU15eTnh4+IQGpUqlIjk5mf/xP/4Hb775JhUVFWRnZ5OcnCwZt4tbWBNp5+Web6Ad6blz58jOzubxxx8nISEhpH3YZIRVGa1tEJ1Udu/eTUJCAkuXLp2wh/HtzMjICAMDAwwPD0ttdrlc9Pf3X3fAYrh0H5uammhpaZFiLw4ODnL69Gncbvc12w2JGly3243NZmNoaEjq3w6Hg76+Pux2e8iyQ50zPDxMX1+flPpyonUoLi7moYceYvfu3dhsNgRBQKVS8dRTT/Hkk08Cl8ZZQ0MDb775JvX19fT09NDV1UVraytvvfXWFWMGBuL3+7HZbNjtdulFS3TaU6vVVwwBdScjPm+v18v06dMlUw+QBYk7if7+fknYHJ2hSn6Otw9XHYdQ5s5BNOYVA3sbDAYqKirYu3cv0dHRrF69mujo6KsakOHh4Tz22GNUVVWxd+9eIiIiWL169Q3xWhQEgYMHDxIfH8+CBQtYsmSJlN/6Rtud+Hw++vr6+PnPf05PTw8PPvggCxYsGNfpRubPeL1e1q9fT3NzM3CpH3q9Xux2O52dnRgMhiu+xN3OREdHU1hYSEZGBv39/ZKAmZeXx4MPPohCcSkGZWdnJ263m/Xr11NdXU1LSwv79u1jaGgInU73pbP7m0wCta2iI0l6evqk2KDK3BwCn2F/fz9qtfqq8urK3Hzk1e1LTn9/Px999BEulwudTkdnZycxMTFSbMCrRa1Wk5mZybp16/j1r3/N3r17USqVlJeXj5sL+HrQarWsWLGCnJycIO90kRvxdmm326mtrWX37t3s37+fhQsXcv/994fMJy0zFo/Hw5/+9CdiYmLw+/20t7dL4ZH27dtHTEzMdcVUvNWINtKhtMXi/0qlksTERFatWsXJkyeprq5GEC6lMRwZGZFeauT+ND6iMOj1elEqlVLOdZk7g8Cdhv7+fmknJ9Rx8ji4PZAFwi85w8PDHD58mJqaGsLDw3nooYd46KGHKC4uvqpBGPi2B7B48WI0Gg2bNm1iz549eL1eFi1aRG5u7qRM2qL91X333ReyHjeK/v5+qqur2bFjB3v27GHFihU888wzpKeny95wV0ChUOB2u2lqasJqtfLiiy/S1tbG559/jtVqZXh4mA0bNrBw4cIxzmV3yoIQaBs4ESIjIyUnJNFeNTD9pkxoxHnG7/cHCYSyhv7OQrSxFaOJyM/v9kZ+Ol9yzGYzK1euZOHChZSXlzNlypRrdhgYvRDOnz+f4uJijh49yvbt2+nt7eVb3/rWpL7Fh1o4b+RiWlNTw+7du1EoFPz85z8nLy9P1kpcBb29vXzwwQc4HA5mzZpFeXk5TqeT3/72tzidTnbu3InNZpM0ZF+mLAaBXu9iu9ra2ujv7weQPPvDw8OvOQTN3YbP58Pj8aBWq0lISJDH4h1CoHbQ7/fT2tqKIAgh09fK3D7IAuGXnNjYWL72ta8BSDH9JpPw/9/emUdHVeV5/PMqqapUJakklZB9DwQSQiDsEAUl7CKuiGLj0qO0tjqne8Yz2tPTyzlO95w+c0ZtpxsHu9tux3ZB0RZEWhQRiAgkgECAkAAJIXuoJJWl9m3+4Lw3VUklJBAw4P2cw9Gqeu/ed9+t1P2+3/0tkZHMnz+f4uJiJZr4embmzJlMnTpVSc0j/LyGR1tbG//zP/+j1L4uKipi0qRJbNy4ESAgBYX8XbkRFoaBhO2bb75JWVkZkiQxYcIEfvGLX1z3fyPXCp/vYqlTm82mBOaJv8frC/nh6JtvvmHmzJnXtEKOYPgIQXiDo1Kp0Gg0V80SI28D3CgWD7lCjGD4WK1WWlpasNvt/Mu//Atjx44lIiKCyMhIQkNDcblcSJLEnj17yMrKuqESC/t8Pg4dOsRrr72mvC4vL2fnzp2o1WrWrFnDAw88wE033aRsmwnfqYGRhYTNZqO7u7tfejPB9YHH48Fms+F2u0lKSuqX1F9GzO3oQAjCG5zB6suOZPs3GmKxHj6nT59m06ZN+Hw+5s+fT1xcHCqVCqPRSEpKCufOncPn87Fx48aAutlw/S8IPp+PAwcOUFtbq7zX2tpKV1cXEyZMIC8vj/HjxxMZGXlDbZNfLeR7ZLPZ6OzsFMEI1xnyeiOLep/PR0xMjOKudLXWI8GVIQThDc5AScNHsu0b8Yf5RhvPSBPsx1xOq5KZmUlycrKSbzA3N5dbb72VP//5z8DFxNLt7e1KhZgbYWGQJIn8/Hzmz58PXLw/ra2tfPLJJ7S3t1NaWookSaxcuZIJEyYIK/QQkCQJu91Od3e3CEa4TvH5fDgcDnw+H5GRkeh0uoBqVYLRhfgru4G5Fn9ww4m4HO3cKOO4VvgLue7uburq6mhubiYnJ4dt27YppSi7u7v7iT45iXR0dPQNcd8lSeLWW2/lZz/7GXDRkb6+vh6dTseHH37I9u3bOXnyJBaLhZ/85Cfo9XoRtT4IsgVJTh7uH5l9I3xfvivIc+j1eomMjBxWYQvBtUcIQoFAcNnI0cKVlZUcOHAAh8NBW1sbL7zwAvD/otHhcAScd/ToUebMmRO0RvmNgCRJZGRk8KMf/YgLFy7w9ttv09jYyJtvvsljjz1GamrqDfUwNdL4VypqamoiKiqqX+orce9GP263m46ODiRJwmAwCEE4yhGCUCAQXDaylWvXrl189NFHJCYm8vjjjytbwXJJw9raWt566y1sNhsAn376KUVFRUybNu2GXdi9Xi9JSUkBpRztdjvHjh3DaDQqFlRBcORt94aGBpYuXSosqtcRsmh3u920trYSGRlJeHi4cJUY5QhBKBAIrgir1Up3dzd6vZ5bbrmFZ555RvlMFntVVVV0dnby0Ucf4Xa7aWlpwWQy4fF4bkj/MNn65/F4FGEsGB4+nw+r1YrH42Hy5MnKQ8aN+gBxI+J2uzGZTBgMBpFD8jrgxvslFggE15TS0lKOHj1KZmYmd999N5GRkf0W7czMTJYtW8bHH3+Mx+PB6/ViMplobW0lJSUlqGAarQu/z+fD6/UOSeS1trbS09OjvNZoNKSlpV3XtZyvBbKYdrvdaDQaEhMTAyJT+0ap+r/f93vT9zj53GDHDfRZ3/76Xstowz9J+qWO82ek3Rg8Hg8XLlxAo9Eo1kGv16v01fca5dd93xsqXq/3kmMYjfM1GAONf7D5vdwxCkEoEAguG7fbza5duzhy5AiTJ08mNze33zE+nw+9Xs/YsWOVbT9Jkjhy5Ai7d+/mgQceuG5+pOWF1m63K9UXoH/Evcfjobm5mVdffZV9+/YBoNPpyMzMJCUlRVhLLoFcx9jr9aLRaJQURsEyGwSbg+H0M5D482/verVMyqX/zp49y7Fjxzh58iStra1otVqys7NZsGABOTk56HS6Ee1Xvoder1cJCpIFoX9KGpm+cxZsDi81B0Odo+tlLvveI4/HQ2dnJ5WVlZw8eZLq6mqsVitxcXEUFRUxb948xowZc0V9CkEoEAiGjdfrpbu7m507d7Jnzx5aW1tpbW1l//79GAwGpe6snHaivr6eAwcO4PF4lDZOnjzJli1byMrKYvbs2dfNj3RjYyP79++nvr4+oObu119/zcsvv6y8bmlp4f333+f8+fPExsYyffp0Vq1aRXR09A2TyP1qIlsItVotCQkJyv3yer00NTXR2NgY1MI1kCDse7/HjRtHVFSU4rIwVLEx2q2D8P/X5XK5OH78OB9++CEul4uQkBA0Gg2dnZ28++671NTU8IMf/IC8vLyrMhaXy0VraysajSbANcTpdNLY2EhbWxtweflsdTodSUlJxMfHA8EfCK7X5NfB7kdzczO7d+9mz549AQ+VR48epaKigra2NtatWxfw0D1chCAUCATDxuv10tnZyd///nccDgdjx44FYM+ePeTl5REbG6tYBOx2OzU1NZSWlpKdnR3wY9fS0sLu3buZNWvWdfGDLUkS586d4/DhwyQmJpKYmKiMp6amhg0bNijH+Xw+kpKSGDduHDk5OSxZsoSVK1eK4IghIEkSLpdLEYRxcXFIkqRs1Z84cYItW7bQ1dWFJEnEx8cTERER1B9VtrT09vZiNpux2+2oVCqeeuopCgoKkCQJk8lEbW0tZrNZmTOHw0FDQwNtbW2oVCrGjh1LUlLSdeXz6na7OX36NCdOnOC2227j9ttvJyoqisrKSp577jneffdd5s+fT05OzoiWVPTPLnD27FnGjRsX0L7NZuPkyZN88MEHuFwu1Go1MTExSgBWsC1jr9dLT08PFy5cwOfzkZyczLJly4iPj8flctHS0kJ9fT12u12xxPf29nLmzBna29sxGo2MGzfuuiqf538fOjo6qKiowGQy8cQTT5CXl4fNZuOtt95iw4YNvPHGG6xduxa9Xi+2jAUCweCMZGCDXLJw3rx5FBYWKu9FREQoP0jyj1JISAhjxoxh4cKFLFq0qF9bY8aMCdimG8j6MtA20mA+NgNxufdCTrA7ffp0ZsyYEbQt/+uePn06GRkZREVFodfrh93vdzkYxW6343a70ev1qNVq5fuhUqlwuVxUVVWxa9cuJEli0aJFzJkzB6PRGLQtObjh0KFDnDhxAoCVK1cybtw47HY7Bw4c4K233mLfvn3MmzeP559/HrPZzLZt29ixYwfd3d2sW7eORx99tF/5tWv9IDOc70RoaCj5+fk89thjFBQUEB8fr6REWr58OceOHaOrqwu73a74tY7UeOTdgerqahYvXkxERETAHGo0Gnbs2EFLSwuRkZHMmzePefPmDehfa7PZaGlpYefOnVy4cIHc3FzGjx/PvHnz6Ojo4JNPPlHyfT788MPcd999SnaDL7/8kszMTJ577jkWL158TX14R+pvOCEhgeXLlwNQUFCARqNBp9ORl5dHdnY21dXV9PT0EBYWdtkPnUIQCgSCoM7cgxESEkJaWhpr16695LGygBpqzsGhXkOw7cFLnStbmYbTT9/zJ0+ezOTJk4d97uX2OVDAzfVgUb0Sent7sdls/YSKJEksXLiQ9vZ2du3ahc/n49ixYzz33HNKpZhgDxhOp5OPPvqIp556ip6eHrxeLx6Ph71792I2m/nxj39MXl4e77zzDtu3byc7O5sHH3yQm2++mWeffZbXX3+dVatWBQjCb4NgD0wDPURpNBomTZrEpEmT+m2lejwewsLCiI6Ovir5Ab1er1JpJjk5mfDwcOX6IiMjmTlzJnfeeSfvvfceFy5cwGAwsHz5csaPHz+g0LZYLGRkZLB+/XrlYdBsNlNRUUF3dzcvvPAC//RP/0RlZSU7duxApVLxH//xH5SWlvLzn/+cgwcPMmXKFFJTU0d8vEPhUg+7wXxkZfruSPifGxISQkxMDAaD4Yp2IMTehUDwHSMtLY2bbrqJiRMnolKpAhbOoT7NyoLkav4Lhpzbb9GiRYwbNy5ALPg7svcdS3Jycr9z+p43lLFf7fEF60+v17Ns2TImTZpEZGRkv89v1LQ2ZrO5X9k6+d6FhYUxZ84cnn32WXw+HyaTiW3btlFZWQn09/mTJAmNRsOUKVP4/ve/r7QXEhJCSUkJd911F2PGjMHpdNLR0YHH4yEvL4+cnBzCwsKIiopSglq+7fstSRIOh4P//u//pqCggLvvvhuLxTJgxHDf75zH46G1tZW33nqLW265hezs7BEPcpIkCbfbjdVqBS7uAmg0moBrDA8P5+mnn2b8+PFotVq++uor3nnnHdxu94DXrtVqWb16tRI8IUkS0dHRzJkzh3/4h39QcntWV1fj8/m49957iY6OJi4ujtDQUNRq9TXd8vf5LtZy3r9/P2vXrmX69Onk5+eTl5dHfn4+EydOJC8vj4kTJ1JcXMzatWv5/e9/r3yPg7Xnj81m49SpU5jNZh588EF0Ot0VCUJhIRQIvkN4vV6Ki4uZMGECBoMBrVaLz+dj/vz5/OlPfyIrK6uf6BhNSJLEpEmTeP755wkPD1e2Yb///e+zYMECZUtMPhYu/ogWFBTwk5/8RDkH4PHHH2fhwoVXHJl3NZEkidjYWP71X/8VvV5PSkoKKpWKefPm8eGHH6JWq68rn6ihIgct9fb2Bk1mrFKpSEtLY9myZWzatImGhgY2b95Mbm4u6enphIeHB1i95YU0MTGRuXPn8sorryjfj4iICADOnj3Lnj170Ov1TJs2jYyMDNRqNWazmfr6eqUG9bdtmZUDmyorK6msrMRut3Po0CFmzpx5yWhhn8/H6dOn2bRpExkZGTz22GNkZ2dfFYuz1+vF6XQCYDAYlAcxeV5CQ0PJyspizZo1dHd3U1VVxZdffsmUKVO48847A46VCQ0NJTU1lVmzZnH69GngoqiXXVVOnTpFb28vEyZMYMaMGcTExGC326mrq8Pr9RIXFxeQKP5aoFarycnJYfny5VRUVFBVVcWiRYt4+umnle+lzWajvr6esrIy/vCHP/D555/z5JNPUlxcrHw/++J2u/nkk0+orq6mpKSEO++884r9k4UgFAi+Q0iSRGJiIklJScprgJSUFFJSUr7NSxsSkiRhNBoDfMV8Pp+yLRZsUZMkiZiYmH7+ZcG20kYbsjVsypQpymuA1NRUUlNTR/W1XyldXV10d3cTHh4e9HO9Xk9+fj5PPPEEv/nNb6itrWXr1q2kp6ezePFi5Th/i154eDi5ubmUlJSQkJCg1EiWS6ydPn2aOXPmkJmZiU6nw2q10tnZicvlYv78+SMaeHElHD16lK6uLjIzMzGbzXz44YdMnDhxQEEo34Oamhp2795NW1sbTz75JEVFRcoDEoxsJK7H41EqE8XExPTz25OttkuXLuXQoUPU19dz6tQp3n//febNm0d0dHSAwJGvTaPRsHjx4qC/WSdPnsTr9TJx4kTGjx+vzO2hQ4fQ6/XExsZe8zkMDQ1lzJgxzJgxA6PRqPhw3n777YrgdTgctLa2EhMTQ1tbG19++aWy3S9///3nxuv1Kum+MjMzWbp0acDvweXOo9gyFgi+I8jO3PLW17dt6Rgu/tfb9/+Djcf/vcHGOtrvw2DbzNfjPA4FSZJobm6mu7tbSSsSDKPRyIMPPsisWbPQ6/V8/fXXbNu2jcbGRuUYf9EcGhpKSkoKP/zhDxk7dixhYWFI0sWI5u7ublwuFyUlJcrWY0dHB62trURFRbF48WJ0Op0irq6lGPfv02azcejQIdRqNfPmzcNisfDFF1/02zb2P8fn81FbW0tpaSn19fXccsstLF68OEAMjvSYnE6nUsHIYDAQGhoa9Puanp7OkiVLmDx5Mh0dHXz99dd8+OGHAQnd/ZEkidmzZ3P77beTn58f8NmpU6cICwsjOTkZg8GA1+ult7eX8vJy4uLiiImJCdj2v9rz6D9eOdjDv0//rfC0tDTmzZtHcXGxMqc9PT39rKROp5OysjJ2796tBOtNnDhxRMYhBKFA8B1jpPzbvg36iryhjGGk/fquJdfztV8J8rao0+lkwoQJAx4XEhJCQkICDz30EDk5OXR2drJ3714+++wz3G53QFSr/CAUHR3NihUrSElJUaxWFouFjo4OwsLCmD17trJN19zcTF1dHdHR0eTn5yvBGPLi+21YaBsaGqipqSE5OZmFCxcSFRVFY2Mj7e3tuFyufkLH5/PR0dHBl19+SVVVFZMmTeKuu+5SxKXNZlP89kZyPHa7HbPZrPgP9v27lVGpVJSUlLBs2TISEhJobW3lpZde4uTJk4qF0f88SZJISUlhypQppKenK2OUI8/1ej3R0dHAxW3VtrY2Tp8+TXp6OjExMTgcDux2+6izrkuSRFRUFGPGjFHmxuVyBRzjcDioqalh48aN6PV6SkpKKCwsVB5oHA7HFV2DEIQCgUAgGFV4PB56e3tRq9WkpaUNeqwkSdx5553MmTOH2NhYjh07xttvv43JZBryot/W1kZVVRXh4eFkZWUpUbdms5nOzk4MBgMej4fa2toAq83VFuKysPPv5+uvv0alUpGdnU1+fj4lJSVYrVYOHjxIR0dHwPlerxev18sXX3zB119/TUZGBkuXLsVms9HT08PRo0eVdCUjLZAcDgednZ1ERUUNat32+XxER0ezZMkS7rnnHtxuN9XV1bz77rucP39+SKl95BJ5VVVVREdHK+4hbrebzs5OfD4fubm5hIaGUl9fT3Nzc0Cbo0Uc2u125XufkZFBeHi4YlX0er00Njbyxhtv0NnZydKlS8nIyMBisVBfX8/evXtpbm5WxP3lIAShQCAQCEYVHo8Hj8dDeHg4CQkJgx6rUqnQarWsW7eOm2++GZfLxYkTJ/jVr341ZItJc3MzlZWVxMbGKmJQTucBUFdXx8svv8yLL75IdXV1QMWda4nT6eSDDz4gKSmJGTNmEB8fz6xZs3C73bz55pucP3++nxhobm7m5ZdfpqGhgXPnzrF+/Xp+//vf87vf/Y6f/vSnlJeXK5a4kRS4DoeD7u7uoLXNg5Gbm8vChQvJysrC5/Px3nvvcfz48QAr4UC4XC7Onz+Py+Vi6tSpZGZm4vP5lO8GXEya/1//9V9s3bpVsR5/mwTr//Tp05SVlREVFcXDDz8cEAAjW783bNiATqdj69atyly++OKLvPTSS/T29ipptS4HEVQiEAgEglGFnDpIp9NdMipUFhvjxo1jwYIFVFdXc+rUKbZv384DDzzAlClTBgxMgYsLc3h4OIWFhcTGxiqBJgBFRUU88sgjZGRkMGXKFFatWkVaWto1r1bi8/lwu93U1NTQ2dnJ+PHjycnJQZIkxo8fD1zcSrZarQFCw2Kx8Je//IX6+np6enqoqKgISJ/T1dXFHXfcMSRf2+Hicrno7e0NSJQcrH3ZAqjVaikqKuLJJ5/k2WefpaOjgz/+8Y8YDAYWL1484LXJVtTQ0FBWr17N7NmzlS1jrVZLXl4ev/71r5Xo44KCApKTk0dsnJeL/3jMZjNfffUV7733HiaTiaeeeopHHnlE8WUFqKysZNOmTfT09PDRRx8FpApyOp0YjUbFT/NyEYJQIBAIBKMKl8ulWAgHqj4CgYuqTqejpKSE6upqjh8/TlNTE6+88gq//vWvyc7OHvA8uCgm16xZo1RFkYmKimLWrFlkZGRgNBoZM2ZMQBqca+m76XA42LFjBxqNhvj4ePR6PV6vl4SEBBISEmhvb6ehoYHe3l4ldVRYWBhLliwhLy8Pu92utOUf1DBt2jQl2GKk8Pl82O122tvbA3LjBdv+9Y8kTkhIYMGCBZSUlLBv3z7KysooLy+nqKioX3CRLGplMZmTk8Ojjz5KYmKiYuWV/fLuuusuLBaLUh6vr6C/1j64u3bt4qGHHlLmweFw0NjYiF6vZ8WKFdxzzz0BlnFJksjJyeGpp55i9erVQduMiIggJSXlih5WhCAUCAQCwajC4XDg8/nQ6/VEREQM6IPW93V2djYlJSUcPnyY/fv3c/r06QAhFAxJupjrMTY2NiAQQw5G6Zvm6FqLB9l/TE4vU1hYSEZGBpIkERISQmxsLAsWLGDLli2Ul5czefJkJQWTRqNh5syZSplFuT3/sVyt8fT09FBfX8+MGTMGTXzt379GoyErK4vHHnuMEydO0N7ejsViwe12D3qufB9iY2OBwDGGhISMCougPwaDgaysLOW13W4nNDQUs9nMmTNnKC8vJy0tTYmCB0hKSlLShUGgqB+pORSCUCAQCASjCtkXSqPRBE1MPRBy1PHYsWM5fvw4S5YsGXIi4r5i8NvGX9TY7XZqamo4fPgwS5YswWq1cvLkSeCi8JowYQKffvopZWVlLFiwgEmTJl2y/as5Rp/PR09PD62treTl5SmC8FJ9yta+vLw8NBoN2dnZZGdnX3ay/NEwj8GYOnUqv/zlL5XXVquVU6dO8cEHH7B161aOHz+OwWCgpKRESbIOwct1jiRCEAoEAoFgVNHZ2YnT6Rz29ld3dzdHjhzhm2++YerUqTz11FOXDErxx+v1YjKZUKlUREZGBtT4/TbFRUdHB6Wlpej1es6dOxdg9fR4PHR0dOB2u6mrq6O1tRW32x1glZOFhFxOzm63ExsbOyyxPRzkflwuF2lpaUPux+v10tnZyZYtW5AkiRUrVjBnzpxLCkJ/oWS327FYLISEhGAwGK7aGEcKSZIIDw9n6tSpaLVa7HY7GzZs4Fe/+hUFBQUBlkTZWnzhwgU0Gg0REREjmmhbRBkLBAKBYFTR2dmJw+EYVBD2TS7s9XopKyvjs88+IywsjF/+8pckJiYGbWOgpMQ9PT289tpr/PWvf+XcuXOXlW+w73UN9d9gNDY28s477yjWMrVarfzTarXEx8ej1Wppa2vj/PnzmM3moO23t7fz1Vdf8fbbb19xROpgY3a5XDidTjQaDUlJSYo4DTZO//MsFgtHjhzh5z//ORMmTGD16tUBSZcvdf98Ph/nzp1jy5YtfP7550q+weEmoR6peRtozAORmZlJYWEhNpuN8vJy6uvrsdvtASl6ent7ef3119m2bRstLS0jajEUFkKBQCAQjCq6u7txOp2XtO74b6XV1dXx/vvvU1NTw3333ce0adOGZR3yeDy0tbWxYcMGioqKmDlz5mVbBftWoui7aA+1XVkkNTQ00NbWxi9/+ct+FjM5WXZ7ezsffPABhw8fpqysjOXLl/drq7a2ls2bN3Pq1CmefPLJEQ8kkdtzu904nU4kScJgMAypxq5cYu4///M/SUlJ4fnnnycvL2/YfZeXl7Nx40YKCgqUmshXQt+5DNbnUNoYyncgJCQkIFLYbrcHpDhyOp3U1tby2mtfzFTcAAAThElEQVSvcddddyklLUcKIQgFAoFAMKpoaWmht7dXEXRer3dQ53mr1cqGDRs4evQo8+fPZ82aNQGRpjJ9F2X/xM9ympsVK1Ywe/Zs0tLSBhQDQ8W/P7fbTUVFBZ9//jlms5l/+7d/U0rHDRY009DQwNGjR4mLi2P27NkkJCQEWD3lMdxyyy2UlpZy9uxZqqurWb58OV6vV0lsDP9f/zk7OzugeshI4N+W0+lUAiXi4+OHJOyPHz/O5s2bMZlM/OIXv2DixIlotdpLCq++cxoXF8e8efOURNTBjr+ccft8F6uHlJWVsXnzZu69916mTZs2YP1of4ZSUUiSJDwej1KdRPan7Hvv1Go1y5Yt49Zbbx2WO8RQEIJQIBAIBKOKU6dOAZCYmDjoAi5vT7711lvs2LGDwsJC7rvvvgAxB5cWdHIS49jYWNatW0dCQoISsSp/Ll/HUMSE/zFut5vKykpKS0vZvXs3VVVVpKSkBGzXDjRGj8fD8ePH2b59OwkJCUFTpsjk5+cTGRlJTU2NstXY178sLS2NZcuWKRHUVwur1YrVasVgMKDX6y+Z57CxsZFPP/2UgwcPMnfuXFasWIHBYOgn5geyuMpIkkRhYSFZWVkBFVLkez3ciFy5n66uLiorK9m5cyd79uzh+PHjzJ07l6lTpw65raF8B1tbWzl37pxSczs+Pl4prwgXxWBycjLr1q0jJSVFybc4UghBKBAIBIJRgSy86uvr0ev1pKWlDbqIOxwOqqqq+Otf/4rRaGT58uUUFRUN2ofZbObjjz8mPDyc4uJiEhISuHDhAhUVFRw/fpzw8HBWrlypWBjtdjsmk4mGhoYhiYmkpCRSU1MVq+ORI0eora3FarXS09PDuXPnlM/9gyGCicKmpia++eYbqqqqKC4uHrT/qKgo1Go1FouFM2fOcOzYMWbOnAmAzWZT2omIiGDu3LlXbP0cjN7eXiwWC9HR0f1EXN/XdrudHTt28OWXX2IwGHjggQcCcg4Gs/A2NjZy8OBBEhISmD17Nh6Ph66uLr766isaGxsZP3488fHxyvFut5tTp05htVovOV61Wk1sbCypqamoVCp6e3s5deoUFRUVOJ1Oent7MZvNeDyeYd07p9M5oM+mw+GgqamJzz//nN27d5OYmMiaNWsCrKttbW0cOXKEqqoqkpOTSU9PD0iiPhIIQSgQCASCUYMcoZqYmKgIg2AWIbfbTVNTE2+++SZtbW0888wzzJkzh7CwsH7iSj7f6/VSX1/Pz372M4qKisjOziYhIYHe3l6++uorXnjhBdLT05kxYwZjxowBLgaaHDp0iE2bNg3p+m+77TbuvfdeQkJC8Pl8NDU1ER0dzcyZMwkLC2Pfvn0Bxw9k9WptbWXHjh3s27dP8RGsqKhg0qRJAZVXPB4PZrOZY8eO0dXVhdfr5cSJE2zatIn4+HjS0tJwOp2UlZXxxhtvYDQaGTduHKmpqUMaz+VgtVqx2WxERET0+8x/nF6vl8OHD7N582asVivf+973uOmmm4DBhWp5eTnr16/n5ptvZvbs2Xi9XiwWCx9//DFbt27l/vvvJzs7m5iYGHw+Hw6Hg02bNlFTU3NJAWUwGJg9ezarVq1Cq9XicDiwWCwkJiayaNEi1Go11dXVQ74XHo+Hzs5ODh48SGdnJwD19fVs27ZNOcZisdDY2Mi+ffuwWq3ccccdrFu3LiBlktlsZteuXbz00kssWLCA/Px8JXemyEMoEAgEghsOj8eDz+cjOjpaWdCDOfSbTCZ27drF+vXrefjhhykpKVESEA8kBru6ujh79ixNTU3cfffdirBKT09n9uzZSh5DtVqt9Ot0Omlqauon5AaisLBQOTckJISVK1ciSRJut1uxCA60/ezvz3jkyBE+//xz6uvrSUpKwmq1snHjRsaMGUNWVpZyrsPh4MyZM2zatAmv10tWVhYhISEcOXKEnTt38uCDDxIdHU1RURF79+7F6/X2q9xyJQTzy3Q4HDgcDsLDw/vNhf/xnZ2drF+/nrq6Ou677z7uv/9+pbRe3zblf1arldLSUsxms+KDqVarSU1NZfr06Rw4cID4+PgAK6Pb7eb48eNUVFRcMio3Li6OpKQkxW81Li6OkpIS4GKU9nC3nZ1OJ1VVVfztb3/D4/GQk5PD2bNn+cd//MeA4/Lz85k0aRKrV6+mpKSkX/7M9PR0iouL+e1vf0t2dvaQfBeHixCEAoFAIBg1uN1uvF4vERERA9YgdrvdlJWV8Zvf/IakpCT++Z//+ZIix+VycfDgQX7729+iUqmIj49XFlW3243dbken03HHHXcQExOjnJeUlMTjjz/OunXrgKFtsV6Jf54sChctWsTChQuV9wcSIjqdjhkzZjBjxgwlIlX2EfQXoG1tbbjdbpKTk4mMjBxRy1JfZB/CYBVK5D5tNhsbN25k79693H///axateqSScTtdjvbt29n69atOByOAP86gObmZoxGI0lJScrcSpJEdHQ077333rDE3Ej5WOp0OubOncvs2bMD3g8meuX3g12jw+Ggq6uL0NBQiouLh5xwfTgIQSgQCASCUYPL5cLn82EwGBSneX/x4vV6+eyzz3j11Vepq6tTEhgPFGzhL4psNhsXLlzA6/ViNBoVQWGxWDCZTGg0GoqLi5W0Lv6WvksFRsjH+//3UkEQfc/1jwoOJgz6Bkn41wgGlJQl/lZI+fOjR4/S2NhIfn7+JcdxpfT29tLd3U1iYuKAn+/bt4+XXnqJpqYm/vjHP/LBBx+g0WgGTc8ibw23trYqPnTyOF0uF/v370eSpADB61/eTm5vOFHLfa/hcglm+QzW70DHXLhwgVOnTqHRaBg/frywEAoEAoHgxsZmsxEaGoper++XGsXn89HQ0EBpaSn79+/H5XIhSRJnzpwZkuiSxVJoaCjh4eGKSDCZTNTW1mIwGMjJyQmoIWuxWKirq6OiomJI1z9hwgQKCgoChN1Q8LfqBWOwqOlgW+T+AStyLkOtVktubu6wtz2Hi8lkwmw2M2fOnH7X6fF4OH36NC+++CLnz5/H7XbT3t5Oe3v7kNqWrzs0NFQR6nK1lvr6eqZNm0ZSUlJA0I7D4WDPnj2KD99ghIWFkZ6eTmFh4aiqctLe3s65c+dISUkhKSmpn3V0JBCCUCAQCARXHdlCZzKZSElJ6bclJ4sXs9mMJElBIyhln77o6GhmzJihvDfUag3+gjAtLU1ZVFtbW6muriY6OpqIiIgAIdDT08PBgwf5wx/+MKQ+1qxZQ15eXr/xeb3efmKt73UPdE/kc4L9f7DXfc/v6uqip6eHpKQkJk6cGHDPhpIOxR+z2YxGo0Gr1Qa1ynq9XsxmMzabjczMzKCf+3w+wsLCuOWWW4L2MRQyMjJITU1VUg81NzdjsVgYN24cycnJAeNyOBy8//77VFVVXbIvo9FISUlJ0DkMdu5QLIqDzd1A5/a1Nnd2dtLa2kpOTg46nW5IFuvhIgShQCAQCK4aPp+P7u5uzp07R0VFBQ0NDfzgBz8IqGDhH/hhMpnwer0B27TyMbI/WElJCRMnTrzsa5IkidzcXMLCwvB6vTQ1NSnpPFQqFe3t7ej1enQ6nZKGZPz48UNqe8yYMf389wa6L/7/DbawX85iH6y/5uZmrFYrubm5ZGRkYLfb8Xq9AcJiMNxuN93d3Zw4cYLDhw+TmZnJ1KlTlfQ5fY+V07skJSX1a0ulUpGSksIjjzxyyW3UwYiMjFT8Rp1OJ6dPn8bn85GZmUlUVBRWq5WQkBA0Gg0hISFkZGQAlxafBoOB+Pj4IV1X3635YAzHQuzfrj9utxuTyURbW5tiuTSbzeh0uhHdOhaCUCAQCAQjjs93saRaXV0dNTU1lJaWsnXrVtra2pgyZQpz585VfPX8F0OTyYTH4xnQOhMbG0tsbOxlb3v2XcTdbjcdHR00NzeTkZFBXV0dzc3NjB8/ntTUVIxGI7fddhu33XbbsPuSRaFs2XQ4HPh8PqW026UqsFwpcrttbW1KXV+TyURTUxNjxoxBq9UOGjzh8/no6uqivr6eyspKduzYwXvvvUdRURE//vGPlVrR/tfvdDpxu91otVqMRmO/9lQqFQkJCaxcuVLp+0qFr8vl4vz58/h8PpxOJ3V1dYSGhpKUlITRaCQ8PJyf/vSnw+6nb4oct9uNxWJRop2dTmfQNEcjQd/xdXV10dnZSWhoKHV1dZjNZrKzswPcG66Uq5eqXCAQCATfaXp7e/nLX/7C22+/TUtLC0ajEZPJxL//+79TX18fsOjJQRXt7e14PJ5+/ltXYk0KhiwMVSoVcXFxJCYmcvbsWd58803Kysro6uoakT48Hg82m42GhgYlcMVut9PQ0EBXVxcul2vAhMWXQ7Do1bi4OAwGAydOnOD111/nb3/725ADXU6ePMmGDRv43e9+R2JiIjqdjvLycg4fPozZbA44Fi6KF5fLhVqtxmAwDNj2SFZKkV0AwsLC+OKLL/jf//1f9u/fHxBYciXfHafTSVdXF83NzUolkdraWurr67HZbDidTuXYqyHu1Wo1RqORyMhI9u/fz5///GdOnDiBxWIZ0X6EhVAgEAgEVwWdTsfatWvR6/VotVo+++wzdu7cycGDBzl79ixpaWlEREQE+EOdP38ep9M5qGC40kW3rw/dwoULiY+PZ8+ePSxdupSxY8cq1ssr7aelpYWdO3fS1NREWFgYjz/+OCEhIWzbtg2VSsXixYuVIJSRRh7j5MmT+dGPfkR1dTXJycnceuuthIeHX7JPSZLIycnhmWeeIS4uDrVaTXNzMx9//DHbtm0jIyODhx9+OEBc2mw2HA6HYiG8multZCIiIli+fDlut5ve3l6KioooKCjoV7rvcvD5fBw6dIg9e/bg9XoZN24cmZmZhISEsGXLFuLi4igoKGDu3LkjMJL/x/87GhISQklJCTExMRw8eJA777yTjIwMJQ/jSCEEoUAgEAiuCmq1moyMDMUfcNKkSdx1111s3bqV9evXYzQaKS4uBi4ugF6vl6NHj/ZLLOzPlTrT+2/jykRFRTF9+nRyc3OJiooiLCxswO3MofqWycTHx7N06VJcLlfQY6OjowdMmXO59B1jWFgYM2fOZNKkSajV6iGLXUmSMBqNREdHKylhHn30USoqKqisrKSsrIwlS5YEpJfp6elREov3HddwgiuGQ0hISIAoDA8PH1AsDWf+ZMtiQUEB6enpQY+TI9ZHkr7zJ0kSsbGxFBcXU1hYiNFoRKvVjrjQFoJQIBAIBCOOvJj6W2nS09NZu3Ytn376KQcOHOCbb75hwoQJSgkuj8dDbW0tN910E3FxcUo7V+Pa/JEFRbBSa1favlarJSEhYUTavdxrgItBGJdj9eybXLqwsJCSkhJMJhP79+9n8+bNPPHEEwERzS6XS7mXlyOoh0Kwdvv6LI5U2waDYdDt76tB32sIDQ296tchfAgFAoFAcE0wGAzMmjWLFStWAPD3v/+d8vJyACXYwmKxEB8fH5CUWjA6kCSJiIgIli1bRn5+PmfPnmX79u00NTUpfpDd3d24XK6gEcxXe+tYcGUIQSgQCASCa4IkScTExPDDH/6Q1NRU9u7dy86dO2lrawMuRvwCSmSozGDpWwTXnilTpjBnzhyio6M5ceIE27ZtU+bOYrEoUcbBAlwEoxchCAUCgUBwzVCr1cyaNYspU6agVqspLy+ntLRUSevh8/mIioq6KqW5BCODXq9n4cKFLFq0iJaWFv70pz8ptZJ7e3txOp1XpZKG4OoiBKFAIBAIrhkqlQqtVsvTTz/NlClTKCsrY8uWLdjtdsXKFBcXN+KO+oKRQw60KC4uJiIigsrKSrZs2UJ7e7uyZRwWFtbvHLFlPLoRglAgEAgE1wx5+7egoIAJEyYQFhbGN998w+uvv05PTw9hYWEDlkUTjB60Wi0zZ85k9erVWK1WXn31VRobG6mtrcXtdpOVlfVtX6JgmAhBKBAIBIJrjk6nY/Xq1SxYsIDz58/z8ccf09bWRmhoKKGhoQF+g8K6NDroOycZGRnceuutJCUlUVtby+bNmzl06BCSJBEfH98v8bhgdCMEoUAgEAiuGf6VIwoLC5k5cyaRkZEcO3aM1157DZvNFpB/TQjB0Yter6egoIBVq1bh8/n46KOPOHHiBDqdTikvKLh+EIJQIBAIBN8KkZGRzJkzh5tuuon29na2bNmCw+EYkXJjgpGn75yoVCqSkpK45557SE9P58yZM7S3txMeHk50dLSYv+sMIQgFAoFAcE3wF3qSJKFSqSgqKmLFihXExcXR3d0dULNYbDOOTvznUKfTkZ+fz9KlS4mMjMTr9RIWFhaQmFqI++sDIQgFAoFA8K0RHh5OQUEBy5cvVxIf+weUCFE4upHn7MknnyQnJwetVoterxdR4tchQhAKBAKB4FslNzeXhx56CJVKxfTp05UqJYLrg5CQEMaNG8eiRYvIz8/HYDCIKPHrEDFjAoFAIPhW0Wq1TJw4kVdeeYW0tLSgEapi23F0o1Kp+N73vkd6ejrp6enf9uUILgPJJ+zxAoFAIPiWkJcgt9uNyWRCrVZjMBhQq9X9jhWCcHQiz6HL5aK9vR2NRoPRaBTzdZ0hBKFAIBAIBALBdxzhQygQCAQCgUDwHUcIQoFAIBAIBILvOEIQCgQCgUAgEHzH+T+qd0pEJQIUFQAAAABJRU5ErkJggg==)"
      ],
      "metadata": {
        "id": "GmC40_y2guwl"
      }
    },
    {
      "cell_type": "markdown",
      "source": [
        "* Numerator: dot product of the two vectors\n",
        "* Denominator: product of magnitudes of each vector\n",
        "\n",
        "The result is a similarity score between -1 (exact opposite) and \n",
        "1 (similar). A score of 0 means that the vectors are orthogonal,\n",
        "i.e. have no correlation.\n",
        "\n",
        "We can use arithmetic operations on word vectors to form new words.\n",
        "In theory, this means that if we add two word vectors together, we\n",
        "should get a new word that is the sum of the meanings of both words.\n",
        "Think of the `king – man ≈ queen – woman` analogy - both terms should yield a word embedding representing some kind of gender-neutral monarch. Note\n",
        "that:\n",
        "* Word embeddings are limited by their dimensionality, training \n",
        "biases and the completeness of the training data. \n",
        "* Whilst the idea makes sense in theory, often the newly computed embeddings \n",
        "is actually closest to one of the original words - so an exclusion criteria can be applied in practice to avoid this.\n",
        "\n",
        "We implement an algorithm such that the analogy `A is to B as C is to D` holds.\n",
        "1. Choose and instantiate a Flair embedding class.\n",
        "2. Obtain embeddings for the words `A`, `B` and `C`.\n",
        "3. Compute the approximate embedding `D ≈ B + C - A`\n",
        "4. Obtain embeddings for all English words in Flair.\n",
        "5. Find the closest matching word."
      ],
      "metadata": {
        "id": "cIdGtRm6hXKy"
      }
    },
    {
      "cell_type": "code",
      "source": [
        "from flair.embeddings import WordEmbeddings"
      ],
      "metadata": {
        "id": "WyljRoKlguQa"
      },
      "execution_count": 2,
      "outputs": []
    },
    {
      "cell_type": "code",
      "source": [
        "# Word embeddings trained over web crawl data\n",
        "fasttext = WordEmbeddings(\"crawl\")"
      ],
      "metadata": {
        "colab": {
          "base_uri": "https://localhost:8080/"
        },
        "id": "jJjBWeNsif7I",
        "outputId": "a1614ae9-493e-4412-e420-6714beefd4a1"
      },
      "execution_count": 4,
      "outputs": [
        {
          "output_type": "stream",
          "name": "stdout",
          "text": [
            "2022-06-21 23:12:54,658 https://flair.informatik.hu-berlin.de/resources/embeddings/token/en-fasttext-crawl-300d-1M.vectors.npy not found in cache, downloading to /tmp/tmptw81qqvb\n"
          ]
        },
        {
          "output_type": "stream",
          "name": "stderr",
          "text": [
            "100%|██████████| 1200000128/1200000128 [00:46<00:00, 25618044.87B/s]"
          ]
        },
        {
          "output_type": "stream",
          "name": "stdout",
          "text": [
            "2022-06-21 23:13:41,890 copying /tmp/tmptw81qqvb to cache at /root/.flair/embeddings/en-fasttext-crawl-300d-1M.vectors.npy\n"
          ]
        },
        {
          "output_type": "stream",
          "name": "stderr",
          "text": [
            "\n"
          ]
        },
        {
          "output_type": "stream",
          "name": "stdout",
          "text": [
            "2022-06-21 23:13:47,846 removing temp file /tmp/tmptw81qqvb\n",
            "2022-06-21 23:13:48,615 https://flair.informatik.hu-berlin.de/resources/embeddings/token/en-fasttext-crawl-300d-1M not found in cache, downloading to /tmp/tmprp3ab5ic\n"
          ]
        },
        {
          "output_type": "stream",
          "name": "stderr",
          "text": [
            "100%|██████████| 39323680/39323680 [00:02<00:00, 14543863.41B/s]"
          ]
        },
        {
          "output_type": "stream",
          "name": "stdout",
          "text": [
            "2022-06-21 23:13:51,684 copying /tmp/tmprp3ab5ic to cache at /root/.flair/embeddings/en-fasttext-crawl-300d-1M\n"
          ]
        },
        {
          "output_type": "stream",
          "name": "stderr",
          "text": [
            "\n"
          ]
        },
        {
          "output_type": "stream",
          "name": "stdout",
          "text": [
            "2022-06-21 23:13:51,797 removing temp file /tmp/tmprp3ab5ic\n"
          ]
        }
      ]
    },
    {
      "cell_type": "code",
      "source": [
        "from flair.data import Sentence\n",
        "\n",
        "def compute_embedding_for_D(A, B, C, embedding):\n",
        "\n",
        "    wordsABC_sentence = Sentence(' '.join([A, B, C]))\n",
        "    embedding.embed(wordsABC_sentence)    \n",
        "\n",
        "    A_embedded = wordsABC_sentence[0].embedding\n",
        "    B_embedded = wordsABC_sentence[1].embedding\n",
        "    C_embedded = wordsABC_sentence[2].embedding   \n",
        "    D_embedding = B_embedded + C_embedded - A_embedded\n",
        "\n",
        "    return D_embedding.tolist()"
      ],
      "metadata": {
        "id": "MLnyPuNOihgY"
      },
      "execution_count": 5,
      "outputs": []
    },
    {
      "cell_type": "markdown",
      "source": [
        "Given our King is to man as queen is to woman analogy, the resulting embedding should be similar to the embedding of the word woman."
      ],
      "metadata": {
        "id": "rpngxmw3jYwg"
      }
    },
    {
      "cell_type": "code",
      "source": [
        "# Embed words by wrapping it in a `Sentence` object\n",
        "D = compute_embedding_for_D('king', 'man', 'queen', fasttext)\n",
        "\n",
        "print(D)"
      ],
      "metadata": {
        "colab": {
          "base_uri": "https://localhost:8080/"
        },
        "id": "FmKG7mLEjSLj",
        "outputId": "80d5f117-ec02-41ea-ab84-1441165fd303"
      },
      "execution_count": 6,
      "outputs": [
        {
          "output_type": "stream",
          "name": "stdout",
          "text": [
            "[0.13569998741149902, -0.3856000006198883, -0.1022999957203865, -0.13539999723434448, -0.01410001516342163, -0.04699999839067459, -0.10929998755455017, 0.01759999990463257, 0.01919996738433838, -0.04389999806880951, -0.09710001945495605, 0.3399999737739563, 0.18649999797344208, 0.22010000050067902, -0.32850000262260437, -0.031500011682510376, -0.15630000829696655, 0.2533000111579895, -0.1753000020980835, -0.22199997305870056, -0.09129999577999115, 0.03869999945163727, -0.2296999990940094, -0.382099986076355, 0.2353999763727188, -0.22460001707077026, -0.4235000014305115, -0.19739998877048492, -0.03290000557899475, -0.062199998646974564, 0.11219999194145203, -0.1899999976158142, -0.0601000040769577, -0.4790000319480896, -0.08500000834465027, -0.22340001165866852, 0.09390000998973846, -0.0032000020146369934, 0.22579999268054962, 0.04739999771118164, 0.14300000667572021, -0.042600005865097046, -0.10939997434616089, 0.1727999895811081, 0.5296000242233276, 0.029300004243850708, 0.10900001227855682, -0.13749998807907104, -0.11400000751018524, -0.16329999268054962, -0.01900000125169754, -0.18439997732639313, 0.3712000250816345, 0.12319999933242798, 0.16859999299049377, -0.5647000074386597, 0.03739997744560242, -0.12800000607967377, -0.09180000424385071, 0.0195000022649765, 0.1639000028371811, -0.05170000344514847, 0.16899999976158142, -0.20719999074935913, 0.33219999074935913, 0.0820000022649765, 0.10909999161958694, -0.2645000219345093, 0.3513999581336975, -0.36329999566078186, 0.07149999588727951, 0.061500005424022675, -0.06339997053146362, 0.42190003395080566, -0.26510000228881836, 0.1898999959230423, -0.3935999572277069, 0.03279999643564224, 0.18070000410079956, -0.22830000519752502, 0.20569999516010284, 0.2700999975204468, 0.13920000195503235, -0.13859999179840088, -0.48990005254745483, 0.00039999186992645264, -0.5335000157356262, 0.29679998755455017, 0.09250000864267349, -0.023000001907348633, 0.10109999775886536, 0.18119998276233673, -0.18230000138282776, 0.2312999814748764, -0.012299999594688416, 0.06610000133514404, 0.10820001363754272, 0.16930000483989716, -0.09489999711513519, -0.07959999144077301, 0.24090000987052917, -0.07489998638629913, -0.13439999520778656, -0.16519999504089355, 0.1241999939084053, -0.10220000147819519, -0.4728999733924866, -0.003000001423060894, 0.36809998750686646, 0.4222000241279602, 0.06700000166893005, -0.35350000858306885, -0.44999998807907104, 0.058799996972084045, -0.15950000286102295, -0.12940001487731934, 0.18219998478889465, 0.19200000166893005, 0.26980000734329224, -0.16990000009536743, 0.16619999706745148, -0.2190999984741211, -0.11339998245239258, 0.0861000046133995, 0.13619999587535858, -0.33059999346733093, 0.34459999203681946, 0.4656999707221985, -0.3569999933242798, -0.22699999809265137, -0.4340999722480774, -0.24689999222755432, -0.07999998331069946, 0.2902999818325043, 0.12290000170469284, 0.030199993401765823, 0.22779998183250427, 0.2540999948978424, 0.3660999834537506, -0.4909999370574951, 0.006399989128112793, -0.28130000829696655, 0.061799999326467514, -0.05349999666213989, -0.3140999972820282, 0.3012999892234802, 0.22749999165534973, -0.052900005131959915, 0.5480999946594238, -0.3084999918937683, 0.22029998898506165, 0.32820001244544983, -0.10369998216629028, 0.010700017213821411, 0.11110000312328339, 0.4567999839782715, 0.11200001835823059, -0.07300000637769699, -0.1348000019788742, 0.021499991416931152, 0.7824000120162964, 0.10830000042915344, 0.40610000491142273, 0.17579996585845947, -0.12430000305175781, -0.027599990367889404, 0.19509999454021454, 0.2708999812602997, 0.14139999449253082, 0.19419999420642853, -0.030399978160858154, 0.11330000311136246, 0.04609999805688858, 0.03149999678134918, 0.08179999887943268, 0.015000000596046448, 0.5069999694824219, 0.029799997806549072, 0.030400000512599945, 0.260699987411499, -0.06319999694824219, -0.17500001192092896, 0.030000001192092896, 0.6043999791145325, 0.21940001845359802, -0.07130001485347748, 0.3111000061035156, 0.3287999927997589, 0.25679999589920044, -0.34610000252723694, -0.06669998168945312, 0.11800000071525574, -0.2653000056743622, 0.22769999504089355, -0.1736999899148941, 0.3375999927520752, -0.30900001525878906, 0.23650000989437103, -0.041499972343444824, 0.11309999972581863, -0.36390000581741333, 0.3375999927520752, 0.45210000872612, 0.1623000055551529, 0.4625999927520752, 0.9366999864578247, 0.02809998393058777, 0.21289999783039093, -0.10910001397132874, 0.25870001316070557, 0.057500001043081284, 0.627799928188324, 0.10140000283718109, 0.01690000295639038, -0.18410000205039978, -0.4505999982357025, 0.1673000007867813, -0.20250001549720764, -0.06119999289512634, 0.10620000213384628, -0.41940000653266907, 0.2602999806404114, -0.19329999387264252, 0.20020000636577606, 0.18850001692771912, -0.18389999866485596, 0.20799997448921204, 0.13610000908374786, 0.10339999943971634, -0.020599961280822754, 0.11869999766349792, 0.24410000443458557, -0.05410000681877136, -0.11759999394416809, -0.09880000352859497, -0.20149999856948853, -0.0008999966084957123, 0.0729999840259552, 0.35269996523857117, -0.2075999677181244, -0.05269999802112579, -0.10240000486373901, 0.3337000012397766, -0.013799998909235, -0.2475999891757965, 0.056199997663497925, 0.318200021982193, 0.4154999852180481, -0.23600000143051147, 0.13840001821517944, 0.0559999942779541, 0.42309999465942383, -0.5293999910354614, -0.029600024223327637, 0.24799999594688416, 0.5683000087738037, 0.1207999587059021, 0.23490002751350403, -0.08840000629425049, 0.03289999067783356, 0.1889999806880951, 0.19779998064041138, 0.01759999990463257, 0.5871000289916992, -0.04730001091957092, 0.027900001034140587, -0.2978000044822693, -0.3158000111579895, -0.21140000224113464, -0.4916999936103821, -0.4211999773979187, 0.14720000326633453, 0.27889999747276306, 0.1665000021457672, -0.3366999924182892, -0.18129998445510864, 0.1136000007390976, 0.18049998581409454, 0.2264999896287918, 0.008899994194507599, 0.11159999668598175, 0.07720000296831131, 0.0013999976217746735, -0.04469999670982361, 0.08750000596046448, -0.24770000576972961, -0.04030000418424606, -0.20590001344680786, 0.25600001215934753, -0.07600000500679016, 0.2798999547958374, -0.2615000009536743, 0.2596000134944916, 0.1419999897480011, -0.3198000192642212, 0.23510000109672546, 0.04569998383522034, 0.4032999873161316, 0.26330000162124634, -0.3262999951839447]\n"
          ]
        }
      ]
    },
    {
      "cell_type": "code",
      "source": [
        "s = Sentence(\"king man queen woman\")\n",
        "e = fasttext.embed(s)"
      ],
      "metadata": {
        "id": "mIWrOqebjVK3"
      },
      "execution_count": 25,
      "outputs": []
    },
    {
      "cell_type": "code",
      "source": [
        "from flair import datasets\n",
        "from flair.data import Sentence\n",
        "\n",
        "def get_embedded_english_vocab(embedding):\n",
        "    \"\"\"\n",
        "    Extract vocabulary from a large English corpus to get a \n",
        "    near-complete set of commonly used English words. Then \n",
        "    (non-contextually) embed words as part of a single sentence.\n",
        "    UDT = Universal Dependency Treebank English dataset.\n",
        "    \"\"\"\n",
        "    dataset = datasets.UD_ENGLISH()\n",
        "    vocab_list = dataset.make_vocab_dictionary().get_items()\n",
        "    vocab = Sentence(' '.join(vocab_list))\n",
        "    embedding.embed(vocab)\n",
        "    return vocab"
      ],
      "metadata": {
        "id": "3-SzBdEukET2"
      },
      "execution_count": 34,
      "outputs": []
    },
    {
      "cell_type": "code",
      "source": [
        "get_embedded_english_vocab(fasttext)[6].embedding"
      ],
      "metadata": {
        "colab": {
          "base_uri": "https://localhost:8080/"
        },
        "id": "c-w9KZvqkEiB",
        "outputId": "82da5d24-87d8-4e99-ac71-ee61de3b5d74"
      },
      "execution_count": 36,
      "outputs": [
        {
          "output_type": "stream",
          "name": "stdout",
          "text": [
            "2022-06-21 23:22:31,175 https://raw.githubusercontent.com/UniversalDependencies/UD_English-EWT/master/en_ewt-ud-dev.conllu not found in cache, downloading to /tmp/tmpac3xi4gq\n"
          ]
        },
        {
          "output_type": "stream",
          "name": "stderr",
          "text": [
            "1738438B [00:00, 30369005.39B/s]         "
          ]
        },
        {
          "output_type": "stream",
          "name": "stdout",
          "text": [
            "2022-06-21 23:22:31,304 copying /tmp/tmpac3xi4gq to cache at /root/.flair/datasets/ud_english/en_ewt-ud-dev.conllu\n",
            "2022-06-21 23:22:31,327 removing temp file /tmp/tmpac3xi4gq\n"
          ]
        },
        {
          "output_type": "stream",
          "name": "stderr",
          "text": [
            "\n"
          ]
        },
        {
          "output_type": "stream",
          "name": "stdout",
          "text": [
            "2022-06-21 23:22:31,600 https://raw.githubusercontent.com/UniversalDependencies/UD_English-EWT/master/en_ewt-ud-test.conllu not found in cache, downloading to /tmp/tmpbjrab_rm\n"
          ]
        },
        {
          "output_type": "stream",
          "name": "stderr",
          "text": [
            "1738935B [00:00, 48046626.39B/s]         "
          ]
        },
        {
          "output_type": "stream",
          "name": "stdout",
          "text": [
            "2022-06-21 23:22:31,699 copying /tmp/tmpbjrab_rm to cache at /root/.flair/datasets/ud_english/en_ewt-ud-test.conllu\n",
            "2022-06-21 23:22:31,708 removing temp file /tmp/tmpbjrab_rm\n",
            "2022-06-21 23:22:31,840 https://raw.githubusercontent.com/UniversalDependencies/UD_English-EWT/master/en_ewt-ud-train.conllu not found in cache, downloading to /tmp/tmpn9_z79nf\n"
          ]
        },
        {
          "output_type": "stream",
          "name": "stderr",
          "text": [
            "\n",
            "13686411B [00:00, 75857844.14B/s]"
          ]
        },
        {
          "output_type": "stream",
          "name": "stdout",
          "text": [
            "2022-06-21 23:22:32,095 copying /tmp/tmpn9_z79nf to cache at /root/.flair/datasets/ud_english/en_ewt-ud-train.conllu\n"
          ]
        },
        {
          "output_type": "stream",
          "name": "stderr",
          "text": [
            "\n"
          ]
        },
        {
          "output_type": "stream",
          "name": "stdout",
          "text": [
            "2022-06-21 23:22:32,122 removing temp file /tmp/tmpn9_z79nf\n",
            "2022-06-21 23:22:32,127 Reading data from /root/.flair/datasets/ud_english\n",
            "2022-06-21 23:22:32,129 Train: /root/.flair/datasets/ud_english/en_ewt-ud-train.conllu\n",
            "2022-06-21 23:22:32,136 Dev: /root/.flair/datasets/ud_english/en_ewt-ud-dev.conllu\n",
            "2022-06-21 23:22:32,140 Test: /root/.flair/datasets/ud_english/en_ewt-ud-test.conllu\n"
          ]
        },
        {
          "output_type": "execute_result",
          "data": {
            "text/plain": [
              "tensor([-1.7500e-02, -2.1890e-01,  3.5300e-02,  3.4500e-02,  9.1300e-02,\n",
              "         2.6900e-02, -1.6700e-01, -2.7590e-01,  4.2830e-01,  3.4900e-02,\n",
              "         1.3200e-02,  1.0780e-01, -5.5800e-02, -2.1500e-02, -3.8900e-02,\n",
              "         3.7900e-02, -1.1800e-01,  1.6400e-02,  6.3100e-02,  4.5900e-02,\n",
              "         3.3100e-02, -1.7600e-02,  1.0000e-03,  1.7600e-02,  3.5100e-02,\n",
              "        -5.4500e-02,  4.3000e-02, -3.0000e-02,  3.5800e-02,  2.5880e-01,\n",
              "         5.7600e-02, -8.5400e-02,  6.3200e-02,  2.5500e-02,  8.0000e-04,\n",
              "         1.5200e-02, -8.4300e-02, -2.4900e-02,  6.5100e-02, -9.6100e-02,\n",
              "        -1.0700e-02,  1.6490e-01,  3.0000e-04, -2.8750e-01, -3.8800e-02,\n",
              "        -2.1200e-02, -9.7300e-02,  3.0100e-02, -4.7400e-02,  9.1730e-01,\n",
              "        -2.4000e-03,  4.4220e-01,  1.3670e-01, -1.7700e-02, -5.9100e-02,\n",
              "        -6.9000e-03,  6.9200e-02, -3.9560e-01, -4.8600e-02,  2.5100e-02,\n",
              "         1.3760e-01,  1.8160e-01, -1.6400e-02, -2.1030e-01,  1.5600e-02,\n",
              "        -4.4900e-02, -1.0040e-01,  3.9900e-02, -8.4700e-02, -5.6500e-02,\n",
              "        -2.6970e-01,  5.1000e-03, -4.4100e-02,  1.8620e-01, -1.4300e-02,\n",
              "        -1.1140e-01, -7.0360e-01,  1.6200e-02,  1.9550e-01, -2.2500e-02,\n",
              "         6.7610e-01,  2.9500e-02, -3.9000e-03, -4.5000e-02, -3.8300e-02,\n",
              "         2.5800e-02,  4.6400e-02, -2.4300e-02,  2.4300e-02,  3.7000e-03,\n",
              "         3.1000e-03,  6.5310e-01,  3.3000e-02,  9.2000e-03,  2.6000e-03,\n",
              "         3.5100e-02, -3.7490e-01, -4.0200e-02, -2.5960e-01,  3.2600e-02,\n",
              "         5.5000e-03, -3.9000e-03,  1.7510e-01,  4.2000e-02,  1.4380e-01,\n",
              "        -1.0900e-02,  2.3600e-02, -8.4000e-03, -1.8800e-02,  1.2870e-01,\n",
              "         6.2400e-02,  1.1520e-01,  2.4400e-02,  2.0700e-02, -3.8370e-01,\n",
              "         2.0280e-01,  1.2720e-01,  1.7900e-02,  1.0200e-01,  4.3300e-02,\n",
              "        -6.5000e-02,  2.8100e-02,  1.1510e-01, -7.4000e-03,  1.7400e-02,\n",
              "        -2.5200e-02,  5.3300e-02,  6.5900e-02,  2.9280e-01, -2.1100e-02,\n",
              "        -2.5200e-02, -4.0000e-04, -4.6200e-02, -6.1500e-02,  3.4300e-01,\n",
              "        -7.0500e-02, -9.3800e-02,  5.0900e-02,  7.6000e-03, -2.7990e-01,\n",
              "         1.1910e-01,  6.0600e-02, -8.9000e-03,  1.0640e-01, -8.2900e-02,\n",
              "        -4.4000e-03, -1.0180e-01, -1.0000e-02,  7.6500e-02,  1.0460e-01,\n",
              "         2.9600e-02, -1.4400e-02, -2.4100e-02,  2.0300e-02, -1.7700e-02,\n",
              "        -3.4700e-02,  2.4400e-02,  4.4000e-03,  6.0000e-03,  1.2600e-02,\n",
              "         4.6670e-01,  1.5860e-01, -3.7600e-02, -5.6600e-02, -3.8700e-02,\n",
              "         1.0800e-02, -8.3000e-03, -4.9800e-02,  1.2100e-02, -4.5800e-02,\n",
              "         4.3000e-02,  2.7000e-03, -9.2200e-02,  1.5900e-02,  7.7000e-02,\n",
              "        -6.3800e-02,  4.3500e-02, -1.5200e-02,  1.8000e-03, -2.4000e-03,\n",
              "        -2.5090e-01, -1.9700e-02,  9.7000e-03,  2.1400e-02,  6.0300e-02,\n",
              "        -1.0500e-02, -9.4000e-02, -4.0680e-01, -2.8840e-01,  4.4500e-02,\n",
              "         2.0000e-03,  1.2600e-02, -7.4400e-02, -6.7800e-02,  4.8300e-02,\n",
              "        -9.1900e-02,  4.3100e-02, -4.0100e-02,  3.1300e-02, -2.0200e-02,\n",
              "         2.9700e-02,  1.0000e-03,  2.2400e-02,  5.7500e-02,  3.4900e-02,\n",
              "        -1.0300e-02,  1.5000e-03,  1.2200e-02,  4.1500e-02, -2.5590e-01,\n",
              "         1.3200e-02,  5.0050e-01, -7.4000e-03,  4.1600e-02, -8.3900e-02,\n",
              "         8.6000e-03, -1.5500e-02, -8.9000e-03, -7.6000e-03,  2.9500e-02,\n",
              "        -2.7700e-02, -9.4200e-02,  2.3600e-02,  1.5300e-02,  7.9800e-02,\n",
              "        -4.7500e-02, -4.3100e-02,  3.6900e-02,  3.9600e-02,  1.4600e-02,\n",
              "         7.9000e-02,  7.1600e-02,  3.3400e-02, -4.6200e-02,  1.2100e-02,\n",
              "         6.2000e-02,  9.6000e-02, -3.3700e-02, -6.1700e-02,  4.1600e-02,\n",
              "        -2.3600e-02,  5.4000e-03, -1.0310e-01, -3.3100e-02, -3.8050e-01,\n",
              "        -7.5000e-02,  4.0560e-01,  2.0900e-02,  1.0600e-02, -3.4400e-02,\n",
              "         1.6200e-02, -1.6160e-01,  3.5600e-02, -1.0800e-02,  1.2200e-01,\n",
              "         4.8400e-02,  3.5300e-02,  4.6200e-02, -5.3000e-03,  1.4500e-02,\n",
              "         6.1500e-02,  7.1000e-03, -2.4100e-02, -3.2700e-02,  7.1000e-03,\n",
              "        -1.2900e-01,  2.0200e-02,  3.4500e-02,  2.7500e-02, -1.9300e-02,\n",
              "        -3.3000e-03, -4.1040e-01,  5.0500e-02, -1.6990e-01, -3.9800e-02,\n",
              "        -9.9000e-03, -3.2960e-01, -4.0200e-02,  1.3440e-01,  1.0000e-03,\n",
              "         3.3600e-02,  1.4120e-01,  2.3000e-03, -5.5600e-02,  3.4800e-02,\n",
              "        -6.2500e-02, -2.2800e-02, -1.5000e-03,  7.3200e-02,  3.6200e-02,\n",
              "         6.4200e-02,  1.3600e-02,  3.6700e-02,  1.7350e-01,  2.1700e-02,\n",
              "         5.9100e-02,  1.6600e-02, -2.8460e-01,  5.0900e-02,  2.2900e-02])"
            ]
          },
          "metadata": {},
          "execution_count": 36
        }
      ]
    },
    {
      "cell_type": "code",
      "source": [
        "# Need to find the closest matching word using a similarity measure as `D` \n",
        "# won't be an exact match with a word from our vocabulary. We use cosine \n",
        "# similarity for this.\n",
        "from sklearn.metrics.pairwise import cosine_similarity as sim\n",
        "\n",
        "def find_closest_matching_word(D, vocab, ABC):\n",
        "    \"\"\"\n",
        "    Iterate through vocab object and compute the similarity \n",
        "    between the `D` embedding and each word in vocab. Then \n",
        "    select the closest matching word.\n",
        "    \"\"\"\n",
        "    max_match = -1\n",
        "    for word in vocab:\n",
        "        match = sim([D], [word.embedding.tolist()])[0][0]\n",
        "        if match > max_match and word.text not in ABC:\n",
        "            max_match = match\n",
        "            closest_matching_word = word.text\n",
        "    return closest_matching_word"
      ],
      "metadata": {
        "id": "Ajc-FKnykwzT"
      },
      "execution_count": 38,
      "outputs": []
    },
    {
      "cell_type": "code",
      "source": [
        "def A_is_to_B_as_C_is_to(A, B, C):\n",
        "    \"\"\"\n",
        "    Helper function to call others and print solution. Note that the\n",
        "    WordEmbeddings object is only instantiated once, improving performance.\n",
        "    \"\"\"\n",
        "    fasttext = WordEmbeddings('crawl')\n",
        "    result = compute_embedding_for_D(A, B, C, fasttext)\n",
        "    vocab = get_embedded_english_vocab(fasttext)\n",
        "    D = find_closest_matching_word(result, vocab, {A, B, C})\n",
        "    print(f'{A} is to {B} as {C} is to {D}')"
      ],
      "metadata": {
        "id": "59hx4BiKlOM2"
      },
      "execution_count": 40,
      "outputs": []
    },
    {
      "cell_type": "code",
      "source": [
        "A_is_to_B_as_C_is_to(\"king\", \"man\", \"queen\")"
      ],
      "metadata": {
        "colab": {
          "base_uri": "https://localhost:8080/"
        },
        "id": "zSmmXOZQlwf_",
        "outputId": "2adaa001-6218-4000-dd2c-73dfefbdc7ec"
      },
      "execution_count": 41,
      "outputs": [
        {
          "output_type": "stream",
          "name": "stdout",
          "text": [
            "2022-06-21 23:28:26,104 Reading data from /root/.flair/datasets/ud_english\n",
            "2022-06-21 23:28:26,107 Train: /root/.flair/datasets/ud_english/en_ewt-ud-train.conllu\n",
            "2022-06-21 23:28:26,112 Dev: /root/.flair/datasets/ud_english/en_ewt-ud-dev.conllu\n",
            "2022-06-21 23:28:26,116 Test: /root/.flair/datasets/ud_english/en_ewt-ud-test.conllu\n",
            "king is to man as queen is to woman\n"
          ]
        }
      ]
    },
    {
      "cell_type": "code",
      "source": [
        "A_is_to_B_as_C_is_to(\"do\", \"did\", \"go\")"
      ],
      "metadata": {
        "colab": {
          "base_uri": "https://localhost:8080/"
        },
        "id": "cb6l_sNAmE5y",
        "outputId": "f9857dda-db9f-4563-aee4-446503424113"
      },
      "execution_count": 42,
      "outputs": [
        {
          "output_type": "stream",
          "name": "stdout",
          "text": [
            "2022-06-21 23:29:08,051 Reading data from /root/.flair/datasets/ud_english\n",
            "2022-06-21 23:29:08,056 Train: /root/.flair/datasets/ud_english/en_ewt-ud-train.conllu\n",
            "2022-06-21 23:29:08,058 Dev: /root/.flair/datasets/ud_english/en_ewt-ud-dev.conllu\n",
            "2022-06-21 23:29:08,060 Test: /root/.flair/datasets/ud_english/en_ewt-ud-test.conllu\n",
            "do is to did as go is to went\n"
          ]
        }
      ]
    },
    {
      "cell_type": "code",
      "source": [
        "A_is_to_B_as_C_is_to(\"bread\", \"baker\", \"meat\") "
      ],
      "metadata": {
        "colab": {
          "base_uri": "https://localhost:8080/"
        },
        "id": "zXph3iYDmGqG",
        "outputId": "d058645e-8967-4645-a258-3f75eed99e4d"
      },
      "execution_count": 43,
      "outputs": [
        {
          "output_type": "stream",
          "name": "stdout",
          "text": [
            "2022-06-21 23:29:52,251 Reading data from /root/.flair/datasets/ud_english\n",
            "2022-06-21 23:29:52,255 Train: /root/.flair/datasets/ud_english/en_ewt-ud-train.conllu\n",
            "2022-06-21 23:29:52,259 Dev: /root/.flair/datasets/ud_english/en_ewt-ud-dev.conllu\n",
            "2022-06-21 23:29:52,267 Test: /root/.flair/datasets/ud_english/en_ewt-ud-test.conllu\n",
            "bread is to baker as meat is to butcher\n"
          ]
        }
      ]
    },
    {
      "cell_type": "code",
      "source": [
        "A_is_to_B_as_C_is_to(\"London\", \"England\", \"Ljubljana\")"
      ],
      "metadata": {
        "colab": {
          "base_uri": "https://localhost:8080/"
        },
        "id": "4tIbHGQvmH8r",
        "outputId": "72d8528f-5c02-499c-bbf6-9fec7459ce4d"
      },
      "execution_count": 44,
      "outputs": [
        {
          "output_type": "stream",
          "name": "stdout",
          "text": [
            "2022-06-21 23:30:30,965 Reading data from /root/.flair/datasets/ud_english\n",
            "2022-06-21 23:30:30,968 Train: /root/.flair/datasets/ud_english/en_ewt-ud-train.conllu\n",
            "2022-06-21 23:30:30,971 Dev: /root/.flair/datasets/ud_english/en_ewt-ud-dev.conllu\n",
            "2022-06-21 23:30:30,974 Test: /root/.flair/datasets/ud_english/en_ewt-ud-test.conllu\n",
            "London is to England as Ljubljana is to Slovenia\n"
          ]
        }
      ]
    },
    {
      "cell_type": "code",
      "source": [
        "A_is_to_B_as_C_is_to(\"life\", \"death\", \"beginning\")"
      ],
      "metadata": {
        "colab": {
          "base_uri": "https://localhost:8080/"
        },
        "id": "4z7mZ0eGmMA_",
        "outputId": "fb828e25-026d-4583-a327-f4bebe85c57d"
      },
      "execution_count": 45,
      "outputs": [
        {
          "output_type": "stream",
          "name": "stdout",
          "text": [
            "2022-06-21 23:31:09,462 Reading data from /root/.flair/datasets/ud_english\n",
            "2022-06-21 23:31:09,464 Train: /root/.flair/datasets/ud_english/en_ewt-ud-train.conllu\n",
            "2022-06-21 23:31:09,472 Dev: /root/.flair/datasets/ud_english/en_ewt-ud-dev.conllu\n",
            "2022-06-21 23:31:09,479 Test: /root/.flair/datasets/ud_english/en_ewt-ud-test.conllu\n",
            "life is to death as beginning is to ending\n"
          ]
        }
      ]
    },
    {
      "cell_type": "code",
      "source": [
        "A_is_to_B_as_C_is_to(\"big\", \"bigger\", \"small\")"
      ],
      "metadata": {
        "colab": {
          "base_uri": "https://localhost:8080/"
        },
        "id": "9klDXK-NmOpo",
        "outputId": "00214a7c-d935-45d7-ef1d-1c8e025363f7"
      },
      "execution_count": 46,
      "outputs": [
        {
          "output_type": "stream",
          "name": "stdout",
          "text": [
            "2022-06-21 23:31:51,490 Reading data from /root/.flair/datasets/ud_english\n",
            "2022-06-21 23:31:51,495 Train: /root/.flair/datasets/ud_english/en_ewt-ud-train.conllu\n",
            "2022-06-21 23:31:51,497 Dev: /root/.flair/datasets/ud_english/en_ewt-ud-dev.conllu\n",
            "2022-06-21 23:31:51,501 Test: /root/.flair/datasets/ud_english/en_ewt-ud-test.conllu\n",
            "big is to bigger as small is to smaller\n"
          ]
        }
      ]
    },
    {
      "cell_type": "code",
      "source": [
        "A_is_to_B_as_C_is_to(\"man\", \"actor\", \"woman\") "
      ],
      "metadata": {
        "colab": {
          "base_uri": "https://localhost:8080/"
        },
        "id": "ViaY-e7wmQ1y",
        "outputId": "b807996c-cee0-46b0-8049-a3da538614b2"
      },
      "execution_count": 47,
      "outputs": [
        {
          "output_type": "stream",
          "name": "stdout",
          "text": [
            "2022-06-21 23:32:32,933 Reading data from /root/.flair/datasets/ud_english\n",
            "2022-06-21 23:32:32,935 Train: /root/.flair/datasets/ud_english/en_ewt-ud-train.conllu\n",
            "2022-06-21 23:32:32,941 Dev: /root/.flair/datasets/ud_english/en_ewt-ud-dev.conllu\n",
            "2022-06-21 23:32:32,946 Test: /root/.flair/datasets/ud_english/en_ewt-ud-test.conllu\n",
            "man is to actor as woman is to actress\n"
          ]
        }
      ]
    },
    {
      "cell_type": "code",
      "source": [
        "A_is_to_B_as_C_is_to(\"ball\", \"football\", \"bat\")"
      ],
      "metadata": {
        "colab": {
          "base_uri": "https://localhost:8080/"
        },
        "id": "F9u_y1WKmR-W",
        "outputId": "6e494471-fdd9-4a9f-9c70-87a85c2fd2b1"
      },
      "execution_count": 49,
      "outputs": [
        {
          "output_type": "stream",
          "name": "stdout",
          "text": [
            "2022-06-21 23:33:35,666 Reading data from /root/.flair/datasets/ud_english\n",
            "2022-06-21 23:33:35,669 Train: /root/.flair/datasets/ud_english/en_ewt-ud-train.conllu\n",
            "2022-06-21 23:33:35,675 Dev: /root/.flair/datasets/ud_english/en_ewt-ud-dev.conllu\n",
            "2022-06-21 23:33:35,678 Test: /root/.flair/datasets/ud_english/en_ewt-ud-test.conllu\n",
            "ball is to football as bat is to baseball\n"
          ]
        }
      ]
    },
    {
      "cell_type": "code",
      "source": [
        "A_is_to_B_as_C_is_to(\"fruit\", \"juice\", \"sugar\")"
      ],
      "metadata": {
        "colab": {
          "base_uri": "https://localhost:8080/"
        },
        "id": "h-ai894unLIs",
        "outputId": "f8071705-bb6c-4745-a62d-cd1ad2f22091"
      },
      "execution_count": 50,
      "outputs": [
        {
          "output_type": "stream",
          "name": "stdout",
          "text": [
            "2022-06-21 23:34:22,240 Reading data from /root/.flair/datasets/ud_english\n",
            "2022-06-21 23:34:22,242 Train: /root/.flair/datasets/ud_english/en_ewt-ud-train.conllu\n",
            "2022-06-21 23:34:22,251 Dev: /root/.flair/datasets/ud_english/en_ewt-ud-dev.conllu\n",
            "2022-06-21 23:34:22,255 Test: /root/.flair/datasets/ud_english/en_ewt-ud-test.conllu\n",
            "fruit is to juice as sugar is to soda\n"
          ]
        }
      ]
    },
    {
      "cell_type": "markdown",
      "source": [
        "## Classic word embeddings\n",
        "* Pre-trained\n",
        "* Non-contextual - one word always maps to one precomputed embedding regardless of the context.\n",
        "* Requires no pre-processing.\n",
        "\n",
        "Note: When loading an embedding for the first time, Flair will download the embedding model and store it locally. It will use the locally stored version for any subsequent calls.\n",
        "\n",
        "Supported embeddings include:\n",
        "* GloVe\n",
        "* Komninos\n",
        "* Twitter\n",
        "* Turian\n",
        "* FastText over web crawls"
      ],
      "metadata": {
        "id": "r4FD0SJ7miQI"
      }
    },
    {
      "cell_type": "code",
      "source": [
        "from flair.data import Sentence\n",
        "from flair.embeddings import WordEmbeddings\n",
        "\n",
        "embedding = WordEmbeddings('crawl')\n",
        "sentence = Sentence(\"one two three one\")\n",
        "embedding.embed(sentence)\n",
        "for token in sentence:\n",
        "    print(token.embedding)\n",
        "\n",
        "assert sentence[0].embedding.tolist() == sentence[3].embedding.tolist()"
      ],
      "metadata": {
        "colab": {
          "base_uri": "https://localhost:8080/"
        },
        "id": "z-29EiP8m07m",
        "outputId": "eed3ac91-09a3-471f-9d5c-301c864335f5"
      },
      "execution_count": 51,
      "outputs": [
        {
          "output_type": "stream",
          "name": "stdout",
          "text": [
            "tensor([-5.5200e-02, -5.3500e-02, -3.6800e-02, -2.8510e-01, -3.8100e-02,\n",
            "        -4.8600e-02,  2.3830e-01, -1.2000e-01,  2.6200e-01, -5.7500e-02,\n",
            "         2.2800e-02,  8.1900e-02,  5.0200e-02, -3.3300e-02, -9.0000e-03,\n",
            "        -5.8900e-02,  2.6670e-01, -1.6800e-02, -1.1340e-01,  6.3300e-02,\n",
            "        -6.6900e-02, -2.2100e-02, -4.8000e-02,  1.8300e-02, -7.7300e-02,\n",
            "         3.2000e-03,  3.3000e-03,  4.3800e-02, -1.5840e-01, -2.2040e-01,\n",
            "        -6.1500e-02, -1.5800e-02, -3.0180e-01, -1.5300e-02, -1.2000e-01,\n",
            "         8.9000e-03, -2.8800e-02,  1.2850e-01, -1.7890e-01, -9.4700e-02,\n",
            "        -3.7400e-02,  9.4400e-02, -3.1700e-02,  1.4600e-01,  1.0400e-01,\n",
            "        -6.5500e-02, -3.3300e-02,  1.4050e-01,  2.0700e-02,  9.7500e-02,\n",
            "        -1.6400e-02, -3.3670e-01,  2.2820e-01, -9.1100e-02,  2.4800e-02,\n",
            "         2.8100e-02, -5.6300e-02, -2.0920e-01, -7.6900e-02, -8.5500e-02,\n",
            "         1.4430e-01, -1.4790e-01, -1.3200e-02, -1.7510e-01,  3.4200e-02,\n",
            "        -7.0000e-04,  2.7500e-02, -1.4100e-02,  7.1700e-02,  4.5800e-02,\n",
            "        -5.7900e-02, -9.3300e-02, -7.9600e-02,  1.8470e-01, -1.7200e-02,\n",
            "         2.4050e-01, -3.7940e-01, -6.8500e-02,  1.1030e-01, -1.0200e-01,\n",
            "         2.5990e-01, -7.6200e-02, -2.9300e-02, -7.3500e-02,  9.9000e-03,\n",
            "        -1.1500e-02,  1.1700e-02,  2.6600e-02, -6.0300e-02,  1.5600e-02,\n",
            "         6.3000e-03,  3.5910e-01,  5.1700e-02, -1.0600e-02, -6.5400e-02,\n",
            "        -8.3000e-03,  5.7900e-02,  2.1840e-01, -1.0980e-01,  3.2500e-02,\n",
            "         3.8100e-02,  3.3900e-02,  2.6150e-01,  1.1900e-02,  1.0370e-01,\n",
            "         1.4800e-02,  1.0640e-01, -1.0870e-01, -7.2000e-02,  1.6360e-01,\n",
            "         1.8310e-01,  2.2640e-01,  7.4200e-02,  4.1400e-02, -5.9760e-01,\n",
            "         2.0310e-01, -3.6840e-01,  4.2900e-02,  3.0260e-01, -6.4000e-03,\n",
            "         5.1500e-02, -5.8600e-02,  1.4400e-02, -3.7600e-02, -2.1100e-02,\n",
            "        -9.0400e-02,  3.6700e-02,  4.7700e-02,  1.7610e-01, -2.8000e-03,\n",
            "        -5.9000e-03,  3.4000e-02,  3.5500e-02,  1.2270e-01,  4.8300e-02,\n",
            "        -1.1230e-01, -2.9280e-01,  1.4140e-01,  4.5100e-02, -2.4950e-01,\n",
            "        -1.6000e-03, -3.9700e-02, -1.4600e-02,  2.3240e-01, -3.4100e-02,\n",
            "         2.5100e-02, -3.0600e-02,  2.6100e-02,  4.6000e-03, -1.7010e-01,\n",
            "        -8.1300e-02, -4.8500e-02,  2.7500e-02, -2.2600e-02,  1.0020e-01,\n",
            "        -2.0200e-02,  1.3300e-02, -1.0810e-01,  1.5700e-02,  8.0000e-04,\n",
            "         3.9440e-01,  1.0950e-01,  6.0000e-02,  3.8200e-02, -6.5600e-02,\n",
            "         3.7900e-02, -5.4200e-02, -4.7600e-02,  4.2000e-03,  3.3500e-02,\n",
            "        -3.9900e-02,  4.2000e-03,  2.6480e-01, -6.0000e-03,  2.4000e-03,\n",
            "         5.0500e-02,  6.7800e-02,  5.8000e-03, -5.3500e-02, -1.9000e-03,\n",
            "         2.1000e-01, -4.6200e-02,  1.0550e-01, -6.5600e-02,  1.0330e-01,\n",
            "        -9.3600e-02, -1.0580e-01,  1.2160e-01,  1.0740e-01,  9.8600e-02,\n",
            "        -1.0300e-02, -2.6100e-02, -1.1670e-01, -1.2200e-02,  1.1000e-01,\n",
            "         2.6000e-02, -7.8000e-02,  7.7200e-02,  1.2900e-02,  3.5200e-02,\n",
            "        -5.0800e-02, -2.8500e-02, -1.0800e-02,  1.6900e-02,  3.1900e-02,\n",
            "         3.3600e-02, -5.2900e-02,  2.0900e-02, -3.4100e-02,  2.1240e-01,\n",
            "         6.6700e-02,  5.7880e-01, -3.0600e-02,  3.0900e-02, -4.6900e-02,\n",
            "        -1.8190e-01,  2.6600e-02, -7.8100e-02, -5.0100e-02,  3.7400e-02,\n",
            "        -4.8200e-02,  1.7090e-01,  1.0600e-02,  3.3100e-02,  4.7330e-01,\n",
            "        -5.5500e-02,  9.0400e-02,  9.5000e-03, -1.1060e-01,  1.4900e-01,\n",
            "         5.8100e-02,  6.1000e-03,  1.4880e-01, -5.6500e-02, -2.8500e-02,\n",
            "         1.1200e-02,  2.6200e-02, -3.4100e-02, -1.4800e-02,  1.5200e-02,\n",
            "         5.2800e-02, -1.3620e-01,  1.6240e-01, -1.1920e-01, -4.0240e-01,\n",
            "         8.0300e-02,  1.6190e-01,  7.7000e-03, -8.6000e-02,  2.0700e-02,\n",
            "         1.9900e-02,  1.6570e-01, -2.2700e-02, -1.3640e-01,  3.3860e-01,\n",
            "        -5.0300e-02, -5.6500e-02,  2.1000e-02, -3.4200e-02, -3.3200e-02,\n",
            "         6.3200e-02, -9.7000e-02, -8.0000e-03,  5.1600e-02,  5.6700e-02,\n",
            "        -9.5100e-02,  3.3900e-02,  3.0300e-02,  7.8500e-02, -3.5400e-02,\n",
            "        -8.2000e-03,  2.0360e-01,  3.9000e-03, -1.1140e-01, -5.9000e-03,\n",
            "        -4.3300e-02,  5.6030e-01, -7.0700e-02, -4.4800e-02,  7.2200e-02,\n",
            "        -2.0620e-01,  9.5500e-02,  3.0500e-02, -1.2140e-01, -1.1950e-01,\n",
            "        -1.3920e-01,  5.1000e-02,  4.7900e-02,  1.7150e-01,  4.6100e-02,\n",
            "         4.2500e-02,  6.6000e-02,  4.7800e-02, -1.8590e-01, -1.2950e-01,\n",
            "         1.0000e-04,  1.1100e-02, -2.0620e-01,  8.6100e-02,  1.2440e-01])\n",
            "tensor([ 0.0928,  0.0282, -0.0786, -0.1236,  0.1756, -0.1199,  0.0964, -0.1327,\n",
            "         0.4449, -0.0264, -0.1168,  0.0394,  0.0984, -0.0922, -0.0681, -0.0886,\n",
            "         0.1438,  0.1048, -0.0965, -0.0100, -0.1237, -0.1322, -0.1195, -0.0159,\n",
            "         0.0021, -0.0351, -0.1428,  0.1220, -0.0210, -0.2630, -0.0454,  0.0251,\n",
            "        -0.1319, -0.1528, -0.1353,  0.0615,  0.0894,  0.2501, -0.1720, -0.2051,\n",
            "        -0.1595,  0.4339, -0.0906,  0.3419,  0.3329, -0.1259,  0.1438,  0.2137,\n",
            "        -0.0218,  0.1247,  0.0748, -0.1721,  0.2694, -0.1602, -0.1485,  0.1519,\n",
            "         0.0158,  0.1118,  0.0851, -0.1126, -0.1383, -0.3896,  0.0238,  0.0239,\n",
            "        -0.0604, -0.0228, -0.2270, -0.0254,  0.0519, -0.0889, -0.1944,  0.0369,\n",
            "        -0.2036,  0.0094, -0.0629,  0.0448, -0.0774,  0.0992,  0.2766, -0.1021,\n",
            "         0.2230, -0.1915,  0.0072, -0.0394, -0.0234, -0.0117,  0.0190,  0.1295,\n",
            "        -0.1893,  0.0426,  0.1110,  0.5436, -0.0547, -0.0721, -0.0109,  0.0220,\n",
            "         0.3398,  0.3131, -0.1195, -0.0726, -0.0411, -0.0266, -0.2095,  0.0583,\n",
            "         0.2064,  0.0247,  0.2662,  0.0852, -0.0656,  0.1277,  0.2373,  0.4656,\n",
            "         0.2496,  0.0476, -1.0277,  0.3740, -0.1683, -0.0264,  0.2025, -0.0265,\n",
            "         0.1910, -0.1805,  0.1986, -0.0990,  0.1102,  0.0384, -0.0399, -0.0685,\n",
            "         0.3975,  0.0284, -0.0182,  0.0423, -0.0763, -0.1013, -0.3541, -0.0581,\n",
            "        -0.2777,  0.3490,  0.0111, -0.1508, -0.0852,  0.1060, -0.0193,  0.2390,\n",
            "        -0.0766, -0.0565,  0.0558,  0.0407,  0.0369, -0.0835,  0.0149, -0.0290,\n",
            "        -0.1089,  0.0285, -0.0652, -0.0562,  0.1685, -0.0605, -0.0019, -0.0273,\n",
            "        -0.0533,  0.0423,  0.1048,  0.0669, -0.0244,  0.0666,  0.0879,  0.0282,\n",
            "         0.0297,  0.1678,  0.0023, -0.0769,  0.0517, -0.0878, -0.0048,  0.0580,\n",
            "        -0.0112,  0.0316, -0.2134,  0.0377, -0.1741, -0.0528,  0.0712, -0.0571,\n",
            "         0.2024, -0.0604, -0.0218,  0.1657,  0.1059,  0.0248, -0.1670, -0.0112,\n",
            "        -0.1103, -0.0277,  0.1710, -0.0122, -0.2528, -0.0648, -0.0223,  0.1693,\n",
            "         0.0274, -0.0344, -0.0547, -0.0622,  0.1441,  0.0551, -0.0268,  0.0183,\n",
            "        -0.0577,  0.0689,  0.0554,  0.8234, -0.1087,  0.0710, -0.1285,  0.0193,\n",
            "         0.0042, -0.1046, -0.0781,  0.1125,  0.1664,  0.2860, -0.0128,  0.1160,\n",
            "         0.4048, -0.1047,  0.2061, -0.0308, -0.0683,  0.0216,  0.1411,  0.0450,\n",
            "         0.3768, -0.0853, -0.0606, -0.0040, -0.1380,  0.0512,  0.1086,  0.0579,\n",
            "         0.1018,  0.0375,  0.1108, -0.0567,  0.0361,  0.1552,  0.2460,  0.0574,\n",
            "         0.0972, -0.0179,  0.2231, -0.1522, -0.0135, -0.2087,  0.0368, -0.0877,\n",
            "         0.0604, -0.0603,  0.0077,  0.0444, -0.1488,  0.0487,  0.0890,  0.0706,\n",
            "         0.1214, -0.0612,  0.0100,  0.2584, -0.3150, -0.1742, -0.0885,  0.6765,\n",
            "         0.1017, -0.2833, -0.0503, -0.0352,  0.4349, -0.0805,  0.0245, -0.0595,\n",
            "        -0.2864,  0.3887, -0.1019, -0.1939, -0.0140, -0.0855,  0.0184,  0.1617,\n",
            "         0.3586, -0.0589,  0.0412, -0.0634,  0.1260, -0.2349, -0.1931, -0.1098,\n",
            "         0.0668,  0.1586,  0.1652,  0.1732])\n",
            "tensor([ 1.4410e-01, -9.2000e-02, -6.9000e-02, -1.4750e-01,  2.3130e-01,\n",
            "        -8.7200e-02,  7.9900e-02, -9.0100e-02,  4.4030e-01, -1.0300e-02,\n",
            "        -1.4940e-01,  3.0700e-02,  1.2200e-02, -1.0450e-01, -1.1900e-02,\n",
            "        -1.5720e-01,  1.4180e-01,  9.4300e-02, -8.8100e-02, -1.2000e-03,\n",
            "        -3.1700e-02, -7.2900e-02, -6.7900e-02,  2.9000e-03,  1.8200e-02,\n",
            "        -7.3200e-02, -8.2400e-02,  1.3300e-01, -2.2100e-02, -2.9130e-01,\n",
            "        -1.8500e-02, -2.8000e-02, -3.1300e-01, -1.8260e-01, -7.9800e-02,\n",
            "         1.0420e-01,  1.2770e-01,  1.8480e-01, -2.7110e-01, -2.2350e-01,\n",
            "        -1.7000e-02,  3.3360e-01, -9.8400e-02,  3.2150e-01,  2.0220e-01,\n",
            "        -6.7300e-02,  2.1830e-01,  5.4300e-02,  4.5800e-02,  2.2030e-01,\n",
            "         6.1500e-02, -1.5240e-01,  1.7970e-01, -2.0560e-01, -5.7600e-02,\n",
            "         1.1810e-01, -6.9400e-02,  1.6200e-01,  1.0140e-01, -1.7160e-01,\n",
            "        -6.1700e-02, -2.8110e-01,  1.6100e-02,  5.2100e-02,  2.3400e-02,\n",
            "         1.3360e-01, -2.0580e-01, -1.0090e-01,  8.2400e-02, -5.3800e-02,\n",
            "        -1.8590e-01, -7.1700e-02, -1.3820e-01, -1.6820e-01,  3.7000e-02,\n",
            "        -2.0800e-02, -1.0400e-02,  9.5200e-02,  2.5210e-01, -1.7080e-01,\n",
            "         1.5560e-01, -1.6190e-01, -5.7600e-02,  7.1500e-02, -3.0000e-04,\n",
            "         4.8700e-02,  8.3000e-03,  1.7040e-01, -9.3700e-02,  1.2050e-01,\n",
            "         1.8860e-01,  5.4310e-01,  1.1270e-01, -9.2300e-02,  3.5100e-02,\n",
            "         1.6400e-02,  3.2980e-01,  2.9920e-01, -6.0000e-04, -4.4300e-02,\n",
            "         4.6000e-03,  7.1000e-02, -1.0320e-01,  7.5300e-02,  2.5470e-01,\n",
            "         4.9800e-02,  4.0480e-01,  1.2380e-01,  5.7000e-03,  1.6540e-01,\n",
            "         1.8480e-01,  5.3570e-01,  2.0160e-01,  2.5700e-02, -1.0613e+00,\n",
            "         4.0330e-01, -2.4550e-01, -8.5800e-02,  2.5680e-01, -4.2500e-02,\n",
            "         2.4830e-01, -1.1390e-01,  1.6260e-01, -1.1570e-01,  1.4170e-01,\n",
            "         1.1130e-01, -5.3200e-02,  4.0400e-02,  4.0470e-01,  7.4500e-02,\n",
            "         6.4000e-03, -4.7000e-03, -1.1730e-01, -7.0400e-02, -3.1430e-01,\n",
            "         2.2800e-02, -3.5850e-01,  3.8150e-01, -1.5000e-02, -1.3230e-01,\n",
            "         6.2300e-02,  1.3290e-01, -1.5600e-02,  2.5620e-01, -7.5500e-02,\n",
            "        -8.8300e-02,  2.7900e-02,  1.1930e-01, -2.0130e-01, -9.5600e-02,\n",
            "         1.9000e-02, -8.4800e-02, -6.4300e-02, -9.4900e-02, -2.3100e-02,\n",
            "        -1.2000e-02,  1.6860e-01, -5.0900e-02, -8.5800e-02, -1.3000e-01,\n",
            "        -5.9200e-02,  5.8300e-02,  1.9870e-01, -3.9400e-02, -6.6300e-02,\n",
            "         9.4200e-02,  1.2190e-01, -2.2200e-02, -1.1400e-02,  1.9070e-01,\n",
            "         1.1800e-02, -1.0610e-01, -5.0600e-02, -9.6800e-02,  9.1000e-02,\n",
            "        -7.4500e-02, -1.4800e-02, -4.9500e-02, -2.1960e-01,  4.8900e-02,\n",
            "        -1.0490e-01,  4.5100e-02,  5.7500e-02, -1.0900e-01,  9.4800e-02,\n",
            "        -5.3700e-02, -1.4700e-01,  9.9800e-02,  9.2000e-02,  1.5550e-01,\n",
            "        -9.0500e-02,  1.7330e-01, -4.0200e-02, -1.0710e-01,  2.6160e-01,\n",
            "        -6.4700e-02, -2.8560e-01,  2.6000e-03, -9.2800e-02,  2.4160e-01,\n",
            "         1.2440e-01,  1.0000e-03, -9.2300e-02, -1.5360e-01,  8.6500e-02,\n",
            "         9.7700e-02, -6.0600e-02,  4.1000e-02, -1.4510e-01,  6.1400e-02,\n",
            "        -1.6400e-02,  8.5510e-01, -4.3100e-02,  1.5300e-02, -1.1160e-01,\n",
            "        -4.8500e-02, -3.0300e-02, -8.9500e-02, -4.4300e-02,  8.6000e-03,\n",
            "         1.2600e-01,  3.5710e-01, -3.4800e-02,  1.5490e-01,  4.5920e-01,\n",
            "        -1.3450e-01,  2.8100e-01,  1.1100e-02,  8.1500e-02,  6.0000e-04,\n",
            "         2.3250e-01,  7.9800e-02,  4.3240e-01, -1.4210e-01,  4.5900e-02,\n",
            "        -7.0400e-02, -1.5570e-01,  8.6800e-02,  9.7800e-02,  8.0400e-02,\n",
            "         9.5700e-02,  1.0420e-01,  1.6710e-01, -6.8200e-02,  1.0330e-01,\n",
            "         1.9040e-01,  2.2800e-01,  4.9000e-02,  1.1030e-01,  1.0270e-01,\n",
            "         1.6080e-01, -2.3000e-01, -4.7100e-02, -1.6400e-01, -4.7900e-02,\n",
            "        -1.5050e-01,  8.3500e-02, -1.0130e-01, -5.0000e-03,  5.4100e-02,\n",
            "        -2.0760e-01,  5.2800e-02,  2.1300e-02,  1.0060e-01,  5.8300e-02,\n",
            "        -7.5800e-02,  5.2700e-02,  1.7240e-01, -3.7290e-01, -1.0680e-01,\n",
            "        -5.8600e-02,  7.3120e-01,  2.9300e-02, -2.5200e-01, -5.5600e-02,\n",
            "         3.4200e-02,  3.5140e-01, -8.8800e-02,  9.0300e-02, -2.0900e-02,\n",
            "        -2.3710e-01,  3.5680e-01, -6.7300e-02, -6.6700e-02, -1.4210e-01,\n",
            "        -2.4650e-01, -6.7600e-02,  1.7100e-01,  2.2980e-01, -3.5000e-03,\n",
            "         6.3400e-02, -1.3360e-01,  2.2800e-02, -2.9320e-01, -3.1580e-01,\n",
            "        -1.5690e-01,  2.3300e-02,  1.6800e-01,  8.9800e-02,  2.2890e-01])\n",
            "tensor([-5.5200e-02, -5.3500e-02, -3.6800e-02, -2.8510e-01, -3.8100e-02,\n",
            "        -4.8600e-02,  2.3830e-01, -1.2000e-01,  2.6200e-01, -5.7500e-02,\n",
            "         2.2800e-02,  8.1900e-02,  5.0200e-02, -3.3300e-02, -9.0000e-03,\n",
            "        -5.8900e-02,  2.6670e-01, -1.6800e-02, -1.1340e-01,  6.3300e-02,\n",
            "        -6.6900e-02, -2.2100e-02, -4.8000e-02,  1.8300e-02, -7.7300e-02,\n",
            "         3.2000e-03,  3.3000e-03,  4.3800e-02, -1.5840e-01, -2.2040e-01,\n",
            "        -6.1500e-02, -1.5800e-02, -3.0180e-01, -1.5300e-02, -1.2000e-01,\n",
            "         8.9000e-03, -2.8800e-02,  1.2850e-01, -1.7890e-01, -9.4700e-02,\n",
            "        -3.7400e-02,  9.4400e-02, -3.1700e-02,  1.4600e-01,  1.0400e-01,\n",
            "        -6.5500e-02, -3.3300e-02,  1.4050e-01,  2.0700e-02,  9.7500e-02,\n",
            "        -1.6400e-02, -3.3670e-01,  2.2820e-01, -9.1100e-02,  2.4800e-02,\n",
            "         2.8100e-02, -5.6300e-02, -2.0920e-01, -7.6900e-02, -8.5500e-02,\n",
            "         1.4430e-01, -1.4790e-01, -1.3200e-02, -1.7510e-01,  3.4200e-02,\n",
            "        -7.0000e-04,  2.7500e-02, -1.4100e-02,  7.1700e-02,  4.5800e-02,\n",
            "        -5.7900e-02, -9.3300e-02, -7.9600e-02,  1.8470e-01, -1.7200e-02,\n",
            "         2.4050e-01, -3.7940e-01, -6.8500e-02,  1.1030e-01, -1.0200e-01,\n",
            "         2.5990e-01, -7.6200e-02, -2.9300e-02, -7.3500e-02,  9.9000e-03,\n",
            "        -1.1500e-02,  1.1700e-02,  2.6600e-02, -6.0300e-02,  1.5600e-02,\n",
            "         6.3000e-03,  3.5910e-01,  5.1700e-02, -1.0600e-02, -6.5400e-02,\n",
            "        -8.3000e-03,  5.7900e-02,  2.1840e-01, -1.0980e-01,  3.2500e-02,\n",
            "         3.8100e-02,  3.3900e-02,  2.6150e-01,  1.1900e-02,  1.0370e-01,\n",
            "         1.4800e-02,  1.0640e-01, -1.0870e-01, -7.2000e-02,  1.6360e-01,\n",
            "         1.8310e-01,  2.2640e-01,  7.4200e-02,  4.1400e-02, -5.9760e-01,\n",
            "         2.0310e-01, -3.6840e-01,  4.2900e-02,  3.0260e-01, -6.4000e-03,\n",
            "         5.1500e-02, -5.8600e-02,  1.4400e-02, -3.7600e-02, -2.1100e-02,\n",
            "        -9.0400e-02,  3.6700e-02,  4.7700e-02,  1.7610e-01, -2.8000e-03,\n",
            "        -5.9000e-03,  3.4000e-02,  3.5500e-02,  1.2270e-01,  4.8300e-02,\n",
            "        -1.1230e-01, -2.9280e-01,  1.4140e-01,  4.5100e-02, -2.4950e-01,\n",
            "        -1.6000e-03, -3.9700e-02, -1.4600e-02,  2.3240e-01, -3.4100e-02,\n",
            "         2.5100e-02, -3.0600e-02,  2.6100e-02,  4.6000e-03, -1.7010e-01,\n",
            "        -8.1300e-02, -4.8500e-02,  2.7500e-02, -2.2600e-02,  1.0020e-01,\n",
            "        -2.0200e-02,  1.3300e-02, -1.0810e-01,  1.5700e-02,  8.0000e-04,\n",
            "         3.9440e-01,  1.0950e-01,  6.0000e-02,  3.8200e-02, -6.5600e-02,\n",
            "         3.7900e-02, -5.4200e-02, -4.7600e-02,  4.2000e-03,  3.3500e-02,\n",
            "        -3.9900e-02,  4.2000e-03,  2.6480e-01, -6.0000e-03,  2.4000e-03,\n",
            "         5.0500e-02,  6.7800e-02,  5.8000e-03, -5.3500e-02, -1.9000e-03,\n",
            "         2.1000e-01, -4.6200e-02,  1.0550e-01, -6.5600e-02,  1.0330e-01,\n",
            "        -9.3600e-02, -1.0580e-01,  1.2160e-01,  1.0740e-01,  9.8600e-02,\n",
            "        -1.0300e-02, -2.6100e-02, -1.1670e-01, -1.2200e-02,  1.1000e-01,\n",
            "         2.6000e-02, -7.8000e-02,  7.7200e-02,  1.2900e-02,  3.5200e-02,\n",
            "        -5.0800e-02, -2.8500e-02, -1.0800e-02,  1.6900e-02,  3.1900e-02,\n",
            "         3.3600e-02, -5.2900e-02,  2.0900e-02, -3.4100e-02,  2.1240e-01,\n",
            "         6.6700e-02,  5.7880e-01, -3.0600e-02,  3.0900e-02, -4.6900e-02,\n",
            "        -1.8190e-01,  2.6600e-02, -7.8100e-02, -5.0100e-02,  3.7400e-02,\n",
            "        -4.8200e-02,  1.7090e-01,  1.0600e-02,  3.3100e-02,  4.7330e-01,\n",
            "        -5.5500e-02,  9.0400e-02,  9.5000e-03, -1.1060e-01,  1.4900e-01,\n",
            "         5.8100e-02,  6.1000e-03,  1.4880e-01, -5.6500e-02, -2.8500e-02,\n",
            "         1.1200e-02,  2.6200e-02, -3.4100e-02, -1.4800e-02,  1.5200e-02,\n",
            "         5.2800e-02, -1.3620e-01,  1.6240e-01, -1.1920e-01, -4.0240e-01,\n",
            "         8.0300e-02,  1.6190e-01,  7.7000e-03, -8.6000e-02,  2.0700e-02,\n",
            "         1.9900e-02,  1.6570e-01, -2.2700e-02, -1.3640e-01,  3.3860e-01,\n",
            "        -5.0300e-02, -5.6500e-02,  2.1000e-02, -3.4200e-02, -3.3200e-02,\n",
            "         6.3200e-02, -9.7000e-02, -8.0000e-03,  5.1600e-02,  5.6700e-02,\n",
            "        -9.5100e-02,  3.3900e-02,  3.0300e-02,  7.8500e-02, -3.5400e-02,\n",
            "        -8.2000e-03,  2.0360e-01,  3.9000e-03, -1.1140e-01, -5.9000e-03,\n",
            "        -4.3300e-02,  5.6030e-01, -7.0700e-02, -4.4800e-02,  7.2200e-02,\n",
            "        -2.0620e-01,  9.5500e-02,  3.0500e-02, -1.2140e-01, -1.1950e-01,\n",
            "        -1.3920e-01,  5.1000e-02,  4.7900e-02,  1.7150e-01,  4.6100e-02,\n",
            "         4.2500e-02,  6.6000e-02,  4.7800e-02, -1.8590e-01, -1.2950e-01,\n",
            "         1.0000e-04,  1.1100e-02, -2.0620e-01,  8.6100e-02,  1.2440e-01])\n"
          ]
        }
      ]
    },
    {
      "cell_type": "markdown",
      "source": [
        "## Flair embeddings\n",
        "* Special type of contextual embeddings.\n",
        "* Models words as a sequence of characters.\n",
        "* Motivation for the `Contextual String Embeddings for Sequence Labeling` paper.\n",
        "* Contextual embedding - each word embedding should not only be defined by its _syntactic_ meaning, but also the _context_ it appears in. Each word will have a _different_ embedding for every context it appears in.\n",
        "* Each pre-trained Flair model offers a _forward_ version and a _backward_ version. "
      ],
      "metadata": {
        "id": "swKiori1ntla"
      }
    },
    {
      "cell_type": "code",
      "source": [
        "from flair.data import Sentence\n",
        "from flair.embeddings import FlairEmbeddings\n",
        "\n",
        "embedding = FlairEmbeddings('news-forward')\n",
        "s1 = Sentence(\"nice shirt\")\n",
        "s2 = Sentence(\"nice pants\")\n",
        "embedding.embed(s1)\n",
        "embedding.embed(s2)\n",
        "print(s1[0].embedding.tolist() == s2[0].embedding.tolist())"
      ],
      "metadata": {
        "colab": {
          "base_uri": "https://localhost:8080/"
        },
        "id": "i1pXaPdcm1rc",
        "outputId": "cf5a3856-5bb5-49bb-afd9-dec4b427f06b"
      },
      "execution_count": 54,
      "outputs": [
        {
          "output_type": "stream",
          "name": "stdout",
          "text": [
            "True\n"
          ]
        }
      ]
    },
    {
      "cell_type": "code",
      "source": [
        "# Put some cnotext before \"nice shirt\".\n",
        "s1 = Sentence(\"very nice shirt\")\n",
        "s2 = Sentence(\"pretty nice pants\")\n",
        "\n",
        "embedding.embed(s1)\n",
        "embedding.embed(s2)\n",
        "\n",
        "print(s1[1].embedding.tolist() == s2[1].embedding.tolist())"
      ],
      "metadata": {
        "colab": {
          "base_uri": "https://localhost:8080/"
        },
        "id": "Pwa4B5rwsmbY",
        "outputId": "0c39cb83-e282-4f13-a439-10e4c798557a"
      },
      "execution_count": 53,
      "outputs": [
        {
          "output_type": "stream",
          "name": "stdout",
          "text": [
            "False\n"
          ]
        }
      ]
    },
    {
      "cell_type": "markdown",
      "source": [
        "Character-level sequence modeling handles _out of vocabulary_ (OOV) words very well, cf. other techniques like GloVe. OOV support offers good performance for words that never appeared in the original training set as well as mistyped words."
      ],
      "metadata": {
        "id": "cdjmcV6ms4fL"
      }
    },
    {
      "cell_type": "code",
      "source": [
        "from sklearn.metrics.pairwise import cosine_similarity as sim\n",
        "\n",
        "s1 = Sentence(\"eating potato\")\n",
        "s2 = Sentence(\"eating potatoo\")\n",
        "\n",
        "embedding = FlairEmbeddings('news-forward')\n",
        "embedding.embed(s1)\n",
        "embedding.embed(s2)\n",
        "\n",
        "e1 = s1[1].embedding.tolist()\n",
        "e2 = s2[1].embedding.tolist()\n",
        "\n",
        "print(sim([e1], [e2])) # Strong connection"
      ],
      "metadata": {
        "colab": {
          "base_uri": "https://localhost:8080/"
        },
        "id": "XXltQRdFstn9",
        "outputId": "02f4f3a5-5abb-4dfa-e25e-a0de1ac5d9a0"
      },
      "execution_count": 60,
      "outputs": [
        {
          "output_type": "stream",
          "name": "stdout",
          "text": [
            "[[0.86474945]]\n"
          ]
        }
      ]
    },
    {
      "cell_type": "markdown",
      "source": [
        "## Pooled embeddings\n",
        "`PooledFlairEmbeddings` generally give better performance than `FlairEmbeddings`, but require substantially more memory.\n",
        "* `news-DIRECTION`: trained on a 1B+ word corpus, e.g. `news-forward`.\n",
        "* `LANGUAGE_CODE-DIRECTION`: trained on Wikipedia, Opus or other large corpora.\n",
        "* `pubmed-DIRECTION`: trained on biomedical PubMed abstract.\n",
        "* `multi-DIRECTION`: multilingual embeddings supporting 300+ languages.\n",
        "\n",
        "Complete and up-to-date list of supported embeddings can be found [here](https://github.com/flairNLP/flair/blob/master/resources/docs/embeddings/FLAIR_EMBEDDINGS.md)."
      ],
      "metadata": {
        "id": "axYFBJ7vtZYB"
      }
    },
    {
      "cell_type": "markdown",
      "source": [
        "## Stacked embeddings\n",
        "* Type of meta embeddings that allows us to form _new_ embeddings by _combining_ two or more embeddings together, _stacking_ them on top of each other, e.g. `forward` and `backward` versions of Flair embeddings. You can also mix _contextual_ and _classic_ word embeddings - this combination often yields state-of-the-art results.\n",
        "* Use the `StackedEmbeddings` class and pass in a list of embedding objects."
      ],
      "metadata": {
        "id": "EqPQmK8iuAiG"
      }
    },
    {
      "cell_type": "code",
      "source": [
        "from flair.embeddings import FlairEmbeddings, WordEmbeddings\n",
        "from flair.embeddings import StackedEmbeddings\n",
        "\n",
        "glove = WordEmbeddings('glove')\n",
        "news_fw = FlairEmbeddings('news-forward')\n",
        "news_bw = FlairEmbeddings('news-backward')\n",
        "combined_embeddings_list = [glove, news_fw, news_bw]\n",
        "stack = StackedEmbeddings(combined_embeddings_list)"
      ],
      "metadata": {
        "colab": {
          "base_uri": "https://localhost:8080/"
        },
        "id": "GfV5DM9TtKsq",
        "outputId": "4e596585-000c-4de0-d404-c9283f8b1e28"
      },
      "execution_count": 61,
      "outputs": [
        {
          "output_type": "stream",
          "name": "stdout",
          "text": [
            "2022-06-22 00:04:26,158 https://flair.informatik.hu-berlin.de/resources/embeddings/token/glove.gensim.vectors.npy not found in cache, downloading to /tmp/tmpjkid5a8p\n"
          ]
        },
        {
          "output_type": "stream",
          "name": "stderr",
          "text": [
            "100%|██████████| 160000128/160000128 [00:06<00:00, 23300672.75B/s]"
          ]
        },
        {
          "output_type": "stream",
          "name": "stdout",
          "text": [
            "2022-06-22 00:04:33,430 copying /tmp/tmpjkid5a8p to cache at /root/.flair/embeddings/glove.gensim.vectors.npy\n"
          ]
        },
        {
          "output_type": "stream",
          "name": "stderr",
          "text": [
            "\n"
          ]
        },
        {
          "output_type": "stream",
          "name": "stdout",
          "text": [
            "2022-06-22 00:04:34,012 removing temp file /tmp/tmpjkid5a8p\n",
            "2022-06-22 00:04:34,412 https://flair.informatik.hu-berlin.de/resources/embeddings/token/glove.gensim not found in cache, downloading to /tmp/tmpcikxbrb1\n"
          ]
        },
        {
          "output_type": "stream",
          "name": "stderr",
          "text": [
            "100%|██████████| 21494764/21494764 [00:01<00:00, 12108476.46B/s]"
          ]
        },
        {
          "output_type": "stream",
          "name": "stdout",
          "text": [
            "2022-06-22 00:04:36,546 copying /tmp/tmpcikxbrb1 to cache at /root/.flair/embeddings/glove.gensim\n"
          ]
        },
        {
          "output_type": "stream",
          "name": "stderr",
          "text": [
            "\n"
          ]
        },
        {
          "output_type": "stream",
          "name": "stdout",
          "text": [
            "2022-06-22 00:04:36,586 removing temp file /tmp/tmpcikxbrb1\n",
            "2022-06-22 00:04:38,996 https://flair.informatik.hu-berlin.de/resources/embeddings/flair/news-backward-0.4.1.pt not found in cache, downloading to /tmp/tmptrbt88xk\n"
          ]
        },
        {
          "output_type": "stream",
          "name": "stderr",
          "text": [
            "100%|██████████| 73034575/73034575 [00:03<00:00, 20542476.90B/s]"
          ]
        },
        {
          "output_type": "stream",
          "name": "stdout",
          "text": [
            "2022-06-22 00:04:42,947 copying /tmp/tmptrbt88xk to cache at /root/.flair/embeddings/news-backward-0.4.1.pt\n"
          ]
        },
        {
          "output_type": "stream",
          "name": "stderr",
          "text": [
            "\n"
          ]
        },
        {
          "output_type": "stream",
          "name": "stdout",
          "text": [
            "2022-06-22 00:04:43,149 removing temp file /tmp/tmptrbt88xk\n"
          ]
        }
      ]
    },
    {
      "cell_type": "code",
      "source": [
        "s = Sentence(\"We have now covered the main word embedding types in Flair.\")\n",
        "stack.embed(s)\n",
        "s[0].embedding"
      ],
      "metadata": {
        "colab": {
          "base_uri": "https://localhost:8080/"
        },
        "id": "iJbGFSLauXad",
        "outputId": "02fa4fe7-f063-466d-9fa4-3426b6afeb7e"
      },
      "execution_count": 63,
      "outputs": [
        {
          "output_type": "execute_result",
          "data": {
            "text/plain": [
              "tensor([-0.1779,  0.6267,  0.4787,  ..., -0.0007, -0.0041, -0.1082])"
            ]
          },
          "metadata": {},
          "execution_count": 63
        }
      ]
    },
    {
      "cell_type": "markdown",
      "source": [
        "## Document embeddings\n",
        "* One embedding for entire document instead of for each word. \n",
        "* Instead of accessing the embedding through `sentence[n].embedding`, returning the `n`-th word's embedding, simply run `sentence.embedding` or `sentence.get_embedding()`.\n",
        "\n",
        "Supported embedding types include:\n",
        "* `TransformerDocumentEmbeddings`: uses pre-trained Hugging Face transformers.\n",
        "* `DocumentPoolEmbeddings`: meta document embedding class that takes a word embedding object, computes the embedding for each word, and returns the _mean_ of all word embeddings.\n",
        "* `DocumentRNNEmbeddings`: meta document embedding class that takes a word embedding object, trains a RNN on the entire document, and returns the final state as the embedding for that document.\n",
        "* `SentenceTransformerDocumentEmbeddings`: a document embedding class that uses the external `sentence-transformers` library."
      ],
      "metadata": {
        "id": "LqNTheD-up2Z"
      }
    },
    {
      "cell_type": "code",
      "source": [
        "# `TransformerDocumentEmbeddings` class is recommended for document \n",
        "# classification tasks.\n",
        "from flair.data import Sentence\n",
        "from flair.embeddings import TransformerDocumentEmbeddings\n",
        "\n",
        "# Pass the `bert-base-uncased` embedding ID to the `TransformerDocumentEmbeddings`\n",
        "# class.\n",
        "embedding = TransformerDocumentEmbeddings('bert-base-uncased')\n",
        "sentence = Sentence('Example sentence .')\n",
        "embedding.embed(sentence)\n",
        "print(sentence.embedding)"
      ],
      "metadata": {
        "colab": {
          "base_uri": "https://localhost:8080/",
          "height": 1000,
          "referenced_widgets": [
            "0445b925af3d42d39bb28f8b0df99f6a",
            "6982796252b74b29a43e8749c9e9a4d4",
            "71f9741f7d564d19bb8d34fd1784d3b7",
            "f0165437a807416ab35510a02ddde12b",
            "1865fc26bbf14f44b7525be5c99af42b",
            "c241e7951e6046c69eeea8a2284e0b9d",
            "928c4624d1514dc1b1ab540383273c57",
            "702b7f2d0cc846bcb6469b2719ec1bf6",
            "9d2511196dac4de5b54ad6a354d4b521",
            "754d6526080147fca06d13bc2c060787",
            "98680860d8bf4e2a8d4f3a09e3c05910",
            "ac2b93faafb745ad8ad1c40043f37945",
            "81758233d7794cf9b314ae8bc8183efa",
            "994837f88c7f4eb3a16e3eb4b5ac46c1",
            "f820d261a2cc4fbd939e01916fb25117",
            "8485364f305e425891807f1a81de5589",
            "4243b579887e4b969c9f859f36b7d777",
            "f8f3234e3c5d4e12ad48eed1b285d560",
            "64859fea8faf484695f4d2018f7d107c",
            "f236bf242c604ab1b7cb8024a4cf3700",
            "0a07e84ee1354fbda0fe44055e8d3a7f",
            "ed0edfd3c58a441eaefd85d72f170e0b",
            "1a4666c8d17f40878be3cedaa19a62b6",
            "74df3a9c0d644596b55c66922bd919ba",
            "1bae4f1a5ac446439b6e7ef9f075e6c3",
            "c38ded9133a345839c8cefa040448f26",
            "3cadb74086554dab94d4948feba593dd",
            "f5ce10f7f41844299c2b0cf50d356912",
            "e9733217922a43efa04aea35b752e8eb",
            "9176952f866349048f0e881b49371c59",
            "2421de89ec8049b281b19ef5634344bc",
            "1c9018d07a1543ce8680b4615d9ac386",
            "4b14c78595b14faaad046ff18a086806",
            "0bf3acc882b54ffd93941fc4323c153a",
            "0d21692373244d16943d41c65a01a661",
            "5ca56c1d9b3b4253a30b4a3575fef84a",
            "342bdab244a14a90a7bc912ced89c84c",
            "517dad8f85084b9bbb83a0b4b32e3114",
            "1754ce0c053340609ac9e8745e0aec9c",
            "9e97bc2c445b45af819921b0b79f7aee",
            "33a8b3533c27460eaa0b09353903b38e",
            "4385ab6c494849c5b53f742197e15eda",
            "e282966901a94e4eae63e84b1305c5e7",
            "3f3a199f2abb4fc6a68410be03be7c19",
            "a01b55286a434c93b906435b975e5de2",
            "813836a914c546f9b9f9fd949c841fc8",
            "7bee905f3f024132a065dfcac19d461f",
            "29ef296b58f941609e50d5983e27a154",
            "56ae2d6e8a1c4fc393b5da895c56c631",
            "31bb14f20929465d9e5d35a1e66b2beb",
            "8f6852a458cd4a3987741347a2251d20",
            "af9194c95ad446dfb78ef4e971d372b2",
            "c19642441efb47f4ba98db10790264f9",
            "d0c916f1fff942fb8a3bfb0d008c72b4",
            "78bbeeeae2bb4499a4f17196e38f043d"
          ]
        },
        "id": "hfSEnad3uhgW",
        "outputId": "43078604-464a-4983-f634-3f6d008de2b1"
      },
      "execution_count": 64,
      "outputs": [
        {
          "output_type": "display_data",
          "data": {
            "text/plain": [
              "Downloading:   0%|          | 0.00/28.0 [00:00<?, ?B/s]"
            ],
            "application/vnd.jupyter.widget-view+json": {
              "version_major": 2,
              "version_minor": 0,
              "model_id": "0445b925af3d42d39bb28f8b0df99f6a"
            }
          },
          "metadata": {}
        },
        {
          "output_type": "display_data",
          "data": {
            "text/plain": [
              "Downloading:   0%|          | 0.00/570 [00:00<?, ?B/s]"
            ],
            "application/vnd.jupyter.widget-view+json": {
              "version_major": 2,
              "version_minor": 0,
              "model_id": "ac2b93faafb745ad8ad1c40043f37945"
            }
          },
          "metadata": {}
        },
        {
          "output_type": "display_data",
          "data": {
            "text/plain": [
              "Downloading:   0%|          | 0.00/226k [00:00<?, ?B/s]"
            ],
            "application/vnd.jupyter.widget-view+json": {
              "version_major": 2,
              "version_minor": 0,
              "model_id": "1a4666c8d17f40878be3cedaa19a62b6"
            }
          },
          "metadata": {}
        },
        {
          "output_type": "display_data",
          "data": {
            "text/plain": [
              "Downloading:   0%|          | 0.00/455k [00:00<?, ?B/s]"
            ],
            "application/vnd.jupyter.widget-view+json": {
              "version_major": 2,
              "version_minor": 0,
              "model_id": "0bf3acc882b54ffd93941fc4323c153a"
            }
          },
          "metadata": {}
        },
        {
          "output_type": "display_data",
          "data": {
            "text/plain": [
              "Downloading:   0%|          | 0.00/420M [00:00<?, ?B/s]"
            ],
            "application/vnd.jupyter.widget-view+json": {
              "version_major": 2,
              "version_minor": 0,
              "model_id": "a01b55286a434c93b906435b975e5de2"
            }
          },
          "metadata": {}
        },
        {
          "output_type": "stream",
          "name": "stdout",
          "text": [
            "tensor([-3.8265e-01, -4.1989e-01, -4.5568e-01, -1.3186e-01, -1.2537e-01,\n",
            "        -2.0902e-01,  3.6137e-01,  6.7940e-01, -2.0756e-01,  8.2741e-02,\n",
            "        -4.3637e-01,  6.3790e-03, -1.5674e-01,  5.8669e-03,  3.8537e-01,\n",
            "         2.9506e-01,  1.2890e-01,  5.4639e-01,  2.0102e-01, -3.9490e-01,\n",
            "         2.2782e-01, -2.4621e-01, -4.1011e-01, -3.6260e-01,  6.7014e-01,\n",
            "        -4.5109e-01, -1.3158e-01, -4.9097e-01, -3.4307e-01,  1.0990e-01,\n",
            "        -1.4936e-01,  1.2353e-01, -3.3298e-01, -9.2121e-02,  5.2665e-01,\n",
            "        -4.1306e-01,  3.2726e-01,  1.1250e-01,  2.1552e-01, -1.6543e-01,\n",
            "        -2.1626e-01, -2.6640e-01,  6.7084e-01, -4.2707e-02, -1.7106e-01,\n",
            "        -1.3874e-01, -2.7392e+00, -3.8732e-01, -5.3229e-01, -1.8500e-01,\n",
            "        -3.6312e-01,  1.8642e-02,  4.9888e-01,  5.2212e-01, -2.6090e-01,\n",
            "         7.2174e-01, -1.1585e-01,  4.0245e-01,  2.6817e-01, -2.1080e-02,\n",
            "         5.2385e-02, -1.3981e-02,  4.1279e-02,  6.7050e-02,  7.1763e-02,\n",
            "         1.0290e-01, -2.4961e-01,  6.2544e-01, -9.1377e-01,  4.4461e-01,\n",
            "        -8.0734e-01, -4.4205e-01,  7.1413e-01, -8.9647e-02,  1.4953e-01,\n",
            "         1.5590e-01, -3.5522e-01,  4.0683e-01, -6.9608e-01, -5.9933e-01,\n",
            "        -2.0906e-01,  1.8222e-01,  2.8131e-02, -3.8350e-01,  4.3671e-01,\n",
            "         3.3701e-01, -3.0420e-01, -5.5231e-01, -2.1785e-01,  5.2570e-01,\n",
            "         1.1342e-01, -1.3415e-01, -4.3572e-01,  4.4422e-01,  6.0544e-01,\n",
            "         6.6740e-02, -2.3595e-01,  1.0322e-01, -1.9588e-01,  2.0199e-01,\n",
            "        -2.3346e-03, -1.9597e-01,  4.5398e-01, -6.9034e-01,  6.0232e-02,\n",
            "        -5.3409e-02, -5.8432e-01, -2.4652e-01,  1.7444e-01, -2.2104e+00,\n",
            "         3.0919e-01, -3.8001e-02, -1.8388e-01, -1.9611e-01, -1.0016e-01,\n",
            "         6.0171e-01,  1.3465e-01,  1.6771e-01,  2.9145e-01, -1.4344e-01,\n",
            "         1.8726e-01, -7.2044e-02, -2.4318e-01,  3.6594e-02,  3.4251e-02,\n",
            "         5.7992e-01,  3.1971e-01,  4.4677e-01,  6.2049e-01,  2.5876e-01,\n",
            "         8.0957e-02,  5.3641e-01,  3.0305e-01, -2.1588e-01, -1.7812e-01,\n",
            "         1.0971e-01,  6.0567e-01,  1.2838e-01, -1.7966e-01, -1.3536e-01,\n",
            "        -2.9468e-01, -3.0749e-01, -2.5161e+00, -2.2860e-01,  8.7077e-01,\n",
            "         3.8394e-02, -1.1273e-01,  3.4213e-01,  2.5017e-01,  4.3421e-01,\n",
            "        -1.9120e-02, -1.0471e-01, -1.3522e-01,  3.0116e-01, -5.7628e-01,\n",
            "         1.6826e-01,  3.7587e-01, -3.0530e-01,  2.3191e-01,  3.7582e-01,\n",
            "         3.4103e-01,  9.1412e-02,  1.5895e-01, -3.9937e-02,  6.8127e-02,\n",
            "         1.8484e-01,  1.9485e-01, -4.7908e-02,  1.7829e-01,  6.7817e-02,\n",
            "        -5.6359e-01, -6.1993e-02,  4.1905e-01, -3.9962e-03, -3.4588e-01,\n",
            "         1.7435e-01,  1.3769e-01,  5.2130e-01,  6.6054e-01, -3.5085e-01,\n",
            "        -2.1948e-01,  7.8233e-01, -3.0418e-03, -5.6007e-01,  3.2174e-01,\n",
            "        -1.2633e-01,  6.8010e-01, -3.6343e-01, -1.4226e-01,  1.4016e-01,\n",
            "         1.5315e-01, -3.2922e-01,  1.5608e-01,  8.2557e-02,  4.1060e-01,\n",
            "         3.2124e-01, -5.0455e-03, -4.9418e-01, -9.8044e-02,  3.8362e-01,\n",
            "         2.7495e-01,  1.6293e-01, -6.4057e-02, -5.1557e-02, -1.7810e-01,\n",
            "         3.7469e+00,  1.5919e-01, -3.4309e-02,  2.7925e-01,  4.3154e-01,\n",
            "        -1.5306e-01,  6.8971e-01,  3.0395e-01, -1.4512e-01,  2.0270e-01,\n",
            "        -1.6971e-01,  6.0706e-01, -2.0789e-01, -1.7595e-01, -2.6126e-01,\n",
            "        -2.5476e-01,  1.9858e-03, -2.3292e-01, -7.3148e-03, -5.0248e-01,\n",
            "         3.0238e-01,  9.5278e-02,  8.0950e-01,  2.8481e-01, -1.2442e+00,\n",
            "         1.7082e-01,  5.0600e-02,  1.1399e-02,  5.0736e-01, -5.5526e-01,\n",
            "        -1.5256e-01, -9.3934e-02, -3.1512e-02, -4.9403e-01, -3.1931e-03,\n",
            "        -2.2373e-01,  1.0218e-01, -5.3297e-02, -4.9003e-02, -3.7168e-01,\n",
            "        -7.7548e-02,  3.3332e-01, -1.3864e-02,  2.7184e-01, -1.9919e-01,\n",
            "         7.5133e-01, -2.0086e-01,  8.0467e-02, -3.9959e-01, -3.1429e-01,\n",
            "         2.4305e-01, -4.0544e-02,  5.4590e-01, -1.9701e-01,  4.2982e-01,\n",
            "        -4.3854e-01, -6.5610e-02,  2.8181e-01,  1.6605e-01, -1.2585e+00,\n",
            "        -2.4506e-01, -1.2207e-01, -1.5250e-02,  1.6649e-01, -5.7178e-02,\n",
            "        -3.0199e-01, -6.3049e-01, -5.8366e-01, -3.2235e+00,  1.5405e-01,\n",
            "         3.7875e-01,  2.3623e-01,  3.9772e-01, -1.8957e-01, -1.0883e-01,\n",
            "         3.4948e-01,  1.1766e-01, -1.8157e-01,  4.7156e-01,  9.6657e-02,\n",
            "        -4.6744e-01,  2.2476e-01, -3.8185e-01, -1.5079e-01, -3.0090e-01,\n",
            "        -1.6754e-01, -1.4707e-01, -5.9240e-01, -2.1545e-02,  5.3801e-01,\n",
            "         3.3347e-01,  3.7609e-01, -4.4076e-02, -2.8639e-01, -6.5799e-01,\n",
            "        -4.1966e-01, -1.8005e-01, -6.2680e-01, -3.0216e-01, -5.2598e-01,\n",
            "         1.9410e-01, -1.3416e-01, -1.4359e-01, -2.9181e+00,  2.9184e-01,\n",
            "        -3.5532e-01, -3.0205e-01,  1.5367e-01,  2.7590e-02,  1.5025e-01,\n",
            "        -2.5906e-02, -4.7004e-02,  2.6247e-01, -2.6067e-01, -6.7304e-01,\n",
            "        -1.1743e-01,  3.7992e-01,  1.9063e-01,  5.8839e-01,  3.2295e-01,\n",
            "         3.6578e-01,  1.1360e-01,  3.0385e-01, -1.5801e-01,  1.6905e-01,\n",
            "         1.2605e-01, -9.0267e-02,  4.2440e-01,  3.9433e-01, -6.5276e-01,\n",
            "        -9.3002e-02, -2.2780e-02, -3.8308e-01,  4.2517e-01, -1.4456e-02,\n",
            "        -7.4358e-02, -2.1609e-01, -7.4081e-01, -1.0319e-01,  5.3884e-01,\n",
            "         4.0856e-01,  7.6977e-01,  4.2568e-02, -9.0059e-02,  8.2112e-01,\n",
            "         7.7090e-02,  2.4367e-01,  7.2706e-01, -1.8199e-01,  5.6261e-02,\n",
            "        -1.3337e-01,  9.3563e-02,  1.9459e-01, -5.9054e-01, -9.0510e-02,\n",
            "         1.4724e+00,  1.5720e-01,  6.0266e-01,  1.6525e-01,  5.0903e-01,\n",
            "         3.9713e-01,  2.7516e-01,  1.6598e-01,  8.5639e-01, -3.8029e-01,\n",
            "         3.6766e-01, -7.5764e-01,  2.9047e-01, -5.8733e-01,  4.9537e-01,\n",
            "         6.3460e-02, -7.8338e-02,  1.7960e-01, -3.2873e-01,  1.0244e-01,\n",
            "        -1.6827e-01, -1.1814e+00,  2.9568e-01,  1.3826e-01, -6.2426e-02,\n",
            "        -2.7915e-01,  9.2194e-04, -4.9577e-01, -4.3510e-01, -8.6769e-02,\n",
            "        -7.0022e-01,  5.5267e-01, -8.5456e-02,  2.1873e-01,  2.5813e-01,\n",
            "         3.4955e-02, -6.6534e-01, -1.0533e-01, -5.9210e-01,  1.9535e-01,\n",
            "         4.9369e-02,  3.8163e-01, -5.2777e-01,  5.6330e-01,  8.9981e-01,\n",
            "        -1.1613e+00,  4.0417e-01, -4.4108e-01,  1.3736e-01, -2.6527e-01,\n",
            "         1.1324e-02,  7.0567e-02, -6.1289e-01, -2.2627e-02, -6.3805e-01,\n",
            "         1.6105e-01,  2.6378e-02,  3.7232e-01,  2.5135e-01,  4.7450e-01,\n",
            "        -1.6746e-01,  5.0043e-01,  5.3268e-01,  1.1236e-01, -4.5304e-01,\n",
            "         6.4496e-01,  6.6827e-01,  2.1507e-01,  7.4165e-02,  7.5821e-02,\n",
            "         8.0494e-05, -1.7272e-02, -6.4578e-01, -1.8588e-01, -4.8514e-02,\n",
            "         1.7288e-01, -2.3360e-01, -2.9632e-01, -4.5280e-01,  1.5552e-02,\n",
            "        -4.3825e-01, -3.2311e-01,  2.3987e-01, -1.1400e+00,  7.4088e-02,\n",
            "         5.1286e-01,  4.5429e-01,  5.0791e-02,  4.6948e-01,  1.3381e-02,\n",
            "        -5.0857e-01,  5.3801e-01,  5.5428e-02,  6.9275e-01, -1.3514e-01,\n",
            "        -1.4044e-01, -5.5026e-01,  7.3988e-01, -1.2130e-01, -4.1530e-01,\n",
            "        -3.5674e-01, -4.2642e-01,  8.2455e-02, -3.1931e-01, -3.7458e-01,\n",
            "         8.4336e-02,  2.7787e-01, -1.6126e-01,  1.1619e-01,  1.2912e-01,\n",
            "        -1.7533e+00,  3.8244e-01,  2.3091e-01,  4.0433e-02,  9.1663e-02,\n",
            "         4.6529e-02, -4.8830e-01,  5.6146e-01, -2.5390e-01,  9.1748e-02,\n",
            "        -3.6331e-01,  4.1880e-01,  1.4547e-01,  4.5952e-01,  2.4483e-01,\n",
            "        -1.5686e-01,  5.0994e-01,  2.7288e-01,  2.9050e-02, -2.1498e-01,\n",
            "         1.4733e-01,  4.6696e-01,  2.8530e-01,  1.5007e-01,  1.1783e-01,\n",
            "         8.3020e-02,  2.7104e-02,  1.6720e-01, -1.8035e-01,  1.3158e-01,\n",
            "        -3.7680e-01, -2.1311e-01, -8.8618e-01, -1.4477e-01,  2.7363e-01,\n",
            "         2.1435e-01,  2.6539e-02, -2.5284e-01,  5.4716e-01,  4.2442e-01,\n",
            "        -3.6332e-01,  4.1233e-01,  1.4759e-01, -8.5603e-02,  4.0220e-01,\n",
            "         5.1794e-01, -1.1228e-01,  1.7452e-01,  3.5764e-01, -5.7828e-01,\n",
            "        -6.2635e-02, -7.4166e-01, -3.8252e-01, -3.0830e-01,  6.8493e-01,\n",
            "        -1.6561e-01, -9.3134e-02,  1.3245e-01, -8.0888e-01, -2.5382e-02,\n",
            "         3.0671e-01, -3.7275e-01, -3.0856e-02,  6.8209e-02, -1.1562e-01,\n",
            "        -7.4633e-01, -1.8199e-01, -1.8072e-01, -2.5160e-01, -6.0147e-02,\n",
            "         3.2076e-01,  1.1182e-01, -4.5093e-02, -2.2943e-01, -7.7489e-01,\n",
            "        -1.0578e-01,  1.7849e-01, -1.4192e-01,  5.0678e-01, -5.7825e-02,\n",
            "         1.0103e-01, -1.1367e+00, -4.6222e-01,  2.1860e-01,  1.5067e-01,\n",
            "         6.3363e-02, -1.0400e-01,  4.0995e-01,  1.5822e-01, -1.2484e-01,\n",
            "        -7.6163e-01, -6.2680e-01,  5.6773e-01, -1.9534e-01,  2.6327e-02,\n",
            "        -2.1522e-02, -3.1183e-01,  2.8185e-01,  2.4099e-01,  2.3766e-01,\n",
            "        -3.8048e-01,  5.1512e-01,  7.4827e-01,  4.9505e-01,  2.4511e-01,\n",
            "         6.1007e-01,  6.9199e-01,  2.1329e-01, -2.3210e-01,  9.0323e-04,\n",
            "        -9.6295e-02, -5.3115e-02,  4.0286e-01, -2.5073e-01, -7.1847e-02,\n",
            "        -9.3447e-02,  2.1540e-01, -1.5271e-01,  1.7500e+00,  4.9165e-01,\n",
            "        -8.8346e-02,  1.1500e-01,  6.8212e-01,  3.2291e-02,  4.1405e-02,\n",
            "         2.5745e-01, -2.5671e-01,  4.8741e-01, -5.0561e-01,  4.7305e-01,\n",
            "        -3.0180e-01,  1.5892e-01,  2.1350e-01,  3.0578e-01, -1.5423e-01,\n",
            "        -2.8450e-01, -4.7837e-01,  1.2402e-01, -3.8476e-01,  9.1934e-01,\n",
            "         3.4056e-01, -2.2573e-01, -6.4572e-02,  4.2085e-01,  3.0125e-01,\n",
            "        -4.9622e-01,  3.2989e-01,  3.0961e-01, -8.0103e-03,  3.8920e-01,\n",
            "         3.8779e-01,  3.1791e-01, -4.1191e-02, -2.9078e-01, -2.5500e-01,\n",
            "        -8.1742e-02, -1.6363e-01, -2.1245e-01, -5.5636e-02, -5.5906e-01,\n",
            "         5.6922e-01,  2.6184e-01, -4.2561e-01,  6.5319e-01, -1.5504e-02,\n",
            "        -1.4604e-02,  3.3675e-01,  2.7722e-02,  2.3686e-01,  9.8206e-02,\n",
            "        -4.7713e-01,  3.3584e-01, -8.1599e-01, -3.4446e-01,  1.5907e-01,\n",
            "         1.0640e-01, -1.3407e-01,  9.0143e-03,  3.1186e-01,  1.9583e-01,\n",
            "        -1.9902e-01, -1.0393e+00, -3.4885e-01, -3.6564e-01, -5.6051e-01,\n",
            "         3.4236e-01,  3.4769e-01,  2.3683e-02,  2.1316e-01,  4.1321e-01,\n",
            "         7.0890e-01,  1.2716e-01,  4.1952e-01, -1.8548e-02,  4.6150e-02,\n",
            "        -1.8646e-01, -2.0466e-01, -2.2934e+00,  5.6738e-02,  3.2458e-01,\n",
            "         1.0020e-01, -7.9629e-02,  2.7959e-01, -2.0967e-02, -9.6988e-02,\n",
            "         2.8159e-01,  5.5723e-02,  3.5701e-02,  3.6909e-01,  3.2648e-01,\n",
            "        -2.0281e-01, -2.0832e-01, -1.3588e-01,  1.3134e-01, -1.7515e-01,\n",
            "         1.7708e-01, -3.5095e-01,  2.3032e-01, -2.5094e-01, -1.3286e-01,\n",
            "        -6.8360e-02, -3.1767e-01, -1.8634e-01, -3.8004e-01, -1.3559e-01,\n",
            "         4.1154e-01,  9.3915e-02, -1.4048e-01, -6.5838e-02, -1.4636e-01,\n",
            "         3.6225e-01, -2.8248e-01,  1.0893e-01,  9.1118e-02, -1.9277e-01,\n",
            "         2.7967e-01,  5.2269e-01, -2.2972e-01,  2.2067e-01, -1.5995e-01,\n",
            "         4.3703e-01, -1.4811e-01,  4.4309e-02,  7.0842e-01, -2.7241e-01,\n",
            "         6.5216e-01, -2.8483e-01, -3.4925e-01,  7.2312e-02,  2.8337e-01,\n",
            "         2.7516e-01,  3.9139e-01,  1.6913e-01,  7.6095e-02, -3.7645e-01,\n",
            "        -1.5439e-01, -1.9691e-01,  2.5933e-01, -3.3744e-03, -2.8187e-01,\n",
            "        -3.0555e-02,  5.6998e-01, -4.9215e-01, -2.0200e-01, -1.8166e-01,\n",
            "        -3.6112e-02,  1.4594e-02, -5.0842e-02,  1.2990e-01,  1.9074e-01,\n",
            "         3.6805e-01,  1.1872e-01,  1.7985e-01,  4.7640e-02, -1.5832e-01,\n",
            "         7.2092e-01,  2.1576e-01,  1.4062e-01, -6.5698e-01,  1.8091e-02,\n",
            "        -7.0131e-02,  2.9033e-01, -7.5064e+00,  2.0888e-01, -2.6317e-02,\n",
            "        -2.6234e-01, -1.9633e-01, -6.0377e-01,  3.3302e-01, -1.6628e-01,\n",
            "        -1.5166e-01,  8.1571e-02, -2.3981e-01,  2.5524e-01,  1.4728e-01,\n",
            "        -6.1021e-01,  5.2412e-02,  5.8859e-01])\n"
          ]
        }
      ]
    }
  ]
}