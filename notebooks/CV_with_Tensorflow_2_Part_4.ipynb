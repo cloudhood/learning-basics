{
  "nbformat": 4,
  "nbformat_minor": 0,
  "metadata": {
    "colab": {
      "name": "CV_with_Tensorflow_2_Part_4.ipynb",
      "provenance": [],
      "authorship_tag": "ABX9TyNb5vYVQ58HCPoWr5pPS/KY",
      "include_colab_link": true
    },
    "kernelspec": {
      "name": "python3",
      "display_name": "Python 3"
    },
    "language_info": {
      "name": "python"
    }
  },
  "cells": [
    {
      "cell_type": "markdown",
      "metadata": {
        "id": "view-in-github",
        "colab_type": "text"
      },
      "source": [
        "<a href=\"https://colab.research.google.com/github/cloudhood/learning-basics/blob/main/notebooks/CV_with_Tensorflow_2_Part_4.ipynb\" target=\"_parent\"><img src=\"https://colab.research.google.com/assets/colab-badge.svg\" alt=\"Open In Colab\"/></a>"
      ]
    },
    {
      "cell_type": "markdown",
      "source": [
        "# [Computer Vision: Early Stopping to Save Time and Processing Power](https://learning.oreilly.com/scenarios/computer-vision-early/9781492094432/)"
      ],
      "metadata": {
        "id": "WMfYn6v3umYb"
      }
    },
    {
      "cell_type": "code",
      "source": [
        "!pip install --upgrade numpy tensorflow &> /dev/null"
      ],
      "metadata": {
        "id": "372fc4cnvHUL"
      },
      "execution_count": 2,
      "outputs": []
    },
    {
      "cell_type": "markdown",
      "source": [
        "The focus on this section will be on additional tools commonly used in ML to achieve better results."
      ],
      "metadata": {
        "id": "MSFl8iPNu-X2"
      }
    },
    {
      "cell_type": "code",
      "source": [
        "import numpy as np\n",
        "import tensorflow as tf\n",
        "\n",
        "def create_model():\n",
        "    model = tf.keras.Sequential([\n",
        "            tf.keras.layers.Conv2D(filters=6, kernel_size=(3, 3), activation='relu', input_shape=(32,32,1)),\n",
        "            tf.keras.layers.AveragePooling2D(),\n",
        "            tf.keras.layers.Conv2D(filters=16, kernel_size=(3, 3), activation='relu'),\n",
        "            tf.keras.layers.AveragePooling2D(),\n",
        "            tf.keras.layers.Flatten(),\n",
        "            tf.keras.layers.Dense(units=120, activation='relu'),\n",
        "            tf.keras.layers.Dense(units=84, activation='relu'),\n",
        "            tf.keras.layers.Dense(units=10, activation='softmax')\n",
        "        ])\n",
        "    return model\n",
        "\n",
        "def prepare_data(images):\n",
        "    # Normalize the image pixels\n",
        "    images  = images / 255.0\n",
        "    \n",
        "    # Add an extra dimension to the matrix\n",
        "    images = np.expand_dims(images,-1)\n",
        "\n",
        "    # Pad the images to get it into 32x32 size\n",
        "    images = np.pad(images, ((0,0),(2,2),(2,2),(0,0)), 'constant')\n",
        "    return images"
      ],
      "metadata": {
        "id": "ZOnizVAmulhm"
      },
      "execution_count": 3,
      "outputs": []
    },
    {
      "cell_type": "markdown",
      "source": [
        "## `EarlyStopping` callback"
      ],
      "metadata": {
        "id": "BmfD4JNPwbW8"
      }
    },
    {
      "cell_type": "markdown",
      "source": [
        "If we run too many epochs, we might overfit on the training data. It would be nice to be able to stop the training when the maximum of some metric is reached. For instance, we could stop training if the accuracy stopped improving in `n` consecutive epochs. This is called the **early stopping callback**."
      ],
      "metadata": {
        "id": "rmF0vb3DvQEW"
      }
    },
    {
      "cell_type": "code",
      "source": [
        "import tensorflow as tf\n",
        "import matplotlib.pyplot as plt\n",
        "\n",
        "# Function to clean up the data and create the model\n",
        "mnist = tf.keras.datasets.fashion_mnist\n",
        "(training_images, training_labels), (test_images, test_labels) = mnist.load_data()\n",
        "\n",
        "training_images = prepare_data(training_images)\n",
        "test_images = prepare_data(test_images)\n",
        "\n",
        "model = create_model()\n",
        "\n",
        "print(model.summary())\n"
      ],
      "metadata": {
        "colab": {
          "base_uri": "https://localhost:8080/"
        },
        "id": "qmBe1Sj8vO00",
        "outputId": "641112f9-4dc5-4bc5-e942-37c2d5e2b5d2"
      },
      "execution_count": 5,
      "outputs": [
        {
          "output_type": "stream",
          "name": "stdout",
          "text": [
            "Downloading data from https://storage.googleapis.com/tensorflow/tf-keras-datasets/train-labels-idx1-ubyte.gz\n",
            "29515/29515 [==============================] - 0s 0us/step\n",
            "Downloading data from https://storage.googleapis.com/tensorflow/tf-keras-datasets/train-images-idx3-ubyte.gz\n",
            "26421880/26421880 [==============================] - 0s 0us/step\n",
            "Downloading data from https://storage.googleapis.com/tensorflow/tf-keras-datasets/t10k-labels-idx1-ubyte.gz\n",
            "5148/5148 [==============================] - 0s 0us/step\n",
            "Downloading data from https://storage.googleapis.com/tensorflow/tf-keras-datasets/t10k-images-idx3-ubyte.gz\n",
            "4422102/4422102 [==============================] - 0s 0us/step\n",
            "Model: \"sequential\"\n",
            "_________________________________________________________________\n",
            " Layer (type)                Output Shape              Param #   \n",
            "=================================================================\n",
            " conv2d (Conv2D)             (None, 30, 30, 6)         60        \n",
            "                                                                 \n",
            " average_pooling2d (AverageP  (None, 15, 15, 6)        0         \n",
            " ooling2D)                                                       \n",
            "                                                                 \n",
            " conv2d_1 (Conv2D)           (None, 13, 13, 16)        880       \n",
            "                                                                 \n",
            " average_pooling2d_1 (Averag  (None, 6, 6, 16)         0         \n",
            " ePooling2D)                                                     \n",
            "                                                                 \n",
            " flatten (Flatten)           (None, 576)               0         \n",
            "                                                                 \n",
            " dense (Dense)               (None, 120)               69240     \n",
            "                                                                 \n",
            " dense_1 (Dense)             (None, 84)                10164     \n",
            "                                                                 \n",
            " dense_2 (Dense)             (None, 10)                850       \n",
            "                                                                 \n",
            "=================================================================\n",
            "Total params: 81,194\n",
            "Trainable params: 81,194\n",
            "Non-trainable params: 0\n",
            "_________________________________________________________________\n",
            "None\n"
          ]
        }
      ]
    },
    {
      "cell_type": "code",
      "source": [
        "# Define callback\n",
        "callback1 = tf.keras.callbacks.EarlyStopping(\n",
        "    monitor='val_accuracy',\n",
        "    mode='max',              # for loss would be 'min'\n",
        "    min_delta=0.001,         # min. change in monitored quantity to qualify as an improvement\n",
        "    patience=5             # how many epochs to wait for\n",
        ")"
      ],
      "metadata": {
        "id": "pOfwGd9ivhKT"
      },
      "execution_count": 6,
      "outputs": []
    },
    {
      "cell_type": "markdown",
      "source": [
        "## Model"
      ],
      "metadata": {
        "id": "Gq9Sacyuv-nS"
      }
    },
    {
      "cell_type": "code",
      "source": [
        "# Compile the model\n",
        "model.compile(\n",
        "    optimizer='adam', \n",
        "    loss='sparse_categorical_crossentropy', \n",
        "    metrics=['accuracy']\n",
        ")\n",
        "\n",
        "# Add a high number (100) of epochs to witness early stopping\n",
        "model.fit(\n",
        "    training_images, \n",
        "    training_labels, \n",
        "    validation_data=(test_images,test_labels), \n",
        "    epochs=100, \n",
        "    callbacks=[callback1], \n",
        "    batch_size=1024\n",
        ")"
      ],
      "metadata": {
        "colab": {
          "base_uri": "https://localhost:8080/"
        },
        "id": "_zCA3tTCvslW",
        "outputId": "47124675-3b66-41ad-b291-561e45194b98"
      },
      "execution_count": 7,
      "outputs": [
        {
          "output_type": "stream",
          "name": "stdout",
          "text": [
            "Epoch 1/100\n",
            "59/59 [==============================] - 27s 446ms/step - loss: 1.3858 - accuracy: 0.5795 - val_loss: 0.7264 - val_accuracy: 0.7386\n",
            "Epoch 2/100\n",
            "59/59 [==============================] - 22s 379ms/step - loss: 0.6200 - accuracy: 0.7689 - val_loss: 0.5762 - val_accuracy: 0.7811\n",
            "Epoch 3/100\n",
            "59/59 [==============================] - 21s 356ms/step - loss: 0.5247 - accuracy: 0.8014 - val_loss: 0.5076 - val_accuracy: 0.8079\n",
            "Epoch 4/100\n",
            "59/59 [==============================] - 21s 352ms/step - loss: 0.4725 - accuracy: 0.8258 - val_loss: 0.4718 - val_accuracy: 0.8248\n",
            "Epoch 5/100\n",
            "59/59 [==============================] - 22s 380ms/step - loss: 0.4411 - accuracy: 0.8388 - val_loss: 0.4491 - val_accuracy: 0.8346\n",
            "Epoch 6/100\n",
            "59/59 [==============================] - 21s 355ms/step - loss: 0.4133 - accuracy: 0.8506 - val_loss: 0.4266 - val_accuracy: 0.8415\n",
            "Epoch 7/100\n",
            "59/59 [==============================] - 22s 381ms/step - loss: 0.3928 - accuracy: 0.8580 - val_loss: 0.3994 - val_accuracy: 0.8552\n",
            "Epoch 8/100\n",
            "59/59 [==============================] - 21s 364ms/step - loss: 0.3747 - accuracy: 0.8654 - val_loss: 0.3888 - val_accuracy: 0.8595\n",
            "Epoch 9/100\n",
            "59/59 [==============================] - 21s 358ms/step - loss: 0.3618 - accuracy: 0.8695 - val_loss: 0.3775 - val_accuracy: 0.8652\n",
            "Epoch 10/100\n",
            "59/59 [==============================] - 22s 371ms/step - loss: 0.3486 - accuracy: 0.8751 - val_loss: 0.3734 - val_accuracy: 0.8633\n",
            "Epoch 11/100\n",
            "59/59 [==============================] - 21s 362ms/step - loss: 0.3411 - accuracy: 0.8778 - val_loss: 0.3550 - val_accuracy: 0.8737\n",
            "Epoch 12/100\n",
            "59/59 [==============================] - 36s 606ms/step - loss: 0.3325 - accuracy: 0.8804 - val_loss: 0.3529 - val_accuracy: 0.8731\n",
            "Epoch 13/100\n",
            "59/59 [==============================] - 28s 476ms/step - loss: 0.3214 - accuracy: 0.8851 - val_loss: 0.3514 - val_accuracy: 0.8733\n",
            "Epoch 14/100\n",
            "59/59 [==============================] - 27s 454ms/step - loss: 0.3152 - accuracy: 0.8873 - val_loss: 0.3358 - val_accuracy: 0.8813\n",
            "Epoch 15/100\n",
            "59/59 [==============================] - 26s 441ms/step - loss: 0.3081 - accuracy: 0.8893 - val_loss: 0.3362 - val_accuracy: 0.8802\n",
            "Epoch 16/100\n",
            "59/59 [==============================] - 26s 439ms/step - loss: 0.3054 - accuracy: 0.8899 - val_loss: 0.3283 - val_accuracy: 0.8830\n",
            "Epoch 17/100\n",
            "59/59 [==============================] - 22s 375ms/step - loss: 0.2980 - accuracy: 0.8926 - val_loss: 0.3225 - val_accuracy: 0.8842\n",
            "Epoch 18/100\n",
            "59/59 [==============================] - 21s 360ms/step - loss: 0.2950 - accuracy: 0.8933 - val_loss: 0.3210 - val_accuracy: 0.8849\n",
            "Epoch 19/100\n",
            "59/59 [==============================] - 21s 355ms/step - loss: 0.2902 - accuracy: 0.8950 - val_loss: 0.3220 - val_accuracy: 0.8843\n",
            "Epoch 20/100\n",
            "59/59 [==============================] - 21s 353ms/step - loss: 0.2857 - accuracy: 0.8970 - val_loss: 0.3202 - val_accuracy: 0.8851\n",
            "Epoch 21/100\n",
            "59/59 [==============================] - 23s 391ms/step - loss: 0.2795 - accuracy: 0.9002 - val_loss: 0.3169 - val_accuracy: 0.8858\n",
            "Epoch 22/100\n",
            "59/59 [==============================] - 22s 377ms/step - loss: 0.2792 - accuracy: 0.8986 - val_loss: 0.3193 - val_accuracy: 0.8865\n",
            "Epoch 23/100\n",
            "59/59 [==============================] - 21s 363ms/step - loss: 0.2781 - accuracy: 0.8994 - val_loss: 0.3245 - val_accuracy: 0.8810\n",
            "Epoch 24/100\n",
            "59/59 [==============================] - 22s 368ms/step - loss: 0.2727 - accuracy: 0.9007 - val_loss: 0.2991 - val_accuracy: 0.8927\n",
            "Epoch 25/100\n",
            "59/59 [==============================] - 22s 366ms/step - loss: 0.2667 - accuracy: 0.9039 - val_loss: 0.3190 - val_accuracy: 0.8835\n",
            "Epoch 26/100\n",
            "59/59 [==============================] - 23s 395ms/step - loss: 0.2658 - accuracy: 0.9042 - val_loss: 0.2967 - val_accuracy: 0.8931\n",
            "Epoch 27/100\n",
            "59/59 [==============================] - 21s 359ms/step - loss: 0.2604 - accuracy: 0.9061 - val_loss: 0.2931 - val_accuracy: 0.8937\n",
            "Epoch 28/100\n",
            "59/59 [==============================] - 21s 352ms/step - loss: 0.2586 - accuracy: 0.9063 - val_loss: 0.2970 - val_accuracy: 0.8941\n",
            "Epoch 29/100\n",
            "59/59 [==============================] - 22s 377ms/step - loss: 0.2532 - accuracy: 0.9083 - val_loss: 0.2870 - val_accuracy: 0.8935\n",
            "Epoch 30/100\n",
            "59/59 [==============================] - 21s 354ms/step - loss: 0.2528 - accuracy: 0.9085 - val_loss: 0.2884 - val_accuracy: 0.8961\n",
            "Epoch 31/100\n",
            "59/59 [==============================] - 21s 355ms/step - loss: 0.2498 - accuracy: 0.9101 - val_loss: 0.2937 - val_accuracy: 0.8927\n",
            "Epoch 32/100\n",
            "59/59 [==============================] - 21s 348ms/step - loss: 0.2466 - accuracy: 0.9108 - val_loss: 0.2816 - val_accuracy: 0.8952\n",
            "Epoch 33/100\n",
            "59/59 [==============================] - 21s 352ms/step - loss: 0.2422 - accuracy: 0.9123 - val_loss: 0.2853 - val_accuracy: 0.8949\n",
            "Epoch 34/100\n",
            "59/59 [==============================] - 21s 356ms/step - loss: 0.2411 - accuracy: 0.9131 - val_loss: 0.2937 - val_accuracy: 0.8913\n",
            "Epoch 35/100\n",
            "59/59 [==============================] - 21s 361ms/step - loss: 0.2366 - accuracy: 0.9144 - val_loss: 0.2772 - val_accuracy: 0.8986\n",
            "Epoch 36/100\n",
            "59/59 [==============================] - 21s 355ms/step - loss: 0.2370 - accuracy: 0.9139 - val_loss: 0.2780 - val_accuracy: 0.8997\n",
            "Epoch 37/100\n",
            "59/59 [==============================] - 21s 365ms/step - loss: 0.2333 - accuracy: 0.9151 - val_loss: 0.2780 - val_accuracy: 0.9007\n",
            "Epoch 38/100\n",
            "59/59 [==============================] - 22s 360ms/step - loss: 0.2316 - accuracy: 0.9158 - val_loss: 0.2766 - val_accuracy: 0.9006\n",
            "Epoch 39/100\n",
            "59/59 [==============================] - 21s 354ms/step - loss: 0.2298 - accuracy: 0.9161 - val_loss: 0.2754 - val_accuracy: 0.8982\n",
            "Epoch 40/100\n",
            "59/59 [==============================] - 21s 355ms/step - loss: 0.2293 - accuracy: 0.9167 - val_loss: 0.2836 - val_accuracy: 0.8973\n",
            "Epoch 41/100\n",
            "59/59 [==============================] - 21s 359ms/step - loss: 0.2288 - accuracy: 0.9171 - val_loss: 0.2729 - val_accuracy: 0.9019\n",
            "Epoch 42/100\n",
            "59/59 [==============================] - 21s 356ms/step - loss: 0.2245 - accuracy: 0.9182 - val_loss: 0.2704 - val_accuracy: 0.8991\n",
            "Epoch 43/100\n",
            "59/59 [==============================] - 21s 356ms/step - loss: 0.2220 - accuracy: 0.9203 - val_loss: 0.2702 - val_accuracy: 0.9022\n",
            "Epoch 44/100\n",
            "59/59 [==============================] - 21s 355ms/step - loss: 0.2193 - accuracy: 0.9201 - val_loss: 0.2670 - val_accuracy: 0.9038\n",
            "Epoch 45/100\n",
            "59/59 [==============================] - 21s 356ms/step - loss: 0.2159 - accuracy: 0.9213 - val_loss: 0.2710 - val_accuracy: 0.8998\n",
            "Epoch 46/100\n",
            "59/59 [==============================] - 22s 378ms/step - loss: 0.2162 - accuracy: 0.9205 - val_loss: 0.2643 - val_accuracy: 0.9037\n",
            "Epoch 47/100\n",
            "59/59 [==============================] - 21s 359ms/step - loss: 0.2137 - accuracy: 0.9224 - val_loss: 0.2705 - val_accuracy: 0.9043\n",
            "Epoch 48/100\n",
            "59/59 [==============================] - 21s 360ms/step - loss: 0.2177 - accuracy: 0.9196 - val_loss: 0.2590 - val_accuracy: 0.9050\n",
            "Epoch 49/100\n",
            "59/59 [==============================] - 21s 358ms/step - loss: 0.2110 - accuracy: 0.9232 - val_loss: 0.2664 - val_accuracy: 0.9009\n",
            "Epoch 50/100\n",
            "59/59 [==============================] - 21s 360ms/step - loss: 0.2075 - accuracy: 0.9234 - val_loss: 0.2630 - val_accuracy: 0.9056\n",
            "Epoch 51/100\n",
            "59/59 [==============================] - 22s 363ms/step - loss: 0.2086 - accuracy: 0.9240 - val_loss: 0.2684 - val_accuracy: 0.9038\n",
            "Epoch 52/100\n",
            "59/59 [==============================] - 22s 374ms/step - loss: 0.2082 - accuracy: 0.9242 - val_loss: 0.2658 - val_accuracy: 0.9047\n",
            "Epoch 53/100\n",
            "59/59 [==============================] - 21s 363ms/step - loss: 0.2032 - accuracy: 0.9263 - val_loss: 0.2567 - val_accuracy: 0.9091\n",
            "Epoch 54/100\n",
            "59/59 [==============================] - 24s 411ms/step - loss: 0.2007 - accuracy: 0.9274 - val_loss: 0.2561 - val_accuracy: 0.9068\n",
            "Epoch 55/100\n",
            "59/59 [==============================] - 21s 360ms/step - loss: 0.1994 - accuracy: 0.9276 - val_loss: 0.2596 - val_accuracy: 0.9064\n",
            "Epoch 56/100\n",
            "59/59 [==============================] - 21s 361ms/step - loss: 0.1978 - accuracy: 0.9273 - val_loss: 0.2549 - val_accuracy: 0.9090\n",
            "Epoch 57/100\n",
            "59/59 [==============================] - 21s 363ms/step - loss: 0.1959 - accuracy: 0.9290 - val_loss: 0.2561 - val_accuracy: 0.9069\n",
            "Epoch 58/100\n",
            "59/59 [==============================] - 21s 361ms/step - loss: 0.2009 - accuracy: 0.9254 - val_loss: 0.2748 - val_accuracy: 0.9023\n"
          ]
        },
        {
          "output_type": "execute_result",
          "data": {
            "text/plain": [
              "<keras.callbacks.History at 0x7fe1b5f07110>"
            ]
          },
          "metadata": {},
          "execution_count": 7
        }
      ]
    },
    {
      "cell_type": "markdown",
      "source": [
        "## Plot\n",
        "Observe that model accuracy starts to decrease after reaching the maximum. The early stopping callback allowed the model to stop at that point."
      ],
      "metadata": {
        "id": "t4z9Df4lwO73"
      }
    },
    {
      "cell_type": "code",
      "source": [
        "plt.plot(model.history.history['accuracy'],label='Train Accuracy')\n",
        "plt.plot(model.history.history['val_accuracy'],label='Test Accuracy')\n",
        "plt.legend()\n",
        "plt.xlabel('Epochs')\n",
        "plt.ylabel('Accuracy')\n",
        "# plt.savefig('accuracy_plot_1.png')\n",
        "plt.show()"
      ],
      "metadata": {
        "colab": {
          "base_uri": "https://localhost:8080/",
          "height": 279
        },
        "id": "73gO11vov7cH",
        "outputId": "7b48a6d9-a52c-4382-db39-00b24b8ab8fd"
      },
      "execution_count": 8,
      "outputs": [
        {
          "output_type": "display_data",
          "data": {
            "text/plain": [
              "<Figure size 432x288 with 1 Axes>"
            ],
            "image/png": "[encoded data removed]"
          },
          "metadata": {
            "needs_background": "light"
          }
        }
      ]
    },
    {
      "cell_type": "code",
      "source": [
        "# plt.close()\n",
        "plt.plot(model.history.history['loss'],label='Train Loss')\n",
        "plt.plot(model.history.history['val_loss'],label='Test Loss')\n",
        "plt.legend()\n",
        "plt.xlabel('Epochs')\n",
        "plt.ylabel('Loss')\n",
        "# plt.savefig('loss_plot_1.png')\n",
        "plt.show()"
      ],
      "metadata": {
        "colab": {
          "base_uri": "https://localhost:8080/",
          "height": 279
        },
        "id": "M6aeen1QwEnv",
        "outputId": "d7b41026-4c97-483d-f9e6-dcc79b32c222"
      },
      "execution_count": 16,
      "outputs": [
        {
          "output_type": "display_data",
          "data": {
            "text/plain": [
              "<Figure size 432x288 with 1 Axes>"
            ],
            "image/png": "[encoded data removed]"
          },
          "metadata": {
            "needs_background": "light"
          }
        }
      ]
    },
    {
      "cell_type": "markdown",
      "source": [
        "## `LearningRateScheduler` Callback\n",
        "Every optimizer has a `learning_rate` argument:\n",
        "* Too low = takes more epochs to achieve a good accuracy\n",
        "* Too high - will overshoot the minimum and just oscillate around poor values of acuracy.\n",
        "\n",
        "Another way is to fix it to a medium-high value and reduce it on each epoch. This results in large steps towards the minimum in the start but much slower steps after a while. We can do this using the `LearningRateScheduler` callback."
      ],
      "metadata": {
        "id": "BOacMqy4wYPK"
      }
    },
    {
      "cell_type": "code",
      "source": [
        "mnist = tf.keras.datasets.fashion_mnist\n",
        "(training_images, training_labels), (test_images, test_labels) = mnist.load_data()\n",
        "\n",
        "training_images = prepare_data(training_images)\n",
        "test_images = prepare_data(test_images)\n",
        "\n",
        "model = create_model()\n",
        "\n",
        "print(model.summary())\n"
      ],
      "metadata": {
        "colab": {
          "base_uri": "https://localhost:8080/"
        },
        "id": "_FD9rp_hwNfu",
        "outputId": "6e5b5d20-04eb-408d-f84a-b34d18fee01a"
      },
      "execution_count": 10,
      "outputs": [
        {
          "output_type": "stream",
          "name": "stdout",
          "text": [
            "Model: \"sequential_1\"\n",
            "_________________________________________________________________\n",
            " Layer (type)                Output Shape              Param #   \n",
            "=================================================================\n",
            " conv2d_2 (Conv2D)           (None, 30, 30, 6)         60        \n",
            "                                                                 \n",
            " average_pooling2d_2 (Averag  (None, 15, 15, 6)        0         \n",
            " ePooling2D)                                                     \n",
            "                                                                 \n",
            " conv2d_3 (Conv2D)           (None, 13, 13, 16)        880       \n",
            "                                                                 \n",
            " average_pooling2d_3 (Averag  (None, 6, 6, 16)         0         \n",
            " ePooling2D)                                                     \n",
            "                                                                 \n",
            " flatten_1 (Flatten)         (None, 576)               0         \n",
            "                                                                 \n",
            " dense_3 (Dense)             (None, 120)               69240     \n",
            "                                                                 \n",
            " dense_4 (Dense)             (None, 84)                10164     \n",
            "                                                                 \n",
            " dense_5 (Dense)             (None, 10)                850       \n",
            "                                                                 \n",
            "=================================================================\n",
            "Total params: 81,194\n",
            "Trainable params: 81,194\n",
            "Non-trainable params: 0\n",
            "_________________________________________________________________\n",
            "None\n"
          ]
        }
      ]
    },
    {
      "cell_type": "code",
      "source": [
        "# Scheduler function that reduces the learning rate by a factor of e^-0.1.\n",
        "def scheduler(epoch, lr):\n",
        "    if epoch < 5:\n",
        "        return lr\n",
        "    else:\n",
        "        return lr * tf.math.exp(-0.1)\n",
        "\n",
        "callback2 = tf.keras.callbacks.LearningRateScheduler(\n",
        "    schedule=scheduler,  # Takes epoch index and current learning rate as args, returns a new learning rate as float.\n",
        "    verbose=1            # 0 = quiet, 1 = update messages\n",
        ")\n",
        "\n"
      ],
      "metadata": {
        "id": "vy5vwMaFw-af"
      },
      "execution_count": 11,
      "outputs": []
    },
    {
      "cell_type": "markdown",
      "source": [
        "## Model"
      ],
      "metadata": {
        "id": "vhzOoBuYxLO5"
      }
    },
    {
      "cell_type": "code",
      "source": [
        "# Compile the Model\n",
        "model.compile(\n",
        "    optimizer=tf.keras.optimizers.Adam(learning_rate=0.001), \n",
        "    loss='sparse_categorical_crossentropy', \n",
        "    metrics=['accuracy']\n",
        ")\n",
        "\n",
        "model.fit(\n",
        "    training_images, \n",
        "    training_labels, \n",
        "    validation_data=(test_images,test_labels), \n",
        "    epochs=30, \n",
        "    callbacks=[callback2], \n",
        "    batch_size=1024\n",
        ")"
      ],
      "metadata": {
        "colab": {
          "base_uri": "https://localhost:8080/"
        },
        "id": "2lSgGHofxKBc",
        "outputId": "9f9e3e3f-f299-46dd-e3d6-c0decddad848"
      },
      "execution_count": 12,
      "outputs": [
        {
          "output_type": "stream",
          "name": "stdout",
          "text": [
            "\n",
            "Epoch 1: LearningRateScheduler setting learning rate to 0.0010000000474974513.\n",
            "Epoch 1/30\n",
            "59/59 [==============================] - 24s 396ms/step - loss: 1.1839 - accuracy: 0.6468 - val_loss: 0.7169 - val_accuracy: 0.7257 - lr: 0.0010\n",
            "\n",
            "Epoch 2: LearningRateScheduler setting learning rate to 0.0010000000474974513.\n",
            "Epoch 2/30\n",
            "59/59 [==============================] - 21s 355ms/step - loss: 0.6092 - accuracy: 0.7746 - val_loss: 0.5696 - val_accuracy: 0.7912 - lr: 0.0010\n",
            "\n",
            "Epoch 3: LearningRateScheduler setting learning rate to 0.0010000000474974513.\n",
            "Epoch 3/30\n",
            "59/59 [==============================] - 21s 353ms/step - loss: 0.5243 - accuracy: 0.8096 - val_loss: 0.5136 - val_accuracy: 0.8142 - lr: 0.0010\n",
            "\n",
            "Epoch 4: LearningRateScheduler setting learning rate to 0.0010000000474974513.\n",
            "Epoch 4/30\n",
            "59/59 [==============================] - 21s 353ms/step - loss: 0.4768 - accuracy: 0.8281 - val_loss: 0.4931 - val_accuracy: 0.8188 - lr: 0.0010\n",
            "\n",
            "Epoch 5: LearningRateScheduler setting learning rate to 0.0010000000474974513.\n",
            "Epoch 5/30\n",
            "59/59 [==============================] - 21s 353ms/step - loss: 0.4443 - accuracy: 0.8417 - val_loss: 0.4529 - val_accuracy: 0.8377 - lr: 0.0010\n",
            "\n",
            "Epoch 6: LearningRateScheduler setting learning rate to 0.0009048374486155808.\n",
            "Epoch 6/30\n",
            "59/59 [==============================] - 21s 352ms/step - loss: 0.4223 - accuracy: 0.8489 - val_loss: 0.4413 - val_accuracy: 0.8434 - lr: 9.0484e-04\n",
            "\n",
            "Epoch 7: LearningRateScheduler setting learning rate to 0.0008187307976186275.\n",
            "Epoch 7/30\n",
            "59/59 [==============================] - 21s 354ms/step - loss: 0.4070 - accuracy: 0.8558 - val_loss: 0.4296 - val_accuracy: 0.8434 - lr: 8.1873e-04\n",
            "\n",
            "Epoch 8: LearningRateScheduler setting learning rate to 0.0007408182718791068.\n",
            "Epoch 8/30\n",
            "59/59 [==============================] - 21s 351ms/step - loss: 0.3950 - accuracy: 0.8584 - val_loss: 0.4170 - val_accuracy: 0.8504 - lr: 7.4082e-04\n",
            "\n",
            "Epoch 9: LearningRateScheduler setting learning rate to 0.0006703201215714216.\n",
            "Epoch 9/30\n",
            "59/59 [==============================] - 21s 352ms/step - loss: 0.3836 - accuracy: 0.8626 - val_loss: 0.4093 - val_accuracy: 0.8540 - lr: 6.7032e-04\n",
            "\n",
            "Epoch 10: LearningRateScheduler setting learning rate to 0.0006065307534299791.\n",
            "Epoch 10/30\n",
            "59/59 [==============================] - 22s 374ms/step - loss: 0.3735 - accuracy: 0.8676 - val_loss: 0.4008 - val_accuracy: 0.8560 - lr: 6.0653e-04\n",
            "\n",
            "Epoch 11: LearningRateScheduler setting learning rate to 0.0005488117458298802.\n",
            "Epoch 11/30\n",
            "59/59 [==============================] - 21s 354ms/step - loss: 0.3683 - accuracy: 0.8683 - val_loss: 0.4032 - val_accuracy: 0.8548 - lr: 5.4881e-04\n",
            "\n",
            "Epoch 12: LearningRateScheduler setting learning rate to 0.0004965853877365589.\n",
            "Epoch 12/30\n",
            "59/59 [==============================] - 21s 355ms/step - loss: 0.3622 - accuracy: 0.8714 - val_loss: 0.3866 - val_accuracy: 0.8606 - lr: 4.9659e-04\n",
            "\n",
            "Epoch 13: LearningRateScheduler setting learning rate to 0.0004493290325626731.\n",
            "Epoch 13/30\n",
            "59/59 [==============================] - 21s 360ms/step - loss: 0.3547 - accuracy: 0.8738 - val_loss: 0.3832 - val_accuracy: 0.8644 - lr: 4.4933e-04\n",
            "\n",
            "Epoch 14: LearningRateScheduler setting learning rate to 0.0004065697139594704.\n",
            "Epoch 14/30\n",
            "59/59 [==============================] - 21s 357ms/step - loss: 0.3489 - accuracy: 0.8757 - val_loss: 0.3777 - val_accuracy: 0.8656 - lr: 4.0657e-04\n",
            "\n",
            "Epoch 15: LearningRateScheduler setting learning rate to 0.000367879489203915.\n",
            "Epoch 15/30\n",
            "59/59 [==============================] - 21s 357ms/step - loss: 0.3457 - accuracy: 0.8765 - val_loss: 0.3821 - val_accuracy: 0.8646 - lr: 3.6788e-04\n",
            "\n",
            "Epoch 16: LearningRateScheduler setting learning rate to 0.0003328711318317801.\n",
            "Epoch 16/30\n",
            "59/59 [==============================] - 21s 355ms/step - loss: 0.3414 - accuracy: 0.8786 - val_loss: 0.3703 - val_accuracy: 0.8672 - lr: 3.3287e-04\n",
            "\n",
            "Epoch 17: LearningRateScheduler setting learning rate to 0.000301194260828197.\n",
            "Epoch 17/30\n",
            "59/59 [==============================] - 21s 354ms/step - loss: 0.3386 - accuracy: 0.8789 - val_loss: 0.3657 - val_accuracy: 0.8680 - lr: 3.0119e-04\n",
            "\n",
            "Epoch 18: LearningRateScheduler setting learning rate to 0.0002725318481680006.\n",
            "Epoch 18/30\n",
            "59/59 [==============================] - 21s 355ms/step - loss: 0.3359 - accuracy: 0.8799 - val_loss: 0.3681 - val_accuracy: 0.8691 - lr: 2.7253e-04\n",
            "\n",
            "Epoch 19: LearningRateScheduler setting learning rate to 0.0002465970173943788.\n",
            "Epoch 19/30\n",
            "59/59 [==============================] - 22s 373ms/step - loss: 0.3330 - accuracy: 0.8808 - val_loss: 0.3682 - val_accuracy: 0.8698 - lr: 2.4660e-04\n",
            "\n",
            "Epoch 20: LearningRateScheduler setting learning rate to 0.00022313020599540323.\n",
            "Epoch 20/30\n",
            "59/59 [==============================] - 21s 354ms/step - loss: 0.3298 - accuracy: 0.8821 - val_loss: 0.3635 - val_accuracy: 0.8697 - lr: 2.2313e-04\n",
            "\n",
            "Epoch 21: LearningRateScheduler setting learning rate to 0.0002018965606112033.\n",
            "Epoch 21/30\n",
            "59/59 [==============================] - 21s 353ms/step - loss: 0.3302 - accuracy: 0.8818 - val_loss: 0.3651 - val_accuracy: 0.8684 - lr: 2.0190e-04\n",
            "\n",
            "Epoch 22: LearningRateScheduler setting learning rate to 0.00018268356507178396.\n",
            "Epoch 22/30\n",
            "59/59 [==============================] - 21s 356ms/step - loss: 0.3255 - accuracy: 0.8836 - val_loss: 0.3571 - val_accuracy: 0.8720 - lr: 1.8268e-04\n",
            "\n",
            "Epoch 23: LearningRateScheduler setting learning rate to 0.00016529893036931753.\n",
            "Epoch 23/30\n",
            "59/59 [==============================] - 21s 353ms/step - loss: 0.3241 - accuracy: 0.8842 - val_loss: 0.3602 - val_accuracy: 0.8727 - lr: 1.6530e-04\n",
            "\n",
            "Epoch 24: LearningRateScheduler setting learning rate to 0.00014956865925341845.\n",
            "Epoch 24/30\n",
            "59/59 [==============================] - 21s 355ms/step - loss: 0.3230 - accuracy: 0.8841 - val_loss: 0.3574 - val_accuracy: 0.8715 - lr: 1.4957e-04\n",
            "\n",
            "Epoch 25: LearningRateScheduler setting learning rate to 0.000135335314553231.\n",
            "Epoch 25/30\n",
            "59/59 [==============================] - 21s 352ms/step - loss: 0.3215 - accuracy: 0.8845 - val_loss: 0.3547 - val_accuracy: 0.8740 - lr: 1.3534e-04\n",
            "\n",
            "Epoch 26: LearningRateScheduler setting learning rate to 0.00012245646212249994.\n",
            "Epoch 26/30\n",
            "59/59 [==============================] - 21s 352ms/step - loss: 0.3199 - accuracy: 0.8855 - val_loss: 0.3556 - val_accuracy: 0.8730 - lr: 1.2246e-04\n",
            "\n",
            "Epoch 27: LearningRateScheduler setting learning rate to 0.00011080319382017478.\n",
            "Epoch 27/30\n",
            "59/59 [==============================] - 21s 354ms/step - loss: 0.3192 - accuracy: 0.8856 - val_loss: 0.3545 - val_accuracy: 0.8742 - lr: 1.1080e-04\n",
            "\n",
            "Epoch 28: LearningRateScheduler setting learning rate to 0.00010025887604570016.\n",
            "Epoch 28/30\n",
            "59/59 [==============================] - 22s 373ms/step - loss: 0.3177 - accuracy: 0.8864 - val_loss: 0.3548 - val_accuracy: 0.8731 - lr: 1.0026e-04\n",
            "\n",
            "Epoch 29: LearningRateScheduler setting learning rate to 9.071798558579758e-05.\n",
            "Epoch 29/30\n",
            "59/59 [==============================] - 21s 353ms/step - loss: 0.3187 - accuracy: 0.8850 - val_loss: 0.3509 - val_accuracy: 0.8745 - lr: 9.0718e-05\n",
            "\n",
            "Epoch 30: LearningRateScheduler setting learning rate to 8.208502549678087e-05.\n",
            "Epoch 30/30\n",
            "59/59 [==============================] - 21s 355ms/step - loss: 0.3162 - accuracy: 0.8867 - val_loss: 0.3505 - val_accuracy: 0.8742 - lr: 8.2085e-05\n"
          ]
        },
        {
          "output_type": "execute_result",
          "data": {
            "text/plain": [
              "<keras.callbacks.History at 0x7fe1b5936dd0>"
            ]
          },
          "metadata": {},
          "execution_count": 12
        }
      ]
    },
    {
      "cell_type": "markdown",
      "source": [
        "## Plot"
      ],
      "metadata": {
        "id": "QoMf-RKFxOWE"
      }
    },
    {
      "cell_type": "code",
      "source": [
        "plt.plot(model.history.history['accuracy'],label='Train Accuracy')\n",
        "plt.plot(model.history.history['val_accuracy'],label='Test Accuracy')\n",
        "plt.legend()\n",
        "plt.xlabel('Epochs')\n",
        "plt.ylabel('Accuracy')\n",
        "# plt.savefig('accuracy_plot_2.png')\n",
        "plt.show()"
      ],
      "metadata": {
        "colab": {
          "base_uri": "https://localhost:8080/",
          "height": 279
        },
        "id": "mxoYaAMhxPWK",
        "outputId": "4ebad50d-4b40-40ba-de04-f09204a9ee54"
      },
      "execution_count": 13,
      "outputs": [
        {
          "output_type": "display_data",
          "data": {
            "text/plain": [
              "<Figure size 432x288 with 1 Axes>"
            ],
            "image/png": "[encoded data removed]"
          },
          "metadata": {
            "needs_background": "light"
          }
        }
      ]
    },
    {
      "cell_type": "code",
      "source": [
        "# plt.close()\n",
        "plt.plot(model.history.history['loss'],label='Train Loss')\n",
        "plt.plot(model.history.history['val_loss'],label='Test Loss')\n",
        "plt.legend()\n",
        "plt.xlabel('Epochs')\n",
        "plt.ylabel('Loss')\n",
        "# plt.savefig('loss_plot_2.png')\n",
        "plt.show()"
      ],
      "metadata": {
        "colab": {
          "base_uri": "https://localhost:8080/",
          "height": 279
        },
        "id": "fyFqtfqZxbnz",
        "outputId": "d76fea2a-d374-408a-f570-909816975b1c"
      },
      "execution_count": 15,
      "outputs": [
        {
          "output_type": "display_data",
          "data": {
            "text/plain": [
              "<Figure size 432x288 with 1 Axes>"
            ],
            "image/png": "[encoded data removed]"
          },
          "metadata": {
            "needs_background": "light"
          }
        }
      ]
    }
  ]
}