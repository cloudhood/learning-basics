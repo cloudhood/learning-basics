{
  "nbformat": 4,
  "nbformat_minor": 0,
  "metadata": {
    "colab": {
      "name": "retail_out_of_stock.ipynb",
      "provenance": [],
      "collapsed_sections": [],
      "authorship_tag": "ABX9TyORMpQ6PxALuHA/uHbPAnix",
      "include_colab_link": true
    },
    "kernelspec": {
      "name": "python3",
      "display_name": "Python 3"
    },
    "language_info": {
      "name": "python"
    }
  },
  "cells": [
    {
      "cell_type": "markdown",
      "metadata": {
        "id": "view-in-github",
        "colab_type": "text"
      },
      "source": [
        "<a href=\"https://colab.research.google.com/github/cloudhood/learning-basics/blob/main/notebooks/retail_out_of_stock.ipynb\" target=\"_parent\"><img src=\"https://colab.research.google.com/assets/colab-badge.svg\" alt=\"Open In Colab\"/></a>"
      ]
    },
    {
      "cell_type": "code",
      "execution_count": 1,
      "metadata": {
        "id": "84tV50L0YruB"
      },
      "outputs": [],
      "source": [
        "import matplotlib.pyplot as plt\n",
        "import numpy as np\n",
        "import pandas as pd\n",
        "rng = np.random.default_rng(123)"
      ]
    },
    {
      "cell_type": "code",
      "source": [
        "def plot_conf(**args):\n",
        "    plt.gca().set(**args)\n",
        "    plt.tight_layout()\n",
        "    plt.show()"
      ],
      "metadata": {
        "id": "JlgCE517Yzci"
      },
      "execution_count": 10,
      "outputs": []
    },
    {
      "cell_type": "code",
      "source": [
        "x = rng.standard_normal((100, 2))"
      ],
      "metadata": {
        "id": "eBMTNEiRZXR4"
      },
      "execution_count": 3,
      "outputs": []
    },
    {
      "cell_type": "code",
      "source": [
        "n_dates = 721\n",
        "\n",
        "start_date1 = \"2018-01-01\"\n",
        "dates = pd.date_range(start_date1, periods=n_dates, freq=\"D\")\n",
        "avg = 50\n",
        "p1 = 60\n",
        "series1 = np.insert(np.zeros(p1 - 1), 0, avg)\n",
        "n1 = int(np.ceil(n_dates / p1))\n",
        "demand = np.tile(series1, n1)[:n_dates]"
      ],
      "metadata": {
        "id": "T0n5vEB9c1TU"
      },
      "execution_count": 5,
      "outputs": []
    },
    {
      "cell_type": "code",
      "source": [
        "n_oos = 181\n",
        "start_date2 = \"2018-10-01\"\n",
        "oos = pd.date_range(start_date2, periods=n_oos, freq=\"D\")\n",
        "p2 = 7\n",
        "n2 = int(np.ceil(n_oos / p2))\n",
        "date_overlap = np.intersect1d(oos, dates, assume_unique=True)\n",
        "mask_overlap = np.where(np.isin(dates, date_overlap))[0]\n",
        "series2 = np.insert(np.zeros(p2 - 1), 0, avg)\n",
        "demand[mask_overlap] = np.tile(series2, n2)[:n_oos]"
      ],
      "metadata": {
        "id": "4oaqWrqtfgLI"
      },
      "execution_count": 6,
      "outputs": []
    },
    {
      "cell_type": "code",
      "source": [
        "np.unique(demand, return_counts=True)"
      ],
      "metadata": {
        "colab": {
          "base_uri": "https://localhost:8080/"
        },
        "id": "FWkgZeaDbINP",
        "outputId": "c3b787ac-d858-4ba4-a73a-5094ad5d98e0"
      },
      "execution_count": 7,
      "outputs": [
        {
          "output_type": "execute_result",
          "data": {
            "text/plain": [
              "(array([ 0., 50.]), array([685,  36]))"
            ]
          },
          "metadata": {},
          "execution_count": 7
        }
      ]
    },
    {
      "cell_type": "code",
      "source": [
        "plt.figure(figsize=(12, 8))\n",
        "plt.stem(dates, demand, use_line_collection=True)\n",
        "plot_conf(title=\"Out of stock\")"
      ],
      "metadata": {
        "colab": {
          "base_uri": "https://localhost:8080/",
          "height": 585
        },
        "id": "iNGCIEbbg3qZ",
        "outputId": "b3667ade-05a8-4a3f-d9a3-3848c1bb86fa"
      },
      "execution_count": 11,
      "outputs": [
        {
          "output_type": "display_data",
          "data": {
            "text/plain": [
              "<Figure size 864x576 with 1 Axes>"
            ],
            "image/png": "[encoded data removed]"
          },
          "metadata": {
            "needs_background": "light"
          }
        }
      ]
    },
    {
      "cell_type": "code",
      "source": [
        ""
      ],
      "metadata": {
        "id": "JvhHhXWYo0-L"
      },
      "execution_count": null,
      "outputs": []
    }
  ]
}