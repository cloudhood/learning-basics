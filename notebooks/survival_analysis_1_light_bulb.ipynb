{
  "cells": [
    {
      "cell_type": "markdown",
      "metadata": {
        "id": "view-in-github",
        "colab_type": "text"
      },
      "source": [
        "<a href=\"https://colab.research.google.com/github/cloudhood/learning-basics/blob/main/notebooks/survival_analysis_1_light_bulb.ipynb\" target=\"_parent\"><img src=\"https://colab.research.google.com/assets/colab-badge.svg\" alt=\"Open In Colab\"/></a>"
      ]
    },
    {
      "cell_type": "markdown",
      "metadata": {
        "id": "2EsHvfR0NVzl"
      },
      "source": [
        "# Survival Analysis"
      ]
    },
    {
      "cell_type": "markdown",
      "metadata": {
        "id": "qYrakFUtNVzp"
      },
      "source": [
        "## Introduction\n",
        "\n",
        "This notebook presents four ways to represent a distribution: PMFs, CDFs, survival functions, and hazard functions.\n",
        "\n",
        "These representations are equivalent in the sense that if you are given any of them, you can compute the others.  So you might wonder why we need four ways to represent the same information.  There are two reasons:\n",
        "\n",
        "1. Each representation is useful for computing different values and answering different questions.  In this notebook I'll show you what each representation is good for.\n",
        "\n",
        "2. In some cases we can use a sample to compute a PMF, and use the PMF to compute the other representations.  In other cases it is easier to estimate the hazard function and use it to compute the others.\n",
        "\n",
        "In this notebook I will demonstrate the first process, starting with the PMF.  In the next notebook we'll see the second process, starting with the hazard function."
      ]
    },
    {
      "cell_type": "markdown",
      "metadata": {
        "id": "hZbCLYXfNVzq"
      },
      "source": [
        "## Light bulb lifetimes\n",
        "\n",
        "As a first example, I'll use I'll use data from an experiment that measures the lifetimes of 50 light bulbs.\n",
        "I downloaded the data from from [this gist](https://gist.github.com/epogrebnyak/7933e16c0ad215742c4c104be4fbdeb1), which includes this documentation:\n",
        "\n",
        "```\n",
        "Dataset from:\n",
        "    \n",
        "V.J. Menon and D.C. Agrawal,  Renewal Rate of Filament Lamps: \n",
        "Theory and Experiment. Journal of Failure Analysis and Prevention. \n",
        "December 2007, p. 421, Table 2/\n",
        "DOI: 10.1007/s11668-007-9074-9\n",
        "\n",
        "Description:\n",
        "\n",
        "An assembly of 50 new Philips (India) lamps with the \n",
        "rating 40 W, 220 V (AC) was taken and installed in the horizontal \n",
        "orientation and uniformly distributed over a lab area 11 m by 7 m. \n",
        "\n",
        "The assembly was monitored at regular intervals of 12 h to\n",
        "look for failures. The instants of recorded failures were\n",
        "called t‘ and a total of 32 data points were obtained such\n",
        "that even the last bulb failed. \n",
        "\n",
        "Variables:\n",
        "\n",
        "i - observation number\n",
        "h - time in hours since experiment start\n",
        "f - number of failed lamps at particular time h\n",
        "K - number of surviving lamps  at particular time h\n",
        "```\n",
        "\n",
        "Because of the design of this experiment, we can consider the data to be a representative sample from the distribution of lifetimes, at least for light bulbs that are lit continuously."
      ]
    },
    {
      "cell_type": "markdown",
      "metadata": {
        "id": "IMCxWMgBNVzr"
      },
      "source": [
        "The following cell downloads the data (thanks to Evgeny Pogrebnyak for making it available).  \n",
        "If that fails, you should be able to [get it from my repository](https://github.com/AllenDowney/SurvivalAnalysisPython/raw/master/lamps.csv)."
      ]
    },
    {
      "cell_type": "code",
      "execution_count": 3,
      "metadata": {
        "id": "JBEMSKvCNVzs",
        "colab": {
          "base_uri": "https://localhost:8080/"
        },
        "outputId": "fe0379cd-ac27-427b-a502-6be15e3db8dd"
      },
      "outputs": [
        {
          "output_type": "stream",
          "name": "stdout",
          "text": [
            "--2022-06-27 22:09:08--  https://gist.github.com/epogrebnyak/7933e16c0ad215742c4c104be4fbdeb1/raw/c932bc5b6aa6317770c4cbf43eb591511fec08f9/lamps.csv\n",
            "Resolving gist.github.com (gist.github.com)... 140.82.112.4\n",
            "Connecting to gist.github.com (gist.github.com)|140.82.112.4|:443... connected.\n",
            "HTTP request sent, awaiting response... 301 Moved Permanently\n",
            "Location: https://gist.githubusercontent.com/epogrebnyak/7933e16c0ad215742c4c104be4fbdeb1/raw/c932bc5b6aa6317770c4cbf43eb591511fec08f9/lamps.csv [following]\n",
            "--2022-06-27 22:09:08--  https://gist.githubusercontent.com/epogrebnyak/7933e16c0ad215742c4c104be4fbdeb1/raw/c932bc5b6aa6317770c4cbf43eb591511fec08f9/lamps.csv\n",
            "Resolving gist.githubusercontent.com (gist.githubusercontent.com)... 185.199.109.133, 185.199.111.133, 185.199.110.133, ...\n",
            "Connecting to gist.githubusercontent.com (gist.githubusercontent.com)|185.199.109.133|:443... connected.\n",
            "HTTP request sent, awaiting response... 200 OK\n",
            "Length: 410 [text/plain]\n",
            "Saving to: ‘lamps.csv’\n",
            "\n",
            "\rlamps.csv             0%[                    ]       0  --.-KB/s               \rlamps.csv           100%[===================>]     410  --.-KB/s    in 0s      \n",
            "\n",
            "2022-06-27 22:09:08 (10.8 MB/s) - ‘lamps.csv’ saved [410/410]\n",
            "\n"
          ]
        }
      ],
      "source": [
        "import os\n",
        "\n",
        "datafile = 'lamps.csv'\n",
        "if not os.path.exists(datafile):\n",
        "    !wget https://gist.github.com/epogrebnyak/7933e16c0ad215742c4c104be4fbdeb1/raw/c932bc5b6aa6317770c4cbf43eb591511fec08f9/lamps.csv"
      ]
    },
    {
      "cell_type": "markdown",
      "metadata": {
        "id": "duk-IAnpNVzt"
      },
      "source": [
        "We can use Pandas to load the data from the CSV file."
      ]
    },
    {
      "cell_type": "code",
      "execution_count": 1,
      "metadata": {
        "id": "vOtGhdnpNVzu"
      },
      "outputs": [],
      "source": [
        "import pandas as pd\n",
        "import numpy as np\n",
        "import matplotlib.pyplot as plt"
      ]
    },
    {
      "cell_type": "code",
      "execution_count": 4,
      "metadata": {
        "id": "YqbrH05zNVzu",
        "outputId": "4621f62c-9c88-4eb9-cad9-9939e938a1d3",
        "colab": {
          "base_uri": "https://localhost:8080/",
          "height": 237
        }
      },
      "outputs": [
        {
          "output_type": "execute_result",
          "data": {
            "text/plain": [
              "     h  f   K\n",
              "i            \n",
              "0    0  0  50\n",
              "1  840  2  48\n",
              "2  852  1  47\n",
              "3  936  1  46\n",
              "4  960  1  45"
            ],
            "text/html": [
              "\n",
              "  <div id=\"df-2122f668-655d-4326-8088-7c7057a62ea3\">\n",
              "    <div class=\"colab-df-container\">\n",
              "      <div>\n",
              "<style scoped>\n",
              "    .dataframe tbody tr th:only-of-type {\n",
              "        vertical-align: middle;\n",
              "    }\n",
              "\n",
              "    .dataframe tbody tr th {\n",
              "        vertical-align: top;\n",
              "    }\n",
              "\n",
              "    .dataframe thead th {\n",
              "        text-align: right;\n",
              "    }\n",
              "</style>\n",
              "<table border=\"1\" class=\"dataframe\">\n",
              "  <thead>\n",
              "    <tr style=\"text-align: right;\">\n",
              "      <th></th>\n",
              "      <th>h</th>\n",
              "      <th>f</th>\n",
              "      <th>K</th>\n",
              "    </tr>\n",
              "    <tr>\n",
              "      <th>i</th>\n",
              "      <th></th>\n",
              "      <th></th>\n",
              "      <th></th>\n",
              "    </tr>\n",
              "  </thead>\n",
              "  <tbody>\n",
              "    <tr>\n",
              "      <th>0</th>\n",
              "      <td>0</td>\n",
              "      <td>0</td>\n",
              "      <td>50</td>\n",
              "    </tr>\n",
              "    <tr>\n",
              "      <th>1</th>\n",
              "      <td>840</td>\n",
              "      <td>2</td>\n",
              "      <td>48</td>\n",
              "    </tr>\n",
              "    <tr>\n",
              "      <th>2</th>\n",
              "      <td>852</td>\n",
              "      <td>1</td>\n",
              "      <td>47</td>\n",
              "    </tr>\n",
              "    <tr>\n",
              "      <th>3</th>\n",
              "      <td>936</td>\n",
              "      <td>1</td>\n",
              "      <td>46</td>\n",
              "    </tr>\n",
              "    <tr>\n",
              "      <th>4</th>\n",
              "      <td>960</td>\n",
              "      <td>1</td>\n",
              "      <td>45</td>\n",
              "    </tr>\n",
              "  </tbody>\n",
              "</table>\n",
              "</div>\n",
              "      <button class=\"colab-df-convert\" onclick=\"convertToInteractive('df-2122f668-655d-4326-8088-7c7057a62ea3')\"\n",
              "              title=\"Convert this dataframe to an interactive table.\"\n",
              "              style=\"display:none;\">\n",
              "        \n",
              "  <svg xmlns=\"http://www.w3.org/2000/svg\" height=\"24px\"viewBox=\"0 0 24 24\"\n",
              "       width=\"24px\">\n",
              "    <path d=\"M0 0h24v24H0V0z\" fill=\"none\"/>\n",
              "    <path d=\"M18.56 5.44l.94 2.06.94-2.06 2.06-.94-2.06-.94-.94-2.06-.94 2.06-2.06.94zm-11 1L8.5 8.5l.94-2.06 2.06-.94-2.06-.94L8.5 2.5l-.94 2.06-2.06.94zm10 10l.94 2.06.94-2.06 2.06-.94-2.06-.94-.94-2.06-.94 2.06-2.06.94z\"/><path d=\"M17.41 7.96l-1.37-1.37c-.4-.4-.92-.59-1.43-.59-.52 0-1.04.2-1.43.59L10.3 9.45l-7.72 7.72c-.78.78-.78 2.05 0 2.83L4 21.41c.39.39.9.59 1.41.59.51 0 1.02-.2 1.41-.59l7.78-7.78 2.81-2.81c.8-.78.8-2.07 0-2.86zM5.41 20L4 18.59l7.72-7.72 1.47 1.35L5.41 20z\"/>\n",
              "  </svg>\n",
              "      </button>\n",
              "      \n",
              "  <style>\n",
              "    .colab-df-container {\n",
              "      display:flex;\n",
              "      flex-wrap:wrap;\n",
              "      gap: 12px;\n",
              "    }\n",
              "\n",
              "    .colab-df-convert {\n",
              "      background-color: #E8F0FE;\n",
              "      border: none;\n",
              "      border-radius: 50%;\n",
              "      cursor: pointer;\n",
              "      display: none;\n",
              "      fill: #1967D2;\n",
              "      height: 32px;\n",
              "      padding: 0 0 0 0;\n",
              "      width: 32px;\n",
              "    }\n",
              "\n",
              "    .colab-df-convert:hover {\n",
              "      background-color: #E2EBFA;\n",
              "      box-shadow: 0px 1px 2px rgba(60, 64, 67, 0.3), 0px 1px 3px 1px rgba(60, 64, 67, 0.15);\n",
              "      fill: #174EA6;\n",
              "    }\n",
              "\n",
              "    [theme=dark] .colab-df-convert {\n",
              "      background-color: #3B4455;\n",
              "      fill: #D2E3FC;\n",
              "    }\n",
              "\n",
              "    [theme=dark] .colab-df-convert:hover {\n",
              "      background-color: #434B5C;\n",
              "      box-shadow: 0px 1px 3px 1px rgba(0, 0, 0, 0.15);\n",
              "      filter: drop-shadow(0px 1px 2px rgba(0, 0, 0, 0.3));\n",
              "      fill: #FFFFFF;\n",
              "    }\n",
              "  </style>\n",
              "\n",
              "      <script>\n",
              "        const buttonEl =\n",
              "          document.querySelector('#df-2122f668-655d-4326-8088-7c7057a62ea3 button.colab-df-convert');\n",
              "        buttonEl.style.display =\n",
              "          google.colab.kernel.accessAllowed ? 'block' : 'none';\n",
              "\n",
              "        async function convertToInteractive(key) {\n",
              "          const element = document.querySelector('#df-2122f668-655d-4326-8088-7c7057a62ea3');\n",
              "          const dataTable =\n",
              "            await google.colab.kernel.invokeFunction('convertToInteractive',\n",
              "                                                     [key], {});\n",
              "          if (!dataTable) return;\n",
              "\n",
              "          const docLinkHtml = 'Like what you see? Visit the ' +\n",
              "            '<a target=\"_blank\" href=https://colab.research.google.com/notebooks/data_table.ipynb>data table notebook</a>'\n",
              "            + ' to learn more about interactive tables.';\n",
              "          element.innerHTML = '';\n",
              "          dataTable['output_type'] = 'display_data';\n",
              "          await google.colab.output.renderOutput(dataTable, element);\n",
              "          const docLink = document.createElement('div');\n",
              "          docLink.innerHTML = docLinkHtml;\n",
              "          element.appendChild(docLink);\n",
              "        }\n",
              "      </script>\n",
              "    </div>\n",
              "  </div>\n",
              "  "
            ]
          },
          "metadata": {},
          "execution_count": 4
        }
      ],
      "source": [
        "df = pd.read_csv('lamps.csv', index_col=0)\n",
        "df.head()"
      ]
    },
    {
      "cell_type": "markdown",
      "metadata": {
        "id": "MVdiPL9sNVzv"
      },
      "source": [
        "## PMF\n",
        "\n",
        "This dataset is complete in the sense that the experiment ran until all light bulbs failed, so the **lifetime for every bulb is known.**\n",
        "So we can use the data to estimate the probability mass function (PMF) of lifetimes.\n",
        "\n",
        "To represent a PMF, I'll use a Pandas `Series` with the lifetimes (column `h`) as the index and the number of failures (column `f`) as the values."
      ]
    },
    {
      "cell_type": "code",
      "execution_count": 5,
      "metadata": {
        "tags": [
          "fill-in"
        ],
        "id": "dVfyJTNINVzw",
        "colab": {
          "base_uri": "https://localhost:8080/"
        },
        "outputId": "e297f4f8-e75b-4d80-f26c-cb1614877a90"
      },
      "outputs": [
        {
          "output_type": "execute_result",
          "data": {
            "text/plain": [
              "t\n",
              "0      0\n",
              "840    2\n",
              "852    1\n",
              "936    1\n",
              "960    1\n",
              "dtype: int64"
            ]
          },
          "metadata": {},
          "execution_count": 5
        }
      ],
      "source": [
        "pmf = pd.Series(df['f'].values, index=df['h'])\n",
        "pmf.index.name = 't'\n",
        "pmf.head()"
      ]
    },
    {
      "cell_type": "markdown",
      "metadata": {
        "id": "ZY6HPSnbNVzw"
      },
      "source": [
        "To normalize the PMF, we divide through by the total number of lightbulbs."
      ]
    },
    {
      "cell_type": "code",
      "execution_count": 6,
      "metadata": {
        "tags": [
          "fill-in"
        ],
        "id": "Px0oRn3XNVzw",
        "colab": {
          "base_uri": "https://localhost:8080/"
        },
        "outputId": "9950b4ca-7f3d-4057-98bf-c5b4745611ca"
      },
      "outputs": [
        {
          "output_type": "execute_result",
          "data": {
            "text/plain": [
              "t\n",
              "0      0.00\n",
              "840    0.04\n",
              "852    0.02\n",
              "936    0.02\n",
              "960    0.02\n",
              "dtype: float64"
            ]
          },
          "metadata": {},
          "execution_count": 6
        }
      ],
      "source": [
        "pmf /= pmf.sum()\n",
        "pmf.head()"
      ]
    },
    {
      "cell_type": "markdown",
      "metadata": {
        "id": "oxqE3pmuNVzx"
      },
      "source": [
        "For a given lifetime, `t`, the PMF contains the fraction of lifetimes equal to `t`.\n",
        "For example, we can compute the fraction of light bulbs that lasted 840 hours:"
      ]
    },
    {
      "cell_type": "code",
      "execution_count": 7,
      "metadata": {
        "tags": [
          "fill-in"
        ],
        "id": "kLMmXE2cNVzx",
        "colab": {
          "base_uri": "https://localhost:8080/"
        },
        "outputId": "387f86ab-33a9-4356-d6fc-daf2605ac5f1"
      },
      "outputs": [
        {
          "output_type": "execute_result",
          "data": {
            "text/plain": [
              "0.04"
            ]
          },
          "metadata": {},
          "execution_count": 7
        }
      ],
      "source": [
        "pmf[840]"
      ]
    },
    {
      "cell_type": "markdown",
      "metadata": {
        "id": "8H9YGFKhNVzx"
      },
      "source": [
        "Or the fraction equal to 1524 hours."
      ]
    },
    {
      "cell_type": "code",
      "execution_count": 8,
      "metadata": {
        "tags": [
          "fill-in"
        ],
        "id": "_mM4jM8ZNVzx",
        "colab": {
          "base_uri": "https://localhost:8080/"
        },
        "outputId": "b4ab27b1-3f57-4ac9-c5d1-b88bd0a64a8d"
      },
      "outputs": [
        {
          "output_type": "execute_result",
          "data": {
            "text/plain": [
              "0.06"
            ]
          },
          "metadata": {},
          "execution_count": 8
        }
      ],
      "source": [
        "pmf[1524]"
      ]
    },
    {
      "cell_type": "markdown",
      "metadata": {
        "id": "CBJKd5A0NVzy"
      },
      "source": [
        "Here's what the PMF looks like."
      ]
    },
    {
      "cell_type": "code",
      "execution_count": 9,
      "metadata": {
        "id": "C-tZkQJWNVzy"
      },
      "outputs": [],
      "source": [
        "def decorate(**options):\n",
        "    \"\"\"Decorate the current axes.\n",
        "    Call decorate with keyword arguments like\n",
        "    decorate(title='Title',\n",
        "             xlabel='x',\n",
        "             ylabel='y')\n",
        "    The keyword arguments can be any of the axis properties\n",
        "    https://matplotlib.org/api/axes_api.html\n",
        "    \"\"\"\n",
        "    plt.gca().set(**options)\n",
        "    plt.tight_layout()"
      ]
    },
    {
      "cell_type": "code",
      "execution_count": 10,
      "metadata": {
        "id": "Tjtxx8jUNVzy",
        "colab": {
          "base_uri": "https://localhost:8080/",
          "height": 297
        },
        "outputId": "f6156f4e-4e83-4283-9d36-f23a9384bbc3"
      },
      "outputs": [
        {
          "output_type": "display_data",
          "data": {
            "text/plain": [
              "<Figure size 432x288 with 1 Axes>"
            ],
            "image/png": "[encoded data removed]"
          },
          "metadata": {
            "needs_background": "light"
          }
        }
      ],
      "source": [
        "pmf.plot()\n",
        "decorate(xlabel='Lifetime (hours)', \n",
        "         ylabel='PMF', \n",
        "         title='PMF of lightbulb lifetimes')"
      ]
    },
    {
      "cell_type": "markdown",
      "metadata": {
        "id": "D8z1bneTNVzz"
      },
      "source": [
        "This way of visualizing the data can be useful for validation, and it gives a sense of the location and spread of the data.  But it **does not make the shape of the distrbution clear**.  For that, the CDF is better."
      ]
    },
    {
      "cell_type": "markdown",
      "metadata": {
        "id": "mVIw_cM3NVzz"
      },
      "source": [
        "## CDF\n",
        "\n",
        "The Cumulative Distribution Function (CDF) is the cumulative sum of the PMF."
      ]
    },
    {
      "cell_type": "code",
      "execution_count": 11,
      "metadata": {
        "tags": [
          "fill-in"
        ],
        "id": "dOlyULf6NVzz",
        "colab": {
          "base_uri": "https://localhost:8080/"
        },
        "outputId": "7021bcd1-e61f-434f-ded1-0ec652ef62e5"
      },
      "outputs": [
        {
          "output_type": "execute_result",
          "data": {
            "text/plain": [
              "t\n",
              "0      0.00\n",
              "840    0.04\n",
              "852    0.06\n",
              "936    0.08\n",
              "960    0.10\n",
              "dtype: float64"
            ]
          },
          "metadata": {},
          "execution_count": 11
        }
      ],
      "source": [
        "cdf = pmf.cumsum()\n",
        "cdf.head()"
      ]
    },
    {
      "cell_type": "markdown",
      "metadata": {
        "id": "zeoEyk6nNVzz"
      },
      "source": [
        "For a given lifetime, `t`, the CDF contains the fraction of lifetimes less than or equal to `t`.\n",
        "For example, here is the fraction of light bulbs that expired at or before 840 hours:"
      ]
    },
    {
      "cell_type": "code",
      "execution_count": 12,
      "metadata": {
        "tags": [
          "fill-in"
        ],
        "id": "B8ZIcH1-NVzz",
        "colab": {
          "base_uri": "https://localhost:8080/"
        },
        "outputId": "e5472563-2102-4978-95fc-0beb9f79b2ce"
      },
      "outputs": [
        {
          "output_type": "execute_result",
          "data": {
            "text/plain": [
              "0.04"
            ]
          },
          "metadata": {},
          "execution_count": 12
        }
      ],
      "source": [
        "cdf[840]"
      ]
    },
    {
      "cell_type": "markdown",
      "metadata": {
        "id": "ulItSDd-NVz0"
      },
      "source": [
        "And the fraction that expired at or before 1524 hours."
      ]
    },
    {
      "cell_type": "code",
      "execution_count": 13,
      "metadata": {
        "tags": [
          "fill-in"
        ],
        "id": "eKJD5QXeNVz0",
        "colab": {
          "base_uri": "https://localhost:8080/"
        },
        "outputId": "583ededa-b602-4938-944d-f066ade81eba"
      },
      "outputs": [
        {
          "output_type": "execute_result",
          "data": {
            "text/plain": [
              "0.6000000000000001"
            ]
          },
          "metadata": {},
          "execution_count": 13
        }
      ],
      "source": [
        "cdf[1524]"
      ]
    },
    {
      "cell_type": "markdown",
      "metadata": {
        "id": "2333AbcUNVz0"
      },
      "source": [
        "Here's what the CDF looks like."
      ]
    },
    {
      "cell_type": "code",
      "execution_count": 33,
      "metadata": {
        "id": "enPrbxJuNVz0",
        "colab": {
          "base_uri": "https://localhost:8080/",
          "height": 297
        },
        "outputId": "de7c209f-755e-452d-fc42-044a3818f4cd"
      },
      "outputs": [
        {
          "output_type": "display_data",
          "data": {
            "text/plain": [
              "<Figure size 432x288 with 1 Axes>"
            ],
            "image/png": "[encoded data removed]"
          },
          "metadata": {
            "needs_background": "light"
          }
        }
      ],
      "source": [
        "ax = cdf.plot()\n",
        "plt.vlines(x=[800, 1800], ymin=0, ymax=1, colors='red', linestyles='dotted')\n",
        "decorate(xlabel='Lifetime (hours)', \n",
        "         ylabel='CDF', \n",
        "         title='CDF of lightbulb lifetimes')"
      ]
    },
    {
      "cell_type": "markdown",
      "metadata": {
        "id": "QnDOFqLONVz0"
      },
      "source": [
        "In my opinion, the **CDF is often the best way to visualize the distribution of a sample**.\n",
        "\n",
        "Between 800 and 1800 hours, the CDF is roughly a straight line, which suggests that the distribution is uniform in this range."
      ]
    },
    {
      "cell_type": "markdown",
      "metadata": {
        "id": "89wHUWKSNVz0"
      },
      "source": [
        "## Survival function\n",
        "\n",
        "The survival function is the **complement of the CDF**; that is, for a given lifetime, `t`:\n",
        "\n",
        "* The CDF is the fraction of the population **less than or equal to** `t`.\n",
        "\n",
        "* The survival function is the fraction (strictly) **greater than** `t`.\n",
        "\n",
        "We can compute the survival function like this:"
      ]
    },
    {
      "cell_type": "code",
      "execution_count": 34,
      "metadata": {
        "tags": [
          "fill-in"
        ],
        "id": "46dIWOmmNVz0",
        "colab": {
          "base_uri": "https://localhost:8080/"
        },
        "outputId": "adce95b1-7e16-4325-8a39-c26efe0f9de5"
      },
      "outputs": [
        {
          "output_type": "execute_result",
          "data": {
            "text/plain": [
              "t\n",
              "0      1.00\n",
              "840    0.96\n",
              "852    0.94\n",
              "936    0.92\n",
              "960    0.90\n",
              "dtype: float64"
            ]
          },
          "metadata": {},
          "execution_count": 34
        }
      ],
      "source": [
        "surv = 1 - cdf\n",
        "surv.head()"
      ]
    },
    {
      "cell_type": "markdown",
      "metadata": {
        "id": "MdSLmUE4NVz1"
      },
      "source": [
        "We can use `surv` to compute the fraction of lightbulbs that live longer than 1524 hours:"
      ]
    },
    {
      "cell_type": "code",
      "execution_count": 35,
      "metadata": {
        "tags": [
          "fill-in"
        ],
        "id": "2uAcF2wdNVz1",
        "colab": {
          "base_uri": "https://localhost:8080/"
        },
        "outputId": "91978ea1-43b3-4441-d538-183d918dd9bc"
      },
      "outputs": [
        {
          "output_type": "execute_result",
          "data": {
            "text/plain": [
              "0.3999999999999999"
            ]
          },
          "metadata": {},
          "execution_count": 35
        }
      ],
      "source": [
        "surv[1524]"
      ]
    },
    {
      "cell_type": "markdown",
      "metadata": {
        "id": "riNT_iK1NVz1"
      },
      "source": [
        "If we plot the survival function along with the CDF, we can see that they are complements."
      ]
    },
    {
      "cell_type": "code",
      "execution_count": 36,
      "metadata": {
        "id": "LhK_Pv05NVz1",
        "colab": {
          "base_uri": "https://localhost:8080/",
          "height": 297
        },
        "outputId": "55440ed7-5e9c-4bcf-bd8e-917828db22ea"
      },
      "outputs": [
        {
          "output_type": "display_data",
          "data": {
            "text/plain": [
              "<Figure size 432x288 with 1 Axes>"
            ],
            "image/png": "[encoded data removed]"
          },
          "metadata": {
            "needs_background": "light"
          }
        }
      ],
      "source": [
        "cdf.plot(color='gray', alpha=0.4)\n",
        "surv.plot()\n",
        "decorate(xlabel='Lifetime (hours)', \n",
        "         ylabel='Prob(lifetime>t)', \n",
        "         title='Survival function of lightbulb lifetimes')"
      ]
    },
    {
      "cell_type": "markdown",
      "metadata": {
        "id": "6ft3u5FSNVz1"
      },
      "source": [
        "It might not be obvious why the survival function is useful.  Given the CDF and a little arithmetic, we can answer all of the same questions.\n",
        "\n",
        "There are two reasons:\n",
        "\n",
        "* In some domains it is more natural, or at least conventional, to represent distributions in terms of survival rates.\n",
        "\n",
        "* The survival function is a step on the way to the hazard function, which we'll get to now."
      ]
    },
    {
      "cell_type": "markdown",
      "metadata": {
        "id": "GnTNhUuyNVz1"
      },
      "source": [
        "## Hazard function\n",
        "\n",
        "For a given lifetime `t`, the hazard function computes the \"hazard rate\" at `t`.  Using the vocabulary of the light bulb example, the hazard rate is the fraction of light bulbs that survive until `t` and then fail at `t`.\n",
        "\n",
        "We can compute the hazard rate by computing these quantities:\n",
        "\n",
        "* `pmf(t)` is the fraction of light bulbs that fail at `t`.\n",
        "\n",
        "* `surv(t)` is the fraction of light bulbs that live longer than `t`.\n",
        "\n",
        "* The sum, `pmf(t) + surv(t)` is the fraction that survive until `t`. \n",
        "\n",
        "So the hazard rate is the ratio of `pmf(t)` to the sum `pmf(t) + surv(t)`.\n",
        "We can compute it like this:"
      ]
    },
    {
      "cell_type": "code",
      "execution_count": 37,
      "metadata": {
        "tags": [
          "fill-in"
        ],
        "id": "qSS9hcFINVz2",
        "colab": {
          "base_uri": "https://localhost:8080/"
        },
        "outputId": "1f23fa0b-cdb3-4212-883f-02316453b41a"
      },
      "outputs": [
        {
          "output_type": "execute_result",
          "data": {
            "text/plain": [
              "t\n",
              "0      0.000000\n",
              "840    0.040000\n",
              "852    0.020833\n",
              "936    0.021277\n",
              "960    0.021739\n",
              "dtype: float64"
            ]
          },
          "metadata": {},
          "execution_count": 37
        }
      ],
      "source": [
        "haz = pmf / (pmf + surv)\n",
        "haz.head()"
      ]
    },
    {
      "cell_type": "markdown",
      "metadata": {
        "id": "gHmWDzgSNVz2"
      },
      "source": [
        "Here's what the hazard function looks like:"
      ]
    },
    {
      "cell_type": "code",
      "execution_count": 38,
      "metadata": {
        "id": "m1fdhSZkNVz2",
        "colab": {
          "base_uri": "https://localhost:8080/",
          "height": 297
        },
        "outputId": "e2484939-c1d7-4e4a-caba-416b9267b611"
      },
      "outputs": [
        {
          "output_type": "display_data",
          "data": {
            "text/plain": [
              "<Figure size 432x288 with 1 Axes>"
            ],
            "image/png": "[encoded data removed]"
          },
          "metadata": {
            "needs_background": "light"
          }
        }
      ],
      "source": [
        "haz.plot()\n",
        "decorate(xlabel='Lifetime (hours)', \n",
        "         ylabel='Hazard rate', \n",
        "         title='Hazard function of lightbulb lifetimes')"
      ]
    },
    {
      "cell_type": "markdown",
      "metadata": {
        "id": "TibCKdu4NVz2"
      },
      "source": [
        "With this kind of data, plotting the hazard function does not provide a clear picture of what's happening.  There are two problems:\n",
        "\n",
        "1) The plot shows spikes at the locations of the data, but it is hard to see the shape of the curve.\n",
        "\n",
        "2) The large values on the right are unreliable because they are based on a small number of values.\n",
        "\n",
        "To explain the second point, let's look at the last few rows of the failure column, `f`:"
      ]
    },
    {
      "cell_type": "code",
      "execution_count": 39,
      "metadata": {
        "id": "fw8lJ4qwNVz2",
        "colab": {
          "base_uri": "https://localhost:8080/",
          "height": 237
        },
        "outputId": "3f9f9c53-37af-462c-809d-3dc9e1904451"
      },
      "outputs": [
        {
          "output_type": "execute_result",
          "data": {
            "text/plain": [
              "       h  f  K\n",
              "i             \n",
              "28  1812  1  4\n",
              "29  1836  1  3\n",
              "30  1860  1  2\n",
              "31  1980  1  1\n",
              "32  2568  1  0"
            ],
            "text/html": [
              "\n",
              "  <div id=\"df-f1c1fb8b-b3a7-4968-a673-df3771c2027e\">\n",
              "    <div class=\"colab-df-container\">\n",
              "      <div>\n",
              "<style scoped>\n",
              "    .dataframe tbody tr th:only-of-type {\n",
              "        vertical-align: middle;\n",
              "    }\n",
              "\n",
              "    .dataframe tbody tr th {\n",
              "        vertical-align: top;\n",
              "    }\n",
              "\n",
              "    .dataframe thead th {\n",
              "        text-align: right;\n",
              "    }\n",
              "</style>\n",
              "<table border=\"1\" class=\"dataframe\">\n",
              "  <thead>\n",
              "    <tr style=\"text-align: right;\">\n",
              "      <th></th>\n",
              "      <th>h</th>\n",
              "      <th>f</th>\n",
              "      <th>K</th>\n",
              "    </tr>\n",
              "    <tr>\n",
              "      <th>i</th>\n",
              "      <th></th>\n",
              "      <th></th>\n",
              "      <th></th>\n",
              "    </tr>\n",
              "  </thead>\n",
              "  <tbody>\n",
              "    <tr>\n",
              "      <th>28</th>\n",
              "      <td>1812</td>\n",
              "      <td>1</td>\n",
              "      <td>4</td>\n",
              "    </tr>\n",
              "    <tr>\n",
              "      <th>29</th>\n",
              "      <td>1836</td>\n",
              "      <td>1</td>\n",
              "      <td>3</td>\n",
              "    </tr>\n",
              "    <tr>\n",
              "      <th>30</th>\n",
              "      <td>1860</td>\n",
              "      <td>1</td>\n",
              "      <td>2</td>\n",
              "    </tr>\n",
              "    <tr>\n",
              "      <th>31</th>\n",
              "      <td>1980</td>\n",
              "      <td>1</td>\n",
              "      <td>1</td>\n",
              "    </tr>\n",
              "    <tr>\n",
              "      <th>32</th>\n",
              "      <td>2568</td>\n",
              "      <td>1</td>\n",
              "      <td>0</td>\n",
              "    </tr>\n",
              "  </tbody>\n",
              "</table>\n",
              "</div>\n",
              "      <button class=\"colab-df-convert\" onclick=\"convertToInteractive('df-f1c1fb8b-b3a7-4968-a673-df3771c2027e')\"\n",
              "              title=\"Convert this dataframe to an interactive table.\"\n",
              "              style=\"display:none;\">\n",
              "        \n",
              "  <svg xmlns=\"http://www.w3.org/2000/svg\" height=\"24px\"viewBox=\"0 0 24 24\"\n",
              "       width=\"24px\">\n",
              "    <path d=\"M0 0h24v24H0V0z\" fill=\"none\"/>\n",
              "    <path d=\"M18.56 5.44l.94 2.06.94-2.06 2.06-.94-2.06-.94-.94-2.06-.94 2.06-2.06.94zm-11 1L8.5 8.5l.94-2.06 2.06-.94-2.06-.94L8.5 2.5l-.94 2.06-2.06.94zm10 10l.94 2.06.94-2.06 2.06-.94-2.06-.94-.94-2.06-.94 2.06-2.06.94z\"/><path d=\"M17.41 7.96l-1.37-1.37c-.4-.4-.92-.59-1.43-.59-.52 0-1.04.2-1.43.59L10.3 9.45l-7.72 7.72c-.78.78-.78 2.05 0 2.83L4 21.41c.39.39.9.59 1.41.59.51 0 1.02-.2 1.41-.59l7.78-7.78 2.81-2.81c.8-.78.8-2.07 0-2.86zM5.41 20L4 18.59l7.72-7.72 1.47 1.35L5.41 20z\"/>\n",
              "  </svg>\n",
              "      </button>\n",
              "      \n",
              "  <style>\n",
              "    .colab-df-container {\n",
              "      display:flex;\n",
              "      flex-wrap:wrap;\n",
              "      gap: 12px;\n",
              "    }\n",
              "\n",
              "    .colab-df-convert {\n",
              "      background-color: #E8F0FE;\n",
              "      border: none;\n",
              "      border-radius: 50%;\n",
              "      cursor: pointer;\n",
              "      display: none;\n",
              "      fill: #1967D2;\n",
              "      height: 32px;\n",
              "      padding: 0 0 0 0;\n",
              "      width: 32px;\n",
              "    }\n",
              "\n",
              "    .colab-df-convert:hover {\n",
              "      background-color: #E2EBFA;\n",
              "      box-shadow: 0px 1px 2px rgba(60, 64, 67, 0.3), 0px 1px 3px 1px rgba(60, 64, 67, 0.15);\n",
              "      fill: #174EA6;\n",
              "    }\n",
              "\n",
              "    [theme=dark] .colab-df-convert {\n",
              "      background-color: #3B4455;\n",
              "      fill: #D2E3FC;\n",
              "    }\n",
              "\n",
              "    [theme=dark] .colab-df-convert:hover {\n",
              "      background-color: #434B5C;\n",
              "      box-shadow: 0px 1px 3px 1px rgba(0, 0, 0, 0.15);\n",
              "      filter: drop-shadow(0px 1px 2px rgba(0, 0, 0, 0.3));\n",
              "      fill: #FFFFFF;\n",
              "    }\n",
              "  </style>\n",
              "\n",
              "      <script>\n",
              "        const buttonEl =\n",
              "          document.querySelector('#df-f1c1fb8b-b3a7-4968-a673-df3771c2027e button.colab-df-convert');\n",
              "        buttonEl.style.display =\n",
              "          google.colab.kernel.accessAllowed ? 'block' : 'none';\n",
              "\n",
              "        async function convertToInteractive(key) {\n",
              "          const element = document.querySelector('#df-f1c1fb8b-b3a7-4968-a673-df3771c2027e');\n",
              "          const dataTable =\n",
              "            await google.colab.kernel.invokeFunction('convertToInteractive',\n",
              "                                                     [key], {});\n",
              "          if (!dataTable) return;\n",
              "\n",
              "          const docLinkHtml = 'Like what you see? Visit the ' +\n",
              "            '<a target=\"_blank\" href=https://colab.research.google.com/notebooks/data_table.ipynb>data table notebook</a>'\n",
              "            + ' to learn more about interactive tables.';\n",
              "          element.innerHTML = '';\n",
              "          dataTable['output_type'] = 'display_data';\n",
              "          await google.colab.output.renderOutput(dataTable, element);\n",
              "          const docLink = document.createElement('div');\n",
              "          docLink.innerHTML = docLinkHtml;\n",
              "          element.appendChild(docLink);\n",
              "        }\n",
              "      </script>\n",
              "    </div>\n",
              "  </div>\n",
              "  "
            ]
          },
          "metadata": {},
          "execution_count": 39
        }
      ],
      "source": [
        "df.tail()"
      ]
    },
    {
      "cell_type": "markdown",
      "metadata": {
        "id": "4525YGiANVz2"
      },
      "source": [
        "We can see that one bulb failed at each of 1812, 1836, 1860, 1980, and 2568 hours.\n",
        "\n",
        "So the last value of the hazard function is based on only one bulb; the second-to-last point is based on 2 bulbs; and so on."
      ]
    },
    {
      "cell_type": "markdown",
      "metadata": {
        "id": "m5LICtPhNVz2"
      },
      "source": [
        "## The cumulative hazard function\n",
        "\n",
        "To get a better sense for the shape of the curve, we can plot the cumulative hazard function, like this:"
      ]
    },
    {
      "cell_type": "code",
      "execution_count": 40,
      "metadata": {
        "id": "sHL3n_IGNVz3",
        "colab": {
          "base_uri": "https://localhost:8080/",
          "height": 297
        },
        "outputId": "3d75a158-4d62-49eb-e6ec-b224febc804a"
      },
      "outputs": [
        {
          "output_type": "display_data",
          "data": {
            "text/plain": [
              "<Figure size 432x288 with 1 Axes>"
            ],
            "image/png": "[encoded data removed]"
          },
          "metadata": {
            "needs_background": "light"
          }
        }
      ],
      "source": [
        "haz.cumsum().plot()\n",
        "\n",
        "decorate(xlabel='Lifetime (hours)', \n",
        "         ylabel='Cumulative hazard rate', \n",
        "         title='Hazard function of lightbulb lifetimes')"
      ]
    },
    {
      "cell_type": "markdown",
      "metadata": {
        "id": "1mvRp3tjNVz3"
      },
      "source": [
        "The slope of the cumulative hazard function is proportional to the hazard rate, so we can use this curve to see when the hazard rate is low or high, and when it is increasing or decreasing.\n",
        "\n",
        "Between 0 and 1000 hours, the slope is low, so the hazard rate is low.\n",
        "\n",
        "Between 1000 and 2000 hours, the slope is increasing, so the hazard rate is increasing."
      ]
    },
    {
      "cell_type": "markdown",
      "metadata": {
        "id": "YVpIf6NgNVz3"
      },
      "source": [
        "But notice that the vertical scale goes to 4.  You might wonder that that means; the answer is \"not much\".\n",
        "\n",
        "The values of the hazard function are rates, that is, percentages of light bulbs that expire at each point in time.  When you add up these rates, the result does not have a clear interpretation.  \n",
        "\n",
        "When you look at a cumulative hazard function, you should pay attention to the slope of the curve and ignore the values."
      ]
    },
    {
      "cell_type": "markdown",
      "metadata": {
        "id": "4d4hBhR0NVz3"
      },
      "source": [
        "## Resampling\n",
        "\n",
        "In the previous section, I suggested that we have to be careful not to overinterpret the right side of the hazard function, because it is based on a small number of data points.\n",
        "\n",
        "To see how precise the estimated hazard function is, we can use resampling.\n",
        "\n",
        "First I will use the Pmf of lifetimes to make a kernel density estimate (KDE) of the distribution."
      ]
    },
    {
      "cell_type": "code",
      "source": [
        "pmf.head()"
      ],
      "metadata": {
        "colab": {
          "base_uri": "https://localhost:8080/"
        },
        "id": "HSZSOOplQWUv",
        "outputId": "b8a1dd10-644e-4ad8-de4a-cf3885d78e97"
      },
      "execution_count": 45,
      "outputs": [
        {
          "output_type": "execute_result",
          "data": {
            "text/plain": [
              "t\n",
              "0      0.00\n",
              "840    0.04\n",
              "852    0.02\n",
              "936    0.02\n",
              "960    0.02\n",
              "dtype: float64"
            ]
          },
          "metadata": {},
          "execution_count": 45
        }
      ]
    },
    {
      "cell_type": "code",
      "execution_count": 41,
      "metadata": {
        "id": "gw45Mff6NVz3"
      },
      "outputs": [],
      "source": [
        "from scipy.stats import gaussian_kde\n",
        "    \n",
        "kde = gaussian_kde(pmf.index, weights=pmf)\n",
        "size = df['f'].sum()"
      ]
    },
    {
      "cell_type": "markdown",
      "metadata": {
        "id": "ZaEGCgnsNVz3"
      },
      "source": [
        "We can use the KDE to draw a new sample of lifetimes, with the same size as the original data set, like this."
      ]
    },
    {
      "cell_type": "code",
      "execution_count": 42,
      "metadata": {
        "id": "svdSPChDNVz3",
        "colab": {
          "base_uri": "https://localhost:8080/"
        },
        "outputId": "7de89833-fd1b-412a-e1c2-687454c7fff2"
      },
      "outputs": [
        {
          "output_type": "execute_result",
          "data": {
            "text/plain": [
              "(50,)"
            ]
          },
          "metadata": {},
          "execution_count": 42
        }
      ],
      "source": [
        "sample = kde.resample(size).flatten()\n",
        "sample.shape"
      ]
    },
    {
      "cell_type": "markdown",
      "metadata": {
        "id": "z5Udav5uNVz4"
      },
      "source": [
        "The following function takes a sample and computes its PMF, CDF, survival function, and hazard function."
      ]
    },
    {
      "cell_type": "code",
      "execution_count": 43,
      "metadata": {
        "id": "cd8glDbLNVz4"
      },
      "outputs": [],
      "source": [
        "def make_hazard(sample):\n",
        "    pmf = pd.Series(sample).value_counts(normalize=True).sort_index()    \n",
        "    cdf = pmf.cumsum()\n",
        "    surv = 1 - cdf\n",
        "    haz = pmf / (pmf + surv)\n",
        "    return pmf, cdf, surv, haz"
      ]
    },
    {
      "cell_type": "markdown",
      "metadata": {
        "id": "9D4QlIJ3NVz4"
      },
      "source": [
        "I'll generate 100 samples and plot their survival functions."
      ]
    },
    {
      "cell_type": "code",
      "execution_count": 49,
      "metadata": {
        "id": "iE37ZSG1NVz4",
        "colab": {
          "base_uri": "https://localhost:8080/",
          "height": 297
        },
        "outputId": "c8e66ef9-9ee6-4bcf-e0a9-ac96d590b698"
      },
      "outputs": [
        {
          "output_type": "display_data",
          "data": {
            "text/plain": [
              "<Figure size 432x288 with 1 Axes>"
            ],
            "image/png": "[encoded data removed]"
          },
          "metadata": {
            "needs_background": "light"
          }
        }
      ],
      "source": [
        "for i in range(100):\n",
        "    sample = kde.resample(size).flatten()\n",
        "    _, _, sf, _ = make_hazard(sample)\n",
        "    sf.plot(color='gray', alpha=0.05)\n",
        "    \n",
        "surv.plot()\n",
        "decorate(xlabel='Lifetime (hours)', \n",
        "         ylabel='Prob(lifetime > t)', \n",
        "         title='Survival function of lightbulb lifetimes')"
      ]
    },
    {
      "cell_type": "markdown",
      "metadata": {
        "id": "o4GcPR0QNVz4"
      },
      "source": [
        "By plotting the resampled survival functions on top of each other, we can get a sense of how much the results vary due to random sampling.\n",
        "\n",
        "We can do the same thing with the hazard function:"
      ]
    },
    {
      "cell_type": "code",
      "execution_count": 50,
      "metadata": {
        "id": "QcHnPJ9kNVz4",
        "colab": {
          "base_uri": "https://localhost:8080/",
          "height": 297
        },
        "outputId": "35889684-bb76-4ebd-b606-d804a26af60b"
      },
      "outputs": [
        {
          "output_type": "display_data",
          "data": {
            "text/plain": [
              "<Figure size 432x288 with 1 Axes>"
            ],
            "image/png": "[encoded data removed]"
          },
          "metadata": {
            "needs_background": "light"
          }
        }
      ],
      "source": [
        "for i in range(100):\n",
        "    sample = kde.resample(size).flatten()\n",
        "    _, _, _, hf = make_hazard(sample)\n",
        "    hf.cumsum().plot(color='gray', alpha=0.05)\n",
        "\n",
        "haz.cumsum().plot()\n",
        "\n",
        "decorate(xlabel='Lifetime (hours)', \n",
        "         ylabel='Cumulative hazard rate', \n",
        "         title='Hazard function of lightbulb lifetimes')"
      ]
    },
    {
      "cell_type": "markdown",
      "metadata": {
        "id": "x-1pHsElNVz5"
      },
      "source": [
        "This plot gives us a sense of which parts of the cumulative hazard function are reliable and which are not.\n",
        "\n",
        "Below 2000 hours, all of the resampled curves are similar; they increase with increasing slope.\n",
        "\n",
        "After that, the variability of the curves is much wider, which means we don't have enough data to characterize this part of the hazard function."
      ]
    },
    {
      "cell_type": "markdown",
      "metadata": {
        "id": "2-MU3so-NVz5"
      },
      "source": [
        "## Summary\n",
        "\n",
        "We have seen four ways to represent a distribution of lifetimes:\n",
        "\n",
        "* Probability mass function (PMF), which maps from each value in the distribution to its probability.\n",
        "\n",
        "* Cumulative distribution function (CDF), which maps from each value, `x`, to its cumulative probability, that is, the probability of being less than or equal to `x`.\n",
        "\n",
        "* Survival function, which is the complement of the CDF; that is, the probability of exceeding `x`.\n",
        "\n",
        "* Hazard function, which is the number of failures at `x` as a fraction of the number of cases that survive until `x`.\n",
        "\n",
        "These representations are equivalent in the sense that they all contain the same information.  Given any of them, we can compute any of the others.\n",
        "\n",
        "In this notebook, we computed the `Pmf` directly from the data, then computed the `Cdf`, survival function, and hazard function, in that order.\n",
        "\n",
        "In the next notebook we will use these representations to deal with a case where we cannot compute the PMF directly from the data."
      ]
    },
    {
      "cell_type": "markdown",
      "metadata": {
        "id": "oPnaOXezNVz5"
      },
      "source": [
        "Part of [Survival Analysis in Python](https://allendowney.github.io/SurvivalAnalysisPython/)\n",
        "\n",
        "Allen B. Downey\n",
        "\n",
        "[Attribution-NonCommercial-ShareAlike 4.0 International (CC BY-NC-SA 4.0)](https://creativecommons.org/licenses/by-nc-sa/4.0/)"
      ]
    }
  ],
  "metadata": {
    "celltoolbar": "Tags",
    "kernelspec": {
      "display_name": "Python 3 (ipykernel)",
      "language": "python",
      "name": "python3"
    },
    "language_info": {
      "codemirror_mode": {
        "name": "ipython",
        "version": 3
      },
      "file_extension": ".py",
      "mimetype": "text/x-python",
      "name": "python",
      "nbconvert_exporter": "python",
      "pygments_lexer": "ipython3",
      "version": "3.7.11"
    },
    "colab": {
      "name": "survival_analysis_1_light_bulb.ipynb",
      "provenance": [],
      "include_colab_link": true
    }
  },
  "nbformat": 4,
  "nbformat_minor": 0
}