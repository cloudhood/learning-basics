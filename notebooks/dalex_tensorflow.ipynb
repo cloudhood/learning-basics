{
  "nbformat": 4,
  "nbformat_minor": 0,
  "metadata": {
    "colab": {
      "name": "dalex-tensorflow.ipynb",
      "provenance": [],
      "collapsed_sections": [],
      "authorship_tag": "ABX9TyOgNEexTPbFdJ9h/o3t2BFQ",
      "include_colab_link": true
    },
    "kernelspec": {
      "name": "python3",
      "display_name": "Python 3"
    },
    "language_info": {
      "name": "python"
    }
  },
  "cells": [
    {
      "cell_type": "markdown",
      "metadata": {
        "id": "view-in-github",
        "colab_type": "text"
      },
      "source": [
        "<a href=\"https://colab.research.google.com/github/cloudhood/learning-basics/blob/main/notebooks/dalex_tensorflow.ipynb\" target=\"_parent\"><img src=\"https://colab.research.google.com/assets/colab-badge.svg\" alt=\"Open In Colab\"/></a>"
      ]
    },
    {
      "cell_type": "code",
      "execution_count": 1,
      "metadata": {
        "id": "CgRih3MU7dm5"
      },
      "outputs": [],
      "source": [
        "!pip install --upgrade dalex lime pandas statsmodels tensorflow  &> /dev/null"
      ]
    },
    {
      "cell_type": "code",
      "source": [
        "%matplotlib inline"
      ],
      "metadata": {
        "id": "nLB0VhymFrc6"
      },
      "execution_count": 2,
      "outputs": []
    },
    {
      "cell_type": "code",
      "source": [
        "import dalex as dx\n",
        "import pandas as pd\n",
        "import tensorflow as tf"
      ],
      "metadata": {
        "id": "j3qZysT_-Id1"
      },
      "execution_count": 3,
      "outputs": []
    },
    {
      "cell_type": "markdown",
      "source": [
        "## Versions"
      ],
      "metadata": {
        "id": "cpTUi5bcAG6I"
      }
    },
    {
      "cell_type": "code",
      "source": [
        "!python --version"
      ],
      "metadata": {
        "colab": {
          "base_uri": "https://localhost:8080/"
        },
        "id": "Tq5Z3qcgAE6W",
        "outputId": "4e7555fa-ea03-44f2-cfa8-5177a9d360f2"
      },
      "execution_count": 4,
      "outputs": [
        {
          "output_type": "stream",
          "name": "stdout",
          "text": [
            "Python 3.7.13\n"
          ]
        }
      ]
    },
    {
      "cell_type": "code",
      "source": [
        "for m in (dx, pd, tf):\n",
        "    print(f\"{m.__name__}: {m.__version__}\")"
      ],
      "metadata": {
        "colab": {
          "base_uri": "https://localhost:8080/"
        },
        "id": "sbfVQ1Ao_PdF",
        "outputId": "3b2d8704-4556-4d50-fcc0-bf13ec1d8f0f"
      },
      "execution_count": 5,
      "outputs": [
        {
          "output_type": "stream",
          "name": "stdout",
          "text": [
            "dalex: 1.4.1\n",
            "pandas: 1.3.5\n",
            "tensorflow: 2.9.1\n"
          ]
        }
      ]
    },
    {
      "cell_type": "markdown",
      "source": [
        "## Load data"
      ],
      "metadata": {
        "id": "o6Ttknn2AIXG"
      }
    },
    {
      "cell_type": "code",
      "source": [
        "url = \"https://raw.githubusercontent.com/pbiecek/xai-happiness/main/happiness.csv\"\n",
        "df = pd.read_csv(url, index_col=0)"
      ],
      "metadata": {
        "id": "Pw507b07-PtR"
      },
      "execution_count": 6,
      "outputs": []
    },
    {
      "cell_type": "code",
      "source": [
        "X, y = df.drop('score', axis=1), df.score\n",
        "n, p = X.shape"
      ],
      "metadata": {
        "id": "9YDKlPfZ-Td_"
      },
      "execution_count": 7,
      "outputs": []
    },
    {
      "cell_type": "markdown",
      "source": [
        "## Build model"
      ],
      "metadata": {
        "id": "YlOtvB5--ZFk"
      }
    },
    {
      "cell_type": "code",
      "source": [
        "tf.random.set_seed(123)"
      ],
      "metadata": {
        "id": "1fIew2aB-WiR"
      },
      "execution_count": 8,
      "outputs": []
    },
    {
      "cell_type": "code",
      "source": [
        "normalizer = tf.keras.layers.experimental.preprocessing.Normalization(\n",
        "    input_shape=[p,]\n",
        ")"
      ],
      "metadata": {
        "id": "-aixMHn0-cMW"
      },
      "execution_count": 9,
      "outputs": []
    },
    {
      "cell_type": "code",
      "source": [
        "normalizer.adapt(X.to_numpy())"
      ],
      "metadata": {
        "id": "eH051neB-3Sm"
      },
      "execution_count": 10,
      "outputs": []
    },
    {
      "cell_type": "code",
      "source": [
        "model = tf.keras.Sequential([\n",
        "    normalizer,\n",
        "    tf.keras.Input(shape=(p,)),\n",
        "    tf.keras.layers.Dense(p*2, activation='relu'),\n",
        "    tf.keras.layers.Dense(p*3, activation='relu'),\n",
        "    tf.keras.layers.Dense(p*2, activation='relu'),\n",
        "    tf.keras.layers.Dense(p, activation='relu'),\n",
        "    tf.keras.layers.Dense(1, activation='linear')\n",
        "])"
      ],
      "metadata": {
        "id": "u32RSjac-fWO"
      },
      "execution_count": 11,
      "outputs": []
    },
    {
      "cell_type": "code",
      "source": [
        "model.compile(\n",
        "    optimizer=tf.keras.optimizers.Adam(0.001),\n",
        "    loss=tf.keras.losses.mae\n",
        ")"
      ],
      "metadata": {
        "id": "taPZYwHR_Gq0"
      },
      "execution_count": 12,
      "outputs": []
    },
    {
      "cell_type": "code",
      "source": [
        "model.fit(X, y, batch_size=int(n/10), epochs=2000, verbose=False)"
      ],
      "metadata": {
        "colab": {
          "base_uri": "https://localhost:8080/"
        },
        "id": "K-Jvwwyi_Kj9",
        "outputId": "777a7c3d-2812-43a3-bdd9-5e820476e5a1"
      },
      "execution_count": 13,
      "outputs": [
        {
          "output_type": "execute_result",
          "data": {
            "text/plain": [
              "<keras.callbacks.History at 0x7fa4f6125f10>"
            ]
          },
          "metadata": {},
          "execution_count": 13
        }
      ]
    },
    {
      "cell_type": "markdown",
      "source": [
        "## Explain model"
      ],
      "metadata": {
        "id": "OXjOz7R8AMBE"
      }
    },
    {
      "cell_type": "code",
      "source": [
        "explainer = dx.Explainer(\n",
        "    model, X, y, label=\"happiness\"\n",
        ")"
      ],
      "metadata": {
        "colab": {
          "base_uri": "https://localhost:8080/"
        },
        "id": "8wHGvoer_McD",
        "outputId": "f1817084-d5cd-4938-cf97-3c385b905947"
      },
      "execution_count": 14,
      "outputs": [
        {
          "output_type": "stream",
          "name": "stdout",
          "text": [
            "Preparation of a new explainer is initiated\n",
            "\n",
            "  -> data              : 156 rows 6 cols\n",
            "  -> target variable   : Parameter 'y' was a pandas.Series. Converted to a numpy.ndarray.\n",
            "  -> target variable   : 156 values\n",
            "  -> model_class       : keras.engine.sequential.Sequential (default)\n",
            "  -> label             : happiness\n",
            "  -> predict function  : <function yhat_tf_regression at 0x7fa55bbaec20> will be used (default)\n",
            "1/1 [==============================] - 0s 116ms/step\n",
            "  -> predict function  : Accepts pandas.DataFrame and numpy.ndarray.\n",
            "5/5 [==============================] - 0s 4ms/step\n",
            "  -> predicted values  : min = 2.9, mean = 5.43, max = 7.83\n",
            "  -> model type        : regression will be used (default)\n",
            "  -> residual function : difference between y and yhat (default)\n",
            "5/5 [==============================] - 0s 3ms/step\n",
            "  -> residuals         : min = -1.62, mean = -0.0224, max = 0.79\n",
            "  -> model_info        : package keras\n",
            "\n",
            "A new explainer has been created!\n"
          ]
        }
      ]
    },
    {
      "cell_type": "code",
      "source": [
        "## Assess model fit\n",
        "explainer.model_performance()"
      ],
      "metadata": {
        "colab": {
          "base_uri": "https://localhost:8080/",
          "height": 81
        },
        "id": "P6Ua-XXcAPEJ",
        "outputId": "f11aafbd-5827-4d14-ba4a-6905f3a6a0f3"
      },
      "execution_count": 15,
      "outputs": [
        {
          "output_type": "execute_result",
          "data": {
            "text/plain": [
              "<dalex.model_explanations._model_performance.object.ModelPerformance at 0x7fa4f7808dd0>"
            ],
            "text/html": [
              "<div>\n",
              "<style scoped>\n",
              "    .dataframe tbody tr th:only-of-type {\n",
              "        vertical-align: middle;\n",
              "    }\n",
              "\n",
              "    .dataframe tbody tr th {\n",
              "        vertical-align: top;\n",
              "    }\n",
              "\n",
              "    .dataframe thead th {\n",
              "        text-align: right;\n",
              "    }\n",
              "</style>\n",
              "<table border=\"1\" class=\"dataframe\">\n",
              "  <thead>\n",
              "    <tr style=\"text-align: right;\">\n",
              "      <th></th>\n",
              "      <th>mse</th>\n",
              "      <th>rmse</th>\n",
              "      <th>r2</th>\n",
              "      <th>mae</th>\n",
              "      <th>mad</th>\n",
              "    </tr>\n",
              "  </thead>\n",
              "  <tbody>\n",
              "    <tr>\n",
              "      <th>happiness</th>\n",
              "      <td>0.037338</td>\n",
              "      <td>0.193231</td>\n",
              "      <td>0.969671</td>\n",
              "      <td>0.086628</td>\n",
              "      <td>0.037236</td>\n",
              "    </tr>\n",
              "  </tbody>\n",
              "</table>\n",
              "</div>"
            ]
          },
          "metadata": {},
          "execution_count": 15
        }
      ]
    },
    {
      "cell_type": "code",
      "source": [
        "## Variable importance\n",
        "explainer.model_parts().plot()"
      ],
      "metadata": {
        "colab": {
          "base_uri": "https://localhost:8080/",
          "height": 1000
        },
        "id": "2V_fi6fIASpe",
        "outputId": "1a1d93f8-e32a-48fb-ada9-f3563a4e188c"
      },
      "execution_count": 16,
      "outputs": [
        {
          "output_type": "stream",
          "name": "stdout",
          "text": [
            "5/5 [==============================] - 0s 3ms/step\n",
            "5/5 [==============================] - 0s 3ms/step\n",
            "5/5 [==============================] - 0s 3ms/step\n",
            "5/5 [==============================] - 0s 3ms/step\n",
            "5/5 [==============================] - 0s 3ms/step\n",
            "5/5 [==============================] - 0s 4ms/step\n",
            "5/5 [==============================] - 0s 3ms/step\n",
            "5/5 [==============================] - 0s 4ms/step\n",
            "5/5 [==============================] - 0s 3ms/step\n",
            "5/5 [==============================] - 0s 3ms/step\n",
            "5/5 [==============================] - 0s 3ms/step\n",
            "5/5 [==============================] - 0s 3ms/step\n",
            "5/5 [==============================] - 0s 3ms/step\n",
            "5/5 [==============================] - 0s 3ms/step\n",
            "5/5 [==============================] - 0s 3ms/step\n",
            "5/5 [==============================] - 0s 3ms/step\n",
            "5/5 [==============================] - 0s 3ms/step\n",
            "5/5 [==============================] - 0s 3ms/step\n",
            "5/5 [==============================] - 0s 3ms/step\n",
            "5/5 [==============================] - 0s 3ms/step\n",
            "5/5 [==============================] - 0s 4ms/step\n",
            "5/5 [==============================] - 0s 3ms/step\n",
            "5/5 [==============================] - 0s 3ms/step\n",
            "5/5 [==============================] - 0s 3ms/step\n",
            "5/5 [==============================] - 0s 3ms/step\n",
            "5/5 [==============================] - 0s 3ms/step\n",
            "5/5 [==============================] - 0s 3ms/step\n",
            "5/5 [==============================] - 0s 3ms/step\n",
            "5/5 [==============================] - 0s 3ms/step\n",
            "5/5 [==============================] - 0s 4ms/step\n",
            "5/5 [==============================] - 0s 3ms/step\n",
            "5/5 [==============================] - 0s 3ms/step\n",
            "5/5 [==============================] - 0s 3ms/step\n",
            "5/5 [==============================] - 0s 4ms/step\n",
            "5/5 [==============================] - 0s 3ms/step\n",
            "5/5 [==============================] - 0s 3ms/step\n",
            "5/5 [==============================] - 0s 3ms/step\n",
            "5/5 [==============================] - 0s 3ms/step\n",
            "5/5 [==============================] - 0s 3ms/step\n",
            "5/5 [==============================] - 0s 4ms/step\n",
            "5/5 [==============================] - 0s 3ms/step\n",
            "5/5 [==============================] - 0s 3ms/step\n",
            "5/5 [==============================] - 0s 3ms/step\n",
            "5/5 [==============================] - 0s 4ms/step\n",
            "5/5 [==============================] - 0s 3ms/step\n",
            "5/5 [==============================] - 0s 3ms/step\n",
            "5/5 [==============================] - 0s 3ms/step\n",
            "5/5 [==============================] - 0s 3ms/step\n",
            "5/5 [==============================] - 0s 3ms/step\n",
            "5/5 [==============================] - 0s 3ms/step\n",
            "5/5 [==============================] - 0s 3ms/step\n",
            "5/5 [==============================] - 0s 5ms/step\n",
            "5/5 [==============================] - 0s 3ms/step\n",
            "5/5 [==============================] - 0s 5ms/step\n",
            "5/5 [==============================] - 0s 4ms/step\n",
            "5/5 [==============================] - 0s 4ms/step\n",
            "5/5 [==============================] - 0s 4ms/step\n",
            "5/5 [==============================] - 0s 3ms/step\n",
            "5/5 [==============================] - 0s 3ms/step\n",
            "5/5 [==============================] - 0s 5ms/step\n",
            "5/5 [==============================] - 0s 3ms/step\n",
            "5/5 [==============================] - 0s 3ms/step\n",
            "5/5 [==============================] - 0s 4ms/step\n",
            "5/5 [==============================] - 0s 5ms/step\n",
            "5/5 [==============================] - 0s 3ms/step\n",
            "5/5 [==============================] - 0s 3ms/step\n",
            "5/5 [==============================] - 0s 3ms/step\n",
            "5/5 [==============================] - 0s 5ms/step\n",
            "5/5 [==============================] - 0s 3ms/step\n",
            "5/5 [==============================] - 0s 3ms/step\n",
            "5/5 [==============================] - 0s 5ms/step\n",
            "5/5 [==============================] - 0s 3ms/step\n",
            "5/5 [==============================] - 0s 3ms/step\n",
            "5/5 [==============================] - 0s 5ms/step\n",
            "5/5 [==============================] - 0s 4ms/step\n",
            "5/5 [==============================] - 0s 3ms/step\n",
            "5/5 [==============================] - 0s 4ms/step\n",
            "5/5 [==============================] - 0s 3ms/step\n",
            "5/5 [==============================] - 0s 3ms/step\n",
            "5/5 [==============================] - 0s 3ms/step\n"
          ]
        },
        {
          "output_type": "display_data",
          "data": {
            "text/html": [
              "<html>\n",
              "<head><meta charset=\"utf-8\" /></head>\n",
              "<body>\n",
              "    <div>            <script src=\"https://cdnjs.cloudflare.com/ajax/libs/mathjax/2.7.5/MathJax.js?config=TeX-AMS-MML_SVG\"></script><script type=\"text/javascript\">if (window.MathJax) {MathJax.Hub.Config({SVG: {font: \"STIX-Web\"}});}</script>                <script type=\"text/javascript\">window.PlotlyConfig = {MathJaxConfig: 'local'};</script>\n",
              "        <script src=\"https://cdn.plot.ly/plotly-2.8.3.min.js\"></script>                <div id=\"4c682c7c-b6b9-438f-ad43-2651ec5b511d\" class=\"plotly-graph-div\" style=\"height:303.0px; width:100%;\"></div>            <script type=\"text/javascript\">                                    window.PLOTLYENV=window.PLOTLYENV || {};                                    if (document.getElementById(\"4c682c7c-b6b9-438f-ad43-2651ec5b511d\")) {                    Plotly.newPlot(                        \"4c682c7c-b6b9-438f-ad43-2651ec5b511d\",                        [{\"base\":0.1932308664943921,\"hoverinfo\":\"text\",\"hoverlabel\":{\"bgcolor\":\"rgba(0,0,0,0.8)\"},\"hovertext\":[\"Model: happiness loss after<br>variable: gdp_per_capita is permuted: 0.884<br>Drop-out loss change: +0.691\",\"Model: happiness loss after<br>variable: freedom_to_make_life_choices is permuted: 0.861<br>Drop-out loss change: +0.668\",\"Model: happiness loss after<br>variable: social_support is permuted: 0.786<br>Drop-out loss change: +0.593\",\"Model: happiness loss after<br>variable: healthy_life_expectancy is permuted: 0.728<br>Drop-out loss change: +0.535\",\"Model: happiness loss after<br>variable: perceptions_of_corruption is permuted: 0.575<br>Drop-out loss change: +0.382\",\"Model: happiness loss after<br>variable: generosity is permuted: 0.529<br>Drop-out loss change: +0.336\"],\"marker\":{\"color\":\"#46bac2\"},\"orientation\":\"h\",\"showlegend\":false,\"text\":[\"+0.691\",\"+0.668\",\"+0.593\",\"+0.535\",\"+0.382\",\"+0.336\"],\"textposition\":\"outside\",\"x\":[0.690575812102499,0.6677170528543966,0.5927508763879461,0.5346938900766948,0.3820903717022094,0.3359649901555599],\"y\":[\"gdp_per_capita\",\"freedom_to_make_life_choices\",\"social_support\",\"healthy_life_expectancy\",\"perceptions_of_corruption\",\"generosity\"],\"type\":\"bar\",\"xaxis\":\"x\",\"yaxis\":\"y\"}],                        {\"template\":{\"data\":{\"scatter\":[{\"type\":\"scatter\"}]}},\"xaxis\":{\"anchor\":\"y\",\"domain\":[0.0,1.0],\"type\":\"linear\",\"gridwidth\":2,\"zeroline\":false,\"automargin\":true,\"ticks\":\"outside\",\"tickcolor\":\"white\",\"ticklen\":3,\"fixedrange\":true,\"range\":[0.08964449467901726,0.987393050412266]},\"yaxis\":{\"anchor\":\"x\",\"domain\":[0.0,1.0],\"type\":\"category\",\"autorange\":\"reversed\",\"gridwidth\":2,\"automargin\":true,\"ticks\":\"outside\",\"tickcolor\":\"white\",\"ticklen\":10,\"fixedrange\":true},\"annotations\":[{\"font\":{\"size\":16},\"showarrow\":false,\"text\":\"happiness\",\"x\":0.5,\"xanchor\":\"center\",\"xref\":\"paper\",\"y\":1.0,\"yanchor\":\"bottom\",\"yref\":\"paper\"},{\"font\":{\"size\":16},\"showarrow\":false,\"text\":\"drop-out loss\",\"x\":0.5,\"xanchor\":\"center\",\"xref\":\"paper\",\"y\":0,\"yanchor\":\"top\",\"yref\":\"paper\",\"yshift\":-30}],\"shapes\":[{\"line\":{\"color\":\"#371ea3\",\"dash\":\"dot\",\"width\":1.5},\"type\":\"line\",\"x0\":0.1932308664943921,\"x1\":0.1932308664943921,\"xref\":\"x\",\"y0\":-1,\"y1\":6,\"yref\":\"y\"}],\"title\":{\"text\":\"Variable Importance\",\"x\":0.15},\"font\":{\"color\":\"#371ea3\"},\"margin\":{\"t\":78,\"b\":71,\"r\":30},\"height\":303.0},                        {\"displaylogo\": false, \"staticPlot\": false, \"toImageButtonOptions\": {\"height\": null, \"width\": null}, \"modeBarButtonsToRemove\": [\"sendDataToCloud\", \"lasso2d\", \"autoScale2d\", \"select2d\", \"zoom2d\", \"pan2d\", \"zoomIn2d\", \"zoomOut2d\", \"resetScale2d\", \"toggleSpikelines\", \"hoverCompareCartesian\", \"hoverClosestCartesian\"], \"responsive\": true}                    ).then(function(){\n",
              "                            \n",
              "var gd = document.getElementById('4c682c7c-b6b9-438f-ad43-2651ec5b511d');\n",
              "var x = new MutationObserver(function (mutations, observer) {{\n",
              "        var display = window.getComputedStyle(gd).display;\n",
              "        if (!display || display === 'none') {{\n",
              "            console.log([gd, 'removed!']);\n",
              "            Plotly.purge(gd);\n",
              "            observer.disconnect();\n",
              "        }}\n",
              "}});\n",
              "\n",
              "// Listen for the removal of the full notebook cells\n",
              "var notebookContainer = gd.closest('#notebook-container');\n",
              "if (notebookContainer) {{\n",
              "    x.observe(notebookContainer, {childList: true});\n",
              "}}\n",
              "\n",
              "// Listen for the clearing of the current output cell\n",
              "var outputEl = gd.closest('.output');\n",
              "if (outputEl) {{\n",
              "    x.observe(outputEl, {childList: true});\n",
              "}}\n",
              "\n",
              "                        })                };                            </script>        </div>\n",
              "</body>\n",
              "</html>"
            ]
          },
          "metadata": {}
        }
      ]
    },
    {
      "cell_type": "code",
      "source": [
        "# Continuous relationships between predictors and variables (Ceteris Paribus)\n",
        "explainer.model_profile().plot(\n",
        "    variables=['social_support', 'healthy_life_expectancy',\n",
        "               'gdp_per_capita', 'freedom_to_make_life_choices']\n",
        ")"
      ],
      "metadata": {
        "colab": {
          "base_uri": "https://localhost:8080/",
          "height": 985
        },
        "id": "m1ZlJkLsAVgR",
        "outputId": "5a49af04-276d-4600-88d8-8a8491d18579"
      },
      "execution_count": 17,
      "outputs": [
        {
          "output_type": "stream",
          "name": "stderr",
          "text": [
            "\rCalculating ceteris paribus:   0%|          | 0/6 [00:00<?, ?it/s]"
          ]
        },
        {
          "output_type": "stream",
          "name": "stdout",
          "text": [
            "493/493 [==============================] - 1s 2ms/step\n"
          ]
        },
        {
          "output_type": "stream",
          "name": "stderr",
          "text": [
            "\rCalculating ceteris paribus:  17%|█▋        | 1/6 [00:01<00:05,  1.07s/it]"
          ]
        },
        {
          "output_type": "stream",
          "name": "stdout",
          "text": [
            "493/493 [==============================] - 1s 2ms/step\n"
          ]
        },
        {
          "output_type": "stream",
          "name": "stderr",
          "text": [
            "\rCalculating ceteris paribus:  33%|███▎      | 2/6 [00:02<00:04,  1.10s/it]"
          ]
        },
        {
          "output_type": "stream",
          "name": "stdout",
          "text": [
            "493/493 [==============================] - 1s 2ms/step\n"
          ]
        },
        {
          "output_type": "stream",
          "name": "stderr",
          "text": [
            "\rCalculating ceteris paribus:  50%|█████     | 3/6 [00:03<00:03,  1.05s/it]"
          ]
        },
        {
          "output_type": "stream",
          "name": "stdout",
          "text": [
            "493/493 [==============================] - 1s 2ms/step\n"
          ]
        },
        {
          "output_type": "stream",
          "name": "stderr",
          "text": [
            "\rCalculating ceteris paribus:  67%|██████▋   | 4/6 [00:04<00:02,  1.03s/it]"
          ]
        },
        {
          "output_type": "stream",
          "name": "stdout",
          "text": [
            "493/493 [==============================] - 1s 2ms/step\n"
          ]
        },
        {
          "output_type": "stream",
          "name": "stderr",
          "text": [
            "\rCalculating ceteris paribus:  83%|████████▎ | 5/6 [00:05<00:01,  1.14s/it]"
          ]
        },
        {
          "output_type": "stream",
          "name": "stdout",
          "text": [
            "493/493 [==============================] - 1s 2ms/step\n"
          ]
        },
        {
          "output_type": "stream",
          "name": "stderr",
          "text": [
            "Calculating ceteris paribus: 100%|██████████| 6/6 [00:06<00:00,  1.10s/it]"
          ]
        },
        {
          "output_type": "stream",
          "name": "stdout",
          "text": [
            "5/5 [==============================] - 0s 3ms/step\n"
          ]
        },
        {
          "output_type": "stream",
          "name": "stderr",
          "text": [
            "\n"
          ]
        },
        {
          "output_type": "display_data",
          "data": {
            "text/html": [
              "<html>\n",
              "<head><meta charset=\"utf-8\" /></head>\n",
              "<body>\n",
              "    <div>            <script src=\"https://cdnjs.cloudflare.com/ajax/libs/mathjax/2.7.5/MathJax.js?config=TeX-AMS-MML_SVG\"></script><script type=\"text/javascript\">if (window.MathJax) {MathJax.Hub.Config({SVG: {font: \"STIX-Web\"}});}</script>                <script type=\"text/javascript\">window.PlotlyConfig = {MathJaxConfig: 'local'};</script>\n",
              "        <script src=\"https://cdn.plot.ly/plotly-2.8.3.min.js\"></script>                <div id=\"a991c16f-f30c-4e1c-ac2b-0d50ffbab5f1\" class=\"plotly-graph-div\" style=\"height:829px; width:100%;\"></div>            <script type=\"text/javascript\">                                    window.PLOTLYENV=window.PLOTLYENV || {};                                    if (document.getElementById(\"a991c16f-f30c-4e1c-ac2b-0d50ffbab5f1\")) {                    Plotly.newPlot(                        \"a991c16f-f30c-4e1c-ac2b-0d50ffbab5f1\",                        [{\"customdata\":[[5.42952299118042,\"happiness\",\"social_support\"],[5.42952299118042,\"happiness\",\"social_support\"],[5.42952299118042,\"happiness\",\"social_support\"],[5.42952299118042,\"happiness\",\"social_support\"],[5.42952299118042,\"happiness\",\"social_support\"],[5.42952299118042,\"happiness\",\"social_support\"],[5.42952299118042,\"happiness\",\"social_support\"],[5.42952299118042,\"happiness\",\"social_support\"],[5.42952299118042,\"happiness\",\"social_support\"],[5.42952299118042,\"happiness\",\"social_support\"],[5.42952299118042,\"happiness\",\"social_support\"],[5.42952299118042,\"happiness\",\"social_support\"],[5.42952299118042,\"happiness\",\"social_support\"],[5.42952299118042,\"happiness\",\"social_support\"],[5.42952299118042,\"happiness\",\"social_support\"],[5.42952299118042,\"happiness\",\"social_support\"],[5.42952299118042,\"happiness\",\"social_support\"],[5.42952299118042,\"happiness\",\"social_support\"],[5.42952299118042,\"happiness\",\"social_support\"],[5.42952299118042,\"happiness\",\"social_support\"],[5.42952299118042,\"happiness\",\"social_support\"],[5.42952299118042,\"happiness\",\"social_support\"],[5.42952299118042,\"happiness\",\"social_support\"],[5.42952299118042,\"happiness\",\"social_support\"],[5.42952299118042,\"happiness\",\"social_support\"],[5.42952299118042,\"happiness\",\"social_support\"],[5.42952299118042,\"happiness\",\"social_support\"],[5.42952299118042,\"happiness\",\"social_support\"],[5.42952299118042,\"happiness\",\"social_support\"],[5.42952299118042,\"happiness\",\"social_support\"],[5.42952299118042,\"happiness\",\"social_support\"],[5.42952299118042,\"happiness\",\"social_support\"],[5.42952299118042,\"happiness\",\"social_support\"],[5.42952299118042,\"happiness\",\"social_support\"],[5.42952299118042,\"happiness\",\"social_support\"],[5.42952299118042,\"happiness\",\"social_support\"],[5.42952299118042,\"happiness\",\"social_support\"],[5.42952299118042,\"happiness\",\"social_support\"],[5.42952299118042,\"happiness\",\"social_support\"],[5.42952299118042,\"happiness\",\"social_support\"],[5.42952299118042,\"happiness\",\"social_support\"],[5.42952299118042,\"happiness\",\"social_support\"],[5.42952299118042,\"happiness\",\"social_support\"],[5.42952299118042,\"happiness\",\"social_support\"],[5.42952299118042,\"happiness\",\"social_support\"],[5.42952299118042,\"happiness\",\"social_support\"],[5.42952299118042,\"happiness\",\"social_support\"],[5.42952299118042,\"happiness\",\"social_support\"],[5.42952299118042,\"happiness\",\"social_support\"],[5.42952299118042,\"happiness\",\"social_support\"],[5.42952299118042,\"happiness\",\"social_support\"],[5.42952299118042,\"happiness\",\"social_support\"],[5.42952299118042,\"happiness\",\"social_support\"],[5.42952299118042,\"happiness\",\"social_support\"],[5.42952299118042,\"happiness\",\"social_support\"],[5.42952299118042,\"happiness\",\"social_support\"],[5.42952299118042,\"happiness\",\"social_support\"],[5.42952299118042,\"happiness\",\"social_support\"],[5.42952299118042,\"happiness\",\"social_support\"],[5.42952299118042,\"happiness\",\"social_support\"],[5.42952299118042,\"happiness\",\"social_support\"],[5.42952299118042,\"happiness\",\"social_support\"],[5.42952299118042,\"happiness\",\"social_support\"],[5.42952299118042,\"happiness\",\"social_support\"],[5.42952299118042,\"happiness\",\"social_support\"],[5.42952299118042,\"happiness\",\"social_support\"],[5.42952299118042,\"happiness\",\"social_support\"],[5.42952299118042,\"happiness\",\"social_support\"],[5.42952299118042,\"happiness\",\"social_support\"],[5.42952299118042,\"happiness\",\"social_support\"],[5.42952299118042,\"happiness\",\"social_support\"],[5.42952299118042,\"happiness\",\"social_support\"],[5.42952299118042,\"happiness\",\"social_support\"],[5.42952299118042,\"happiness\",\"social_support\"],[5.42952299118042,\"happiness\",\"social_support\"],[5.42952299118042,\"happiness\",\"social_support\"],[5.42952299118042,\"happiness\",\"social_support\"],[5.42952299118042,\"happiness\",\"social_support\"],[5.42952299118042,\"happiness\",\"social_support\"],[5.42952299118042,\"happiness\",\"social_support\"],[5.42952299118042,\"happiness\",\"social_support\"],[5.42952299118042,\"happiness\",\"social_support\"],[5.42952299118042,\"happiness\",\"social_support\"],[5.42952299118042,\"happiness\",\"social_support\"],[5.42952299118042,\"happiness\",\"social_support\"],[5.42952299118042,\"happiness\",\"social_support\"],[5.42952299118042,\"happiness\",\"social_support\"],[5.42952299118042,\"happiness\",\"social_support\"],[5.42952299118042,\"happiness\",\"social_support\"],[5.42952299118042,\"happiness\",\"social_support\"],[5.42952299118042,\"happiness\",\"social_support\"],[5.42952299118042,\"happiness\",\"social_support\"],[5.42952299118042,\"happiness\",\"social_support\"],[5.42952299118042,\"happiness\",\"social_support\"],[5.42952299118042,\"happiness\",\"social_support\"],[5.42952299118042,\"happiness\",\"social_support\"],[5.42952299118042,\"happiness\",\"social_support\"],[5.42952299118042,\"happiness\",\"social_support\"],[5.42952299118042,\"happiness\",\"social_support\"],[5.42952299118042,\"happiness\",\"social_support\"],[5.42952299118042,\"happiness\",\"social_support\"]],\"hovertemplate\":\"<b>%{hovertext}</b><br><br>prediction=%{y:.3f}<br>mean_prediction=%{customdata[0]:.3f}<extra></extra>\",\"hovertext\":[\"happiness\",\"happiness\",\"happiness\",\"happiness\",\"happiness\",\"happiness\",\"happiness\",\"happiness\",\"happiness\",\"happiness\",\"happiness\",\"happiness\",\"happiness\",\"happiness\",\"happiness\",\"happiness\",\"happiness\",\"happiness\",\"happiness\",\"happiness\",\"happiness\",\"happiness\",\"happiness\",\"happiness\",\"happiness\",\"happiness\",\"happiness\",\"happiness\",\"happiness\",\"happiness\",\"happiness\",\"happiness\",\"happiness\",\"happiness\",\"happiness\",\"happiness\",\"happiness\",\"happiness\",\"happiness\",\"happiness\",\"happiness\",\"happiness\",\"happiness\",\"happiness\",\"happiness\",\"happiness\",\"happiness\",\"happiness\",\"happiness\",\"happiness\",\"happiness\",\"happiness\",\"happiness\",\"happiness\",\"happiness\",\"happiness\",\"happiness\",\"happiness\",\"happiness\",\"happiness\",\"happiness\",\"happiness\",\"happiness\",\"happiness\",\"happiness\",\"happiness\",\"happiness\",\"happiness\",\"happiness\",\"happiness\",\"happiness\",\"happiness\",\"happiness\",\"happiness\",\"happiness\",\"happiness\",\"happiness\",\"happiness\",\"happiness\",\"happiness\",\"happiness\",\"happiness\",\"happiness\",\"happiness\",\"happiness\",\"happiness\",\"happiness\",\"happiness\",\"happiness\",\"happiness\",\"happiness\",\"happiness\",\"happiness\",\"happiness\",\"happiness\",\"happiness\",\"happiness\",\"happiness\",\"happiness\",\"happiness\",\"happiness\"],\"legendgroup\":\"happiness\",\"line\":{\"color\":\"#46bac2\",\"dash\":\"solid\",\"width\":2},\"marker\":{\"symbol\":\"circle\"},\"mode\":\"lines\",\"name\":\"happiness\",\"orientation\":\"v\",\"showlegend\":true,\"x\":[0.0,0.01624,0.03248,0.04872,0.06496,0.08120000000000001,0.09744,0.11368,0.12992,0.14616,0.16240000000000002,0.17864000000000002,0.19488,0.21112,0.22736,0.2436,0.25984,0.27608,0.29232,0.30856,0.32480000000000003,0.34104,0.35728000000000004,0.37352,0.38976,0.406,0.42224,0.43848000000000004,0.45472,0.47096000000000005,0.4872,0.50344,0.51968,0.5359200000000001,0.55216,0.5684,0.58464,0.6008800000000001,0.61712,0.63336,0.6496000000000001,0.66584,0.68208,0.69832,0.7145600000000001,0.7308,0.74704,0.7632800000000001,0.77952,0.79576,0.812,0.8282400000000001,0.84448,0.86072,0.8769600000000001,0.8932000000000001,0.90944,0.9256800000000001,0.9419200000000001,0.95816,0.9744,0.9906400000000001,1.00688,1.02312,1.03936,1.0556,1.0718400000000001,1.0880800000000002,1.10432,1.12056,1.1368,1.15304,1.16928,1.1855200000000001,1.2017600000000002,1.218,1.23424,1.25048,1.26672,1.28296,1.2992000000000001,1.3154400000000002,1.33168,1.34792,1.36416,1.3804,1.39664,1.4128800000000001,1.4291200000000002,1.44536,1.4616,1.47784,1.49408,1.51032,1.5265600000000001,1.5428000000000002,1.55904,1.57528,1.59152,1.60776,1.624],\"xaxis\":\"x3\",\"y\":[5.030895233154297,5.022756576538086,5.015663146972656,5.008760929107666,5.002869129180908,4.997704982757568,4.992014408111572,4.986196517944336,4.980513095855713,4.975277900695801,4.969719409942627,4.964889049530029,4.960643768310547,4.9572248458862305,4.953774929046631,4.951079368591309,4.948312759399414,4.944668292999268,4.940645217895508,4.937346458435059,4.935341835021973,4.93359375,4.931525230407715,4.9295759201049805,4.927082061767578,4.92363166809082,4.91972541809082,4.91562557220459,4.911547660827637,4.90833854675293,4.905395030975342,4.902566909790039,4.899618148803711,4.897577285766602,4.896458148956299,4.895310401916504,4.892982006072998,4.891334533691406,4.890135288238525,4.888335227966309,4.88767147064209,4.886894702911377,4.887084484100342,4.887387275695801,4.888595104217529,4.892916202545166,4.898838520050049,4.904296875,4.910655975341797,4.918579578399658,4.927043914794922,4.935857772827148,4.945479869842529,4.955524921417236,4.968188762664795,4.981374263763428,4.99479866027832,5.008350849151611,5.023275852203369,5.038580894470215,5.05526876449585,5.0738019943237305,5.092598915100098,5.111398696899414,5.131783962249756,5.153155326843262,5.17479944229126,5.194982051849365,5.215149402618408,5.235684394836426,5.256026744842529,5.275835037231445,5.295454978942871,5.315098762512207,5.335230350494385,5.3558197021484375,5.376694202423096,5.397383213043213,5.4164814949035645,5.435256481170654,5.452550411224365,5.471506595611572,5.491450786590576,5.512160778045654,5.533142566680908,5.554495334625244,5.576632976531982,5.599089622497559,5.622120380401611,5.6456499099731445,5.66874885559082,5.692035675048828,5.715620040893555,5.739058017730713,5.76172399520874,5.7835893630981445,5.803778171539307,5.82436990737915,5.84537935256958,5.866080284118652,5.8867621421813965],\"yaxis\":\"y3\",\"type\":\"scatter\",\"opacity\":1},{\"customdata\":[[5.42952299118042,\"happiness\",\"healthy_life_expectancy\"],[5.42952299118042,\"happiness\",\"healthy_life_expectancy\"],[5.42952299118042,\"happiness\",\"healthy_life_expectancy\"],[5.42952299118042,\"happiness\",\"healthy_life_expectancy\"],[5.42952299118042,\"happiness\",\"healthy_life_expectancy\"],[5.42952299118042,\"happiness\",\"healthy_life_expectancy\"],[5.42952299118042,\"happiness\",\"healthy_life_expectancy\"],[5.42952299118042,\"happiness\",\"healthy_life_expectancy\"],[5.42952299118042,\"happiness\",\"healthy_life_expectancy\"],[5.42952299118042,\"happiness\",\"healthy_life_expectancy\"],[5.42952299118042,\"happiness\",\"healthy_life_expectancy\"],[5.42952299118042,\"happiness\",\"healthy_life_expectancy\"],[5.42952299118042,\"happiness\",\"healthy_life_expectancy\"],[5.42952299118042,\"happiness\",\"healthy_life_expectancy\"],[5.42952299118042,\"happiness\",\"healthy_life_expectancy\"],[5.42952299118042,\"happiness\",\"healthy_life_expectancy\"],[5.42952299118042,\"happiness\",\"healthy_life_expectancy\"],[5.42952299118042,\"happiness\",\"healthy_life_expectancy\"],[5.42952299118042,\"happiness\",\"healthy_life_expectancy\"],[5.42952299118042,\"happiness\",\"healthy_life_expectancy\"],[5.42952299118042,\"happiness\",\"healthy_life_expectancy\"],[5.42952299118042,\"happiness\",\"healthy_life_expectancy\"],[5.42952299118042,\"happiness\",\"healthy_life_expectancy\"],[5.42952299118042,\"happiness\",\"healthy_life_expectancy\"],[5.42952299118042,\"happiness\",\"healthy_life_expectancy\"],[5.42952299118042,\"happiness\",\"healthy_life_expectancy\"],[5.42952299118042,\"happiness\",\"healthy_life_expectancy\"],[5.42952299118042,\"happiness\",\"healthy_life_expectancy\"],[5.42952299118042,\"happiness\",\"healthy_life_expectancy\"],[5.42952299118042,\"happiness\",\"healthy_life_expectancy\"],[5.42952299118042,\"happiness\",\"healthy_life_expectancy\"],[5.42952299118042,\"happiness\",\"healthy_life_expectancy\"],[5.42952299118042,\"happiness\",\"healthy_life_expectancy\"],[5.42952299118042,\"happiness\",\"healthy_life_expectancy\"],[5.42952299118042,\"happiness\",\"healthy_life_expectancy\"],[5.42952299118042,\"happiness\",\"healthy_life_expectancy\"],[5.42952299118042,\"happiness\",\"healthy_life_expectancy\"],[5.42952299118042,\"happiness\",\"healthy_life_expectancy\"],[5.42952299118042,\"happiness\",\"healthy_life_expectancy\"],[5.42952299118042,\"happiness\",\"healthy_life_expectancy\"],[5.42952299118042,\"happiness\",\"healthy_life_expectancy\"],[5.42952299118042,\"happiness\",\"healthy_life_expectancy\"],[5.42952299118042,\"happiness\",\"healthy_life_expectancy\"],[5.42952299118042,\"happiness\",\"healthy_life_expectancy\"],[5.42952299118042,\"happiness\",\"healthy_life_expectancy\"],[5.42952299118042,\"happiness\",\"healthy_life_expectancy\"],[5.42952299118042,\"happiness\",\"healthy_life_expectancy\"],[5.42952299118042,\"happiness\",\"healthy_life_expectancy\"],[5.42952299118042,\"happiness\",\"healthy_life_expectancy\"],[5.42952299118042,\"happiness\",\"healthy_life_expectancy\"],[5.42952299118042,\"happiness\",\"healthy_life_expectancy\"],[5.42952299118042,\"happiness\",\"healthy_life_expectancy\"],[5.42952299118042,\"happiness\",\"healthy_life_expectancy\"],[5.42952299118042,\"happiness\",\"healthy_life_expectancy\"],[5.42952299118042,\"happiness\",\"healthy_life_expectancy\"],[5.42952299118042,\"happiness\",\"healthy_life_expectancy\"],[5.42952299118042,\"happiness\",\"healthy_life_expectancy\"],[5.42952299118042,\"happiness\",\"healthy_life_expectancy\"],[5.42952299118042,\"happiness\",\"healthy_life_expectancy\"],[5.42952299118042,\"happiness\",\"healthy_life_expectancy\"],[5.42952299118042,\"happiness\",\"healthy_life_expectancy\"],[5.42952299118042,\"happiness\",\"healthy_life_expectancy\"],[5.42952299118042,\"happiness\",\"healthy_life_expectancy\"],[5.42952299118042,\"happiness\",\"healthy_life_expectancy\"],[5.42952299118042,\"happiness\",\"healthy_life_expectancy\"],[5.42952299118042,\"happiness\",\"healthy_life_expectancy\"],[5.42952299118042,\"happiness\",\"healthy_life_expectancy\"],[5.42952299118042,\"happiness\",\"healthy_life_expectancy\"],[5.42952299118042,\"happiness\",\"healthy_life_expectancy\"],[5.42952299118042,\"happiness\",\"healthy_life_expectancy\"],[5.42952299118042,\"happiness\",\"healthy_life_expectancy\"],[5.42952299118042,\"happiness\",\"healthy_life_expectancy\"],[5.42952299118042,\"happiness\",\"healthy_life_expectancy\"],[5.42952299118042,\"happiness\",\"healthy_life_expectancy\"],[5.42952299118042,\"happiness\",\"healthy_life_expectancy\"],[5.42952299118042,\"happiness\",\"healthy_life_expectancy\"],[5.42952299118042,\"happiness\",\"healthy_life_expectancy\"],[5.42952299118042,\"happiness\",\"healthy_life_expectancy\"],[5.42952299118042,\"happiness\",\"healthy_life_expectancy\"],[5.42952299118042,\"happiness\",\"healthy_life_expectancy\"],[5.42952299118042,\"happiness\",\"healthy_life_expectancy\"],[5.42952299118042,\"happiness\",\"healthy_life_expectancy\"],[5.42952299118042,\"happiness\",\"healthy_life_expectancy\"],[5.42952299118042,\"happiness\",\"healthy_life_expectancy\"],[5.42952299118042,\"happiness\",\"healthy_life_expectancy\"],[5.42952299118042,\"happiness\",\"healthy_life_expectancy\"],[5.42952299118042,\"happiness\",\"healthy_life_expectancy\"],[5.42952299118042,\"happiness\",\"healthy_life_expectancy\"],[5.42952299118042,\"happiness\",\"healthy_life_expectancy\"],[5.42952299118042,\"happiness\",\"healthy_life_expectancy\"],[5.42952299118042,\"happiness\",\"healthy_life_expectancy\"],[5.42952299118042,\"happiness\",\"healthy_life_expectancy\"],[5.42952299118042,\"happiness\",\"healthy_life_expectancy\"],[5.42952299118042,\"happiness\",\"healthy_life_expectancy\"],[5.42952299118042,\"happiness\",\"healthy_life_expectancy\"],[5.42952299118042,\"happiness\",\"healthy_life_expectancy\"],[5.42952299118042,\"happiness\",\"healthy_life_expectancy\"],[5.42952299118042,\"happiness\",\"healthy_life_expectancy\"],[5.42952299118042,\"happiness\",\"healthy_life_expectancy\"],[5.42952299118042,\"happiness\",\"healthy_life_expectancy\"],[5.42952299118042,\"happiness\",\"healthy_life_expectancy\"]],\"hovertemplate\":\"<b>%{hovertext}</b><br><br>prediction=%{y:.3f}<br>mean_prediction=%{customdata[0]:.3f}<extra></extra>\",\"hovertext\":[\"happiness\",\"happiness\",\"happiness\",\"happiness\",\"happiness\",\"happiness\",\"happiness\",\"happiness\",\"happiness\",\"happiness\",\"happiness\",\"happiness\",\"happiness\",\"happiness\",\"happiness\",\"happiness\",\"happiness\",\"happiness\",\"happiness\",\"happiness\",\"happiness\",\"happiness\",\"happiness\",\"happiness\",\"happiness\",\"happiness\",\"happiness\",\"happiness\",\"happiness\",\"happiness\",\"happiness\",\"happiness\",\"happiness\",\"happiness\",\"happiness\",\"happiness\",\"happiness\",\"happiness\",\"happiness\",\"happiness\",\"happiness\",\"happiness\",\"happiness\",\"happiness\",\"happiness\",\"happiness\",\"happiness\",\"happiness\",\"happiness\",\"happiness\",\"happiness\",\"happiness\",\"happiness\",\"happiness\",\"happiness\",\"happiness\",\"happiness\",\"happiness\",\"happiness\",\"happiness\",\"happiness\",\"happiness\",\"happiness\",\"happiness\",\"happiness\",\"happiness\",\"happiness\",\"happiness\",\"happiness\",\"happiness\",\"happiness\",\"happiness\",\"happiness\",\"happiness\",\"happiness\",\"happiness\",\"happiness\",\"happiness\",\"happiness\",\"happiness\",\"happiness\",\"happiness\",\"happiness\",\"happiness\",\"happiness\",\"happiness\",\"happiness\",\"happiness\",\"happiness\",\"happiness\",\"happiness\",\"happiness\",\"happiness\",\"happiness\",\"happiness\",\"happiness\",\"happiness\",\"happiness\",\"happiness\",\"happiness\",\"happiness\"],\"legendgroup\":\"happiness\",\"line\":{\"color\":\"#46bac2\",\"dash\":\"solid\",\"width\":2},\"marker\":{\"symbol\":\"circle\"},\"mode\":\"lines\",\"name\":\"happiness\",\"orientation\":\"v\",\"showlegend\":false,\"x\":[0.0,0.01141,0.02282,0.03423,0.04564,0.057050000000000003,0.06846,0.07987,0.09128,0.10269,0.11410000000000001,0.12551,0.13692,0.14833,0.15974,0.17115,0.18256,0.19397,0.20538,0.21679,0.22820000000000001,0.23961,0.25102,0.26243,0.27384,0.28525,0.29666,0.30807,0.31948,0.33089,0.3423,0.35371,0.36512,0.37653,0.38794,0.39935,0.41076,0.42217,0.43358,0.44499,0.45640000000000003,0.46781,0.47922,0.49063,0.50204,0.51345,0.52486,0.53627,0.54768,0.55909,0.5705,0.58191,0.59332,0.60473,0.61614,0.62755,0.63896,0.65037,0.66178,0.67319,0.6846,0.69601,0.70742,0.71883,0.73024,0.74165,0.75306,0.76447,0.77588,0.78729,0.7987,0.81011,0.82152,0.83293,0.84434,0.85575,0.86716,0.87857,0.88998,0.90139,0.9128000000000001,0.92421,0.93562,0.94703,0.95844,0.96985,0.98126,0.99267,1.00408,1.01549,1.0269,1.03831,1.04972,1.06113,1.07254,1.08395,1.09536,1.10677,1.11818,1.12959,1.141],\"xaxis\":\"x4\",\"y\":[4.946465015411377,4.943994998931885,4.94064474105835,4.936466217041016,4.9319634437561035,4.927074432373047,4.921878337860107,4.91685152053833,4.913086414337158,4.909390926361084,4.904961585998535,4.900513648986816,4.896735668182373,4.894397258758545,4.89307975769043,4.8916015625,4.89124870300293,4.892049789428711,4.892973899841309,4.893500804901123,4.892708778381348,4.891994953155518,4.892129421234131,4.89278507232666,4.893707275390625,4.893687725067139,4.89433479309082,4.8950724601745605,4.896958351135254,4.900087356567383,4.904422760009766,4.910121440887451,4.916668891906738,4.923941135406494,4.932554244995117,4.941754341125488,4.951527118682861,4.961112976074219,4.970956325531006,4.9817023277282715,4.992992401123047,5.0048089027404785,5.017180919647217,5.02964973449707,5.040591239929199,5.052437782287598,5.064352512359619,5.0762939453125,5.089087009429932,5.103022575378418,5.117213726043701,5.132020950317383,5.148779392242432,5.168136119842529,5.187839984893799,5.207516193389893,5.227114677429199,5.245504856109619,5.262693881988525,5.280220985412598,5.298224925994873,5.315432071685791,5.3335442543029785,5.35083532333374,5.366633415222168,5.380667686462402,5.393799781799316,5.404989719390869,5.416050434112549,5.426815509796143,5.438741207122803,5.452910900115967,5.468743801116943,5.482907295227051,5.49667501449585,5.508533477783203,5.52003288269043,5.529964923858643,5.538143157958984,5.544991970062256,5.551927089691162,5.556786060333252,5.5589375495910645,5.559893608093262,5.5627546310424805,5.564199447631836,5.563109397888184,5.559738636016846,5.557713031768799,5.558409690856934,5.561319351196289,5.56249475479126,5.562077522277832,5.561609268188477,5.560367107391357,5.559732913970947,5.558168888092041,5.554333686828613,5.548001289367676,5.540736675262451,5.532618999481201],\"yaxis\":\"y4\",\"type\":\"scatter\",\"opacity\":1},{\"customdata\":[[5.42952299118042,\"happiness\",\"gdp_per_capita\"],[5.42952299118042,\"happiness\",\"gdp_per_capita\"],[5.42952299118042,\"happiness\",\"gdp_per_capita\"],[5.42952299118042,\"happiness\",\"gdp_per_capita\"],[5.42952299118042,\"happiness\",\"gdp_per_capita\"],[5.42952299118042,\"happiness\",\"gdp_per_capita\"],[5.42952299118042,\"happiness\",\"gdp_per_capita\"],[5.42952299118042,\"happiness\",\"gdp_per_capita\"],[5.42952299118042,\"happiness\",\"gdp_per_capita\"],[5.42952299118042,\"happiness\",\"gdp_per_capita\"],[5.42952299118042,\"happiness\",\"gdp_per_capita\"],[5.42952299118042,\"happiness\",\"gdp_per_capita\"],[5.42952299118042,\"happiness\",\"gdp_per_capita\"],[5.42952299118042,\"happiness\",\"gdp_per_capita\"],[5.42952299118042,\"happiness\",\"gdp_per_capita\"],[5.42952299118042,\"happiness\",\"gdp_per_capita\"],[5.42952299118042,\"happiness\",\"gdp_per_capita\"],[5.42952299118042,\"happiness\",\"gdp_per_capita\"],[5.42952299118042,\"happiness\",\"gdp_per_capita\"],[5.42952299118042,\"happiness\",\"gdp_per_capita\"],[5.42952299118042,\"happiness\",\"gdp_per_capita\"],[5.42952299118042,\"happiness\",\"gdp_per_capita\"],[5.42952299118042,\"happiness\",\"gdp_per_capita\"],[5.42952299118042,\"happiness\",\"gdp_per_capita\"],[5.42952299118042,\"happiness\",\"gdp_per_capita\"],[5.42952299118042,\"happiness\",\"gdp_per_capita\"],[5.42952299118042,\"happiness\",\"gdp_per_capita\"],[5.42952299118042,\"happiness\",\"gdp_per_capita\"],[5.42952299118042,\"happiness\",\"gdp_per_capita\"],[5.42952299118042,\"happiness\",\"gdp_per_capita\"],[5.42952299118042,\"happiness\",\"gdp_per_capita\"],[5.42952299118042,\"happiness\",\"gdp_per_capita\"],[5.42952299118042,\"happiness\",\"gdp_per_capita\"],[5.42952299118042,\"happiness\",\"gdp_per_capita\"],[5.42952299118042,\"happiness\",\"gdp_per_capita\"],[5.42952299118042,\"happiness\",\"gdp_per_capita\"],[5.42952299118042,\"happiness\",\"gdp_per_capita\"],[5.42952299118042,\"happiness\",\"gdp_per_capita\"],[5.42952299118042,\"happiness\",\"gdp_per_capita\"],[5.42952299118042,\"happiness\",\"gdp_per_capita\"],[5.42952299118042,\"happiness\",\"gdp_per_capita\"],[5.42952299118042,\"happiness\",\"gdp_per_capita\"],[5.42952299118042,\"happiness\",\"gdp_per_capita\"],[5.42952299118042,\"happiness\",\"gdp_per_capita\"],[5.42952299118042,\"happiness\",\"gdp_per_capita\"],[5.42952299118042,\"happiness\",\"gdp_per_capita\"],[5.42952299118042,\"happiness\",\"gdp_per_capita\"],[5.42952299118042,\"happiness\",\"gdp_per_capita\"],[5.42952299118042,\"happiness\",\"gdp_per_capita\"],[5.42952299118042,\"happiness\",\"gdp_per_capita\"],[5.42952299118042,\"happiness\",\"gdp_per_capita\"],[5.42952299118042,\"happiness\",\"gdp_per_capita\"],[5.42952299118042,\"happiness\",\"gdp_per_capita\"],[5.42952299118042,\"happiness\",\"gdp_per_capita\"],[5.42952299118042,\"happiness\",\"gdp_per_capita\"],[5.42952299118042,\"happiness\",\"gdp_per_capita\"],[5.42952299118042,\"happiness\",\"gdp_per_capita\"],[5.42952299118042,\"happiness\",\"gdp_per_capita\"],[5.42952299118042,\"happiness\",\"gdp_per_capita\"],[5.42952299118042,\"happiness\",\"gdp_per_capita\"],[5.42952299118042,\"happiness\",\"gdp_per_capita\"],[5.42952299118042,\"happiness\",\"gdp_per_capita\"],[5.42952299118042,\"happiness\",\"gdp_per_capita\"],[5.42952299118042,\"happiness\",\"gdp_per_capita\"],[5.42952299118042,\"happiness\",\"gdp_per_capita\"],[5.42952299118042,\"happiness\",\"gdp_per_capita\"],[5.42952299118042,\"happiness\",\"gdp_per_capita\"],[5.42952299118042,\"happiness\",\"gdp_per_capita\"],[5.42952299118042,\"happiness\",\"gdp_per_capita\"],[5.42952299118042,\"happiness\",\"gdp_per_capita\"],[5.42952299118042,\"happiness\",\"gdp_per_capita\"],[5.42952299118042,\"happiness\",\"gdp_per_capita\"],[5.42952299118042,\"happiness\",\"gdp_per_capita\"],[5.42952299118042,\"happiness\",\"gdp_per_capita\"],[5.42952299118042,\"happiness\",\"gdp_per_capita\"],[5.42952299118042,\"happiness\",\"gdp_per_capita\"],[5.42952299118042,\"happiness\",\"gdp_per_capita\"],[5.42952299118042,\"happiness\",\"gdp_per_capita\"],[5.42952299118042,\"happiness\",\"gdp_per_capita\"],[5.42952299118042,\"happiness\",\"gdp_per_capita\"],[5.42952299118042,\"happiness\",\"gdp_per_capita\"],[5.42952299118042,\"happiness\",\"gdp_per_capita\"],[5.42952299118042,\"happiness\",\"gdp_per_capita\"],[5.42952299118042,\"happiness\",\"gdp_per_capita\"],[5.42952299118042,\"happiness\",\"gdp_per_capita\"],[5.42952299118042,\"happiness\",\"gdp_per_capita\"],[5.42952299118042,\"happiness\",\"gdp_per_capita\"],[5.42952299118042,\"happiness\",\"gdp_per_capita\"],[5.42952299118042,\"happiness\",\"gdp_per_capita\"],[5.42952299118042,\"happiness\",\"gdp_per_capita\"],[5.42952299118042,\"happiness\",\"gdp_per_capita\"],[5.42952299118042,\"happiness\",\"gdp_per_capita\"],[5.42952299118042,\"happiness\",\"gdp_per_capita\"],[5.42952299118042,\"happiness\",\"gdp_per_capita\"],[5.42952299118042,\"happiness\",\"gdp_per_capita\"],[5.42952299118042,\"happiness\",\"gdp_per_capita\"],[5.42952299118042,\"happiness\",\"gdp_per_capita\"],[5.42952299118042,\"happiness\",\"gdp_per_capita\"],[5.42952299118042,\"happiness\",\"gdp_per_capita\"],[5.42952299118042,\"happiness\",\"gdp_per_capita\"],[5.42952299118042,\"happiness\",\"gdp_per_capita\"]],\"hovertemplate\":\"<b>%{hovertext}</b><br><br>prediction=%{y:.3f}<br>mean_prediction=%{customdata[0]:.3f}<extra></extra>\",\"hovertext\":[\"happiness\",\"happiness\",\"happiness\",\"happiness\",\"happiness\",\"happiness\",\"happiness\",\"happiness\",\"happiness\",\"happiness\",\"happiness\",\"happiness\",\"happiness\",\"happiness\",\"happiness\",\"happiness\",\"happiness\",\"happiness\",\"happiness\",\"happiness\",\"happiness\",\"happiness\",\"happiness\",\"happiness\",\"happiness\",\"happiness\",\"happiness\",\"happiness\",\"happiness\",\"happiness\",\"happiness\",\"happiness\",\"happiness\",\"happiness\",\"happiness\",\"happiness\",\"happiness\",\"happiness\",\"happiness\",\"happiness\",\"happiness\",\"happiness\",\"happiness\",\"happiness\",\"happiness\",\"happiness\",\"happiness\",\"happiness\",\"happiness\",\"happiness\",\"happiness\",\"happiness\",\"happiness\",\"happiness\",\"happiness\",\"happiness\",\"happiness\",\"happiness\",\"happiness\",\"happiness\",\"happiness\",\"happiness\",\"happiness\",\"happiness\",\"happiness\",\"happiness\",\"happiness\",\"happiness\",\"happiness\",\"happiness\",\"happiness\",\"happiness\",\"happiness\",\"happiness\",\"happiness\",\"happiness\",\"happiness\",\"happiness\",\"happiness\",\"happiness\",\"happiness\",\"happiness\",\"happiness\",\"happiness\",\"happiness\",\"happiness\",\"happiness\",\"happiness\",\"happiness\",\"happiness\",\"happiness\",\"happiness\",\"happiness\",\"happiness\",\"happiness\",\"happiness\",\"happiness\",\"happiness\",\"happiness\",\"happiness\",\"happiness\"],\"legendgroup\":\"happiness\",\"line\":{\"color\":\"#46bac2\",\"dash\":\"solid\",\"width\":2},\"marker\":{\"symbol\":\"circle\"},\"mode\":\"lines\",\"name\":\"happiness\",\"orientation\":\"v\",\"showlegend\":false,\"x\":[0.0,0.01684,0.03368,0.05052,0.06736,0.0842,0.10104,0.11788000000000001,0.13472,0.15156,0.1684,0.18524000000000002,0.20208,0.21892,0.23576000000000003,0.2526,0.26944,0.28628000000000003,0.30312,0.31996,0.3368,0.35364,0.37048000000000003,0.38732,0.40416,0.42100000000000004,0.43784,0.45468000000000003,0.47152000000000005,0.48836,0.5052,0.5220400000000001,0.53888,0.55572,0.5725600000000001,0.5894,0.60624,0.6230800000000001,0.63992,0.65676,0.6736,0.69044,0.70728,0.72412,0.7409600000000001,0.7578,0.77464,0.7914800000000001,0.80832,0.82516,0.8420000000000001,0.85884,0.87568,0.8925200000000001,0.9093600000000001,0.9262,0.9430400000000001,0.9598800000000001,0.97672,0.99356,1.0104,1.0272400000000002,1.0440800000000001,1.06092,1.07776,1.0946,1.11144,1.12828,1.1451200000000001,1.16196,1.1788,1.19564,1.21248,1.22932,1.2461600000000002,1.2630000000000001,1.27984,1.29668,1.31352,1.33036,1.3472,1.3640400000000001,1.38088,1.39772,1.41456,1.4314,1.44824,1.4650800000000002,1.4819200000000001,1.49876,1.5156,1.53244,1.54928,1.5661200000000002,1.5829600000000001,1.5998,1.61664,1.63348,1.65032,1.66716,1.684],\"xaxis\":\"x\",\"y\":[4.8984761238098145,4.892202854156494,4.885578632354736,4.880331516265869,4.875969409942627,4.872920989990234,4.870519161224365,4.867490291595459,4.864690780639648,4.8622541427612305,4.858970642089844,4.856300354003906,4.853488445281982,4.850565433502197,4.848081111907959,4.84501838684082,4.8426384925842285,4.843459129333496,4.8461527824401855,4.849986553192139,4.854203224182129,4.859728813171387,4.866281032562256,4.874730587005615,4.884637832641602,4.896268844604492,4.907629013061523,4.9222307205200195,4.937623500823975,4.95401668548584,4.971685409545898,4.992061138153076,5.015166759490967,5.038066387176514,5.060959815979004,5.083850860595703,5.107308864593506,5.131708145141602,5.1556291580200195,5.178781032562256,5.200500011444092,5.220772743225098,5.241208553314209,5.261744976043701,5.282076835632324,5.302176475524902,5.322199821472168,5.340790748596191,5.358378887176514,5.375407695770264,5.392315864562988,5.409182548522949,5.425123691558838,5.44171667098999,5.458162307739258,5.474120616912842,5.490161895751953,5.503188133239746,5.51575231552124,5.529940605163574,5.543396949768066,5.555196762084961,5.566854476928711,5.578135967254639,5.5895256996154785,5.6012091636657715,5.613998889923096,5.627583026885986,5.642743110656738,5.659043788909912,5.677617073059082,5.697933673858643,5.719942569732666,5.74461555480957,5.771180629730225,5.799731254577637,5.8285675048828125,5.857545375823975,5.887593746185303,5.917687892913818,5.947009563446045,5.976287364959717,6.004923343658447,6.03355598449707,6.063064098358154,6.093276023864746,6.123316764831543,6.151315212249756,6.1793437004089355,6.207700252532959,6.2353196144104,6.262445449829102,6.289628982543945,6.317087650299072,6.344917297363281,6.372581958770752,6.400374412536621,6.4282732009887695,6.456016540527344,6.484472751617432,6.513813495635986],\"yaxis\":\"y\",\"type\":\"scatter\",\"opacity\":1},{\"customdata\":[[5.42952299118042,\"happiness\",\"freedom_to_make_life_choices\"],[5.42952299118042,\"happiness\",\"freedom_to_make_life_choices\"],[5.42952299118042,\"happiness\",\"freedom_to_make_life_choices\"],[5.42952299118042,\"happiness\",\"freedom_to_make_life_choices\"],[5.42952299118042,\"happiness\",\"freedom_to_make_life_choices\"],[5.42952299118042,\"happiness\",\"freedom_to_make_life_choices\"],[5.42952299118042,\"happiness\",\"freedom_to_make_life_choices\"],[5.42952299118042,\"happiness\",\"freedom_to_make_life_choices\"],[5.42952299118042,\"happiness\",\"freedom_to_make_life_choices\"],[5.42952299118042,\"happiness\",\"freedom_to_make_life_choices\"],[5.42952299118042,\"happiness\",\"freedom_to_make_life_choices\"],[5.42952299118042,\"happiness\",\"freedom_to_make_life_choices\"],[5.42952299118042,\"happiness\",\"freedom_to_make_life_choices\"],[5.42952299118042,\"happiness\",\"freedom_to_make_life_choices\"],[5.42952299118042,\"happiness\",\"freedom_to_make_life_choices\"],[5.42952299118042,\"happiness\",\"freedom_to_make_life_choices\"],[5.42952299118042,\"happiness\",\"freedom_to_make_life_choices\"],[5.42952299118042,\"happiness\",\"freedom_to_make_life_choices\"],[5.42952299118042,\"happiness\",\"freedom_to_make_life_choices\"],[5.42952299118042,\"happiness\",\"freedom_to_make_life_choices\"],[5.42952299118042,\"happiness\",\"freedom_to_make_life_choices\"],[5.42952299118042,\"happiness\",\"freedom_to_make_life_choices\"],[5.42952299118042,\"happiness\",\"freedom_to_make_life_choices\"],[5.42952299118042,\"happiness\",\"freedom_to_make_life_choices\"],[5.42952299118042,\"happiness\",\"freedom_to_make_life_choices\"],[5.42952299118042,\"happiness\",\"freedom_to_make_life_choices\"],[5.42952299118042,\"happiness\",\"freedom_to_make_life_choices\"],[5.42952299118042,\"happiness\",\"freedom_to_make_life_choices\"],[5.42952299118042,\"happiness\",\"freedom_to_make_life_choices\"],[5.42952299118042,\"happiness\",\"freedom_to_make_life_choices\"],[5.42952299118042,\"happiness\",\"freedom_to_make_life_choices\"],[5.42952299118042,\"happiness\",\"freedom_to_make_life_choices\"],[5.42952299118042,\"happiness\",\"freedom_to_make_life_choices\"],[5.42952299118042,\"happiness\",\"freedom_to_make_life_choices\"],[5.42952299118042,\"happiness\",\"freedom_to_make_life_choices\"],[5.42952299118042,\"happiness\",\"freedom_to_make_life_choices\"],[5.42952299118042,\"happiness\",\"freedom_to_make_life_choices\"],[5.42952299118042,\"happiness\",\"freedom_to_make_life_choices\"],[5.42952299118042,\"happiness\",\"freedom_to_make_life_choices\"],[5.42952299118042,\"happiness\",\"freedom_to_make_life_choices\"],[5.42952299118042,\"happiness\",\"freedom_to_make_life_choices\"],[5.42952299118042,\"happiness\",\"freedom_to_make_life_choices\"],[5.42952299118042,\"happiness\",\"freedom_to_make_life_choices\"],[5.42952299118042,\"happiness\",\"freedom_to_make_life_choices\"],[5.42952299118042,\"happiness\",\"freedom_to_make_life_choices\"],[5.42952299118042,\"happiness\",\"freedom_to_make_life_choices\"],[5.42952299118042,\"happiness\",\"freedom_to_make_life_choices\"],[5.42952299118042,\"happiness\",\"freedom_to_make_life_choices\"],[5.42952299118042,\"happiness\",\"freedom_to_make_life_choices\"],[5.42952299118042,\"happiness\",\"freedom_to_make_life_choices\"],[5.42952299118042,\"happiness\",\"freedom_to_make_life_choices\"],[5.42952299118042,\"happiness\",\"freedom_to_make_life_choices\"],[5.42952299118042,\"happiness\",\"freedom_to_make_life_choices\"],[5.42952299118042,\"happiness\",\"freedom_to_make_life_choices\"],[5.42952299118042,\"happiness\",\"freedom_to_make_life_choices\"],[5.42952299118042,\"happiness\",\"freedom_to_make_life_choices\"],[5.42952299118042,\"happiness\",\"freedom_to_make_life_choices\"],[5.42952299118042,\"happiness\",\"freedom_to_make_life_choices\"],[5.42952299118042,\"happiness\",\"freedom_to_make_life_choices\"],[5.42952299118042,\"happiness\",\"freedom_to_make_life_choices\"],[5.42952299118042,\"happiness\",\"freedom_to_make_life_choices\"],[5.42952299118042,\"happiness\",\"freedom_to_make_life_choices\"],[5.42952299118042,\"happiness\",\"freedom_to_make_life_choices\"],[5.42952299118042,\"happiness\",\"freedom_to_make_life_choices\"],[5.42952299118042,\"happiness\",\"freedom_to_make_life_choices\"],[5.42952299118042,\"happiness\",\"freedom_to_make_life_choices\"],[5.42952299118042,\"happiness\",\"freedom_to_make_life_choices\"],[5.42952299118042,\"happiness\",\"freedom_to_make_life_choices\"],[5.42952299118042,\"happiness\",\"freedom_to_make_life_choices\"],[5.42952299118042,\"happiness\",\"freedom_to_make_life_choices\"],[5.42952299118042,\"happiness\",\"freedom_to_make_life_choices\"],[5.42952299118042,\"happiness\",\"freedom_to_make_life_choices\"],[5.42952299118042,\"happiness\",\"freedom_to_make_life_choices\"],[5.42952299118042,\"happiness\",\"freedom_to_make_life_choices\"],[5.42952299118042,\"happiness\",\"freedom_to_make_life_choices\"],[5.42952299118042,\"happiness\",\"freedom_to_make_life_choices\"],[5.42952299118042,\"happiness\",\"freedom_to_make_life_choices\"],[5.42952299118042,\"happiness\",\"freedom_to_make_life_choices\"],[5.42952299118042,\"happiness\",\"freedom_to_make_life_choices\"],[5.42952299118042,\"happiness\",\"freedom_to_make_life_choices\"],[5.42952299118042,\"happiness\",\"freedom_to_make_life_choices\"],[5.42952299118042,\"happiness\",\"freedom_to_make_life_choices\"],[5.42952299118042,\"happiness\",\"freedom_to_make_life_choices\"],[5.42952299118042,\"happiness\",\"freedom_to_make_life_choices\"],[5.42952299118042,\"happiness\",\"freedom_to_make_life_choices\"],[5.42952299118042,\"happiness\",\"freedom_to_make_life_choices\"],[5.42952299118042,\"happiness\",\"freedom_to_make_life_choices\"],[5.42952299118042,\"happiness\",\"freedom_to_make_life_choices\"],[5.42952299118042,\"happiness\",\"freedom_to_make_life_choices\"],[5.42952299118042,\"happiness\",\"freedom_to_make_life_choices\"],[5.42952299118042,\"happiness\",\"freedom_to_make_life_choices\"],[5.42952299118042,\"happiness\",\"freedom_to_make_life_choices\"],[5.42952299118042,\"happiness\",\"freedom_to_make_life_choices\"],[5.42952299118042,\"happiness\",\"freedom_to_make_life_choices\"],[5.42952299118042,\"happiness\",\"freedom_to_make_life_choices\"],[5.42952299118042,\"happiness\",\"freedom_to_make_life_choices\"],[5.42952299118042,\"happiness\",\"freedom_to_make_life_choices\"],[5.42952299118042,\"happiness\",\"freedom_to_make_life_choices\"],[5.42952299118042,\"happiness\",\"freedom_to_make_life_choices\"],[5.42952299118042,\"happiness\",\"freedom_to_make_life_choices\"],[5.42952299118042,\"happiness\",\"freedom_to_make_life_choices\"]],\"hovertemplate\":\"<b>%{hovertext}</b><br><br>prediction=%{y:.3f}<br>mean_prediction=%{customdata[0]:.3f}<extra></extra>\",\"hovertext\":[\"happiness\",\"happiness\",\"happiness\",\"happiness\",\"happiness\",\"happiness\",\"happiness\",\"happiness\",\"happiness\",\"happiness\",\"happiness\",\"happiness\",\"happiness\",\"happiness\",\"happiness\",\"happiness\",\"happiness\",\"happiness\",\"happiness\",\"happiness\",\"happiness\",\"happiness\",\"happiness\",\"happiness\",\"happiness\",\"happiness\",\"happiness\",\"happiness\",\"happiness\",\"happiness\",\"happiness\",\"happiness\",\"happiness\",\"happiness\",\"happiness\",\"happiness\",\"happiness\",\"happiness\",\"happiness\",\"happiness\",\"happiness\",\"happiness\",\"happiness\",\"happiness\",\"happiness\",\"happiness\",\"happiness\",\"happiness\",\"happiness\",\"happiness\",\"happiness\",\"happiness\",\"happiness\",\"happiness\",\"happiness\",\"happiness\",\"happiness\",\"happiness\",\"happiness\",\"happiness\",\"happiness\",\"happiness\",\"happiness\",\"happiness\",\"happiness\",\"happiness\",\"happiness\",\"happiness\",\"happiness\",\"happiness\",\"happiness\",\"happiness\",\"happiness\",\"happiness\",\"happiness\",\"happiness\",\"happiness\",\"happiness\",\"happiness\",\"happiness\",\"happiness\",\"happiness\",\"happiness\",\"happiness\",\"happiness\",\"happiness\",\"happiness\",\"happiness\",\"happiness\",\"happiness\",\"happiness\",\"happiness\",\"happiness\",\"happiness\",\"happiness\",\"happiness\",\"happiness\",\"happiness\",\"happiness\",\"happiness\",\"happiness\"],\"legendgroup\":\"happiness\",\"line\":{\"color\":\"#46bac2\",\"dash\":\"solid\",\"width\":2},\"marker\":{\"symbol\":\"circle\"},\"mode\":\"lines\",\"name\":\"happiness\",\"orientation\":\"v\",\"showlegend\":false,\"x\":[0.0,0.00631,0.01262,0.01893,0.02524,0.031549999999999995,0.03786,0.04417,0.05048,0.05678999999999999,0.06309999999999999,0.06941,0.07572,0.08202999999999999,0.08834,0.09465,0.10096,0.10726999999999999,0.11357999999999999,0.11989,0.12619999999999998,0.13251,0.13882,0.14512999999999998,0.15144,0.15775,0.16405999999999998,0.17037,0.17668,0.18298999999999999,0.1893,0.19560999999999998,0.20192,0.20823,0.21453999999999998,0.22085,0.22715999999999997,0.23346999999999998,0.23978,0.24608999999999998,0.25239999999999996,0.25871,0.26502,0.27132999999999996,0.27764,0.28395,0.29025999999999996,0.29657,0.30288,0.30918999999999996,0.3155,0.32181,0.32811999999999997,0.33443,0.34074,0.34704999999999997,0.35336,0.35967,0.36597999999999997,0.37228999999999995,0.3786,0.38491,0.39121999999999996,0.39753,0.40384,0.41014999999999996,0.41646,0.42277,0.42907999999999996,0.43539,0.4417,0.44800999999999996,0.45431999999999995,0.46063,0.46693999999999997,0.47324999999999995,0.47956,0.48586999999999997,0.49217999999999995,0.49849,0.5047999999999999,0.51111,0.51742,0.5237299999999999,0.53004,0.53635,0.5426599999999999,0.54897,0.55528,0.5615899999999999,0.5679,0.57421,0.5805199999999999,0.58683,0.59314,0.5994499999999999,0.60576,0.61207,0.6183799999999999,0.62469,0.631],\"xaxis\":\"x2\",\"y\":[4.770828723907471,4.759485721588135,4.749423027038574,4.740577697753906,4.732472896575928,4.723941326141357,4.7149810791015625,4.706562042236328,4.698193073272705,4.689816951751709,4.6817803382873535,4.675780296325684,4.672148704528809,4.668960094451904,4.667268753051758,4.6681809425354,4.671401023864746,4.676105976104736,4.682675361633301,4.691282749176025,4.702847003936768,4.715358734130859,4.728466033935547,4.742147445678711,4.757847785949707,4.773804664611816,4.7921462059021,4.812694549560547,4.833216667175293,4.854687213897705,4.87622594833374,4.899098873138428,4.922256946563721,4.945286273956299,4.967410564422607,4.989875316619873,5.011030673980713,5.031558990478516,5.051618576049805,5.0722270011901855,5.091948509216309,5.110527038574219,5.127961158752441,5.144267559051514,5.16013240814209,5.174651622772217,5.188686847686768,5.200727462768555,5.212979793548584,5.227283954620361,5.238353252410889,5.245878219604492,5.250004291534424,5.251701354980469,5.252309799194336,5.25028657913208,5.247787952423096,5.245227813720703,5.243877410888672,5.245077610015869,5.249029636383057,5.253280162811279,5.25651741027832,5.260746479034424,5.26767110824585,5.2728681564331055,5.27788782119751,5.283670902252197,5.289488792419434,5.296000003814697,5.302028179168701,5.309502124786377,5.318096160888672,5.328606128692627,5.340668201446533,5.3510847091674805,5.3619208335876465,5.372363090515137,5.383579730987549,5.395439624786377,5.407818794250488,5.420681953430176,5.433610916137695,5.4476799964904785,5.462258338928223,5.475715160369873,5.490530967712402,5.505173683166504,5.520021438598633,5.537400722503662,5.5549798011779785,5.5709357261657715,5.583184242248535,5.590521812438965,5.594185829162598,5.59616756439209,5.59187126159668,5.583984375,5.575351715087891,5.568912506103516,5.5625],\"yaxis\":\"y2\",\"type\":\"scatter\",\"opacity\":1}],                        {\"template\":{\"data\":{\"scatter\":[{\"type\":\"scatter\"}]}},\"xaxis\":{\"anchor\":\"y\",\"domain\":[0.0,0.475],\"title\":{\"text\":\"\"},\"showticklabels\":true,\"type\":\"linear\",\"gridwidth\":2,\"zeroline\":false,\"automargin\":true,\"ticks\":\"outside\",\"tickcolor\":\"white\",\"ticklen\":3,\"fixedrange\":true},\"yaxis\":{\"anchor\":\"x\",\"domain\":[0.0,0.425],\"title\":{\"text\":\"\"},\"range\":[4.482614278793335,6.698467969894409],\"type\":\"linear\",\"gridwidth\":2,\"zeroline\":false,\"automargin\":true,\"ticks\":\"outside\",\"tickcolor\":\"white\",\"ticklen\":3,\"fixedrange\":true},\"xaxis2\":{\"anchor\":\"y2\",\"domain\":[0.525,1.0],\"title\":{\"text\":\"\"},\"showticklabels\":true,\"type\":\"linear\",\"gridwidth\":2,\"zeroline\":false,\"automargin\":true,\"ticks\":\"outside\",\"tickcolor\":\"white\",\"ticklen\":3,\"fixedrange\":true},\"yaxis2\":{\"anchor\":\"x2\",\"domain\":[0.0,0.425],\"matches\":\"y\",\"showticklabels\":false,\"type\":\"linear\",\"gridwidth\":2,\"zeroline\":false,\"automargin\":true,\"ticks\":\"outside\",\"tickcolor\":\"white\",\"ticklen\":3,\"fixedrange\":true,\"title\":{\"text\":\"\"}},\"xaxis3\":{\"anchor\":\"y3\",\"domain\":[0.0,0.475],\"showticklabels\":true,\"type\":\"linear\",\"gridwidth\":2,\"zeroline\":false,\"automargin\":true,\"ticks\":\"outside\",\"tickcolor\":\"white\",\"ticklen\":3,\"fixedrange\":true,\"title\":{\"text\":\"\"}},\"yaxis3\":{\"anchor\":\"x3\",\"domain\":[0.575,1.0],\"matches\":\"y\",\"title\":{\"text\":\"\"},\"range\":[4.482614278793335,6.698467969894409],\"type\":\"linear\",\"gridwidth\":2,\"zeroline\":false,\"automargin\":true,\"ticks\":\"outside\",\"tickcolor\":\"white\",\"ticklen\":3,\"fixedrange\":true},\"xaxis4\":{\"anchor\":\"y4\",\"domain\":[0.525,1.0],\"showticklabels\":true,\"type\":\"linear\",\"gridwidth\":2,\"zeroline\":false,\"automargin\":true,\"ticks\":\"outside\",\"tickcolor\":\"white\",\"ticklen\":3,\"fixedrange\":true,\"title\":{\"text\":\"\"}},\"yaxis4\":{\"anchor\":\"x4\",\"domain\":[0.575,1.0],\"matches\":\"y\",\"showticklabels\":false,\"type\":\"linear\",\"gridwidth\":2,\"zeroline\":false,\"automargin\":true,\"ticks\":\"outside\",\"tickcolor\":\"white\",\"ticklen\":3,\"fixedrange\":true,\"title\":{\"text\":\"\"}},\"annotations\":[{\"font\":{\"size\":13},\"showarrow\":false,\"text\":\"gdp_per_capita\",\"x\":0.2375,\"xanchor\":\"center\",\"xref\":\"paper\",\"y\":0.425,\"yanchor\":\"bottom\",\"yref\":\"paper\"},{\"font\":{\"size\":13},\"showarrow\":false,\"text\":\"freedom_to_make_life_choices\",\"x\":0.7625,\"xanchor\":\"center\",\"xref\":\"paper\",\"y\":0.425,\"yanchor\":\"bottom\",\"yref\":\"paper\"},{\"font\":{\"size\":13},\"showarrow\":false,\"text\":\"social_support\",\"x\":0.2375,\"xanchor\":\"center\",\"xref\":\"paper\",\"y\":1.0,\"yanchor\":\"bottom\",\"yref\":\"paper\"},{\"font\":{\"size\":13},\"showarrow\":false,\"text\":\"healthy_life_expectancy\",\"x\":0.7625,\"xanchor\":\"center\",\"xref\":\"paper\",\"y\":1.0,\"yanchor\":\"bottom\",\"yref\":\"paper\"},{\"font\":{\"size\":13},\"showarrow\":false,\"text\":\"prediction\",\"textangle\":-90,\"x\":-0.07,\"xref\":\"paper\",\"y\":0.5,\"yref\":\"paper\"}],\"legend\":{\"title\":{\"text\":\"label\",\"font\":{\"size\":12}},\"tracegroupgap\":0,\"font\":{\"size\":11},\"orientation\":\"h\",\"yanchor\":\"bottom\",\"y\":1.0361881785283473,\"xanchor\":\"right\",\"x\":1,\"itemsizing\":\"constant\"},\"margin\":{\"t\":78,\"b\":71,\"r\":30},\"font\":{\"color\":\"#371ea3\"},\"title\":{\"font\":{\"size\":16},\"text\":\"Aggregated Profiles\",\"x\":0.15},\"hovermode\":\"x unified\",\"height\":829},                        {\"displaylogo\": false, \"staticPlot\": false, \"toImageButtonOptions\": {\"height\": null, \"width\": null}, \"modeBarButtonsToRemove\": [\"sendDataToCloud\", \"lasso2d\", \"autoScale2d\", \"select2d\", \"zoom2d\", \"pan2d\", \"zoomIn2d\", \"zoomOut2d\", \"resetScale2d\", \"toggleSpikelines\", \"hoverCompareCartesian\", \"hoverClosestCartesian\"], \"responsive\": true}                    ).then(function(){\n",
              "                            \n",
              "var gd = document.getElementById('a991c16f-f30c-4e1c-ac2b-0d50ffbab5f1');\n",
              "var x = new MutationObserver(function (mutations, observer) {{\n",
              "        var display = window.getComputedStyle(gd).display;\n",
              "        if (!display || display === 'none') {{\n",
              "            console.log([gd, 'removed!']);\n",
              "            Plotly.purge(gd);\n",
              "            observer.disconnect();\n",
              "        }}\n",
              "}});\n",
              "\n",
              "// Listen for the removal of the full notebook cells\n",
              "var notebookContainer = gd.closest('#notebook-container');\n",
              "if (notebookContainer) {{\n",
              "    x.observe(notebookContainer, {childList: true});\n",
              "}}\n",
              "\n",
              "// Listen for the clearing of the current output cell\n",
              "var outputEl = gd.closest('.output');\n",
              "if (outputEl) {{\n",
              "    x.observe(outputEl, {childList: true});\n",
              "}}\n",
              "\n",
              "                        })                };                            </script>        </div>\n",
              "</body>\n",
              "</html>"
            ]
          },
          "metadata": {}
        }
      ]
    },
    {
      "cell_type": "code",
      "source": [
        "# Residuals\n",
        "model_diag = explainer.model_diagnostics()\n",
        "\n",
        "model_diag.plot(\n",
        "    variable='social_support', \n",
        "    yvariable=\"abs_residuals\", \n",
        "    marker_size=5, \n",
        "    line_width=3\n",
        ")"
      ],
      "metadata": {
        "colab": {
          "base_uri": "https://localhost:8080/",
          "height": 542
        },
        "id": "xho7Wu2HAb9p",
        "outputId": "ee2f4f96-fc51-4f8b-9d26-aefd4bc5aedf"
      },
      "execution_count": 18,
      "outputs": [
        {
          "output_type": "display_data",
          "data": {
            "text/html": [
              "<html>\n",
              "<head><meta charset=\"utf-8\" /></head>\n",
              "<body>\n",
              "    <div>            <script src=\"https://cdnjs.cloudflare.com/ajax/libs/mathjax/2.7.5/MathJax.js?config=TeX-AMS-MML_SVG\"></script><script type=\"text/javascript\">if (window.MathJax) {MathJax.Hub.Config({SVG: {font: \"STIX-Web\"}});}</script>                <script type=\"text/javascript\">window.PlotlyConfig = {MathJaxConfig: 'local'};</script>\n",
              "        <script src=\"https://cdn.plot.ly/plotly-2.8.3.min.js\"></script>                <div id=\"96e2d101-9b41-4905-91fb-f93dcbcceaff\" class=\"plotly-graph-div\" style=\"height:525px; width:100%;\"></div>            <script type=\"text/javascript\">                                    window.PLOTLYENV=window.PLOTLYENV || {};                                    if (document.getElementById(\"96e2d101-9b41-4905-91fb-f93dcbcceaff\")) {                    Plotly.newPlot(                        \"96e2d101-9b41-4905-91fb-f93dcbcceaff\",                        [{\"hovertemplate\":\"<b>%{hovertext}</b><br><br>label=happiness<br>social_support=%{x}<br>abs_residuals=%{y}<extra></extra>\",\"hovertext\":[1.0,2.0,3.0,4.0,5.0,6.0,7.0,8.0,9.0,10.0,11.0,12.0,13.0,14.0,15.0,16.0,17.0,18.0,19.0,20.0,21.0,22.0,23.0,24.0,25.0,26.0,27.0,28.0,29.0,30.0,31.0,32.0,33.0,34.0,35.0,36.0,37.0,38.0,39.0,40.0,41.0,42.0,43.0,44.0,45.0,46.0,47.0,48.0,49.0,50.0,51.0,52.0,53.0,54.0,55.0,56.0,57.0,58.0,59.0,60.0,61.0,62.0,63.0,64.0,65.0,66.0,67.0,68.0,69.0,70.0,71.0,72.0,73.0,74.0,75.0,76.0,77.0,78.0,79.0,80.0,81.0,82.0,83.0,84.0,85.0,86.0,87.0,88.0,89.0,90.0,91.0,92.0,93.0,94.0,95.0,96.0,97.0,98.0,99.0,100.0,101.0,102.0,103.0,104.0,105.0,106.0,107.0,108.0,109.0,110.0,111.0,112.0,113.0,114.0,115.0,116.0,117.0,118.0,119.0,120.0,121.0,122.0,123.0,124.0,125.0,126.0,127.0,128.0,129.0,130.0,131.0,132.0,133.0,134.0,135.0,136.0,137.0,138.0,139.0,140.0,141.0,142.0,143.0,144.0,145.0,146.0,147.0,148.0,149.0,150.0,151.0,152.0,153.0,154.0,155.0,156.0],\"legendgroup\":\"happiness\",\"marker\":{\"color\":\"#46bac2\",\"symbol\":\"circle\",\"size\":5},\"mode\":\"markers\",\"name\":\"happiness\",\"orientation\":\"v\",\"showlegend\":true,\"x\":[0.517,0.848,1.16,1.432,1.055,1.548,1.475,1.147,1.368,0.928,1.465,1.504,0.437,1.321,1.209,1.212,1.145,1.439,1.513,1.056,0.447,1.122,0.91,1.505,0.0,0.766,1.369,1.125,1.41,0.757,0.799,1.125,1.441,1.266,1.223,1.487,1.573,1.401,1.312,1.039,1.242,1.528,1.033,1.587,1.472,1.183,0.939,0.666,1.454,0.868,1.156,1.269,0.829,0.688,1.236,1.277,1.41,1.624,0.765,1.203,0.842,0.98,1.553,1.455,1.488,0.808,1.478,1.419,1.225,1.508,0.983,1.232,1.319,1.438,1.03,1.465,1.224,1.169,0.922,1.303,1.515,1.479,0.916,0.56,1.171,1.105,1.52,1.167,1.402,1.323,1.328,1.531,1.361,0.782,0.986,1.181,1.313,1.226,1.522,1.557,1.325,0.774,1.111,1.294,1.252,1.582,0.886,1.247,1.442,1.475,1.274,1.293,1.438,1.431,1.313,1.232,1.452,0.711,1.357,1.134,1.383,0.841,1.463,1.504,1.523,0.698,1.351,1.219,0.575,1.484,1.265,1.149,1.487,1.526,0.378,1.43,1.098,0.885,1.409,0.572,1.477,1.0,1.36,1.538,1.069,1.39,1.31,1.538,1.457,1.465,1.529,1.427,1.346,1.163,1.058,1.114],\"xaxis\":\"x\",\"y\":[0.07081873130798355,0.014962059020995788,0.05984064483642548,0.01810308837890595,0.05139733886718734,0.03737242507934546,0.10383873367309526,0.036801521301269347,0.004045845031738438,0.00037160491943399876,0.034982158660888274,0.09042134094238286,0.00010003280639647727,0.004759567260742337,0.019633098602295007,0.0027829780578612073,0.44994631958007814,0.012182044982909979,0.06474129104614246,0.039274108886719006,0.02663145065307626,0.07020969390869158,0.021745353698730874,0.018428680419922294,0.13676685523986798,0.23345527648925746,0.0463941040039062,0.04921387100219743,0.038218021392822266,0.03898911666870131,0.004040515899657926,0.015441638946533054,0.7903048439025877,0.01702706146240196,0.022408958435058857,0.3267133255004886,0.00475683212280309,0.013913822174072443,0.004471424102782784,0.27093923950195276,0.10361836242675793,0.3816090888977053,0.01369641876220662,0.04757875823974622,0.04030083847045862,0.23158523941040077,0.0166409339904785,0.04044061279296862,0.09469448089599641,0.0006267509460453624,0.0541598205566407,0.24850286102294916,0.006854454040527536,0.059828403472900415,0.008998050689696946,0.0753995704650876,0.029445545196533196,0.01171211624145485,0.02712763786315886,0.014419944763183423,0.01751074981689449,0.04767254638671847,0.027642158508300874,0.033807338714599844,0.05936007690429701,0.026717430114746143,0.047616825103760085,0.21702591323852527,0.37095703506469757,0.030481830596923665,0.0039003524780270027,0.0009351730346676135,0.01790723419189444,0.049039520263671754,0.055097576141357685,0.06964736938476523,0.037100341796874936,0.057848260879516555,0.023773050308227628,0.025675868988036754,0.00725476837158201,0.06255945205688462,0.07621440124511736,0.025417718887329244,0.017446292877197678,0.012665882110595383,0.07892973327636721,0.021029243469238068,0.0027770881652831036,0.4808876228332517,0.06267137908935538,0.031126346588134624,0.09286952209472688,0.029675189971923643,0.04269544219970722,0.010245933532714524,0.558125556945801,0.03413878631591771,0.1513415222167973,0.06434615325927773,0.014118652343750426,0.020909091949462777,0.0401266670227054,0.0488788375854492,0.0024724655151366903,0.27917613601684543,0.05320584487915081,0.016073326110840114,0.016616722106933324,0.012405364990234702,0.13098004150390619,0.025912803649902116,0.0869957618713375,0.05389292907714882,0.0666676292419437,0.021893196105956747,0.08365035247802766,0.021871932983398512,0.024691104888916016,0.03390955352783198,0.05778138351440454,0.12399251556396518,0.03552333068847613,0.05923505020141562,0.08989670944213835,0.1170427970886232,0.03891098785400349,0.012319068908691833,0.04367582511901835,0.004678817749023345,1.6231462326049808,0.018061054229736584,0.2610035591125488,0.1405482101440434,0.04758967208862286,0.015992740631103786,0.02176619338989294,0.021039777755737177,0.03953276443481446,0.010240592956543004,0.02466735076904314,0.0368027343749997,0.009308670043945533,0.04043076324462902,0.06133378601074213,0.45043780136108413,0.02268238067626971,0.1034275093078616,0.005167285919189801,0.032795650482177585,0.01452324295043983,0.0627978019714357,0.05186767578125018,0.3324512195587159,0.004093296051025597,0.568879234313965],\"yaxis\":\"y\",\"type\":\"scatter\",\"line\":{\"width\":3}},{\"hovertemplate\":\"<b>LOWESS trendline</b><br><br>label=happiness<br>social_support=%{x}<br>abs_residuals=%{y} <b>(trend)</b><extra></extra>\",\"legendgroup\":\"happiness\",\"marker\":{\"color\":\"#46bac2\",\"symbol\":\"circle\",\"size\":5},\"mode\":\"lines\",\"name\":\"happiness\",\"showlegend\":false,\"x\":[0.0,0.378,0.437,0.447,0.517,0.56,0.572,0.575,0.666,0.688,0.698,0.711,0.757,0.765,0.766,0.774,0.782,0.799,0.808,0.829,0.841,0.842,0.848,0.868,0.885,0.886,0.91,0.916,0.922,0.928,0.939,0.98,0.983,0.986,1.0,1.03,1.033,1.039,1.055,1.056,1.058,1.069,1.098,1.105,1.111,1.114,1.122,1.125,1.125,1.134,1.145,1.147,1.149,1.156,1.16,1.163,1.167,1.169,1.171,1.181,1.183,1.203,1.209,1.212,1.219,1.223,1.224,1.225,1.226,1.232,1.232,1.236,1.242,1.247,1.252,1.265,1.266,1.269,1.274,1.277,1.293,1.294,1.303,1.31,1.312,1.313,1.313,1.319,1.321,1.323,1.325,1.328,1.346,1.351,1.357,1.36,1.361,1.368,1.369,1.383,1.39,1.401,1.402,1.409,1.41,1.41,1.419,1.427,1.43,1.431,1.432,1.438,1.438,1.439,1.441,1.442,1.452,1.454,1.455,1.457,1.463,1.465,1.465,1.465,1.472,1.475,1.475,1.477,1.478,1.479,1.484,1.487,1.487,1.488,1.504,1.504,1.505,1.508,1.513,1.515,1.52,1.522,1.523,1.526,1.528,1.529,1.531,1.538,1.538,1.548,1.553,1.557,1.573,1.582,1.587,1.624],\"xaxis\":\"x\",\"y\":[0.06436472875195393,0.04518595219271495,0.04221029729356943,0.04169719151762538,0.03808083484973322,0.035944392710781044,0.03538397898414525,0.03524747016289166,0.03232498290719543,0.03208973627565529,0.03202801891135834,0.03196316476300969,0.031745771708298016,0.031710240789953215,0.03170582411930918,0.03167061501255605,0.03163548963517716,0.03156018203953622,0.031519320992369836,0.03141867463792432,0.03135589259800018,0.031350424430332646,0.031316702025407636,0.031189448748861502,0.03105381580312187,0.031044716680605874,0.03077882198440915,0.030698426105581777,0.030616069660254316,0.03053478310345548,0.030432950199570367,0.030023907122044308,0.029994096628760042,0.029964733135344736,0.02985443764469036,0.029761387382730313,0.029772090129148904,0.029809038507962744,0.02997797376703325,0.029993761132246673,0.030026782639398196,0.030225309367240903,0.030802949540606497,0.03089473261067505,0.030923349922575567,0.030969486987901265,0.031058350814198322,0.031093002493441917,0.031093002493441917,0.03115394508806188,0.031224616506654174,0.031234337004950156,0.031242818491840497,0.03126072675703644,0.03126890161277656,0.03127563113167243,0.031278164748241265,0.03127793574586742,0.031276862987676,0.03126732565691913,0.03126570854587589,0.031174656550525204,0.03114408817411979,0.031108463819550902,0.031036676424756306,0.03098583589120656,0.030972986660021275,0.030960099369101542,0.030947183141291964,0.03086952716005424,0.03086952716005424,0.03089510934111044,0.031070923273052137,0.031047372552915686,0.031005336256334358,0.030985513295304228,0.030980432720573523,0.03096695451614052,0.03112829196062624,0.031125398331407837,0.03146368457714274,0.03147092772944221,0.031604495410688424,0.03170136940082484,0.03174041500415704,0.031762543536458875,0.031762543536458875,0.03199962751930157,0.03207238843440195,0.032225733061522294,0.032363010846347386,0.032499898527507905,0.033828354896642314,0.03427465885826817,0.03476620569935568,0.03501998855920107,0.035111217261027027,0.03573596912672336,0.03582651036717818,0.037062367945706755,0.03766281604236946,0.03856257483589819,0.03864126748526811,0.039176401296219736,0.039250618513799795,0.039250618513799795,0.039894727293383635,0.04043449936473815,0.040629974926075944,0.040694368188368406,0.04075839476671297,0.04113540379800108,0.04113540379800108,0.041197138261241786,0.0413197462615134,0.0413806372356939,0.041976482191441934,0.04209323209187733,0.042151352943096895,0.04226711501173971,0.04261097033675086,0.042724595216690364,0.042724595216690364,0.042724595216690364,0.04311917852537848,0.043287077077261316,0.043287077077261316,0.043398687867847625,0.04345440741359194,0.04351007438096745,0.04378772754939654,0.04395387242379926,0.04395387242379926,0.04400919666657484,0.044892536883807545,0.044892536883807545,0.04494771975732334,0.04511329651657867,0.04538938153522476,0.04549987113455,0.04577625657209657,0.045886885012337425,0.04594221526752269,0.04610825760200888,0.046218977461199934,0.04627433813117908,0.0463850494725392,0.04677226029311938,0.04677226029311938,0.047323687738648465,0.047597995173558984,0.0478165063129761,0.048679546671010335,0.04915503614749064,0.0494155789212339,0.05124964581943384],\"yaxis\":\"y\",\"type\":\"scatter\",\"line\":{\"width\":3}}],                        {\"template\":{\"data\":{\"scatter\":[{\"type\":\"scatter\"}]}},\"xaxis\":{\"anchor\":\"y\",\"domain\":[0.0,1.0],\"title\":{\"text\":\"social_support\"},\"type\":\"linear\",\"gridwidth\":2,\"zeroline\":false,\"automargin\":true,\"ticks\":\"outside\",\"tickcolor\":\"white\",\"ticklen\":10,\"fixedrange\":true},\"yaxis\":{\"anchor\":\"x\",\"domain\":[0.0,1.0],\"title\":{\"text\":\"abs_residuals\"},\"type\":\"linear\",\"gridwidth\":2,\"zeroline\":false,\"automargin\":true,\"ticks\":\"outside\",\"tickcolor\":\"white\",\"ticklen\":10,\"fixedrange\":true},\"legend\":{\"title\":{\"text\":\"label\"},\"tracegroupgap\":0},\"margin\":{\"t\":78,\"b\":71,\"r\":30},\"title\":{\"text\":\"Residual Diagnostics\",\"x\":0.15},\"font\":{\"color\":\"#371ea3\"}},                        {\"displaylogo\": false, \"staticPlot\": false, \"toImageButtonOptions\": {\"height\": null, \"width\": null}, \"modeBarButtonsToRemove\": [\"sendDataToCloud\", \"lasso2d\", \"autoScale2d\", \"select2d\", \"zoom2d\", \"pan2d\", \"zoomIn2d\", \"zoomOut2d\", \"resetScale2d\", \"toggleSpikelines\", \"hoverCompareCartesian\", \"hoverClosestCartesian\"], \"responsive\": true}                    ).then(function(){\n",
              "                            \n",
              "var gd = document.getElementById('96e2d101-9b41-4905-91fb-f93dcbcceaff');\n",
              "var x = new MutationObserver(function (mutations, observer) {{\n",
              "        var display = window.getComputedStyle(gd).display;\n",
              "        if (!display || display === 'none') {{\n",
              "            console.log([gd, 'removed!']);\n",
              "            Plotly.purge(gd);\n",
              "            observer.disconnect();\n",
              "        }}\n",
              "}});\n",
              "\n",
              "// Listen for the removal of the full notebook cells\n",
              "var notebookContainer = gd.closest('#notebook-container');\n",
              "if (notebookContainer) {{\n",
              "    x.observe(notebookContainer, {childList: true});\n",
              "}}\n",
              "\n",
              "// Listen for the clearing of the current output cell\n",
              "var outputEl = gd.closest('.output');\n",
              "if (outputEl) {{\n",
              "    x.observe(outputEl, {childList: true});\n",
              "}}\n",
              "\n",
              "                        })                };                            </script>        </div>\n",
              "</body>\n",
              "</html>"
            ]
          },
          "metadata": {}
        }
      ]
    },
    {
      "cell_type": "code",
      "source": [
        "model_diag.result"
      ],
      "metadata": {
        "colab": {
          "base_uri": "https://localhost:8080/",
          "height": 488
        },
        "id": "Dkx6IsJsAoaU",
        "outputId": "d828e872-7360-43f8-c8b9-f45acabac411"
      },
      "execution_count": 19,
      "outputs": [
        {
          "output_type": "execute_result",
          "data": {
            "text/plain": [
              "             gdp_per_capita  social_support  healthy_life_expectancy  \\\n",
              "Afghanistan           0.350           0.517                    0.361   \n",
              "Albania               0.947           0.848                    0.874   \n",
              "Algeria               1.002           1.160                    0.785   \n",
              "Argentina             1.092           1.432                    0.881   \n",
              "Armenia               0.850           1.055                    0.815   \n",
              "...                     ...             ...                      ...   \n",
              "Venezuela             0.960           1.427                    0.805   \n",
              "Vietnam               0.741           1.346                    0.851   \n",
              "Yemen                 0.287           1.163                    0.463   \n",
              "Zambia                0.578           1.058                    0.426   \n",
              "Zimbabwe              0.366           1.114                    0.433   \n",
              "\n",
              "             freedom_to_make_life_choices  generosity  \\\n",
              "Afghanistan                         0.000       0.158   \n",
              "Albania                             0.383       0.178   \n",
              "Algeria                             0.086       0.073   \n",
              "Argentina                           0.471       0.066   \n",
              "Armenia                             0.283       0.095   \n",
              "...                                   ...         ...   \n",
              "Venezuela                           0.154       0.064   \n",
              "Vietnam                             0.543       0.147   \n",
              "Yemen                               0.143       0.108   \n",
              "Zambia                              0.431       0.247   \n",
              "Zimbabwe                            0.361       0.151   \n",
              "\n",
              "             perceptions_of_corruption      y     y_hat  residuals  \\\n",
              "Afghanistan                      0.025  3.203  3.273819  -0.070819   \n",
              "Albania                          0.027  4.719  4.733962  -0.014962   \n",
              "Algeria                          0.114  5.211  5.270841  -0.059841   \n",
              "Argentina                        0.050  6.086  6.104103  -0.018103   \n",
              "Armenia                          0.064  4.559  4.610397  -0.051397   \n",
              "...                                ...    ...       ...        ...   \n",
              "Venezuela                        0.047  4.707  4.769798  -0.062798   \n",
              "Vietnam                          0.073  5.175  5.226868  -0.051868   \n",
              "Yemen                            0.077  3.380  3.712451  -0.332451   \n",
              "Zambia                           0.087  4.107  4.102907   0.004093   \n",
              "Zimbabwe                         0.089  3.663  4.231879  -0.568879   \n",
              "\n",
              "             abs_residuals      label  ids  \n",
              "Afghanistan       0.070819  happiness    1  \n",
              "Albania           0.014962  happiness    2  \n",
              "Algeria           0.059841  happiness    3  \n",
              "Argentina         0.018103  happiness    4  \n",
              "Armenia           0.051397  happiness    5  \n",
              "...                    ...        ...  ...  \n",
              "Venezuela         0.062798  happiness  152  \n",
              "Vietnam           0.051868  happiness  153  \n",
              "Yemen             0.332451  happiness  154  \n",
              "Zambia            0.004093  happiness  155  \n",
              "Zimbabwe          0.568879  happiness  156  \n",
              "\n",
              "[156 rows x 12 columns]"
            ],
            "text/html": [
              "\n",
              "  <div id=\"df-ba1b8b85-a201-4fbb-8944-41ff9222ae25\">\n",
              "    <div class=\"colab-df-container\">\n",
              "      <div>\n",
              "<style scoped>\n",
              "    .dataframe tbody tr th:only-of-type {\n",
              "        vertical-align: middle;\n",
              "    }\n",
              "\n",
              "    .dataframe tbody tr th {\n",
              "        vertical-align: top;\n",
              "    }\n",
              "\n",
              "    .dataframe thead th {\n",
              "        text-align: right;\n",
              "    }\n",
              "</style>\n",
              "<table border=\"1\" class=\"dataframe\">\n",
              "  <thead>\n",
              "    <tr style=\"text-align: right;\">\n",
              "      <th></th>\n",
              "      <th>gdp_per_capita</th>\n",
              "      <th>social_support</th>\n",
              "      <th>healthy_life_expectancy</th>\n",
              "      <th>freedom_to_make_life_choices</th>\n",
              "      <th>generosity</th>\n",
              "      <th>perceptions_of_corruption</th>\n",
              "      <th>y</th>\n",
              "      <th>y_hat</th>\n",
              "      <th>residuals</th>\n",
              "      <th>abs_residuals</th>\n",
              "      <th>label</th>\n",
              "      <th>ids</th>\n",
              "    </tr>\n",
              "  </thead>\n",
              "  <tbody>\n",
              "    <tr>\n",
              "      <th>Afghanistan</th>\n",
              "      <td>0.350</td>\n",
              "      <td>0.517</td>\n",
              "      <td>0.361</td>\n",
              "      <td>0.000</td>\n",
              "      <td>0.158</td>\n",
              "      <td>0.025</td>\n",
              "      <td>3.203</td>\n",
              "      <td>3.273819</td>\n",
              "      <td>-0.070819</td>\n",
              "      <td>0.070819</td>\n",
              "      <td>happiness</td>\n",
              "      <td>1</td>\n",
              "    </tr>\n",
              "    <tr>\n",
              "      <th>Albania</th>\n",
              "      <td>0.947</td>\n",
              "      <td>0.848</td>\n",
              "      <td>0.874</td>\n",
              "      <td>0.383</td>\n",
              "      <td>0.178</td>\n",
              "      <td>0.027</td>\n",
              "      <td>4.719</td>\n",
              "      <td>4.733962</td>\n",
              "      <td>-0.014962</td>\n",
              "      <td>0.014962</td>\n",
              "      <td>happiness</td>\n",
              "      <td>2</td>\n",
              "    </tr>\n",
              "    <tr>\n",
              "      <th>Algeria</th>\n",
              "      <td>1.002</td>\n",
              "      <td>1.160</td>\n",
              "      <td>0.785</td>\n",
              "      <td>0.086</td>\n",
              "      <td>0.073</td>\n",
              "      <td>0.114</td>\n",
              "      <td>5.211</td>\n",
              "      <td>5.270841</td>\n",
              "      <td>-0.059841</td>\n",
              "      <td>0.059841</td>\n",
              "      <td>happiness</td>\n",
              "      <td>3</td>\n",
              "    </tr>\n",
              "    <tr>\n",
              "      <th>Argentina</th>\n",
              "      <td>1.092</td>\n",
              "      <td>1.432</td>\n",
              "      <td>0.881</td>\n",
              "      <td>0.471</td>\n",
              "      <td>0.066</td>\n",
              "      <td>0.050</td>\n",
              "      <td>6.086</td>\n",
              "      <td>6.104103</td>\n",
              "      <td>-0.018103</td>\n",
              "      <td>0.018103</td>\n",
              "      <td>happiness</td>\n",
              "      <td>4</td>\n",
              "    </tr>\n",
              "    <tr>\n",
              "      <th>Armenia</th>\n",
              "      <td>0.850</td>\n",
              "      <td>1.055</td>\n",
              "      <td>0.815</td>\n",
              "      <td>0.283</td>\n",
              "      <td>0.095</td>\n",
              "      <td>0.064</td>\n",
              "      <td>4.559</td>\n",
              "      <td>4.610397</td>\n",
              "      <td>-0.051397</td>\n",
              "      <td>0.051397</td>\n",
              "      <td>happiness</td>\n",
              "      <td>5</td>\n",
              "    </tr>\n",
              "    <tr>\n",
              "      <th>...</th>\n",
              "      <td>...</td>\n",
              "      <td>...</td>\n",
              "      <td>...</td>\n",
              "      <td>...</td>\n",
              "      <td>...</td>\n",
              "      <td>...</td>\n",
              "      <td>...</td>\n",
              "      <td>...</td>\n",
              "      <td>...</td>\n",
              "      <td>...</td>\n",
              "      <td>...</td>\n",
              "      <td>...</td>\n",
              "    </tr>\n",
              "    <tr>\n",
              "      <th>Venezuela</th>\n",
              "      <td>0.960</td>\n",
              "      <td>1.427</td>\n",
              "      <td>0.805</td>\n",
              "      <td>0.154</td>\n",
              "      <td>0.064</td>\n",
              "      <td>0.047</td>\n",
              "      <td>4.707</td>\n",
              "      <td>4.769798</td>\n",
              "      <td>-0.062798</td>\n",
              "      <td>0.062798</td>\n",
              "      <td>happiness</td>\n",
              "      <td>152</td>\n",
              "    </tr>\n",
              "    <tr>\n",
              "      <th>Vietnam</th>\n",
              "      <td>0.741</td>\n",
              "      <td>1.346</td>\n",
              "      <td>0.851</td>\n",
              "      <td>0.543</td>\n",
              "      <td>0.147</td>\n",
              "      <td>0.073</td>\n",
              "      <td>5.175</td>\n",
              "      <td>5.226868</td>\n",
              "      <td>-0.051868</td>\n",
              "      <td>0.051868</td>\n",
              "      <td>happiness</td>\n",
              "      <td>153</td>\n",
              "    </tr>\n",
              "    <tr>\n",
              "      <th>Yemen</th>\n",
              "      <td>0.287</td>\n",
              "      <td>1.163</td>\n",
              "      <td>0.463</td>\n",
              "      <td>0.143</td>\n",
              "      <td>0.108</td>\n",
              "      <td>0.077</td>\n",
              "      <td>3.380</td>\n",
              "      <td>3.712451</td>\n",
              "      <td>-0.332451</td>\n",
              "      <td>0.332451</td>\n",
              "      <td>happiness</td>\n",
              "      <td>154</td>\n",
              "    </tr>\n",
              "    <tr>\n",
              "      <th>Zambia</th>\n",
              "      <td>0.578</td>\n",
              "      <td>1.058</td>\n",
              "      <td>0.426</td>\n",
              "      <td>0.431</td>\n",
              "      <td>0.247</td>\n",
              "      <td>0.087</td>\n",
              "      <td>4.107</td>\n",
              "      <td>4.102907</td>\n",
              "      <td>0.004093</td>\n",
              "      <td>0.004093</td>\n",
              "      <td>happiness</td>\n",
              "      <td>155</td>\n",
              "    </tr>\n",
              "    <tr>\n",
              "      <th>Zimbabwe</th>\n",
              "      <td>0.366</td>\n",
              "      <td>1.114</td>\n",
              "      <td>0.433</td>\n",
              "      <td>0.361</td>\n",
              "      <td>0.151</td>\n",
              "      <td>0.089</td>\n",
              "      <td>3.663</td>\n",
              "      <td>4.231879</td>\n",
              "      <td>-0.568879</td>\n",
              "      <td>0.568879</td>\n",
              "      <td>happiness</td>\n",
              "      <td>156</td>\n",
              "    </tr>\n",
              "  </tbody>\n",
              "</table>\n",
              "<p>156 rows × 12 columns</p>\n",
              "</div>\n",
              "      <button class=\"colab-df-convert\" onclick=\"convertToInteractive('df-ba1b8b85-a201-4fbb-8944-41ff9222ae25')\"\n",
              "              title=\"Convert this dataframe to an interactive table.\"\n",
              "              style=\"display:none;\">\n",
              "        \n",
              "  <svg xmlns=\"http://www.w3.org/2000/svg\" height=\"24px\"viewBox=\"0 0 24 24\"\n",
              "       width=\"24px\">\n",
              "    <path d=\"M0 0h24v24H0V0z\" fill=\"none\"/>\n",
              "    <path d=\"M18.56 5.44l.94 2.06.94-2.06 2.06-.94-2.06-.94-.94-2.06-.94 2.06-2.06.94zm-11 1L8.5 8.5l.94-2.06 2.06-.94-2.06-.94L8.5 2.5l-.94 2.06-2.06.94zm10 10l.94 2.06.94-2.06 2.06-.94-2.06-.94-.94-2.06-.94 2.06-2.06.94z\"/><path d=\"M17.41 7.96l-1.37-1.37c-.4-.4-.92-.59-1.43-.59-.52 0-1.04.2-1.43.59L10.3 9.45l-7.72 7.72c-.78.78-.78 2.05 0 2.83L4 21.41c.39.39.9.59 1.41.59.51 0 1.02-.2 1.41-.59l7.78-7.78 2.81-2.81c.8-.78.8-2.07 0-2.86zM5.41 20L4 18.59l7.72-7.72 1.47 1.35L5.41 20z\"/>\n",
              "  </svg>\n",
              "      </button>\n",
              "      \n",
              "  <style>\n",
              "    .colab-df-container {\n",
              "      display:flex;\n",
              "      flex-wrap:wrap;\n",
              "      gap: 12px;\n",
              "    }\n",
              "\n",
              "    .colab-df-convert {\n",
              "      background-color: #E8F0FE;\n",
              "      border: none;\n",
              "      border-radius: 50%;\n",
              "      cursor: pointer;\n",
              "      display: none;\n",
              "      fill: #1967D2;\n",
              "      height: 32px;\n",
              "      padding: 0 0 0 0;\n",
              "      width: 32px;\n",
              "    }\n",
              "\n",
              "    .colab-df-convert:hover {\n",
              "      background-color: #E2EBFA;\n",
              "      box-shadow: 0px 1px 2px rgba(60, 64, 67, 0.3), 0px 1px 3px 1px rgba(60, 64, 67, 0.15);\n",
              "      fill: #174EA6;\n",
              "    }\n",
              "\n",
              "    [theme=dark] .colab-df-convert {\n",
              "      background-color: #3B4455;\n",
              "      fill: #D2E3FC;\n",
              "    }\n",
              "\n",
              "    [theme=dark] .colab-df-convert:hover {\n",
              "      background-color: #434B5C;\n",
              "      box-shadow: 0px 1px 3px 1px rgba(0, 0, 0, 0.15);\n",
              "      filter: drop-shadow(0px 1px 2px rgba(0, 0, 0, 0.3));\n",
              "      fill: #FFFFFF;\n",
              "    }\n",
              "  </style>\n",
              "\n",
              "      <script>\n",
              "        const buttonEl =\n",
              "          document.querySelector('#df-ba1b8b85-a201-4fbb-8944-41ff9222ae25 button.colab-df-convert');\n",
              "        buttonEl.style.display =\n",
              "          google.colab.kernel.accessAllowed ? 'block' : 'none';\n",
              "\n",
              "        async function convertToInteractive(key) {\n",
              "          const element = document.querySelector('#df-ba1b8b85-a201-4fbb-8944-41ff9222ae25');\n",
              "          const dataTable =\n",
              "            await google.colab.kernel.invokeFunction('convertToInteractive',\n",
              "                                                     [key], {});\n",
              "          if (!dataTable) return;\n",
              "\n",
              "          const docLinkHtml = 'Like what you see? Visit the ' +\n",
              "            '<a target=\"_blank\" href=https://colab.research.google.com/notebooks/data_table.ipynb>data table notebook</a>'\n",
              "            + ' to learn more about interactive tables.';\n",
              "          element.innerHTML = '';\n",
              "          dataTable['output_type'] = 'display_data';\n",
              "          await google.colab.output.renderOutput(dataTable, element);\n",
              "          const docLink = document.createElement('div');\n",
              "          docLink.innerHTML = docLinkHtml;\n",
              "          element.appendChild(docLink);\n",
              "        }\n",
              "      </script>\n",
              "    </div>\n",
              "  </div>\n",
              "  "
            ]
          },
          "metadata": {},
          "execution_count": 19
        }
      ]
    },
    {
      "cell_type": "code",
      "source": [
        "# Specific country\n",
        "explainer.predict_parts(X.loc['Poland'], type='shap').plot()"
      ],
      "metadata": {
        "id": "rwa4noVIA5B1",
        "outputId": "ec7db9ae-2487-4269-de14-34ba2331cff4",
        "colab": {
          "base_uri": "https://localhost:8080/",
          "height": 1000
        }
      },
      "execution_count": 20,
      "outputs": [
        {
          "output_type": "stream",
          "name": "stdout",
          "text": [
            "5/5 [==============================] - 0s 3ms/step\n",
            "5/5 [==============================] - 0s 3ms/step\n",
            "5/5 [==============================] - 0s 3ms/step\n",
            "5/5 [==============================] - 0s 3ms/step\n",
            "5/5 [==============================] - 0s 3ms/step\n",
            "5/5 [==============================] - 0s 3ms/step\n",
            "5/5 [==============================] - 0s 3ms/step\n",
            "5/5 [==============================] - 0s 3ms/step\n",
            "5/5 [==============================] - 0s 3ms/step\n",
            "5/5 [==============================] - 0s 4ms/step\n",
            "5/5 [==============================] - 0s 3ms/step\n",
            "5/5 [==============================] - 0s 3ms/step\n",
            "5/5 [==============================] - 0s 3ms/step\n",
            "5/5 [==============================] - 0s 3ms/step\n",
            "5/5 [==============================] - 0s 3ms/step\n",
            "5/5 [==============================] - 0s 3ms/step\n",
            "5/5 [==============================] - 0s 3ms/step\n",
            "5/5 [==============================] - 0s 3ms/step\n",
            "5/5 [==============================] - 0s 3ms/step\n",
            "5/5 [==============================] - 0s 3ms/step\n",
            "5/5 [==============================] - 0s 3ms/step\n",
            "5/5 [==============================] - 0s 3ms/step\n",
            "5/5 [==============================] - 0s 3ms/step\n",
            "5/5 [==============================] - 0s 4ms/step\n",
            "5/5 [==============================] - 0s 3ms/step\n",
            "5/5 [==============================] - 0s 3ms/step\n",
            "5/5 [==============================] - 0s 3ms/step\n",
            "5/5 [==============================] - 0s 3ms/step\n",
            "5/5 [==============================] - 0s 4ms/step\n",
            "5/5 [==============================] - 0s 3ms/step\n",
            "5/5 [==============================] - 0s 4ms/step\n",
            "5/5 [==============================] - 0s 3ms/step\n",
            "5/5 [==============================] - 0s 4ms/step\n",
            "5/5 [==============================] - 0s 3ms/step\n",
            "5/5 [==============================] - 0s 3ms/step\n",
            "5/5 [==============================] - 0s 3ms/step\n",
            "5/5 [==============================] - 0s 3ms/step\n",
            "5/5 [==============================] - 0s 3ms/step\n",
            "5/5 [==============================] - 0s 3ms/step\n",
            "5/5 [==============================] - 0s 3ms/step\n",
            "5/5 [==============================] - 0s 4ms/step\n",
            "5/5 [==============================] - 0s 3ms/step\n",
            "5/5 [==============================] - 0s 3ms/step\n",
            "5/5 [==============================] - 0s 3ms/step\n",
            "5/5 [==============================] - 0s 3ms/step\n",
            "5/5 [==============================] - 0s 3ms/step\n",
            "5/5 [==============================] - 0s 4ms/step\n",
            "5/5 [==============================] - 0s 3ms/step\n",
            "5/5 [==============================] - 0s 3ms/step\n",
            "5/5 [==============================] - 0s 3ms/step\n",
            "5/5 [==============================] - 0s 3ms/step\n",
            "5/5 [==============================] - 0s 5ms/step\n",
            "5/5 [==============================] - 0s 3ms/step\n",
            "5/5 [==============================] - 0s 3ms/step\n",
            "5/5 [==============================] - 0s 3ms/step\n",
            "5/5 [==============================] - 0s 3ms/step\n",
            "5/5 [==============================] - 0s 3ms/step\n",
            "5/5 [==============================] - 0s 3ms/step\n",
            "5/5 [==============================] - 0s 3ms/step\n",
            "5/5 [==============================] - 0s 3ms/step\n",
            "5/5 [==============================] - 0s 3ms/step\n",
            "5/5 [==============================] - 0s 3ms/step\n",
            "5/5 [==============================] - 0s 3ms/step\n",
            "5/5 [==============================] - 0s 3ms/step\n",
            "5/5 [==============================] - 0s 4ms/step\n",
            "5/5 [==============================] - 0s 3ms/step\n",
            "5/5 [==============================] - 0s 3ms/step\n",
            "5/5 [==============================] - 0s 3ms/step\n",
            "5/5 [==============================] - 0s 3ms/step\n",
            "5/5 [==============================] - 0s 3ms/step\n",
            "5/5 [==============================] - 0s 3ms/step\n",
            "5/5 [==============================] - 0s 4ms/step\n",
            "5/5 [==============================] - 0s 3ms/step\n",
            "5/5 [==============================] - 0s 3ms/step\n",
            "5/5 [==============================] - 0s 3ms/step\n",
            "5/5 [==============================] - 0s 3ms/step\n",
            "5/5 [==============================] - 0s 3ms/step\n",
            "5/5 [==============================] - 0s 3ms/step\n",
            "5/5 [==============================] - 0s 3ms/step\n",
            "5/5 [==============================] - 0s 3ms/step\n",
            "5/5 [==============================] - 0s 5ms/step\n",
            "5/5 [==============================] - 0s 4ms/step\n",
            "5/5 [==============================] - 0s 3ms/step\n",
            "5/5 [==============================] - 0s 3ms/step\n",
            "5/5 [==============================] - 0s 4ms/step\n",
            "5/5 [==============================] - 0s 3ms/step\n",
            "5/5 [==============================] - 0s 3ms/step\n",
            "5/5 [==============================] - 0s 3ms/step\n",
            "5/5 [==============================] - 0s 4ms/step\n",
            "5/5 [==============================] - 0s 4ms/step\n",
            "5/5 [==============================] - 0s 3ms/step\n",
            "5/5 [==============================] - 0s 3ms/step\n",
            "5/5 [==============================] - 0s 3ms/step\n",
            "5/5 [==============================] - 0s 3ms/step\n",
            "5/5 [==============================] - 0s 3ms/step\n",
            "5/5 [==============================] - 0s 4ms/step\n",
            "5/5 [==============================] - 0s 3ms/step\n",
            "5/5 [==============================] - 0s 3ms/step\n",
            "5/5 [==============================] - 0s 3ms/step\n",
            "5/5 [==============================] - 0s 3ms/step\n",
            "5/5 [==============================] - 0s 3ms/step\n",
            "5/5 [==============================] - 0s 4ms/step\n",
            "5/5 [==============================] - 0s 3ms/step\n",
            "5/5 [==============================] - 0s 4ms/step\n",
            "5/5 [==============================] - 0s 3ms/step\n",
            "5/5 [==============================] - 0s 4ms/step\n",
            "5/5 [==============================] - 0s 4ms/step\n",
            "5/5 [==============================] - 0s 3ms/step\n",
            "5/5 [==============================] - 0s 3ms/step\n",
            "5/5 [==============================] - 0s 3ms/step\n",
            "5/5 [==============================] - 0s 6ms/step\n",
            "5/5 [==============================] - 0s 4ms/step\n",
            "5/5 [==============================] - 0s 3ms/step\n",
            "5/5 [==============================] - 0s 4ms/step\n",
            "5/5 [==============================] - 0s 3ms/step\n",
            "5/5 [==============================] - 0s 4ms/step\n",
            "5/5 [==============================] - 0s 6ms/step\n",
            "5/5 [==============================] - 0s 3ms/step\n",
            "5/5 [==============================] - 0s 3ms/step\n",
            "5/5 [==============================] - 0s 5ms/step\n",
            "5/5 [==============================] - 0s 3ms/step\n",
            "5/5 [==============================] - 0s 3ms/step\n",
            "5/5 [==============================] - 0s 3ms/step\n",
            "5/5 [==============================] - 0s 3ms/step\n",
            "5/5 [==============================] - 0s 3ms/step\n",
            "5/5 [==============================] - 0s 3ms/step\n",
            "5/5 [==============================] - 0s 3ms/step\n",
            "5/5 [==============================] - 0s 3ms/step\n",
            "5/5 [==============================] - 0s 5ms/step\n",
            "5/5 [==============================] - 0s 3ms/step\n",
            "5/5 [==============================] - 0s 4ms/step\n",
            "5/5 [==============================] - 0s 3ms/step\n",
            "5/5 [==============================] - 0s 4ms/step\n",
            "5/5 [==============================] - 0s 3ms/step\n",
            "5/5 [==============================] - 0s 3ms/step\n",
            "5/5 [==============================] - 0s 4ms/step\n",
            "5/5 [==============================] - 0s 3ms/step\n",
            "5/5 [==============================] - 0s 4ms/step\n",
            "5/5 [==============================] - 0s 5ms/step\n",
            "5/5 [==============================] - 0s 4ms/step\n",
            "5/5 [==============================] - 0s 4ms/step\n",
            "5/5 [==============================] - 0s 4ms/step\n",
            "5/5 [==============================] - 0s 3ms/step\n",
            "5/5 [==============================] - 0s 3ms/step\n",
            "5/5 [==============================] - 0s 5ms/step\n",
            "5/5 [==============================] - 0s 3ms/step\n",
            "5/5 [==============================] - 0s 3ms/step\n",
            "5/5 [==============================] - 0s 3ms/step\n",
            "5/5 [==============================] - 0s 3ms/step\n",
            "5/5 [==============================] - 0s 4ms/step\n",
            "5/5 [==============================] - 0s 3ms/step\n",
            "5/5 [==============================] - 0s 4ms/step\n",
            "5/5 [==============================] - 0s 3ms/step\n",
            "5/5 [==============================] - 0s 4ms/step\n",
            "5/5 [==============================] - 0s 3ms/step\n",
            "5/5 [==============================] - 0s 4ms/step\n",
            "5/5 [==============================] - 0s 6ms/step\n",
            "5/5 [==============================] - 0s 4ms/step\n",
            "5/5 [==============================] - 0s 4ms/step\n",
            "5/5 [==============================] - 0s 3ms/step\n",
            "5/5 [==============================] - 0s 3ms/step\n",
            "5/5 [==============================] - 0s 3ms/step\n",
            "5/5 [==============================] - 0s 4ms/step\n",
            "5/5 [==============================] - 0s 4ms/step\n",
            "5/5 [==============================] - 0s 3ms/step\n",
            "5/5 [==============================] - 0s 3ms/step\n",
            "5/5 [==============================] - 0s 3ms/step\n",
            "5/5 [==============================] - 0s 3ms/step\n",
            "5/5 [==============================] - 0s 3ms/step\n",
            "5/5 [==============================] - 0s 4ms/step\n",
            "5/5 [==============================] - 0s 4ms/step\n",
            "5/5 [==============================] - 0s 4ms/step\n",
            "5/5 [==============================] - 0s 3ms/step\n",
            "5/5 [==============================] - 0s 3ms/step\n",
            "5/5 [==============================] - 0s 3ms/step\n",
            "1/1 [==============================] - 0s 20ms/step\n",
            "5/5 [==============================] - 0s 4ms/step\n"
          ]
        },
        {
          "output_type": "display_data",
          "data": {
            "text/html": [
              "<html>\n",
              "<head><meta charset=\"utf-8\" /></head>\n",
              "<body>\n",
              "    <div>            <script src=\"https://cdnjs.cloudflare.com/ajax/libs/mathjax/2.7.5/MathJax.js?config=TeX-AMS-MML_SVG\"></script><script type=\"text/javascript\">if (window.MathJax) {MathJax.Hub.Config({SVG: {font: \"STIX-Web\"}});}</script>                <script type=\"text/javascript\">window.PlotlyConfig = {MathJaxConfig: 'local'};</script>\n",
              "        <script src=\"https://cdn.plot.ly/plotly-2.8.3.min.js\"></script>                <div id=\"5e823558-de4b-4d08-b621-013d1aa251b2\" class=\"plotly-graph-div\" style=\"height:273.0px; width:100%;\"></div>            <script type=\"text/javascript\">                                    window.PLOTLYENV=window.PLOTLYENV || {};                                    if (document.getElementById(\"5e823558-de4b-4d08-b621-013d1aa251b2\")) {                    Plotly.newPlot(                        \"5e823558-de4b-4d08-b621-013d1aa251b2\",                        [{\"base\":5.42952299118042,\"hoverinfo\":\"text\",\"hoverlabel\":{\"bgcolor\":\"rgba(0,0,0,0.8)\"},\"hovertext\":[\"Average response: 5.43<br>Prediction: 6.269<br>healthy_life_expectancy = 0.884<br>increases average response <br>by 0.241\",\"Average response: 5.43<br>Prediction: 6.269<br>gdp_per_capita = 1.206<br>increases average response <br>by 0.216\",\"Average response: 5.43<br>Prediction: 6.269<br>social_support = 1.438<br>increases average response <br>by 0.203\",\"Average response: 5.43<br>Prediction: 6.269<br>generosity = 0.117<br>increases average response <br>by 0.082\",\"Average response: 5.43<br>Prediction: 6.269<br>perceptions_of_corruption = 0.05<br>increases average response <br>by 0.065\",\"Average response: 5.43<br>Prediction: 6.269<br>freedom_to_make_life_choices = 0.483<br>increases average response <br>by 0.033\"],\"marker\":{\"color\":[\"#8bdcbe\",\"#8bdcbe\",\"#8bdcbe\",\"#8bdcbe\",\"#8bdcbe\",\"#8bdcbe\"]},\"orientation\":\"h\",\"showlegend\":false,\"text\":[\"+0.241\",\"+0.216\",\"+0.203\",\"+0.082\",\"+0.065\",\"+0.033\"],\"textposition\":\"outside\",\"x\":[0.241,0.216,0.203,0.082,0.065,0.033],\"y\":[\"healthy_life_expectancy = 0.884\",\"gdp_per_capita = 1.206\",\"social_support = 1.438\",\"generosity = 0.117\",\"perceptions_of_corruption = 0.05\",\"freedom_to_make_life_choices = 0.483\"],\"type\":\"bar\",\"xaxis\":\"x\",\"yaxis\":\"y\"}],                        {\"template\":{\"data\":{\"scatter\":[{\"type\":\"scatter\"}]}},\"xaxis\":{\"anchor\":\"y\",\"domain\":[0.0,1.0],\"type\":\"linear\",\"gridwidth\":2,\"zeroline\":false,\"automargin\":true,\"ticks\":\"outside\",\"tickcolor\":\"white\",\"ticklen\":3,\"fixedrange\":true,\"range\":[5.43132299118042,5.70172299118042]},\"yaxis\":{\"anchor\":\"x\",\"domain\":[0.0,1.0],\"type\":\"category\",\"autorange\":\"reversed\",\"gridwidth\":2,\"automargin\":true,\"ticks\":\"outside\",\"tickcolor\":\"white\",\"ticklen\":10,\"fixedrange\":true},\"annotations\":[{\"font\":{\"size\":16},\"showarrow\":false,\"text\":\"happiness\",\"x\":0.5,\"xanchor\":\"center\",\"xref\":\"paper\",\"y\":1.0,\"yanchor\":\"bottom\",\"yref\":\"paper\"},{\"font\":{\"size\":16},\"showarrow\":false,\"text\":\"contribution\",\"x\":0.5,\"xanchor\":\"center\",\"xref\":\"paper\",\"y\":0,\"yanchor\":\"top\",\"yref\":\"paper\",\"yshift\":-30}],\"shapes\":[{\"line\":{\"color\":\"#371ea3\",\"dash\":\"dot\",\"width\":1.5},\"type\":\"line\",\"x0\":5.42952299118042,\"x1\":5.42952299118042,\"xref\":\"x\",\"y0\":-1,\"y1\":6,\"yref\":\"y\"}],\"title\":{\"text\":\"Shapley Values\",\"x\":0.15},\"font\":{\"color\":\"#371ea3\"},\"margin\":{\"t\":78,\"b\":71,\"r\":30},\"height\":273.0},                        {\"displaylogo\": false, \"staticPlot\": false, \"toImageButtonOptions\": {\"height\": null, \"width\": null}, \"modeBarButtonsToRemove\": [\"sendDataToCloud\", \"lasso2d\", \"autoScale2d\", \"select2d\", \"zoom2d\", \"pan2d\", \"zoomIn2d\", \"zoomOut2d\", \"resetScale2d\", \"toggleSpikelines\", \"hoverCompareCartesian\", \"hoverClosestCartesian\"], \"responsive\": true}                    ).then(function(){\n",
              "                            \n",
              "var gd = document.getElementById('5e823558-de4b-4d08-b621-013d1aa251b2');\n",
              "var x = new MutationObserver(function (mutations, observer) {{\n",
              "        var display = window.getComputedStyle(gd).display;\n",
              "        if (!display || display === 'none') {{\n",
              "            console.log([gd, 'removed!']);\n",
              "            Plotly.purge(gd);\n",
              "            observer.disconnect();\n",
              "        }}\n",
              "}});\n",
              "\n",
              "// Listen for the removal of the full notebook cells\n",
              "var notebookContainer = gd.closest('#notebook-container');\n",
              "if (notebookContainer) {{\n",
              "    x.observe(notebookContainer, {childList: true});\n",
              "}}\n",
              "\n",
              "// Listen for the clearing of the current output cell\n",
              "var outputEl = gd.closest('.output');\n",
              "if (outputEl) {{\n",
              "    x.observe(outputEl, {childList: true});\n",
              "}}\n",
              "\n",
              "                        })                };                            </script>        </div>\n",
              "</body>\n",
              "</html>"
            ]
          },
          "metadata": {}
        }
      ]
    },
    {
      "cell_type": "code",
      "source": [
        "# Several countries\n",
        "pp_list = []\n",
        "for country in ['Afghanistan', 'Belgium', 'China', 'Denmark', 'Ethiopia']:\n",
        "    pp = explainer.predict_parts(X.loc[country], type='break_down')\n",
        "    pp.result.label = country\n",
        "    pp_list += [pp]\n",
        "\n",
        "pp_list[0].plot(pp_list[1::], min_max=[2.5, 8.5])"
      ],
      "metadata": {
        "colab": {
          "base_uri": "https://localhost:8080/",
          "height": 1000
        },
        "id": "33hkyTouBA0C",
        "outputId": "f16392d5-92d2-4dae-cf45-d0d79d6faa10"
      },
      "execution_count": 21,
      "outputs": [
        {
          "output_type": "stream",
          "name": "stdout",
          "text": [
            "1/1 [==============================] - 0s 20ms/step\n",
            "5/5 [==============================] - 0s 4ms/step\n",
            "5/5 [==============================] - 0s 5ms/step\n",
            "5/5 [==============================] - 0s 3ms/step\n",
            "5/5 [==============================] - 0s 3ms/step\n",
            "5/5 [==============================] - 0s 3ms/step\n",
            "5/5 [==============================] - 0s 4ms/step\n",
            "5/5 [==============================] - 0s 5ms/step\n",
            "5/5 [==============================] - 0s 4ms/step\n",
            "5/5 [==============================] - 0s 3ms/step\n",
            "5/5 [==============================] - 0s 4ms/step\n",
            "5/5 [==============================] - 0s 3ms/step\n",
            "5/5 [==============================] - 0s 3ms/step\n",
            "5/5 [==============================] - 0s 4ms/step\n",
            "1/1 [==============================] - 0s 27ms/step\n",
            "5/5 [==============================] - 0s 3ms/step\n",
            "5/5 [==============================] - 0s 3ms/step\n",
            "5/5 [==============================] - 0s 3ms/step\n",
            "5/5 [==============================] - 0s 3ms/step\n",
            "5/5 [==============================] - 0s 3ms/step\n",
            "5/5 [==============================] - 0s 3ms/step\n",
            "5/5 [==============================] - 0s 3ms/step\n",
            "5/5 [==============================] - 0s 3ms/step\n",
            "5/5 [==============================] - 0s 3ms/step\n",
            "5/5 [==============================] - 0s 4ms/step\n",
            "5/5 [==============================] - 0s 3ms/step\n",
            "5/5 [==============================] - 0s 3ms/step\n",
            "5/5 [==============================] - 0s 4ms/step\n",
            "1/1 [==============================] - 0s 19ms/step\n",
            "5/5 [==============================] - 0s 3ms/step\n",
            "5/5 [==============================] - 0s 3ms/step\n",
            "5/5 [==============================] - 0s 3ms/step\n",
            "5/5 [==============================] - 0s 3ms/step\n",
            "5/5 [==============================] - 0s 3ms/step\n",
            "5/5 [==============================] - 0s 4ms/step\n",
            "5/5 [==============================] - 0s 3ms/step\n",
            "5/5 [==============================] - 0s 4ms/step\n",
            "5/5 [==============================] - 0s 3ms/step\n",
            "5/5 [==============================] - 0s 3ms/step\n",
            "5/5 [==============================] - 0s 3ms/step\n",
            "5/5 [==============================] - 0s 3ms/step\n",
            "5/5 [==============================] - 0s 3ms/step\n",
            "1/1 [==============================] - 0s 20ms/step\n",
            "5/5 [==============================] - 0s 3ms/step\n",
            "5/5 [==============================] - 0s 3ms/step\n",
            "5/5 [==============================] - 0s 3ms/step\n",
            "5/5 [==============================] - 0s 3ms/step\n",
            "5/5 [==============================] - 0s 3ms/step\n",
            "5/5 [==============================] - 0s 3ms/step\n",
            "5/5 [==============================] - 0s 3ms/step\n",
            "5/5 [==============================] - 0s 4ms/step\n",
            "5/5 [==============================] - 0s 4ms/step\n",
            "5/5 [==============================] - 0s 4ms/step\n",
            "5/5 [==============================] - 0s 5ms/step\n",
            "5/5 [==============================] - 0s 4ms/step\n",
            "5/5 [==============================] - 0s 3ms/step\n",
            "1/1 [==============================] - 0s 25ms/step\n",
            "5/5 [==============================] - 0s 3ms/step\n",
            "5/5 [==============================] - 0s 3ms/step\n",
            "5/5 [==============================] - 0s 3ms/step\n",
            "5/5 [==============================] - 0s 3ms/step\n",
            "5/5 [==============================] - 0s 3ms/step\n",
            "5/5 [==============================] - 0s 3ms/step\n",
            "5/5 [==============================] - 0s 3ms/step\n",
            "5/5 [==============================] - 0s 3ms/step\n",
            "5/5 [==============================] - 0s 3ms/step\n",
            "5/5 [==============================] - 0s 3ms/step\n",
            "5/5 [==============================] - 0s 3ms/step\n",
            "5/5 [==============================] - 0s 3ms/step\n",
            "5/5 [==============================] - 0s 7ms/step\n"
          ]
        },
        {
          "output_type": "display_data",
          "data": {
            "text/html": [
              "<html>\n",
              "<head><meta charset=\"utf-8\" /></head>\n",
              "<body>\n",
              "    <div>            <script src=\"https://cdnjs.cloudflare.com/ajax/libs/mathjax/2.7.5/MathJax.js?config=TeX-AMS-MML_SVG\"></script><script type=\"text/javascript\">if (window.MathJax) {MathJax.Hub.Config({SVG: {font: \"STIX-Web\"}});}</script>                <script type=\"text/javascript\">window.PlotlyConfig = {MathJaxConfig: 'local'};</script>\n",
              "        <script src=\"https://cdn.plot.ly/plotly-2.8.3.min.js\"></script>                <div id=\"a88c5071-ce35-4f93-b419-f356b49cc48c\" class=\"plotly-graph-div\" style=\"height:1249.0px; width:100%;\"></div>            <script type=\"text/javascript\">                                    window.PLOTLYENV=window.PLOTLYENV || {};                                    if (document.getElementById(\"a88c5071-ce35-4f93-b419-f356b49cc48c\")) {                    Plotly.newPlot(                        \"a88c5071-ce35-4f93-b419-f356b49cc48c\",                        [{\"base\":5.42952299118042,\"connector\":{\"line\":{\"color\":\"#371ea3\",\"dash\":\"solid\",\"width\":1},\"mode\":\"spanning\"},\"decreasing\":{\"marker\":{\"color\":\"#f05a71\"}},\"hoverinfo\":\"text+delta\",\"hoverlabel\":{\"bgcolor\":\"rgba(0,0,0,0.8)\"},\"hovertext\":[\"Average response: 5.43<br>Prediction: 3.274\",\"generosity = 0.158<br>increases average response by\",\"perceptions_of_corruption = 0.025<br>increases average response by\",\"healthy_life_expectancy = 0.361<br>decreases average response by\",\"social_support = 0.517<br>increases average response by\",\"gdp_per_capita = 0.35<br>decreases average response by\",\"freedom_to_make_life_choices = 0.0<br>decreases average response by\",\"Average response: 5.43<br>Prediction: 3.274\"],\"increasing\":{\"marker\":{\"color\":\"#8bdcbe\"}},\"measure\":[\"relative\",\"relative\",\"relative\",\"relative\",\"relative\",\"relative\",\"relative\",\"total\"],\"orientation\":\"h\",\"showlegend\":false,\"text\":[\"5.43\",\"+0.09\",\"+0.025\",\"-0.526\",\"+0.821\",\"-1.484\",\"-1.081\",\"3.274\"],\"textposition\":\"outside\",\"totals\":{\"marker\":{\"color\":\"#371ea3\"}},\"x\":[0.0,0.09000000357627869,0.02500000037252903,-0.5260000228881836,0.8209999799728394,-1.4839999675750732,-1.0809999704360962,-2.1559998989105225],\"y\":[\"intercept\",\"generosity = 0.158\",\"perceptions_of_corruption = 0.025\",\"healthy_life_expectancy = 0.361\",\"social_support = 0.517\",\"gdp_per_capita = 0.35\",\"freedom_to_make_life_choices = 0.0\",\"prediction\"],\"type\":\"waterfall\",\"xaxis\":\"x\",\"yaxis\":\"y\"},{\"base\":5.42952299118042,\"connector\":{\"line\":{\"color\":\"#371ea3\",\"dash\":\"solid\",\"width\":1},\"mode\":\"spanning\"},\"decreasing\":{\"marker\":{\"color\":\"#f05a71\"}},\"hoverinfo\":\"text+delta\",\"hoverlabel\":{\"bgcolor\":\"rgba(0,0,0,0.8)\"},\"hovertext\":[\"Average response: 5.43<br>Prediction: 6.833\",\"gdp_per_capita = 1.356<br>increases average response by\",\"social_support = 1.504<br>increases average response by\",\"healthy_life_expectancy = 0.986<br>increases average response by\",\"generosity = 0.16<br>decreases average response by\",\"perceptions_of_corruption = 0.21<br>decreases average response by\",\"freedom_to_make_life_choices = 0.473<br>increases average response by\",\"Average response: 5.43<br>Prediction: 6.833\"],\"increasing\":{\"marker\":{\"color\":\"#8bdcbe\"}},\"measure\":[\"relative\",\"relative\",\"relative\",\"relative\",\"relative\",\"relative\",\"relative\",\"total\"],\"orientation\":\"h\",\"showlegend\":false,\"text\":[\"5.43\",\"+0.533\",\"+0.391\",\"+0.37\",\"-0.054\",\"-0.092\",\"+0.254\",\"6.833\"],\"textposition\":\"outside\",\"totals\":{\"marker\":{\"color\":\"#371ea3\"}},\"x\":[0.0,0.5329999923706055,0.39100000262260437,0.3700000047683716,-0.05400000140070915,-0.09200000017881393,0.2540000081062317,1.402999997138977],\"y\":[\"intercept\",\"gdp_per_capita = 1.356\",\"social_support = 1.504\",\"healthy_life_expectancy = 0.986\",\"generosity = 0.16\",\"perceptions_of_corruption = 0.21\",\"freedom_to_make_life_choices = 0.473\",\"prediction\"],\"type\":\"waterfall\",\"xaxis\":\"x2\",\"yaxis\":\"y2\"},{\"base\":5.42952299118042,\"connector\":{\"line\":{\"color\":\"#371ea3\",\"dash\":\"solid\",\"width\":1},\"mode\":\"spanning\"},\"decreasing\":{\"marker\":{\"color\":\"#f05a71\"}},\"hoverinfo\":\"text+delta\",\"hoverlabel\":{\"bgcolor\":\"rgba(0,0,0,0.8)\"},\"hovertext\":[\"Average response: 5.43<br>Prediction: 5.24\",\"gdp_per_capita = 1.029<br>increases average response by\",\"healthy_life_expectancy = 0.893<br>increases average response by\",\"freedom_to_make_life_choices = 0.521<br>increases average response by\",\"generosity = 0.058<br>decreases average response by\",\"perceptions_of_corruption = 0.1<br>decreases average response by\",\"social_support = 1.125<br>decreases average response by\",\"Average response: 5.43<br>Prediction: 5.24\"],\"increasing\":{\"marker\":{\"color\":\"#8bdcbe\"}},\"measure\":[\"relative\",\"relative\",\"relative\",\"relative\",\"relative\",\"relative\",\"relative\",\"total\"],\"orientation\":\"h\",\"showlegend\":false,\"text\":[\"5.43\",\"+0.127\",\"+0.088\",\"+0.262\",\"-0.135\",\"-0.423\",\"-0.108\",\"5.24\"],\"textposition\":\"outside\",\"totals\":{\"marker\":{\"color\":\"#371ea3\"}},\"x\":[0.0,0.12700000405311584,0.08799999952316284,0.2619999945163727,-0.13500000536441803,-0.4230000078678131,-0.1080000028014183,-0.1889999955892563],\"y\":[\"intercept\",\"gdp_per_capita = 1.029\",\"healthy_life_expectancy = 0.893\",\"freedom_to_make_life_choices = 0.521\",\"generosity = 0.058\",\"perceptions_of_corruption = 0.1\",\"social_support = 1.125\",\"prediction\"],\"type\":\"waterfall\",\"xaxis\":\"x3\",\"yaxis\":\"y3\"},{\"base\":5.42952299118042,\"connector\":{\"line\":{\"color\":\"#371ea3\",\"dash\":\"solid\",\"width\":1},\"mode\":\"spanning\"},\"decreasing\":{\"marker\":{\"color\":\"#f05a71\"}},\"hoverinfo\":\"text+delta\",\"hoverlabel\":{\"bgcolor\":\"rgba(0,0,0,0.8)\"},\"hovertext\":[\"Average response: 5.43<br>Prediction: 7.605\",\"gdp_per_capita = 1.383<br>increases average response by\",\"social_support = 1.573<br>increases average response by\",\"freedom_to_make_life_choices = 0.592<br>increases average response by\",\"healthy_life_expectancy = 0.996<br>increases average response by\",\"generosity = 0.252<br>increases average response by\",\"perceptions_of_corruption = 0.41<br>increases average response by\",\"Average response: 5.43<br>Prediction: 7.605\"],\"increasing\":{\"marker\":{\"color\":\"#8bdcbe\"}},\"measure\":[\"relative\",\"relative\",\"relative\",\"relative\",\"relative\",\"relative\",\"relative\",\"total\"],\"orientation\":\"h\",\"showlegend\":false,\"text\":[\"5.43\",\"+0.579\",\"+0.517\",\"+0.039\",\"+0.457\",\"+0.184\",\"+0.399\",\"7.605\"],\"textposition\":\"outside\",\"totals\":{\"marker\":{\"color\":\"#371ea3\"}},\"x\":[0.0,0.5789999961853027,0.5170000195503235,0.039000000804662704,0.4569999873638153,0.18400000035762787,0.39899998903274536,2.174999952316284],\"y\":[\"intercept\",\"gdp_per_capita = 1.383\",\"social_support = 1.573\",\"freedom_to_make_life_choices = 0.592\",\"healthy_life_expectancy = 0.996\",\"generosity = 0.252\",\"perceptions_of_corruption = 0.41\",\"prediction\"],\"type\":\"waterfall\",\"xaxis\":\"x4\",\"yaxis\":\"y4\"},{\"base\":5.42952299118042,\"connector\":{\"line\":{\"color\":\"#371ea3\",\"dash\":\"solid\",\"width\":1},\"mode\":\"spanning\"},\"decreasing\":{\"marker\":{\"color\":\"#f05a71\"}},\"hoverinfo\":\"text+delta\",\"hoverlabel\":{\"bgcolor\":\"rgba(0,0,0,0.8)\"},\"hovertext\":[\"Average response: 5.43<br>Prediction: 4.272\",\"generosity = 0.209<br>increases average response by\",\"perceptions_of_corruption = 0.1<br>decreases average response by\",\"freedom_to_make_life_choices = 0.344<br>increases average response by\",\"social_support = 1.033<br>decreases average response by\",\"healthy_life_expectancy = 0.532<br>increases average response by\",\"gdp_per_capita = 0.336<br>decreases average response by\",\"Average response: 5.43<br>Prediction: 4.272\"],\"increasing\":{\"marker\":{\"color\":\"#8bdcbe\"}},\"measure\":[\"relative\",\"relative\",\"relative\",\"relative\",\"relative\",\"relative\",\"relative\",\"total\"],\"orientation\":\"h\",\"showlegend\":false,\"text\":[\"5.43\",\"+0.094\",\"-0.108\",\"+0.145\",\"-0.753\",\"+0.511\",\"-1.047\",\"4.272\"],\"textposition\":\"outside\",\"totals\":{\"marker\":{\"color\":\"#371ea3\"}},\"x\":[0.0,0.09399999678134918,-0.1080000028014183,0.14499999582767487,-0.753000020980835,0.5109999775886536,-1.0470000505447388,-1.156999945640564],\"y\":[\"intercept\",\"generosity = 0.209\",\"perceptions_of_corruption = 0.1\",\"freedom_to_make_life_choices = 0.344\",\"social_support = 1.033\",\"healthy_life_expectancy = 0.532\",\"gdp_per_capita = 0.336\",\"prediction\"],\"type\":\"waterfall\",\"xaxis\":\"x5\",\"yaxis\":\"y5\"}],                        {\"template\":{\"data\":{\"scatter\":[{\"type\":\"scatter\"}]}},\"xaxis\":{\"anchor\":\"y\",\"domain\":[0.0,1.0],\"matches\":\"x5\",\"showticklabels\":false,\"type\":\"linear\",\"gridwidth\":2,\"zeroline\":false,\"automargin\":true,\"ticks\":\"outside\",\"tickcolor\":\"white\",\"ticklen\":3,\"fixedrange\":true,\"range\":[2.5,8.5]},\"yaxis\":{\"anchor\":\"x\",\"domain\":[0.832,1.0],\"type\":\"category\",\"autorange\":\"reversed\",\"gridwidth\":2,\"automargin\":true,\"ticks\":\"outside\",\"tickcolor\":\"white\",\"ticklen\":10,\"fixedrange\":true},\"xaxis2\":{\"anchor\":\"y2\",\"domain\":[0.0,1.0],\"matches\":\"x5\",\"showticklabels\":false,\"type\":\"linear\",\"gridwidth\":2,\"zeroline\":false,\"automargin\":true,\"ticks\":\"outside\",\"tickcolor\":\"white\",\"ticklen\":3,\"fixedrange\":true,\"range\":[2.5,8.5]},\"yaxis2\":{\"anchor\":\"x2\",\"domain\":[0.624,0.792],\"type\":\"category\",\"autorange\":\"reversed\",\"gridwidth\":2,\"automargin\":true,\"ticks\":\"outside\",\"tickcolor\":\"white\",\"ticklen\":10,\"fixedrange\":true},\"xaxis3\":{\"anchor\":\"y3\",\"domain\":[0.0,1.0],\"matches\":\"x5\",\"showticklabels\":false,\"type\":\"linear\",\"gridwidth\":2,\"zeroline\":false,\"automargin\":true,\"ticks\":\"outside\",\"tickcolor\":\"white\",\"ticklen\":3,\"fixedrange\":true,\"range\":[2.5,8.5]},\"yaxis3\":{\"anchor\":\"x3\",\"domain\":[0.416,0.584],\"type\":\"category\",\"autorange\":\"reversed\",\"gridwidth\":2,\"automargin\":true,\"ticks\":\"outside\",\"tickcolor\":\"white\",\"ticklen\":10,\"fixedrange\":true},\"xaxis4\":{\"anchor\":\"y4\",\"domain\":[0.0,1.0],\"matches\":\"x5\",\"showticklabels\":false,\"type\":\"linear\",\"gridwidth\":2,\"zeroline\":false,\"automargin\":true,\"ticks\":\"outside\",\"tickcolor\":\"white\",\"ticklen\":3,\"fixedrange\":true,\"range\":[2.5,8.5]},\"yaxis4\":{\"anchor\":\"x4\",\"domain\":[0.208,0.376],\"type\":\"category\",\"autorange\":\"reversed\",\"gridwidth\":2,\"automargin\":true,\"ticks\":\"outside\",\"tickcolor\":\"white\",\"ticklen\":10,\"fixedrange\":true},\"xaxis5\":{\"anchor\":\"y5\",\"domain\":[0.0,1.0],\"type\":\"linear\",\"gridwidth\":2,\"zeroline\":false,\"automargin\":true,\"ticks\":\"outside\",\"tickcolor\":\"white\",\"ticklen\":3,\"fixedrange\":true,\"range\":[2.5,8.5]},\"yaxis5\":{\"anchor\":\"x5\",\"domain\":[0.0,0.16799999999999998],\"type\":\"category\",\"autorange\":\"reversed\",\"gridwidth\":2,\"automargin\":true,\"ticks\":\"outside\",\"tickcolor\":\"white\",\"ticklen\":10,\"fixedrange\":true},\"annotations\":[{\"font\":{\"size\":16},\"showarrow\":false,\"text\":\"Afghanistan\",\"x\":0.5,\"xanchor\":\"center\",\"xref\":\"paper\",\"y\":1.0,\"yanchor\":\"bottom\",\"yref\":\"paper\"},{\"font\":{\"size\":16},\"showarrow\":false,\"text\":\"Belgium\",\"x\":0.5,\"xanchor\":\"center\",\"xref\":\"paper\",\"y\":0.792,\"yanchor\":\"bottom\",\"yref\":\"paper\"},{\"font\":{\"size\":16},\"showarrow\":false,\"text\":\"China\",\"x\":0.5,\"xanchor\":\"center\",\"xref\":\"paper\",\"y\":0.584,\"yanchor\":\"bottom\",\"yref\":\"paper\"},{\"font\":{\"size\":16},\"showarrow\":false,\"text\":\"Denmark\",\"x\":0.5,\"xanchor\":\"center\",\"xref\":\"paper\",\"y\":0.376,\"yanchor\":\"bottom\",\"yref\":\"paper\"},{\"font\":{\"size\":16},\"showarrow\":false,\"text\":\"Ethiopia\",\"x\":0.5,\"xanchor\":\"center\",\"xref\":\"paper\",\"y\":0.16799999999999998,\"yanchor\":\"bottom\",\"yref\":\"paper\"},{\"font\":{\"size\":16},\"showarrow\":false,\"text\":\"contribution\",\"x\":0.5,\"xanchor\":\"center\",\"xref\":\"paper\",\"y\":0,\"yanchor\":\"top\",\"yref\":\"paper\",\"yshift\":-30}],\"shapes\":[{\"line\":{\"color\":\"#371ea3\",\"dash\":\"dot\",\"width\":1.5},\"type\":\"line\",\"x0\":5.42952299118042,\"x1\":5.42952299118042,\"xref\":\"x\",\"y0\":-1,\"y1\":8,\"yref\":\"y\"},{\"line\":{\"color\":\"#371ea3\",\"dash\":\"dot\",\"width\":1.5},\"type\":\"line\",\"x0\":5.42952299118042,\"x1\":5.42952299118042,\"xref\":\"x2\",\"y0\":-1,\"y1\":8,\"yref\":\"y2\"},{\"line\":{\"color\":\"#371ea3\",\"dash\":\"dot\",\"width\":1.5},\"type\":\"line\",\"x0\":5.42952299118042,\"x1\":5.42952299118042,\"xref\":\"x3\",\"y0\":-1,\"y1\":8,\"yref\":\"y3\"},{\"line\":{\"color\":\"#371ea3\",\"dash\":\"dot\",\"width\":1.5},\"type\":\"line\",\"x0\":5.42952299118042,\"x1\":5.42952299118042,\"xref\":\"x4\",\"y0\":-1,\"y1\":8,\"yref\":\"y4\"},{\"line\":{\"color\":\"#371ea3\",\"dash\":\"dot\",\"width\":1.5},\"type\":\"line\",\"x0\":5.42952299118042,\"x1\":5.42952299118042,\"xref\":\"x5\",\"y0\":-1,\"y1\":8,\"yref\":\"y5\"}],\"title\":{\"text\":\"Break Down\",\"x\":0.15},\"font\":{\"color\":\"#371ea3\"},\"margin\":{\"t\":78,\"b\":71,\"r\":30},\"height\":1249.0},                        {\"displaylogo\": false, \"staticPlot\": false, \"toImageButtonOptions\": {\"height\": null, \"width\": null}, \"modeBarButtonsToRemove\": [\"sendDataToCloud\", \"lasso2d\", \"autoScale2d\", \"select2d\", \"zoom2d\", \"pan2d\", \"zoomIn2d\", \"zoomOut2d\", \"resetScale2d\", \"toggleSpikelines\", \"hoverCompareCartesian\", \"hoverClosestCartesian\"], \"responsive\": true}                    ).then(function(){\n",
              "                            \n",
              "var gd = document.getElementById('a88c5071-ce35-4f93-b419-f356b49cc48c');\n",
              "var x = new MutationObserver(function (mutations, observer) {{\n",
              "        var display = window.getComputedStyle(gd).display;\n",
              "        if (!display || display === 'none') {{\n",
              "            console.log([gd, 'removed!']);\n",
              "            Plotly.purge(gd);\n",
              "            observer.disconnect();\n",
              "        }}\n",
              "}});\n",
              "\n",
              "// Listen for the removal of the full notebook cells\n",
              "var notebookContainer = gd.closest('#notebook-container');\n",
              "if (notebookContainer) {{\n",
              "    x.observe(notebookContainer, {childList: true});\n",
              "}}\n",
              "\n",
              "// Listen for the clearing of the current output cell\n",
              "var outputEl = gd.closest('.output');\n",
              "if (outputEl) {{\n",
              "    x.observe(outputEl, {childList: true});\n",
              "}}\n",
              "\n",
              "                        })                };                            </script>        </div>\n",
              "</body>\n",
              "</html>"
            ]
          },
          "metadata": {}
        }
      ]
    },
    {
      "cell_type": "code",
      "source": [
        "# Surrogate approximation\n",
        "lime_explanation = explainer.predict_surrogate(\n",
        "    X.loc['United States'], \n",
        "    mode='regression'\n",
        ")\n",
        "\n",
        "lime_explanation.plot()"
      ],
      "metadata": {
        "colab": {
          "base_uri": "https://localhost:8080/",
          "height": 316
        },
        "id": "1bxn5VPFBDTV",
        "outputId": "d5ca273e-73de-42d3-9178-456d5f341612"
      },
      "execution_count": 22,
      "outputs": [
        {
          "output_type": "stream",
          "name": "stdout",
          "text": [
            "5/5 [==============================] - 0s 3ms/step\n",
            "157/157 [==============================] - 0s 2ms/step\n"
          ]
        },
        {
          "output_type": "display_data",
          "data": {
            "text/plain": [
              "<Figure size 432x288 with 1 Axes>"
            ],
            "image/png": "[encoded data removed]"
          },
          "metadata": {
            "needs_background": "light"
          }
        }
      ]
    },
    {
      "cell_type": "code",
      "source": [
        "lime_explanation.result"
      ],
      "metadata": {
        "colab": {
          "base_uri": "https://localhost:8080/",
          "height": 237
        },
        "id": "0jeRxzs3BJD5",
        "outputId": "8a3aa8e3-360f-4c97-d6fb-94d07c877a54"
      },
      "execution_count": 23,
      "outputs": [
        {
          "output_type": "execute_result",
          "data": {
            "text/plain": [
              "                                      variable    effect\n",
              "0                        gdp_per_capita > 1.23  0.761159\n",
              "1                        social_support > 1.45  0.657584\n",
              "2                            generosity > 0.25 -0.238247\n",
              "3  0.42 < freedom_to_make_life_choices <= 0.51  0.223153\n",
              "4       0.79 < healthy_life_expectancy <= 0.88  0.134399\n",
              "5     0.09 < perceptions_of_corruption <= 0.14  0.131602"
            ],
            "text/html": [
              "\n",
              "  <div id=\"df-ec9ee147-a04a-435a-a38d-8f63bba1f11d\">\n",
              "    <div class=\"colab-df-container\">\n",
              "      <div>\n",
              "<style scoped>\n",
              "    .dataframe tbody tr th:only-of-type {\n",
              "        vertical-align: middle;\n",
              "    }\n",
              "\n",
              "    .dataframe tbody tr th {\n",
              "        vertical-align: top;\n",
              "    }\n",
              "\n",
              "    .dataframe thead th {\n",
              "        text-align: right;\n",
              "    }\n",
              "</style>\n",
              "<table border=\"1\" class=\"dataframe\">\n",
              "  <thead>\n",
              "    <tr style=\"text-align: right;\">\n",
              "      <th></th>\n",
              "      <th>variable</th>\n",
              "      <th>effect</th>\n",
              "    </tr>\n",
              "  </thead>\n",
              "  <tbody>\n",
              "    <tr>\n",
              "      <th>0</th>\n",
              "      <td>gdp_per_capita &gt; 1.23</td>\n",
              "      <td>0.761159</td>\n",
              "    </tr>\n",
              "    <tr>\n",
              "      <th>1</th>\n",
              "      <td>social_support &gt; 1.45</td>\n",
              "      <td>0.657584</td>\n",
              "    </tr>\n",
              "    <tr>\n",
              "      <th>2</th>\n",
              "      <td>generosity &gt; 0.25</td>\n",
              "      <td>-0.238247</td>\n",
              "    </tr>\n",
              "    <tr>\n",
              "      <th>3</th>\n",
              "      <td>0.42 &lt; freedom_to_make_life_choices &lt;= 0.51</td>\n",
              "      <td>0.223153</td>\n",
              "    </tr>\n",
              "    <tr>\n",
              "      <th>4</th>\n",
              "      <td>0.79 &lt; healthy_life_expectancy &lt;= 0.88</td>\n",
              "      <td>0.134399</td>\n",
              "    </tr>\n",
              "    <tr>\n",
              "      <th>5</th>\n",
              "      <td>0.09 &lt; perceptions_of_corruption &lt;= 0.14</td>\n",
              "      <td>0.131602</td>\n",
              "    </tr>\n",
              "  </tbody>\n",
              "</table>\n",
              "</div>\n",
              "      <button class=\"colab-df-convert\" onclick=\"convertToInteractive('df-ec9ee147-a04a-435a-a38d-8f63bba1f11d')\"\n",
              "              title=\"Convert this dataframe to an interactive table.\"\n",
              "              style=\"display:none;\">\n",
              "        \n",
              "  <svg xmlns=\"http://www.w3.org/2000/svg\" height=\"24px\"viewBox=\"0 0 24 24\"\n",
              "       width=\"24px\">\n",
              "    <path d=\"M0 0h24v24H0V0z\" fill=\"none\"/>\n",
              "    <path d=\"M18.56 5.44l.94 2.06.94-2.06 2.06-.94-2.06-.94-.94-2.06-.94 2.06-2.06.94zm-11 1L8.5 8.5l.94-2.06 2.06-.94-2.06-.94L8.5 2.5l-.94 2.06-2.06.94zm10 10l.94 2.06.94-2.06 2.06-.94-2.06-.94-.94-2.06-.94 2.06-2.06.94z\"/><path d=\"M17.41 7.96l-1.37-1.37c-.4-.4-.92-.59-1.43-.59-.52 0-1.04.2-1.43.59L10.3 9.45l-7.72 7.72c-.78.78-.78 2.05 0 2.83L4 21.41c.39.39.9.59 1.41.59.51 0 1.02-.2 1.41-.59l7.78-7.78 2.81-2.81c.8-.78.8-2.07 0-2.86zM5.41 20L4 18.59l7.72-7.72 1.47 1.35L5.41 20z\"/>\n",
              "  </svg>\n",
              "      </button>\n",
              "      \n",
              "  <style>\n",
              "    .colab-df-container {\n",
              "      display:flex;\n",
              "      flex-wrap:wrap;\n",
              "      gap: 12px;\n",
              "    }\n",
              "\n",
              "    .colab-df-convert {\n",
              "      background-color: #E8F0FE;\n",
              "      border: none;\n",
              "      border-radius: 50%;\n",
              "      cursor: pointer;\n",
              "      display: none;\n",
              "      fill: #1967D2;\n",
              "      height: 32px;\n",
              "      padding: 0 0 0 0;\n",
              "      width: 32px;\n",
              "    }\n",
              "\n",
              "    .colab-df-convert:hover {\n",
              "      background-color: #E2EBFA;\n",
              "      box-shadow: 0px 1px 2px rgba(60, 64, 67, 0.3), 0px 1px 3px 1px rgba(60, 64, 67, 0.15);\n",
              "      fill: #174EA6;\n",
              "    }\n",
              "\n",
              "    [theme=dark] .colab-df-convert {\n",
              "      background-color: #3B4455;\n",
              "      fill: #D2E3FC;\n",
              "    }\n",
              "\n",
              "    [theme=dark] .colab-df-convert:hover {\n",
              "      background-color: #434B5C;\n",
              "      box-shadow: 0px 1px 3px 1px rgba(0, 0, 0, 0.15);\n",
              "      filter: drop-shadow(0px 1px 2px rgba(0, 0, 0, 0.3));\n",
              "      fill: #FFFFFF;\n",
              "    }\n",
              "  </style>\n",
              "\n",
              "      <script>\n",
              "        const buttonEl =\n",
              "          document.querySelector('#df-ec9ee147-a04a-435a-a38d-8f63bba1f11d button.colab-df-convert');\n",
              "        buttonEl.style.display =\n",
              "          google.colab.kernel.accessAllowed ? 'block' : 'none';\n",
              "\n",
              "        async function convertToInteractive(key) {\n",
              "          const element = document.querySelector('#df-ec9ee147-a04a-435a-a38d-8f63bba1f11d');\n",
              "          const dataTable =\n",
              "            await google.colab.kernel.invokeFunction('convertToInteractive',\n",
              "                                                     [key], {});\n",
              "          if (!dataTable) return;\n",
              "\n",
              "          const docLinkHtml = 'Like what you see? Visit the ' +\n",
              "            '<a target=\"_blank\" href=https://colab.research.google.com/notebooks/data_table.ipynb>data table notebook</a>'\n",
              "            + ' to learn more about interactive tables.';\n",
              "          element.innerHTML = '';\n",
              "          dataTable['output_type'] = 'display_data';\n",
              "          await google.colab.output.renderOutput(dataTable, element);\n",
              "          const docLink = document.createElement('div');\n",
              "          docLink.innerHTML = docLinkHtml;\n",
              "          element.appendChild(docLink);\n",
              "        }\n",
              "      </script>\n",
              "    </div>\n",
              "  </div>\n",
              "  "
            ]
          },
          "metadata": {},
          "execution_count": 23
        }
      ]
    },
    {
      "cell_type": "code",
      "source": [
        "# Interpretable surrogate model\n",
        "surrogate_model = explainer.model_surrogate(max_vars=4, max_depth=3)\n",
        "surrogate_model.performance"
      ],
      "metadata": {
        "colab": {
          "base_uri": "https://localhost:8080/",
          "height": 1000
        },
        "id": "62Uyo6SuBKSW",
        "outputId": "1ded50b5-d65c-4e06-cf09-8dc06da6287d"
      },
      "execution_count": 24,
      "outputs": [
        {
          "output_type": "stream",
          "name": "stdout",
          "text": [
            "5/5 [==============================] - 0s 4ms/step\n",
            "5/5 [==============================] - 0s 4ms/step\n",
            "5/5 [==============================] - 0s 3ms/step\n",
            "5/5 [==============================] - 0s 3ms/step\n",
            "5/5 [==============================] - 0s 3ms/step\n",
            "5/5 [==============================] - 0s 3ms/step\n",
            "5/5 [==============================] - 0s 4ms/step\n",
            "5/5 [==============================] - 0s 3ms/step\n",
            "5/5 [==============================] - 0s 3ms/step\n",
            "5/5 [==============================] - 0s 3ms/step\n",
            "5/5 [==============================] - 0s 3ms/step\n",
            "5/5 [==============================] - 0s 4ms/step\n",
            "5/5 [==============================] - 0s 3ms/step\n",
            "5/5 [==============================] - 0s 3ms/step\n",
            "5/5 [==============================] - 0s 3ms/step\n",
            "5/5 [==============================] - 0s 3ms/step\n",
            "5/5 [==============================] - 0s 4ms/step\n",
            "5/5 [==============================] - 0s 4ms/step\n",
            "5/5 [==============================] - 0s 3ms/step\n",
            "5/5 [==============================] - 0s 3ms/step\n",
            "5/5 [==============================] - 0s 4ms/step\n",
            "5/5 [==============================] - 0s 3ms/step\n",
            "5/5 [==============================] - 0s 3ms/step\n",
            "5/5 [==============================] - 0s 4ms/step\n",
            "5/5 [==============================] - 0s 3ms/step\n",
            "5/5 [==============================] - 0s 4ms/step\n",
            "5/5 [==============================] - 0s 3ms/step\n",
            "5/5 [==============================] - 0s 3ms/step\n",
            "5/5 [==============================] - 0s 3ms/step\n",
            "5/5 [==============================] - 0s 3ms/step\n",
            "5/5 [==============================] - 0s 4ms/step\n",
            "5/5 [==============================] - 0s 4ms/step\n",
            "5/5 [==============================] - 0s 3ms/step\n",
            "5/5 [==============================] - 0s 4ms/step\n",
            "5/5 [==============================] - 0s 3ms/step\n",
            "5/5 [==============================] - 0s 3ms/step\n",
            "5/5 [==============================] - 0s 4ms/step\n",
            "5/5 [==============================] - 0s 3ms/step\n",
            "5/5 [==============================] - 0s 4ms/step\n",
            "5/5 [==============================] - 0s 6ms/step\n",
            "5/5 [==============================] - 0s 3ms/step\n",
            "5/5 [==============================] - 0s 5ms/step\n",
            "5/5 [==============================] - 0s 4ms/step\n",
            "5/5 [==============================] - 0s 3ms/step\n",
            "5/5 [==============================] - 0s 3ms/step\n",
            "5/5 [==============================] - 0s 3ms/step\n",
            "5/5 [==============================] - 0s 3ms/step\n",
            "5/5 [==============================] - 0s 3ms/step\n",
            "5/5 [==============================] - 0s 3ms/step\n",
            "5/5 [==============================] - 0s 3ms/step\n",
            "5/5 [==============================] - 0s 4ms/step\n",
            "5/5 [==============================] - 0s 4ms/step\n",
            "5/5 [==============================] - 0s 4ms/step\n",
            "5/5 [==============================] - 0s 3ms/step\n",
            "5/5 [==============================] - 0s 3ms/step\n",
            "5/5 [==============================] - 0s 4ms/step\n",
            "5/5 [==============================] - 0s 3ms/step\n",
            "5/5 [==============================] - 0s 3ms/step\n",
            "5/5 [==============================] - 0s 5ms/step\n",
            "5/5 [==============================] - 0s 3ms/step\n",
            "5/5 [==============================] - 0s 3ms/step\n",
            "5/5 [==============================] - 0s 3ms/step\n",
            "5/5 [==============================] - 0s 4ms/step\n",
            "5/5 [==============================] - 0s 3ms/step\n",
            "5/5 [==============================] - 0s 3ms/step\n",
            "5/5 [==============================] - 0s 3ms/step\n",
            "5/5 [==============================] - 0s 3ms/step\n",
            "5/5 [==============================] - 0s 3ms/step\n",
            "5/5 [==============================] - 0s 3ms/step\n",
            "5/5 [==============================] - 0s 3ms/step\n",
            "5/5 [==============================] - 0s 3ms/step\n",
            "5/5 [==============================] - 0s 3ms/step\n",
            "5/5 [==============================] - 0s 3ms/step\n",
            "5/5 [==============================] - 0s 3ms/step\n",
            "5/5 [==============================] - 0s 3ms/step\n",
            "5/5 [==============================] - 0s 3ms/step\n",
            "5/5 [==============================] - 0s 5ms/step\n",
            "5/5 [==============================] - 0s 3ms/step\n",
            "5/5 [==============================] - 0s 3ms/step\n",
            "5/5 [==============================] - 0s 4ms/step\n",
            "5/5 [==============================] - 0s 3ms/step\n",
            "5/5 [==============================] - 0s 3ms/step\n",
            "5/5 [==============================] - 0s 3ms/step\n",
            "5/5 [==============================] - 0s 3ms/step\n",
            "5/5 [==============================] - 0s 3ms/step\n",
            "5/5 [==============================] - 0s 3ms/step\n",
            "5/5 [==============================] - 0s 3ms/step\n",
            "5/5 [==============================] - 0s 3ms/step\n",
            "5/5 [==============================] - 0s 3ms/step\n",
            "5/5 [==============================] - 0s 3ms/step\n",
            "5/5 [==============================] - 0s 3ms/step\n",
            "5/5 [==============================] - 0s 4ms/step\n",
            "5/5 [==============================] - 0s 3ms/step\n",
            "5/5 [==============================] - 0s 3ms/step\n",
            "5/5 [==============================] - 0s 3ms/step\n",
            "5/5 [==============================] - 0s 3ms/step\n",
            "5/5 [==============================] - 0s 3ms/step\n",
            "5/5 [==============================] - 0s 3ms/step\n",
            "5/5 [==============================] - 0s 6ms/step\n",
            "5/5 [==============================] - 0s 3ms/step\n",
            "5/5 [==============================] - 0s 3ms/step\n",
            "5/5 [==============================] - 0s 3ms/step\n",
            "5/5 [==============================] - 0s 3ms/step\n",
            "5/5 [==============================] - 0s 3ms/step\n",
            "5/5 [==============================] - 0s 3ms/step\n",
            "5/5 [==============================] - 0s 3ms/step\n",
            "5/5 [==============================] - 0s 5ms/step\n",
            "5/5 [==============================] - 0s 3ms/step\n",
            "5/5 [==============================] - 0s 4ms/step\n",
            "5/5 [==============================] - 0s 4ms/step\n",
            "5/5 [==============================] - 0s 3ms/step\n",
            "5/5 [==============================] - 0s 3ms/step\n",
            "5/5 [==============================] - 0s 3ms/step\n",
            "5/5 [==============================] - 0s 3ms/step\n",
            "5/5 [==============================] - 0s 3ms/step\n",
            "5/5 [==============================] - 0s 3ms/step\n",
            "5/5 [==============================] - 0s 4ms/step\n",
            "5/5 [==============================] - 0s 4ms/step\n",
            "5/5 [==============================] - 0s 3ms/step\n",
            "5/5 [==============================] - 0s 3ms/step\n"
          ]
        },
        {
          "output_type": "stream",
          "name": "stderr",
          "text": [
            "/usr/local/lib/python3.7/dist-packages/sklearn/base.py:451: UserWarning:\n",
            "\n",
            "X does not have valid feature names, but DecisionTreeRegressor was fitted with feature names\n",
            "\n"
          ]
        },
        {
          "output_type": "execute_result",
          "data": {
            "text/plain": [
              "                            mse      rmse        r2       mae       mad\n",
              "DecisionTreeRegressor  0.180555  0.424918  0.843219  0.349502  0.332628"
            ],
            "text/html": [
              "\n",
              "  <div id=\"df-5bb25872-d748-4c18-9c17-335d902961de\">\n",
              "    <div class=\"colab-df-container\">\n",
              "      <div>\n",
              "<style scoped>\n",
              "    .dataframe tbody tr th:only-of-type {\n",
              "        vertical-align: middle;\n",
              "    }\n",
              "\n",
              "    .dataframe tbody tr th {\n",
              "        vertical-align: top;\n",
              "    }\n",
              "\n",
              "    .dataframe thead th {\n",
              "        text-align: right;\n",
              "    }\n",
              "</style>\n",
              "<table border=\"1\" class=\"dataframe\">\n",
              "  <thead>\n",
              "    <tr style=\"text-align: right;\">\n",
              "      <th></th>\n",
              "      <th>mse</th>\n",
              "      <th>rmse</th>\n",
              "      <th>r2</th>\n",
              "      <th>mae</th>\n",
              "      <th>mad</th>\n",
              "    </tr>\n",
              "  </thead>\n",
              "  <tbody>\n",
              "    <tr>\n",
              "      <th>DecisionTreeRegressor</th>\n",
              "      <td>0.180555</td>\n",
              "      <td>0.424918</td>\n",
              "      <td>0.843219</td>\n",
              "      <td>0.349502</td>\n",
              "      <td>0.332628</td>\n",
              "    </tr>\n",
              "  </tbody>\n",
              "</table>\n",
              "</div>\n",
              "      <button class=\"colab-df-convert\" onclick=\"convertToInteractive('df-5bb25872-d748-4c18-9c17-335d902961de')\"\n",
              "              title=\"Convert this dataframe to an interactive table.\"\n",
              "              style=\"display:none;\">\n",
              "        \n",
              "  <svg xmlns=\"http://www.w3.org/2000/svg\" height=\"24px\"viewBox=\"0 0 24 24\"\n",
              "       width=\"24px\">\n",
              "    <path d=\"M0 0h24v24H0V0z\" fill=\"none\"/>\n",
              "    <path d=\"M18.56 5.44l.94 2.06.94-2.06 2.06-.94-2.06-.94-.94-2.06-.94 2.06-2.06.94zm-11 1L8.5 8.5l.94-2.06 2.06-.94-2.06-.94L8.5 2.5l-.94 2.06-2.06.94zm10 10l.94 2.06.94-2.06 2.06-.94-2.06-.94-.94-2.06-.94 2.06-2.06.94z\"/><path d=\"M17.41 7.96l-1.37-1.37c-.4-.4-.92-.59-1.43-.59-.52 0-1.04.2-1.43.59L10.3 9.45l-7.72 7.72c-.78.78-.78 2.05 0 2.83L4 21.41c.39.39.9.59 1.41.59.51 0 1.02-.2 1.41-.59l7.78-7.78 2.81-2.81c.8-.78.8-2.07 0-2.86zM5.41 20L4 18.59l7.72-7.72 1.47 1.35L5.41 20z\"/>\n",
              "  </svg>\n",
              "      </button>\n",
              "      \n",
              "  <style>\n",
              "    .colab-df-container {\n",
              "      display:flex;\n",
              "      flex-wrap:wrap;\n",
              "      gap: 12px;\n",
              "    }\n",
              "\n",
              "    .colab-df-convert {\n",
              "      background-color: #E8F0FE;\n",
              "      border: none;\n",
              "      border-radius: 50%;\n",
              "      cursor: pointer;\n",
              "      display: none;\n",
              "      fill: #1967D2;\n",
              "      height: 32px;\n",
              "      padding: 0 0 0 0;\n",
              "      width: 32px;\n",
              "    }\n",
              "\n",
              "    .colab-df-convert:hover {\n",
              "      background-color: #E2EBFA;\n",
              "      box-shadow: 0px 1px 2px rgba(60, 64, 67, 0.3), 0px 1px 3px 1px rgba(60, 64, 67, 0.15);\n",
              "      fill: #174EA6;\n",
              "    }\n",
              "\n",
              "    [theme=dark] .colab-df-convert {\n",
              "      background-color: #3B4455;\n",
              "      fill: #D2E3FC;\n",
              "    }\n",
              "\n",
              "    [theme=dark] .colab-df-convert:hover {\n",
              "      background-color: #434B5C;\n",
              "      box-shadow: 0px 1px 3px 1px rgba(0, 0, 0, 0.15);\n",
              "      filter: drop-shadow(0px 1px 2px rgba(0, 0, 0, 0.3));\n",
              "      fill: #FFFFFF;\n",
              "    }\n",
              "  </style>\n",
              "\n",
              "      <script>\n",
              "        const buttonEl =\n",
              "          document.querySelector('#df-5bb25872-d748-4c18-9c17-335d902961de button.colab-df-convert');\n",
              "        buttonEl.style.display =\n",
              "          google.colab.kernel.accessAllowed ? 'block' : 'none';\n",
              "\n",
              "        async function convertToInteractive(key) {\n",
              "          const element = document.querySelector('#df-5bb25872-d748-4c18-9c17-335d902961de');\n",
              "          const dataTable =\n",
              "            await google.colab.kernel.invokeFunction('convertToInteractive',\n",
              "                                                     [key], {});\n",
              "          if (!dataTable) return;\n",
              "\n",
              "          const docLinkHtml = 'Like what you see? Visit the ' +\n",
              "            '<a target=\"_blank\" href=https://colab.research.google.com/notebooks/data_table.ipynb>data table notebook</a>'\n",
              "            + ' to learn more about interactive tables.';\n",
              "          element.innerHTML = '';\n",
              "          dataTable['output_type'] = 'display_data';\n",
              "          await google.colab.output.renderOutput(dataTable, element);\n",
              "          const docLink = document.createElement('div');\n",
              "          docLink.innerHTML = docLinkHtml;\n",
              "          element.appendChild(docLink);\n",
              "        }\n",
              "      </script>\n",
              "    </div>\n",
              "  </div>\n",
              "  "
            ]
          },
          "metadata": {},
          "execution_count": 24
        }
      ]
    },
    {
      "cell_type": "code",
      "source": [
        "surrogate_model.plot()"
      ],
      "metadata": {
        "colab": {
          "base_uri": "https://localhost:8080/",
          "height": 575
        },
        "id": "w6zgGlBNBNnF",
        "outputId": "1e6c90d5-e22e-42d1-8531-c6a5e385b7a7"
      },
      "execution_count": 25,
      "outputs": [
        {
          "output_type": "display_data",
          "data": {
            "text/plain": [
              "<Figure size 1152x720 with 1 Axes>"
            ],
            "image/png": "[encoded data removed]"
          },
          "metadata": {
            "needs_background": "light"
          }
        }
      ]
    }
  ]
}