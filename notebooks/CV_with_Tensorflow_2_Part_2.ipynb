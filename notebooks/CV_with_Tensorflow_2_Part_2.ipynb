{
  "nbformat": 4,
  "nbformat_minor": 0,
  "metadata": {
    "colab": {
      "name": "CV_with_Tensorflow_2_Part_2.ipynb",
      "provenance": [],
      "authorship_tag": "ABX9TyP6PTLlcOZoRT+R0b+0ngxj",
      "include_colab_link": true
    },
    "kernelspec": {
      "name": "python3",
      "display_name": "Python 3"
    },
    "language_info": {
      "name": "python"
    }
  },
  "cells": [
    {
      "cell_type": "markdown",
      "metadata": {
        "id": "view-in-github",
        "colab_type": "text"
      },
      "source": [
        "<a href=\"https://colab.research.google.com/github/cloudhood/learning-basics/blob/main/notebooks/CV_with_Tensorflow_2_Part_2.ipynb\" target=\"_parent\"><img src=\"https://colab.research.google.com/assets/colab-badge.svg\" alt=\"Open In Colab\"/></a>"
      ]
    },
    {
      "cell_type": "markdown",
      "source": [
        "# [CV with Tensorflow 2.x - Part 2](https://learning.oreilly.com/scenarios/computer-vision-loading/9781492094418/)"
      ],
      "metadata": {
        "id": "iKnb7RfOVIWj"
      }
    },
    {
      "cell_type": "markdown",
      "source": [
        "## Computer Vision: Loading and Preparing the Fashion MNIST Data\n",
        "\n",
        "Unlike housing prices, it's hard to write down rules for a computer vision problem. Suppose we want to recognize different items of clothing trained from a dataset containing 10 different types. This is essentially a classification problem for images.\n",
        "\n",
        "In an image classificaion problem, each input corresponds to an image, each consiting of K features equal to the number of pixels it is made up of. For instance, a `32 x 32` RGB image would have `32 x 32 x 3` features."
      ],
      "metadata": {
        "id": "gaRZ_drhO8rW"
      }
    },
    {
      "cell_type": "code",
      "execution_count": 1,
      "metadata": {
        "id": "clRuSb3g7ZV6"
      },
      "outputs": [],
      "source": [
        "!pip install tensorflow matplotlib==3.1.3 &> /dev/null"
      ]
    },
    {
      "cell_type": "code",
      "source": [
        "%matplotlib inline"
      ],
      "metadata": {
        "id": "JZxvOrWgPa2a"
      },
      "execution_count": 2,
      "outputs": []
    },
    {
      "cell_type": "code",
      "source": [
        "import tensorflow as tf\n",
        "import matplotlib.pyplot as plt"
      ],
      "metadata": {
        "id": "38J_dCB8PbtT"
      },
      "execution_count": 3,
      "outputs": []
    },
    {
      "cell_type": "markdown",
      "source": [
        "We will train a NN to recognize items of clothing from Fashion MNIST, which contains 70,000 items of clothing in 10 different categories, where each item of clothing is in a `28 x 28` greyscale image:\n",
        "\n",
        "![image.png](https://github.com/zalandoresearch/fashion-mnist/blob/master/doc/img/fashion-mnist-sprite.png?raw=true) "
      ],
      "metadata": {
        "id": "YdYiKJhnPdkQ"
      }
    },
    {
      "cell_type": "code",
      "source": [
        "mnist = tf.keras.datasets.fashion_mnist\n"
      ],
      "metadata": {
        "id": "_igJaHjKPc1l"
      },
      "execution_count": 4,
      "outputs": []
    },
    {
      "cell_type": "markdown",
      "source": [
        "## Split and normalize data\n",
        "Normalization is a key step in any machine learning problem. We would like all values to be within the same small range in order for the optimizer to work more efficiently."
      ],
      "metadata": {
        "id": "-CDYZyfNQs7E"
      }
    },
    {
      "cell_type": "code",
      "source": [
        "# The .load_data() method returns two sets of two lists. \n",
        "(train_images, train_labels), (test_images, test_labels) = mnist.load_data()"
      ],
      "metadata": {
        "id": "EpQ_l6zUQrL1"
      },
      "execution_count": 5,
      "outputs": []
    },
    {
      "cell_type": "code",
      "source": [
        "# Normalize: for NN, it's easier if all values are between 0 and 1.\n",
        "print(\"Few pixel values BEFORE normalization: \\n\", train_images[0,20:26,20:26])\n",
        "train_images  = train_images / 255.0\n",
        "test_images = test_images / 255.0\n",
        "print(\"\\nFew pixel values AFTER normalization: \\n\", train_images[0,20:26,20:26])"
      ],
      "metadata": {
        "colab": {
          "base_uri": "https://localhost:8080/"
        },
        "id": "ac9tNAtSQwK2",
        "outputId": "364760ed-8a3f-4c43-b7a9-fa82d0ff6dc4"
      },
      "execution_count": 6,
      "outputs": [
        {
          "output_type": "stream",
          "name": "stdout",
          "text": [
            "Few pixel values BEFORE normalization: \n",
            " [[218 212 209 222 220 221]\n",
            " [186 181 177 172 181 205]\n",
            " [198 192 176 156 167 177]\n",
            " [211 188 188 194 192 216]\n",
            " [181 176 166 168  99  58]\n",
            " [  0   0   0   0   0   0]]\n",
            "\n",
            "Few pixel values AFTER normalization: \n",
            " [[0.85490196 0.83137255 0.81960784 0.87058824 0.8627451  0.86666667]\n",
            " [0.72941176 0.70980392 0.69411765 0.6745098  0.70980392 0.80392157]\n",
            " [0.77647059 0.75294118 0.69019608 0.61176471 0.65490196 0.69411765]\n",
            " [0.82745098 0.7372549  0.7372549  0.76078431 0.75294118 0.84705882]\n",
            " [0.70980392 0.69019608 0.65098039 0.65882353 0.38823529 0.22745098]\n",
            " [0.         0.         0.         0.         0.         0.        ]]\n"
          ]
        }
      ]
    },
    {
      "cell_type": "markdown",
      "source": [
        "## Create and compile model"
      ],
      "metadata": {
        "id": "Qmnbu2RfRHeu"
      }
    },
    {
      "cell_type": "code",
      "source": [
        "model = tf.keras.models.Sequential([\n",
        "    tf.keras.layers.Flatten(input_shape=(28,28)),\n",
        "    tf.keras.layers.Dense(256, activation=tf.nn.relu),\n",
        "    tf.keras.layers.Dense(10, activation=tf.nn.softmax)\n",
        "])\n",
        "\n",
        "print(model.summary())"
      ],
      "metadata": {
        "colab": {
          "base_uri": "https://localhost:8080/"
        },
        "id": "Tqss8H8kQ3q7",
        "outputId": "6ed00e24-1960-4b63-a7da-d5992714420d"
      },
      "execution_count": 7,
      "outputs": [
        {
          "output_type": "stream",
          "name": "stdout",
          "text": [
            "Model: \"sequential\"\n",
            "_________________________________________________________________\n",
            " Layer (type)                Output Shape              Param #   \n",
            "=================================================================\n",
            " flatten (Flatten)           (None, 784)               0         \n",
            "                                                                 \n",
            " dense (Dense)               (None, 256)               200960    \n",
            "                                                                 \n",
            " dense_1 (Dense)             (None, 10)                2570      \n",
            "                                                                 \n",
            "=================================================================\n",
            "Total params: 203,530\n",
            "Trainable params: 203,530\n",
            "Non-trainable params: 0\n",
            "_________________________________________________________________\n",
            "None\n"
          ]
        }
      ]
    },
    {
      "cell_type": "markdown",
      "source": [
        "The model is learning over **200k ** parameters! You can try changing the number of units in the hidden layer (first Dense layer) to see how the number of parameters change. The more complex the model, the longer it takes to train.\n",
        "\n",
        "* `Sequential`: defines a model with a **sequence** or stack of layers in the NN, where each layer has one input tensor and one output tensor.\n",
        "* `Flatten`: takes a square and turns it into a one-dimensional set. When applied to a layer with input shape `(batch_size, 2, 2)`, the output shape will be `(batch_size, 4)` for instance.\n",
        "* `Dense`: adds a layer of neurons\n",
        "\n",
        "Each layer of neurons needs an activation function to tell them what to do. There's lots of options, but we'll go with these for now:\n",
        "* `Relu`: effectively means `If X > 0 THEN X ELSE 0` - i.e. only positive values pass through to the next layer in the network.\n",
        "* `Softmax`: gives us the probability for each class that the instance is to be classified into, and ensure that these add up to 1. E.g. `[0.0, -1.0, 2.0, 3.0]` is converted into `[0.03467109 0.01275478 0.25618663 0.69638747]`."
      ],
      "metadata": {
        "id": "duEpDFqcRPpa"
      }
    },
    {
      "cell_type": "code",
      "source": [
        "import math\n",
        "\n",
        "x = [0.0, -1.0, 2.0, 3.0]\n",
        "num = [math.exp(_) for _ in x]\n",
        "denom = sum(num)\n",
        "smax =[round(_ / denom, 8) for _ in num]\n",
        "print(\"Input: \", x)\n",
        "print(\"Softmax: \", smax)\n",
        "print(\"Softmax sum: \", sum(smax))"
      ],
      "metadata": {
        "colab": {
          "base_uri": "https://localhost:8080/"
        },
        "id": "b3Wva9TMRLvl",
        "outputId": "fe7227c3-c0f2-4cd4-e2cb-b8d181aced90"
      },
      "execution_count": 8,
      "outputs": [
        {
          "output_type": "stream",
          "name": "stdout",
          "text": [
            "Input:  [0.0, -1.0, 2.0, 3.0]\n",
            "Softmax:  [0.03467109, 0.01275478, 0.25618664, 0.69638749]\n",
            "Softmax sum:  1.0\n"
          ]
        }
      ]
    },
    {
      "cell_type": "markdown",
      "source": [
        "## Build model"
      ],
      "metadata": {
        "id": "aVP0ZsFETJCh"
      }
    },
    {
      "cell_type": "code",
      "source": [
        "# Adam is a popular optimizer. We have a classification problem where the\n",
        "# labels aren't one-hot encoded, so we use a `sparse` categorical entropy loss.\n",
        "model.compile(\n",
        "    optimizer = tf.keras.optimizers.Adam(),\n",
        "    loss = 'sparse_categorical_crossentropy',\n",
        "    metrics=['accuracy']\n",
        ")"
      ],
      "metadata": {
        "id": "duDQNnPTSHQl"
      },
      "execution_count": 9,
      "outputs": []
    },
    {
      "cell_type": "code",
      "source": [
        "# Fit model by invoking the fit method.\n",
        "model.fit(\n",
        "    train_images, \n",
        "    train_labels, \n",
        "    epochs=5, \n",
        "    validation_data=(test_images, test_labels)\n",
        ")"
      ],
      "metadata": {
        "colab": {
          "base_uri": "https://localhost:8080/"
        },
        "id": "XexfV29pTMED",
        "outputId": "20683052-0801-48ed-96f5-562ebf82de31"
      },
      "execution_count": 10,
      "outputs": [
        {
          "output_type": "stream",
          "name": "stdout",
          "text": [
            "Epoch 1/5\n",
            "1875/1875 [==============================] - 15s 8ms/step - loss: 0.4854 - accuracy: 0.8283 - val_loss: 0.4287 - val_accuracy: 0.8483\n",
            "Epoch 2/5\n",
            "1875/1875 [==============================] - 8s 4ms/step - loss: 0.3635 - accuracy: 0.8677 - val_loss: 0.3868 - val_accuracy: 0.8620\n",
            "Epoch 3/5\n",
            "1875/1875 [==============================] - 8s 4ms/step - loss: 0.3285 - accuracy: 0.8795 - val_loss: 0.3547 - val_accuracy: 0.8736\n",
            "Epoch 4/5\n",
            "1875/1875 [==============================] - 8s 4ms/step - loss: 0.3052 - accuracy: 0.8884 - val_loss: 0.3465 - val_accuracy: 0.8751\n",
            "Epoch 5/5\n",
            "1875/1875 [==============================] - 8s 4ms/step - loss: 0.2851 - accuracy: 0.8935 - val_loss: 0.3656 - val_accuracy: 0.8714\n"
          ]
        },
        {
          "output_type": "execute_result",
          "data": {
            "text/plain": [
              "<keras.callbacks.History at 0x7feb2d383c90>"
            ]
          },
          "metadata": {},
          "execution_count": 10
        }
      ]
    },
    {
      "cell_type": "code",
      "source": [
        "## Plot accuracy\n",
        "plt.plot(model.history.history['accuracy'],label='Train Accuracy')\n",
        "plt.plot(model.history.history['val_accuracy'],label='Test Accuracy')\n",
        "plt.xlabel('Epochs')\n",
        "plt.ylabel('Accuracy')\n",
        "plt.legend()\n",
        "# plt.savefig('accuracy_plot.png')\n",
        "plt.show()"
      ],
      "metadata": {
        "colab": {
          "base_uri": "https://localhost:8080/",
          "height": 279
        },
        "id": "ZDAbTeUeTalZ",
        "outputId": "876f9867-a020-4402-9e74-2bb1fc4fe15c"
      },
      "execution_count": 11,
      "outputs": [
        {
          "output_type": "display_data",
          "data": {
            "text/plain": [
              "<Figure size 432x288 with 1 Axes>"
            ],
            "image/png": "[encoded data removed]"
          },
          "metadata": {
            "needs_background": "light"
          }
        }
      ]
    },
    {
      "cell_type": "code",
      "source": [
        "# Plot loss\n",
        "plt.plot(model.history.history['loss'],label='Train Loss')\n",
        "plt.plot(model.history.history['val_loss'],label='Test Loss')\n",
        "plt.xlabel('Epochs')\n",
        "plt.ylabel('Loss')\n",
        "plt.legend()\n",
        "# plt.savefig('loss_plot.png')\n",
        "plt.show()"
      ],
      "metadata": {
        "colab": {
          "base_uri": "https://localhost:8080/",
          "height": 279
        },
        "id": "TN16SFceTfxT",
        "outputId": "2b61e523-a9d8-4ee7-eeb4-0cc6dd1b94b3"
      },
      "execution_count": 14,
      "outputs": [
        {
          "output_type": "display_data",
          "data": {
            "text/plain": [
              "<Figure size 432x288 with 1 Axes>"
            ],
            "image/png": "[encoded data removed]"
          },
          "metadata": {
            "needs_background": "light"
          }
        }
      ]
    },
    {
      "cell_type": "code",
      "source": [
        "## Evaluate how it performs on unseen data.\n",
        "model.evaluate(test_images, test_labels)"
      ],
      "metadata": {
        "colab": {
          "base_uri": "https://localhost:8080/"
        },
        "id": "BKNIUIsyTjbz",
        "outputId": "e9e90b89-e076-440f-aecd-aba946342af8"
      },
      "execution_count": 15,
      "outputs": [
        {
          "output_type": "stream",
          "name": "stdout",
          "text": [
            "313/313 [==============================] - 1s 3ms/step - loss: 0.3656 - accuracy: 0.8714\n"
          ]
        },
        {
          "output_type": "execute_result",
          "data": {
            "text/plain": [
              "[0.3656359612941742, 0.871399998664856]"
            ]
          },
          "metadata": {},
          "execution_count": 15
        }
      ]
    },
    {
      "cell_type": "markdown",
      "source": [
        "Once training is complete, we will see an accuracy value at the end of the final epoch. This should return an accuracy of about 88% for the training set and 87% for the test set. The exact value will differ with different runs because the weights of `Dense` layers are **initialized randomly** One way is to initialize it with the same values all the time. Another is to use the seed argument:\n",
        "For example,\n",
        "```\n",
        "tf.keras.layers.Dense(256, activation=tf.nn.relu, kernel_initializer=tf.keras.initializers.GlorotUniform(seed=5))\n",
        "```\n",
        "`GlorotUniform` is the default kernel initializer for the dense layer. We do not need to specify a seed for the `bias_initializer` because by default, it sets all the bias values to zero.\n",
        "\n",
        "Performance can be improved by changing the number of epochs or any other hyperparameters such as the optimizer, the optimizer's learning rate, etc."
      ],
      "metadata": {
        "id": "ZtjpjCZSTrvX"
      }
    },
    {
      "cell_type": "code",
      "source": [
        "# Take  2\n",
        "#\n",
        "# Adam is a popular optimizer. We have a classification problem where the\n",
        "# labels aren't one-hot encoded, so we use a `sparse` categorical entropy loss.\n",
        "model.compile(\n",
        "    optimizer = tf.keras.optimizers.Adam(\n",
        "        learning_rate=1e-4\n",
        "    ),\n",
        "    loss = 'sparse_categorical_crossentropy',\n",
        "    metrics=['accuracy']\n",
        ")\n",
        "\n",
        "\n",
        "# Fit model by invoking the fit method.\n",
        "model.fit(\n",
        "    train_images, \n",
        "    train_labels, \n",
        "    epochs=10, \n",
        "    validation_data=(test_images, test_labels)\n",
        ")"
      ],
      "metadata": {
        "colab": {
          "base_uri": "https://localhost:8080/"
        },
        "id": "RZ64MuJyToUT",
        "outputId": "1627e34d-ee5f-477f-d4b5-8fc8057b1ec9"
      },
      "execution_count": 17,
      "outputs": [
        {
          "output_type": "stream",
          "name": "stdout",
          "text": [
            "Epoch 1/10\n",
            "1875/1875 [==============================] - 11s 6ms/step - loss: 0.1991 - accuracy: 0.9266 - val_loss: 0.3067 - val_accuracy: 0.8935\n",
            "Epoch 2/10\n",
            "1875/1875 [==============================] - 10s 5ms/step - loss: 0.1958 - accuracy: 0.9280 - val_loss: 0.3071 - val_accuracy: 0.8918\n",
            "Epoch 3/10\n",
            "1875/1875 [==============================] - 10s 5ms/step - loss: 0.1928 - accuracy: 0.9295 - val_loss: 0.3103 - val_accuracy: 0.8921\n",
            "Epoch 4/10\n",
            "1875/1875 [==============================] - 10s 5ms/step - loss: 0.1899 - accuracy: 0.9305 - val_loss: 0.3048 - val_accuracy: 0.8933\n",
            "Epoch 5/10\n",
            "1875/1875 [==============================] - 12s 6ms/step - loss: 0.1873 - accuracy: 0.9314 - val_loss: 0.3049 - val_accuracy: 0.8954\n",
            "Epoch 6/10\n",
            "1875/1875 [==============================] - 9s 5ms/step - loss: 0.1845 - accuracy: 0.9324 - val_loss: 0.3049 - val_accuracy: 0.8928\n",
            "Epoch 7/10\n",
            "1875/1875 [==============================] - 10s 5ms/step - loss: 0.1813 - accuracy: 0.9342 - val_loss: 0.3045 - val_accuracy: 0.8964\n",
            "Epoch 8/10\n",
            "1875/1875 [==============================] - 9s 5ms/step - loss: 0.1792 - accuracy: 0.9349 - val_loss: 0.3069 - val_accuracy: 0.8947\n",
            "Epoch 9/10\n",
            "1875/1875 [==============================] - 9s 5ms/step - loss: 0.1765 - accuracy: 0.9360 - val_loss: 0.3061 - val_accuracy: 0.8957\n",
            "Epoch 10/10\n",
            "1875/1875 [==============================] - 9s 5ms/step - loss: 0.1742 - accuracy: 0.9373 - val_loss: 0.3063 - val_accuracy: 0.8949\n",
            "313/313 [==============================] - 1s 3ms/step - loss: 0.3063 - accuracy: 0.8949\n"
          ]
        },
        {
          "output_type": "execute_result",
          "data": {
            "text/plain": [
              "[0.3062955141067505, 0.8949000239372253]"
            ]
          },
          "metadata": {},
          "execution_count": 17
        }
      ]
    },
    {
      "cell_type": "code",
      "source": [
        "## Evaluate how it performs on unseesn data.\n",
        "model.evaluate(test_images, test_labels)"
      ],
      "metadata": {
        "colab": {
          "base_uri": "https://localhost:8080/"
        },
        "id": "QYP2DVftWuLi",
        "outputId": "10a0a8df-827e-49a5-bc18-9e3d36dcd858"
      },
      "execution_count": 20,
      "outputs": [
        {
          "output_type": "stream",
          "name": "stdout",
          "text": [
            "313/313 [==============================] - 2s 6ms/step - loss: 0.3063 - accuracy: 0.8949\n"
          ]
        },
        {
          "output_type": "execute_result",
          "data": {
            "text/plain": [
              "[0.3062955141067505, 0.8949000239372253]"
            ]
          },
          "metadata": {},
          "execution_count": 20
        }
      ]
    }
  ]
}