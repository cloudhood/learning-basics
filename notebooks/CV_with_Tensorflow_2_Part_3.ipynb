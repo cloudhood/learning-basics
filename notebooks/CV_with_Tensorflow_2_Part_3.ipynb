{
  "nbformat": 4,
  "nbformat_minor": 0,
  "metadata": {
    "colab": {
      "name": "CV_with_Tensorflow_2_Part_3.ipynb",
      "provenance": [],
      "authorship_tag": "ABX9TyOuoKQ5YGgNAVU+mpDLR8fG",
      "include_colab_link": true
    },
    "kernelspec": {
      "name": "python3",
      "display_name": "Python 3"
    },
    "language_info": {
      "name": "python"
    }
  },
  "cells": [
    {
      "cell_type": "markdown",
      "metadata": {
        "id": "view-in-github",
        "colab_type": "text"
      },
      "source": [
        "<a href=\"https://colab.research.google.com/github/cloudhood/learning-basics/blob/main/notebooks/CV_with_Tensorflow_2_Part_3.ipynb\" target=\"_parent\"><img src=\"https://colab.research.google.com/assets/colab-badge.svg\" alt=\"Open In Colab\"/></a>"
      ]
    },
    {
      "cell_type": "markdown",
      "source": [
        "# [Computer Vision: Training a Dense Neural Network](https://learning.oreilly.com/scenarios/computer-vision-training/9781492094425/)\n",
        "\n",
        "\n",
        "So far, we have been working with the `Dense` layer for classifying images. But in practice, we use a **two special-layer pair** prior to using a `Dense` layer — a `convolution` layer and a `maximum pooling` layer (or an `average pooling` layer, although newer models all use maximum pooling layers). \n",
        "\n",
        "It's common to see many pairs of `convolution` layers and `maximum pooling` layers prior to using `dense` layers.\n",
        "\n",
        "When many pairs of these layers are followed by a flatten layer and then a few dense layers, it's commonly called a **Convolution Neural Network (CNN)**. Convolutional neural networks are a kind of **feed-forward** neural network whose artificial neurons can respond to a part of the **surrounding cells** in the coverage range, something a dense layer cannot achieve by itself.\n",
        "\n",
        "![CNN](https://miro.medium.com/max/1100/1*vkQ0hXDaQv57sALXAJquxA.jpeg)\n",
        "\n",
        "In this scenario we will replicate a simple CNN called `LeNet-5`, which has a simple architecture."
      ],
      "metadata": {
        "id": "uqFOUCwG7kSr"
      }
    },
    {
      "cell_type": "code",
      "execution_count": 1,
      "metadata": {
        "id": "ypyjuwB96NNP"
      },
      "outputs": [],
      "source": [
        "!pip install numpy tensorflow --upgrade &> /dev/null"
      ]
    },
    {
      "cell_type": "code",
      "source": [
        "import matplotlib.pyplot as plt\n",
        "import tensorflow as tf\n",
        "import numpy as np\n",
        "from tensorflow.keras.datasets import mnist"
      ],
      "metadata": {
        "id": "yVPoZFGU8adI"
      },
      "execution_count": 2,
      "outputs": []
    },
    {
      "cell_type": "markdown",
      "source": [
        "There are `60,000` and `10,000` images in the training and test sets respectively."
      ],
      "metadata": {
        "id": "5ghewtrr8eSy"
      }
    },
    {
      "cell_type": "code",
      "source": [
        "(train_images, train_labels), (test_images, test_labels) = mnist.load_data()\n",
        "print(train_images.shape)\n",
        "print(train_labels.shape)\n",
        "print(test_images.shape)\n",
        "print(test_labels.shape)\n"
      ],
      "metadata": {
        "colab": {
          "base_uri": "https://localhost:8080/"
        },
        "id": "0FGOQVLZ8bop",
        "outputId": "2ced7b4e-c202-4554-cd0f-312f24de25c2"
      },
      "execution_count": 10,
      "outputs": [
        {
          "output_type": "stream",
          "name": "stdout",
          "text": [
            "(60000, 28, 28)\n",
            "(60000,)\n",
            "(10000, 28, 28)\n",
            "(10000,)\n"
          ]
        }
      ]
    },
    {
      "cell_type": "markdown",
      "source": [
        "We have two problems:\n",
        "\n",
        "1. A convolution layer expects image in the shape `(size, row, width, filters)` . The images here are just black and white, so there is only 1 filter (cf. RGB images which have 3). We need to increase our image shape by one dimension.\n",
        "\n",
        "2. `LeNet-5` expects images of size `32 x 32` but our images are of size `28 x 28`. \n",
        "\n",
        "Potential solutions include stretching or padding the images. "
      ],
      "metadata": {
        "id": "ntkOTXT78lX9"
      }
    },
    {
      "cell_type": "markdown",
      "source": [
        "## Normalization, dimension expansion and data padding\n"
      ],
      "metadata": {
        "id": "9Jg7uA6y9TV3"
      }
    },
    {
      "cell_type": "code",
      "source": [
        "print(\"Few pixel values BEFORE normalization: \\n\", \n",
        "      train_images[0,20:26,20:26])\n",
        "train_images  = train_images / 255.0\n",
        "test_images = test_images / 255.0\n",
        "print(\"\\nFew pixel values AFTER normalization: \\n\", \n",
        "      train_images[0,20:26,20:26])"
      ],
      "metadata": {
        "colab": {
          "base_uri": "https://localhost:8080/"
        },
        "id": "dnwE_eH19WNQ",
        "outputId": "e23ae93e-9a62-4a4a-c259-3d3bd8e953a8"
      },
      "execution_count": 11,
      "outputs": [
        {
          "output_type": "stream",
          "name": "stdout",
          "text": [
            "Few pixel values BEFORE normalization: \n",
            " [[0 0 0 0 0 0]\n",
            " [0 0 0 0 0 0]\n",
            " [0 0 0 0 0 0]\n",
            " [0 0 0 0 0 0]\n",
            " [0 0 0 0 0 0]\n",
            " [0 0 0 0 0 0]]\n",
            "\n",
            "Few pixel values AFTER normalization: \n",
            " [[0. 0. 0. 0. 0. 0.]\n",
            " [0. 0. 0. 0. 0. 0.]\n",
            " [0. 0. 0. 0. 0. 0.]\n",
            " [0. 0. 0. 0. 0. 0.]\n",
            " [0. 0. 0. 0. 0. 0.]\n",
            " [0. 0. 0. 0. 0. 0.]]\n"
          ]
        }
      ]
    },
    {
      "cell_type": "code",
      "source": [
        "## Expand\n",
        "train_images = np.expand_dims(train_images,-1)\n",
        "test_images = np.expand_dims(test_images,-1)"
      ],
      "metadata": {
        "id": "tO3Xz6u38c9R"
      },
      "execution_count": 12,
      "outputs": []
    },
    {
      "cell_type": "code",
      "source": [
        "print(train_images.shape)\n",
        "print(test_images.shape)"
      ],
      "metadata": {
        "colab": {
          "base_uri": "https://localhost:8080/"
        },
        "id": "0R3H7e0x9vZz",
        "outputId": "0efbeab2-2a9f-428c-cea8-93b14bf8fd16"
      },
      "execution_count": 13,
      "outputs": [
        {
          "output_type": "stream",
          "name": "stdout",
          "text": [
            "(60000, 28, 28, 1)\n",
            "(10000, 28, 28, 1)\n"
          ]
        }
      ]
    },
    {
      "cell_type": "code",
      "source": [
        "# Padding\n",
        "# Add two rows of zeros above and below the image.\n",
        "# Add two rows of zeros to the left and right of the image. \n",
        "train_images = np.pad(\n",
        "    train_images, \n",
        "    ((0,0),(2,2),(2,2),(0,0)), \n",
        "    'constant'\n",
        ")\n",
        "test_images = np.pad(\n",
        "    test_images, \n",
        "    ((0,0),(2,2),(2,2),(0,0)), \n",
        "    'constant'\n",
        ")"
      ],
      "metadata": {
        "id": "FwWOH0MJ9xwI"
      },
      "execution_count": 14,
      "outputs": []
    },
    {
      "cell_type": "code",
      "source": [
        "print(train_images.shape)\n",
        "print(test_images.shape)"
      ],
      "metadata": {
        "colab": {
          "base_uri": "https://localhost:8080/"
        },
        "id": "aGC_LoqD97Di",
        "outputId": "9e083a44-b4df-419d-e73c-aed0dd496668"
      },
      "execution_count": 15,
      "outputs": [
        {
          "output_type": "stream",
          "name": "stdout",
          "text": [
            "(60000, 32, 32, 1)\n",
            "(10000, 32, 32, 1)\n"
          ]
        }
      ]
    },
    {
      "cell_type": "markdown",
      "source": [
        "## Model\n",
        "The '5' in `LeNet-5` corresponds to 5 layers, or rather 5 trainable layers (Max Pooling layers and Flatten layers have no trainable parameters). \n",
        "\n",
        "The following are the layers:\n",
        "\n",
        "1. `Convolution` Layer 1 + `Avg. Pool` Layer 1\n",
        "2. `Convolution` Layer 2 + `Avg. Pool` Layer 2\n",
        "3. `Flatten` Layer + `Dense` Layer 1\n",
        "4. `Dense` Layer 2\n",
        "5. `Dense` Layer 3 (Output layer)\n",
        "\n",
        "\n",
        "This model has just over 81k parameters compared to 200k in the last scenario. But will it achieve a higher level of accuracy? Let's find out...\n"
      ],
      "metadata": {
        "id": "6ZHcJVO2-M8u"
      }
    },
    {
      "cell_type": "code",
      "source": [
        "# filters: dimensionality of output space. \n",
        "# kernel_size: Height and width of convolution window\n",
        "# strides: Stride of the convolution window\n",
        "model = tf.keras.Sequential([\n",
        "    tf.keras.layers.Conv2D(\n",
        "        filters=6, \n",
        "        kernel_size=(3, 3), \n",
        "        strides=(1, 1), \n",
        "        activation='relu', \n",
        "        input_shape=(32, 32, 1)\n",
        "    ),\n",
        "    tf.keras.layers.AveragePooling2D(),\n",
        "    tf.keras.layers.Conv2D(\n",
        "        filters=16, \n",
        "        kernel_size=(3, 3),\n",
        "        strides=(1, 1),  \n",
        "        activation='relu'\n",
        "    ),\n",
        "    tf.keras.layers.AveragePooling2D(),\n",
        "    tf.keras.layers.Flatten(),\n",
        "    tf.keras.layers.Dense(units=120, activation='relu'),\n",
        "    tf.keras.layers.Dense(units=84, activation='relu'),\n",
        "    tf.keras.layers.Dense(units=10, activation='softmax')\n",
        "])"
      ],
      "metadata": {
        "id": "ltsEuoNQ97Ph"
      },
      "execution_count": 17,
      "outputs": []
    },
    {
      "cell_type": "code",
      "source": [
        "print(model.summary())"
      ],
      "metadata": {
        "colab": {
          "base_uri": "https://localhost:8080/"
        },
        "id": "hDG-iy9l-mja",
        "outputId": "46cae204-01d2-4233-d6d9-f2570f527799"
      },
      "execution_count": 18,
      "outputs": [
        {
          "output_type": "stream",
          "name": "stdout",
          "text": [
            "Model: \"sequential_1\"\n",
            "_________________________________________________________________\n",
            " Layer (type)                Output Shape              Param #   \n",
            "=================================================================\n",
            " conv2d_2 (Conv2D)           (None, 30, 30, 6)         60        \n",
            "                                                                 \n",
            " average_pooling2d_2 (Averag  (None, 15, 15, 6)        0         \n",
            " ePooling2D)                                                     \n",
            "                                                                 \n",
            " conv2d_3 (Conv2D)           (None, 13, 13, 16)        880       \n",
            "                                                                 \n",
            " average_pooling2d_3 (Averag  (None, 6, 6, 16)         0         \n",
            " ePooling2D)                                                     \n",
            "                                                                 \n",
            " flatten_1 (Flatten)         (None, 576)               0         \n",
            "                                                                 \n",
            " dense_3 (Dense)             (None, 120)               69240     \n",
            "                                                                 \n",
            " dense_4 (Dense)             (None, 84)                10164     \n",
            "                                                                 \n",
            " dense_5 (Dense)             (None, 10)                850       \n",
            "                                                                 \n",
            "=================================================================\n",
            "Total params: 81,194\n",
            "Trainable params: 81,194\n",
            "Non-trainable params: 0\n",
            "_________________________________________________________________\n",
            "None\n"
          ]
        }
      ]
    },
    {
      "cell_type": "code",
      "source": [
        "model.compile(\n",
        "    optimizer = tf.keras.optimizers.Adam(),\n",
        "    loss = 'sparse_categorical_crossentropy',\n",
        "    metrics=['accuracy']\n",
        ")"
      ],
      "metadata": {
        "id": "myAOxlXs-wmI"
      },
      "execution_count": 19,
      "outputs": []
    },
    {
      "cell_type": "code",
      "source": [
        "model.fit(\n",
        "    train_images, \n",
        "    train_labels, \n",
        "    epochs=5, \n",
        "    batch_size=1024, \n",
        "    validation_data=(test_images, test_labels)\n",
        ")"
      ],
      "metadata": {
        "colab": {
          "base_uri": "https://localhost:8080/"
        },
        "id": "x-SFO77TAJOz",
        "outputId": "6a3d8eb2-4724-470d-af80-b0be7b3a86bd"
      },
      "execution_count": 20,
      "outputs": [
        {
          "output_type": "stream",
          "name": "stdout",
          "text": [
            "Epoch 1/5\n",
            "59/59 [==============================] - 27s 436ms/step - loss: 1.1997 - accuracy: 0.6645 - val_loss: 0.3963 - val_accuracy: 0.8838\n",
            "Epoch 2/5\n",
            "59/59 [==============================] - 22s 366ms/step - loss: 0.3302 - accuracy: 0.9027 - val_loss: 0.2684 - val_accuracy: 0.9213\n",
            "Epoch 3/5\n",
            "59/59 [==============================] - 21s 356ms/step - loss: 0.2469 - accuracy: 0.9257 - val_loss: 0.2018 - val_accuracy: 0.9400\n",
            "Epoch 4/5\n",
            "59/59 [==============================] - 22s 376ms/step - loss: 0.1928 - accuracy: 0.9433 - val_loss: 0.1541 - val_accuracy: 0.9522\n",
            "Epoch 5/5\n",
            "59/59 [==============================] - 23s 399ms/step - loss: 0.1536 - accuracy: 0.9553 - val_loss: 0.1266 - val_accuracy: 0.9621\n"
          ]
        },
        {
          "output_type": "execute_result",
          "data": {
            "text/plain": [
              "<keras.callbacks.History at 0x7f141a46b590>"
            ]
          },
          "metadata": {},
          "execution_count": 20
        }
      ]
    },
    {
      "cell_type": "code",
      "source": [
        "plt.plot(model.history.history['accuracy'],label='Train Accuracy')\n",
        "plt.plot(model.history.history['val_accuracy'],label='Test Accuracy')\n",
        "plt.legend()\n",
        "plt.xlabel('Epochs')\n",
        "plt.ylabel('Accuracy')\n",
        "# plt.savefig('accuracy_plot.png')\n",
        "plt.show()\n",
        "\n"
      ],
      "metadata": {
        "colab": {
          "base_uri": "https://localhost:8080/",
          "height": 279
        },
        "id": "OdvHrQLwAP4e",
        "outputId": "a8d32c8e-acc4-4907-e1df-91fca26ea766"
      },
      "execution_count": 24,
      "outputs": [
        {
          "output_type": "display_data",
          "data": {
            "text/plain": [
              "<Figure size 432x288 with 1 Axes>"
            ],
            "image/png": "[encoded data removed]"
          },
          "metadata": {
            "needs_background": "light"
          }
        }
      ]
    },
    {
      "cell_type": "code",
      "source": [
        "plt.close()\n",
        "plt.plot(model.history.history['loss'],label='Train Loss')\n",
        "plt.plot(model.history.history['val_loss'],label='Test Loss')\n",
        "plt.legend()\n",
        "plt.xlabel('Epochs')\n",
        "plt.ylabel('Loss')\n",
        "# plt.savefig('loss_plot.png')\n",
        "plt.show()"
      ],
      "metadata": {
        "colab": {
          "base_uri": "https://localhost:8080/",
          "height": 279
        },
        "id": "r0d18eyNBJty",
        "outputId": "900dd71e-6a47-45c2-bb71-9e423882ab5c"
      },
      "execution_count": 23,
      "outputs": [
        {
          "output_type": "display_data",
          "data": {
            "text/plain": [
              "<Figure size 432x288 with 1 Axes>"
            ],
            "image/png": "[encoded data removed]"
          },
          "metadata": {
            "needs_background": "light"
          }
        }
      ]
    },
    {
      "cell_type": "code",
      "source": [
        "# Weights of the layers are initialized randomly so results will vary.\n",
        "# Overall, higher accuracy is achieved with fewer parameters compared\n",
        "# to a pure Dense model.\n",
        "model.evaluate(test_images, test_labels)\n",
        "\n"
      ],
      "metadata": {
        "colab": {
          "base_uri": "https://localhost:8080/"
        },
        "id": "iMRQBuvUBLug",
        "outputId": "f2390ba7-9515-4814-cd2a-37b9fa7df9bd"
      },
      "execution_count": 25,
      "outputs": [
        {
          "output_type": "stream",
          "name": "stdout",
          "text": [
            "313/313 [==============================] - 6s 18ms/step - loss: 0.1266 - accuracy: 0.9621\n"
          ]
        },
        {
          "output_type": "execute_result",
          "data": {
            "text/plain": [
              "[0.12664172053337097, 0.9621000289916992]"
            ]
          },
          "metadata": {},
          "execution_count": 25
        }
      ]
    },
    {
      "cell_type": "code",
      "source": [
        ""
      ],
      "metadata": {
        "id": "kTLQJz8JBSYO"
      },
      "execution_count": null,
      "outputs": []
    }
  ]
}