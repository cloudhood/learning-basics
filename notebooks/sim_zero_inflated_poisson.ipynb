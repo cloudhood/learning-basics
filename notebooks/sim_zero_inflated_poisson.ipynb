{
  "nbformat": 4,
  "nbformat_minor": 0,
  "metadata": {
    "colab": {
      "name": "simulation_zero_inflated_poisson.ipynb",
      "provenance": [],
      "authorship_tag": "ABX9TyNNbCewRxd5UmJbslORIRsU",
      "include_colab_link": true
    },
    "kernelspec": {
      "name": "python3",
      "display_name": "Python 3"
    },
    "language_info": {
      "name": "python"
    }
  },
  "cells": [
    {
      "cell_type": "markdown",
      "metadata": {
        "id": "view-in-github",
        "colab_type": "text"
      },
      "source": [
        "<a href=\"https://colab.research.google.com/github/cloudhood/learning-basics/blob/main/notebooks/sim_zero_inflated_poisson.ipynb\" target=\"_parent\"><img src=\"https://colab.research.google.com/assets/colab-badge.svg\" alt=\"Open In Colab\"/></a>"
      ]
    },
    {
      "cell_type": "code",
      "source": [
        "%load_ext rpy2.ipython"
      ],
      "metadata": {
        "id": "z7W5x9UHfE3h"
      },
      "execution_count": 2,
      "outputs": []
    },
    {
      "cell_type": "code",
      "execution_count": 31,
      "metadata": {
        "id": "9zb7-hozelTo"
      },
      "outputs": [],
      "source": [
        "%%R\n",
        "rzipois <- function (n=100, lambda=2, zi.prob=.2) {\n",
        "    Y <- rpois(n, lambda)\n",
        "    U <- sample(\n",
        "        c(0, 1), \n",
        "        size = n, \n",
        "        prob = c(zi.prob, 1 - zi.prob), \n",
        "        replace = TRUE\n",
        "    )\n",
        "    U * Y \n",
        "}"
      ]
    },
    {
      "cell_type": "code",
      "source": [
        "%R hist(rzipois())"
      ],
      "metadata": {
        "colab": {
          "base_uri": "https://localhost:8080/",
          "height": 645
        },
        "id": "Cy6MYRfSf-00",
        "outputId": "b37d90c6-aad5-485a-ab8f-f7dccbc7cc3d"
      },
      "execution_count": 33,
      "outputs": [
        {
          "output_type": "display_data",
          "data": {
            "image/png": "[encoded data removed]"
          },
          "metadata": {}
        },
        {
          "output_type": "execute_result",
          "data": {
            "text/plain": [
              "<rpy2.robjects.vectors.ListVector object at 0x7f978f7305a0> [RTYPES.VECSXP]\n",
              "R classes: ('histogram',)\n",
              "[Float..., IntSe..., Float..., Float..., StrSe..., BoolS...]\n",
              "  breaks: <class 'rpy2.rinterface.FloatSexpVector'>\n",
              "  <rpy2.rinterface.FloatSexpVector object at 0x7f97900970a0> [RTYPES.REALSXP]\n",
              "  counts: <class 'rpy2.rinterface.IntSexpVector'>\n",
              "  <rpy2.rinterface.IntSexpVector object at 0x7f978f6daf50> [RTYPES.INTSXP]\n",
              "  density: <class 'rpy2.rinterface.FloatSexpVector'>\n",
              "  <rpy2.rinterface.FloatSexpVector object at 0x7f978f6daa00> [RTYPES.REALSXP]\n",
              "  mids: <class 'rpy2.rinterface.FloatSexpVector'>\n",
              "  <rpy2.rinterface.FloatSexpVector object at 0x7f978f7e1e10> [RTYPES.REALSXP]\n",
              "  xname: <class 'rpy2.rinterface_lib.sexp.StrSexpVector'>\n",
              "  <rpy2.rinterface_lib.sexp.StrSexpVector object at 0x7f978f6daa00> [RTYPES.STRSXP]\n",
              "  equidist: <class 'rpy2.rinterface.BoolSexpVector'>\n",
              "  <rpy2.rinterface.BoolSexpVector object at 0x7f978f751c80> [RTYPES.LGLSXP]"
            ],
            "text/html": [
              "\n",
              "        <span>ListVector with 6 elements.</span>\n",
              "        <table>\n",
              "        <tbody>\n",
              "        \n",
              "          <tr>\n",
              "            <th>\n",
              "            breaks\n",
              "            </th>\n",
              "            <td>\n",
              "            <rpy2.rinterface.FloatSexpVector object at 0x7f978f751e60> [RTYPES.REALSXP]\n",
              "            </td>\n",
              "          </tr>\n",
              "        \n",
              "          <tr>\n",
              "            <th>\n",
              "            counts\n",
              "            </th>\n",
              "            <td>\n",
              "            <rpy2.rinterface.IntSexpVector object at 0x7f978f751690> [RTYPES.INTSXP]\n",
              "            </td>\n",
              "          </tr>\n",
              "        \n",
              "          <tr>\n",
              "            <th>\n",
              "            density\n",
              "            </th>\n",
              "            <td>\n",
              "            <rpy2.rinterface.FloatSexpVector object at 0x7f978f7511e0> [RTYPES.REALSXP]\n",
              "            </td>\n",
              "          </tr>\n",
              "        \n",
              "          <tr>\n",
              "            <th>\n",
              "            mids\n",
              "            </th>\n",
              "            <td>\n",
              "            <rpy2.rinterface.FloatSexpVector object at 0x7f978f7515f0> [RTYPES.REALSXP]\n",
              "            </td>\n",
              "          </tr>\n",
              "        \n",
              "          <tr>\n",
              "            <th>\n",
              "            xname\n",
              "            </th>\n",
              "            <td>\n",
              "            <rpy2.rinterface_lib.sexp.StrSexpVector object at 0x7f978f751140> [RTYPES.STRSXP]\n",
              "            </td>\n",
              "          </tr>\n",
              "        \n",
              "          <tr>\n",
              "            <th>\n",
              "            equidist\n",
              "            </th>\n",
              "            <td>\n",
              "            <rpy2.rinterface.BoolSexpVector object at 0x7f978f73c0f0> [RTYPES.LGLSXP]\n",
              "            </td>\n",
              "          </tr>\n",
              "        \n",
              "        </tbody>\n",
              "        </table>\n",
              "        "
            ]
          },
          "metadata": {},
          "execution_count": 33
        }
      ]
    },
    {
      "cell_type": "code",
      "source": [
        "import numpy as np"
      ],
      "metadata": {
        "id": "Ojy3SxNxfEQ-"
      },
      "execution_count": 4,
      "outputs": []
    },
    {
      "cell_type": "code",
      "source": [
        "rng = np.random.default_rng(123)"
      ],
      "metadata": {
        "id": "fxge3JDhfPf_"
      },
      "execution_count": 5,
      "outputs": []
    },
    {
      "cell_type": "code",
      "source": [
        "def zpois(n=100, lam=2, p=0.2, rng=rng):\n",
        "    Y = rng.poisson(lam, n)\n",
        "    U = rng.choice([0, 1], size=n, replace=True, p=[p, 1-p])\n",
        "    return np.multiply(Y, U)"
      ],
      "metadata": {
        "id": "_niPESb5fRAD"
      },
      "execution_count": 35,
      "outputs": []
    },
    {
      "cell_type": "code",
      "source": [
        "import matplotlib.pyplot as plt\n",
        "plt.hist(zpois())\n",
        "plt.show()"
      ],
      "metadata": {
        "colab": {
          "base_uri": "https://localhost:8080/",
          "height": 265
        },
        "id": "3kHRWiH7gYmo",
        "outputId": "4eff569d-7601-4425-e275-b180c21cf997"
      },
      "execution_count": 36,
      "outputs": [
        {
          "output_type": "display_data",
          "data": {
            "text/plain": [
              "<Figure size 432x288 with 1 Axes>"
            ],
            "image/png": "[encoded data removed]"
          },
          "metadata": {
            "needs_background": "light"
          }
        }
      ]
    },
    {
      "cell_type": "code",
      "source": [
        ""
      ],
      "metadata": {
        "id": "ontA6l7ggyXx"
      },
      "execution_count": null,
      "outputs": []
    }
  ]
}