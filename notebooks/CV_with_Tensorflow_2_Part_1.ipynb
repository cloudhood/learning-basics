{
  "nbformat": 4,
  "nbformat_minor": 0,
  "metadata": {
    "colab": {
      "name": "CV with Tensorflow 2 - Part 1.ipynb",
      "provenance": [],
      "authorship_tag": "ABX9TyNEaOIxpHKU9IEfM1NP6vz7",
      "include_colab_link": true
    },
    "kernelspec": {
      "name": "python3",
      "display_name": "Python 3"
    },
    "language_info": {
      "name": "python"
    }
  },
  "cells": [
    {
      "cell_type": "markdown",
      "metadata": {
        "id": "view-in-github",
        "colab_type": "text"
      },
      "source": [
        "<a href=\"https://colab.research.google.com/github/cloudhood/learning-basics/blob/main/notebooks/CV_with_Tensorflow_2_Part_1.ipynb\" target=\"_parent\"><img src=\"https://colab.research.google.com/assets/colab-badge.svg\" alt=\"Open In Colab\"/></a>"
      ]
    },
    {
      "cell_type": "markdown",
      "source": [
        "# [CV with Tensorflow 2.x - Part 1](https://learning.oreilly.com/scenarios/computer-vision-training/9781492094401/)"
      ],
      "metadata": {
        "id": "mK_WD_TMxWWY"
      }
    },
    {
      "cell_type": "code",
      "source": [
        "import tensorflow as tf\n",
        "import numpy as np\n",
        "from tensorflow import keras"
      ],
      "metadata": {
        "id": "dhvdOosUwlcy"
      },
      "execution_count": 1,
      "outputs": []
    },
    {
      "cell_type": "markdown",
      "source": [
        "# Example 1"
      ],
      "metadata": {
        "id": "kp0cz4YQxmrl"
      }
    },
    {
      "cell_type": "code",
      "source": [
        "# Simple data to learn relationship between bedrooms and prices.\n",
        "bedrooms = np.array([2, 4, 5, 7, 10, 0])\n",
        "prices = 50 + bedrooms * 50 + np.random.normal(size=len(bedrooms))"
      ],
      "metadata": {
        "id": "z_PAXHOKwnFw"
      },
      "execution_count": 4,
      "outputs": []
    },
    {
      "cell_type": "markdown",
      "source": [
        "## Build model"
      ],
      "metadata": {
        "id": "mkGLoS35xQLM"
      }
    },
    {
      "cell_type": "code",
      "execution_count": 5,
      "metadata": {
        "id": "gFFrwn5DwUrA"
      },
      "outputs": [],
      "source": [
        "# Simplest possible NN with only 1 layer, 1 neuron/node and 1 input,\n",
        "# with NO hidden layers.\n",
        "#\n",
        "# Sequential() defines a model with a sequence or stack of layers\n",
        "# in a NN. \n",
        "# \n",
        "# Dense() adds a layer of neurons/nodes\n",
        "#\n",
        "# The activation function is unspecified. It will be a LC of the inputs\n",
        "# by default.\n",
        "model = tf.keras.Sequential([\n",
        "    keras.layers.Dense(units=1, input_shape=(1,))\n",
        "])"
      ]
    },
    {
      "cell_type": "markdown",
      "source": [
        "## Compile model"
      ],
      "metadata": {
        "id": "ZehcWQOBxOm9"
      }
    },
    {
      "cell_type": "code",
      "source": [
        "# Compile the model - specify a loss and an optimizer.\n",
        "#\n",
        "# Loss: measure the guessed answers against the known correct answers.\n",
        "#       and measure how well or badly it did.\n",
        "#\n",
        "# Optimizer: guess the output based on the output of the loss function.\n",
        "#            tries to minimize the loss.\n",
        "model.compile(optimizer='sgd', loss='mean_squared_error')\n",
        "\n",
        "# Fit the model - NN iterative learns the relationship between `bedrooms` \n",
        "# and `prices`.\n",
        "#\n",
        "# The number of epochs is the number of passes over the entire dataset\n",
        "# done in order to find the best weights.\n",
        "model.fit(bedrooms, prices, epochs=100)"
      ],
      "metadata": {
        "colab": {
          "base_uri": "https://localhost:8080/"
        },
        "id": "RHQ9BYeIxINL",
        "outputId": "bb247809-792b-4d91-b3ad-24bb4d76a584"
      },
      "execution_count": 8,
      "outputs": [
        {
          "output_type": "stream",
          "name": "stdout",
          "text": [
            "Epoch 1/100\n",
            "1/1 [==============================] - 0s 439ms/step - loss: 0.8306\n",
            "Epoch 2/100\n",
            "1/1 [==============================] - 0s 9ms/step - loss: 0.8305\n",
            "Epoch 3/100\n",
            "1/1 [==============================] - 0s 9ms/step - loss: 0.8305\n",
            "Epoch 4/100\n",
            "1/1 [==============================] - 0s 9ms/step - loss: 0.8305\n",
            "Epoch 5/100\n",
            "1/1 [==============================] - 0s 9ms/step - loss: 0.8305\n",
            "Epoch 6/100\n",
            "1/1 [==============================] - 0s 21ms/step - loss: 0.8305\n",
            "Epoch 7/100\n",
            "1/1 [==============================] - 0s 11ms/step - loss: 0.8304\n",
            "Epoch 8/100\n",
            "1/1 [==============================] - 0s 9ms/step - loss: 0.8304\n",
            "Epoch 9/100\n",
            "1/1 [==============================] - 0s 10ms/step - loss: 0.8304\n",
            "Epoch 10/100\n",
            "1/1 [==============================] - 0s 11ms/step - loss: 0.8304\n",
            "Epoch 11/100\n",
            "1/1 [==============================] - 0s 9ms/step - loss: 0.8304\n",
            "Epoch 12/100\n",
            "1/1 [==============================] - 0s 10ms/step - loss: 0.8303\n",
            "Epoch 13/100\n",
            "1/1 [==============================] - 0s 10ms/step - loss: 0.8303\n",
            "Epoch 14/100\n",
            "1/1 [==============================] - 0s 9ms/step - loss: 0.8303\n",
            "Epoch 15/100\n",
            "1/1 [==============================] - 0s 16ms/step - loss: 0.8303\n",
            "Epoch 16/100\n",
            "1/1 [==============================] - 0s 12ms/step - loss: 0.8303\n",
            "Epoch 17/100\n",
            "1/1 [==============================] - 0s 12ms/step - loss: 0.8303\n",
            "Epoch 18/100\n",
            "1/1 [==============================] - 0s 12ms/step - loss: 0.8303\n",
            "Epoch 19/100\n",
            "1/1 [==============================] - 0s 11ms/step - loss: 0.8302\n",
            "Epoch 20/100\n",
            "1/1 [==============================] - 0s 11ms/step - loss: 0.8302\n",
            "Epoch 21/100\n",
            "1/1 [==============================] - 0s 11ms/step - loss: 0.8302\n",
            "Epoch 22/100\n",
            "1/1 [==============================] - 0s 11ms/step - loss: 0.8302\n",
            "Epoch 23/100\n",
            "1/1 [==============================] - 0s 11ms/step - loss: 0.8302\n",
            "Epoch 24/100\n",
            "1/1 [==============================] - 0s 20ms/step - loss: 0.8301\n",
            "Epoch 25/100\n",
            "1/1 [==============================] - 0s 13ms/step - loss: 0.8302\n",
            "Epoch 26/100\n",
            "1/1 [==============================] - 0s 10ms/step - loss: 0.8301\n",
            "Epoch 27/100\n",
            "1/1 [==============================] - 0s 10ms/step - loss: 0.8301\n",
            "Epoch 28/100\n",
            "1/1 [==============================] - 0s 9ms/step - loss: 0.8301\n",
            "Epoch 29/100\n",
            "1/1 [==============================] - 0s 10ms/step - loss: 0.8301\n",
            "Epoch 30/100\n",
            "1/1 [==============================] - 0s 10ms/step - loss: 0.8301\n",
            "Epoch 31/100\n",
            "1/1 [==============================] - 0s 9ms/step - loss: 0.8301\n",
            "Epoch 32/100\n",
            "1/1 [==============================] - 0s 9ms/step - loss: 0.8300\n",
            "Epoch 33/100\n",
            "1/1 [==============================] - 0s 9ms/step - loss: 0.8300\n",
            "Epoch 34/100\n",
            "1/1 [==============================] - 0s 9ms/step - loss: 0.8300\n",
            "Epoch 35/100\n",
            "1/1 [==============================] - 0s 9ms/step - loss: 0.8300\n",
            "Epoch 36/100\n",
            "1/1 [==============================] - 0s 9ms/step - loss: 0.8300\n",
            "Epoch 37/100\n",
            "1/1 [==============================] - 0s 8ms/step - loss: 0.8300\n",
            "Epoch 38/100\n",
            "1/1 [==============================] - 0s 8ms/step - loss: 0.8300\n",
            "Epoch 39/100\n",
            "1/1 [==============================] - 0s 8ms/step - loss: 0.8300\n",
            "Epoch 40/100\n",
            "1/1 [==============================] - 0s 9ms/step - loss: 0.8300\n",
            "Epoch 41/100\n",
            "1/1 [==============================] - 0s 9ms/step - loss: 0.8299\n",
            "Epoch 42/100\n",
            "1/1 [==============================] - 0s 8ms/step - loss: 0.8299\n",
            "Epoch 43/100\n",
            "1/1 [==============================] - 0s 8ms/step - loss: 0.8299\n",
            "Epoch 44/100\n",
            "1/1 [==============================] - 0s 8ms/step - loss: 0.8299\n",
            "Epoch 45/100\n",
            "1/1 [==============================] - 0s 8ms/step - loss: 0.8299\n",
            "Epoch 46/100\n",
            "1/1 [==============================] - 0s 8ms/step - loss: 0.8299\n",
            "Epoch 47/100\n",
            "1/1 [==============================] - 0s 8ms/step - loss: 0.8299\n",
            "Epoch 48/100\n",
            "1/1 [==============================] - 0s 9ms/step - loss: 0.8299\n",
            "Epoch 49/100\n",
            "1/1 [==============================] - 0s 8ms/step - loss: 0.8299\n",
            "Epoch 50/100\n",
            "1/1 [==============================] - 0s 8ms/step - loss: 0.8298\n",
            "Epoch 51/100\n",
            "1/1 [==============================] - 0s 7ms/step - loss: 0.8298\n",
            "Epoch 52/100\n",
            "1/1 [==============================] - 0s 7ms/step - loss: 0.8298\n",
            "Epoch 53/100\n",
            "1/1 [==============================] - 0s 8ms/step - loss: 0.8298\n",
            "Epoch 54/100\n",
            "1/1 [==============================] - 0s 8ms/step - loss: 0.8298\n",
            "Epoch 55/100\n",
            "1/1 [==============================] - 0s 7ms/step - loss: 0.8298\n",
            "Epoch 56/100\n",
            "1/1 [==============================] - 0s 8ms/step - loss: 0.8298\n",
            "Epoch 57/100\n",
            "1/1 [==============================] - 0s 8ms/step - loss: 0.8298\n",
            "Epoch 58/100\n",
            "1/1 [==============================] - 0s 8ms/step - loss: 0.8298\n",
            "Epoch 59/100\n",
            "1/1 [==============================] - 0s 8ms/step - loss: 0.8298\n",
            "Epoch 60/100\n",
            "1/1 [==============================] - 0s 8ms/step - loss: 0.8297\n",
            "Epoch 61/100\n",
            "1/1 [==============================] - 0s 8ms/step - loss: 0.8297\n",
            "Epoch 62/100\n",
            "1/1 [==============================] - 0s 10ms/step - loss: 0.8297\n",
            "Epoch 63/100\n",
            "1/1 [==============================] - 0s 9ms/step - loss: 0.8297\n",
            "Epoch 64/100\n",
            "1/1 [==============================] - 0s 11ms/step - loss: 0.8297\n",
            "Epoch 65/100\n",
            "1/1 [==============================] - 0s 11ms/step - loss: 0.8297\n",
            "Epoch 66/100\n",
            "1/1 [==============================] - 0s 19ms/step - loss: 0.8297\n",
            "Epoch 67/100\n",
            "1/1 [==============================] - 0s 18ms/step - loss: 0.8297\n",
            "Epoch 68/100\n",
            "1/1 [==============================] - 0s 10ms/step - loss: 0.8297\n",
            "Epoch 69/100\n",
            "1/1 [==============================] - 0s 9ms/step - loss: 0.8297\n",
            "Epoch 70/100\n",
            "1/1 [==============================] - 0s 10ms/step - loss: 0.8297\n",
            "Epoch 71/100\n",
            "1/1 [==============================] - 0s 10ms/step - loss: 0.8297\n",
            "Epoch 72/100\n",
            "1/1 [==============================] - 0s 11ms/step - loss: 0.8296\n",
            "Epoch 73/100\n",
            "1/1 [==============================] - 0s 10ms/step - loss: 0.8296\n",
            "Epoch 74/100\n",
            "1/1 [==============================] - 0s 12ms/step - loss: 0.8296\n",
            "Epoch 75/100\n",
            "1/1 [==============================] - 0s 12ms/step - loss: 0.8296\n",
            "Epoch 76/100\n",
            "1/1 [==============================] - 0s 12ms/step - loss: 0.8296\n",
            "Epoch 77/100\n",
            "1/1 [==============================] - 0s 11ms/step - loss: 0.8296\n",
            "Epoch 78/100\n",
            "1/1 [==============================] - 0s 13ms/step - loss: 0.8296\n",
            "Epoch 79/100\n",
            "1/1 [==============================] - 0s 10ms/step - loss: 0.8296\n",
            "Epoch 80/100\n",
            "1/1 [==============================] - 0s 10ms/step - loss: 0.8296\n",
            "Epoch 81/100\n",
            "1/1 [==============================] - 0s 13ms/step - loss: 0.8296\n",
            "Epoch 82/100\n",
            "1/1 [==============================] - 0s 20ms/step - loss: 0.8296\n",
            "Epoch 83/100\n",
            "1/1 [==============================] - 0s 7ms/step - loss: 0.8296\n",
            "Epoch 84/100\n",
            "1/1 [==============================] - 0s 7ms/step - loss: 0.8296\n",
            "Epoch 85/100\n",
            "1/1 [==============================] - 0s 6ms/step - loss: 0.8296\n",
            "Epoch 86/100\n",
            "1/1 [==============================] - 0s 7ms/step - loss: 0.8295\n",
            "Epoch 87/100\n",
            "1/1 [==============================] - 0s 7ms/step - loss: 0.8295\n",
            "Epoch 88/100\n",
            "1/1 [==============================] - 0s 7ms/step - loss: 0.8295\n",
            "Epoch 89/100\n",
            "1/1 [==============================] - 0s 6ms/step - loss: 0.8295\n",
            "Epoch 90/100\n",
            "1/1 [==============================] - 0s 7ms/step - loss: 0.8295\n",
            "Epoch 91/100\n",
            "1/1 [==============================] - 0s 7ms/step - loss: 0.8295\n",
            "Epoch 92/100\n",
            "1/1 [==============================] - 0s 7ms/step - loss: 0.8295\n",
            "Epoch 93/100\n",
            "1/1 [==============================] - 0s 6ms/step - loss: 0.8295\n",
            "Epoch 94/100\n",
            "1/1 [==============================] - 0s 7ms/step - loss: 0.8295\n",
            "Epoch 95/100\n",
            "1/1 [==============================] - 0s 6ms/step - loss: 0.8295\n",
            "Epoch 96/100\n",
            "1/1 [==============================] - 0s 7ms/step - loss: 0.8295\n",
            "Epoch 97/100\n",
            "1/1 [==============================] - 0s 12ms/step - loss: 0.8295\n",
            "Epoch 98/100\n",
            "1/1 [==============================] - 0s 22ms/step - loss: 0.8295\n",
            "Epoch 99/100\n",
            "1/1 [==============================] - 0s 10ms/step - loss: 0.8295\n",
            "Epoch 100/100\n",
            "1/1 [==============================] - 0s 11ms/step - loss: 0.8294\n"
          ]
        },
        {
          "output_type": "execute_result",
          "data": {
            "text/plain": [
              "<keras.callbacks.History at 0x7feda54c9890>"
            ]
          },
          "metadata": {},
          "execution_count": 8
        }
      ]
    },
    {
      "cell_type": "markdown",
      "source": [
        "## Prediction"
      ],
      "metadata": {
        "id": "Dy-eQVd2xNgJ"
      }
    },
    {
      "cell_type": "code",
      "source": [
        "# Kernel = weight associated with the number of bedrooms.\n",
        "# Bias = constant\n",
        "# For bedroom = 8, both are quite close to 50.\n",
        "print(\"Price of the 8-bedroom house is: \", model.predict([8.0]))\n",
        "print('Kernel value:', model.weights[0].numpy()[0,0])\n",
        "print('Bias value:', model.weights[1].numpy()[0])\n"
      ],
      "metadata": {
        "colab": {
          "base_uri": "https://localhost:8080/"
        },
        "id": "ozxVQ5v-xLXF",
        "outputId": "78270280-3762-4c47-ea8c-e72b90954695"
      },
      "execution_count": 9,
      "outputs": [
        {
          "output_type": "stream",
          "name": "stdout",
          "text": [
            "Price of the 8-bedroom house is:  [[449.03635]]\n",
            "Kernel value: 49.877716\n",
            "Bias value: 50.014626\n"
          ]
        }
      ]
    },
    {
      "cell_type": "markdown",
      "source": [
        "# Example 2"
      ],
      "metadata": {
        "id": "53N6p59UxtAm"
      }
    },
    {
      "cell_type": "code",
      "source": [
        "# Bigger NN - add one hidden layer with multiple nodes.\n",
        "# Classification \n",
        "# Real dataset\n",
        "# Split into train and test.\n",
        "\n",
        "# For plotting the accuracy and loss over the epochs\n",
        "import matplotlib.pyplot as plt\n",
        "\n",
        "# Library that has the dataset built-in\n",
        "from sklearn.datasets import load_iris\n",
        "\n",
        "# For splitting our entire data into two parts\n",
        "from sklearn.model_selection import train_test_split"
      ],
      "metadata": {
        "id": "KOMmaY7Mxe9U"
      },
      "execution_count": 10,
      "outputs": []
    },
    {
      "cell_type": "code",
      "source": [
        "# Load data\n",
        "data = load_iris()\n",
        "X = data['data']\n",
        "y = data['target']\n",
        "\n",
        "print('Features of Instance 1:', X[0])\n",
        "print('Target of Instance 1:', y[0])\n",
        "\n",
        "# Split the data into training and testing sets\n",
        "X_train, X_test, y_train, y_test  = train_test_split(X,y,test_size=0.2)\n",
        "\n",
        "# Let's view the shapes of all train and test data.\n",
        "print('Shape of training data:', X_train.shape)\n",
        "print('Shape of training targets:', y_train.shape)\n",
        "print('Shape of test data:', X_test.shape)\n",
        "print('Shape of test targets:', y_test.shape)"
      ],
      "metadata": {
        "colab": {
          "base_uri": "https://localhost:8080/"
        },
        "id": "3BiMPeEnxzVe",
        "outputId": "9e1f2494-b16f-46a9-c6b2-8f1917ba9a04"
      },
      "execution_count": 15,
      "outputs": [
        {
          "output_type": "stream",
          "name": "stdout",
          "text": [
            "Features of Instance 1: [5.1 3.5 1.4 0.2]\n",
            "Target of Instance 1: 0\n",
            "Shape of training data: (120, 4)\n",
            "Shape of training targets: (120,)\n",
            "Shape of test data: (30, 4)\n",
            "Shape of test targets: (30,)\n"
          ]
        }
      ]
    },
    {
      "cell_type": "markdown",
      "source": [
        "## Build model"
      ],
      "metadata": {
        "id": "akChqE57yOIi"
      }
    },
    {
      "cell_type": "code",
      "source": [
        "# Use a `relu` activation function for the hidden layer. This is a\n",
        "# popular choice.\n",
        "#\n",
        "# Use `softmax` activation function for the output later, as we\n",
        "# want a probability value for each class.\n",
        "#\n",
        "# Use three output nodes, with each output being a value between 0\n",
        "# and 1, which will add up to 1 due to softmax. Each node will\n",
        "# indicate the probability of a particular class in the target labels.\n",
        "model = keras.models.Sequential([\n",
        "    keras.layers.Dense(units=10, activation='relu', input_shape=(4,)),\n",
        "    keras.layers.Dense(units=3, activation='softmax')\n",
        "])\n",
        "\n",
        "# View the Model Summary\n",
        "#\n",
        "# The number of parameters for each layer are the weights or the unknowns\n",
        "# that the model attempts to find through backpropagation. This is an \n",
        "# algorithm that is used to compute the gradients of a NN to reach a\n",
        "# point of minimization of the cost/loss function such as MSE. \n",
        "print(model.summary())"
      ],
      "metadata": {
        "colab": {
          "base_uri": "https://localhost:8080/"
        },
        "id": "yNfk5MtTyNNl",
        "outputId": "10f6a0e8-92e9-4afd-9767-5b65634acfb3"
      },
      "execution_count": 16,
      "outputs": [
        {
          "output_type": "stream",
          "name": "stdout",
          "text": [
            "Model: \"sequential_3\"\n",
            "_________________________________________________________________\n",
            " Layer (type)                Output Shape              Param #   \n",
            "=================================================================\n",
            " dense_5 (Dense)             (None, 10)                50        \n",
            "                                                                 \n",
            " dense_6 (Dense)             (None, 3)                 33        \n",
            "                                                                 \n",
            "=================================================================\n",
            "Total params: 83\n",
            "Trainable params: 83\n",
            "Non-trainable params: 0\n",
            "_________________________________________________________________\n",
            "None\n"
          ]
        }
      ]
    },
    {
      "cell_type": "markdown",
      "source": [
        "## Compile model"
      ],
      "metadata": {
        "id": "g2uQtDGpyIw3"
      }
    },
    {
      "cell_type": "code",
      "source": [
        "# Categorical cross entropy is the go-to loss function for a classification\n",
        "# problem.\n",
        "#\n",
        "# Sparse as our target values are in {0, 1, 2} rather than being one-hot\n",
        "# encoded.\n",
        "#\n",
        "# Add accuracy as a metric to be monitored.\n",
        "model.compile(\n",
        "    optimizer='rmsprop',\n",
        "    loss='sparse_categorical_crossentropy',\n",
        "    metrics=['accuracy']\n",
        ")"
      ],
      "metadata": {
        "id": "uEuYXef3yHKA"
      },
      "execution_count": 17,
      "outputs": []
    },
    {
      "cell_type": "markdown",
      "source": [
        "## Fit model"
      ],
      "metadata": {
        "id": "oxiErLKkyA_4"
      }
    },
    {
      "cell_type": "code",
      "source": [
        "model.fit(\n",
        "    X_train,\n",
        "    y_train,\n",
        "    epochs=100,\n",
        "    validation_data=(X_test, y_test)\n",
        ")"
      ],
      "metadata": {
        "colab": {
          "base_uri": "https://localhost:8080/"
        },
        "id": "T4GhJMw_yAHb",
        "outputId": "b59c74e4-e164-4e59-bb0f-7c97e62ce094"
      },
      "execution_count": 18,
      "outputs": [
        {
          "output_type": "stream",
          "name": "stdout",
          "text": [
            "Epoch 1/100\n",
            "4/4 [==============================] - 2s 69ms/step - loss: 5.3418 - accuracy: 0.3250 - val_loss: 4.4171 - val_accuracy: 0.3667\n",
            "Epoch 2/100\n",
            "4/4 [==============================] - 0s 20ms/step - loss: 5.1058 - accuracy: 0.3250 - val_loss: 4.2550 - val_accuracy: 0.3667\n",
            "Epoch 3/100\n",
            "4/4 [==============================] - 0s 17ms/step - loss: 4.9277 - accuracy: 0.3250 - val_loss: 4.1173 - val_accuracy: 0.3667\n",
            "Epoch 4/100\n",
            "4/4 [==============================] - 0s 13ms/step - loss: 4.7718 - accuracy: 0.3250 - val_loss: 3.9938 - val_accuracy: 0.3667\n",
            "Epoch 5/100\n",
            "4/4 [==============================] - 0s 13ms/step - loss: 4.6271 - accuracy: 0.3250 - val_loss: 3.8734 - val_accuracy: 0.3667\n",
            "Epoch 6/100\n",
            "4/4 [==============================] - 0s 13ms/step - loss: 4.4865 - accuracy: 0.3250 - val_loss: 3.7555 - val_accuracy: 0.3667\n",
            "Epoch 7/100\n",
            "4/4 [==============================] - 0s 13ms/step - loss: 4.3472 - accuracy: 0.3250 - val_loss: 3.6390 - val_accuracy: 0.3667\n",
            "Epoch 8/100\n",
            "4/4 [==============================] - 0s 13ms/step - loss: 4.2125 - accuracy: 0.3250 - val_loss: 3.5300 - val_accuracy: 0.3667\n",
            "Epoch 9/100\n",
            "4/4 [==============================] - 0s 14ms/step - loss: 4.0816 - accuracy: 0.3250 - val_loss: 3.4210 - val_accuracy: 0.3667\n",
            "Epoch 10/100\n",
            "4/4 [==============================] - 0s 22ms/step - loss: 3.9513 - accuracy: 0.3250 - val_loss: 3.3104 - val_accuracy: 0.3667\n",
            "Epoch 11/100\n",
            "4/4 [==============================] - 0s 19ms/step - loss: 3.8199 - accuracy: 0.3250 - val_loss: 3.2041 - val_accuracy: 0.3667\n",
            "Epoch 12/100\n",
            "4/4 [==============================] - 0s 14ms/step - loss: 3.6916 - accuracy: 0.3250 - val_loss: 3.0951 - val_accuracy: 0.3667\n",
            "Epoch 13/100\n",
            "4/4 [==============================] - 0s 15ms/step - loss: 3.5623 - accuracy: 0.3250 - val_loss: 2.9915 - val_accuracy: 0.3667\n",
            "Epoch 14/100\n",
            "4/4 [==============================] - 0s 13ms/step - loss: 3.4365 - accuracy: 0.3250 - val_loss: 2.8865 - val_accuracy: 0.3667\n",
            "Epoch 15/100\n",
            "4/4 [==============================] - 0s 12ms/step - loss: 3.3114 - accuracy: 0.3250 - val_loss: 2.7842 - val_accuracy: 0.3667\n",
            "Epoch 16/100\n",
            "4/4 [==============================] - 0s 13ms/step - loss: 3.1867 - accuracy: 0.3250 - val_loss: 2.6796 - val_accuracy: 0.3667\n",
            "Epoch 17/100\n",
            "4/4 [==============================] - 0s 13ms/step - loss: 3.0619 - accuracy: 0.3250 - val_loss: 2.5786 - val_accuracy: 0.3667\n",
            "Epoch 18/100\n",
            "4/4 [==============================] - 0s 14ms/step - loss: 2.9406 - accuracy: 0.3250 - val_loss: 2.4785 - val_accuracy: 0.3667\n",
            "Epoch 19/100\n",
            "4/4 [==============================] - 0s 15ms/step - loss: 2.8206 - accuracy: 0.3250 - val_loss: 2.3825 - val_accuracy: 0.3667\n",
            "Epoch 20/100\n",
            "4/4 [==============================] - 0s 13ms/step - loss: 2.7030 - accuracy: 0.3250 - val_loss: 2.2830 - val_accuracy: 0.3667\n",
            "Epoch 21/100\n",
            "4/4 [==============================] - 0s 13ms/step - loss: 2.5844 - accuracy: 0.3250 - val_loss: 2.1892 - val_accuracy: 0.3667\n",
            "Epoch 22/100\n",
            "4/4 [==============================] - 0s 12ms/step - loss: 2.4685 - accuracy: 0.3250 - val_loss: 2.0905 - val_accuracy: 0.3667\n",
            "Epoch 23/100\n",
            "4/4 [==============================] - 0s 16ms/step - loss: 2.3505 - accuracy: 0.3250 - val_loss: 1.9972 - val_accuracy: 0.3667\n",
            "Epoch 24/100\n",
            "4/4 [==============================] - 0s 15ms/step - loss: 2.2394 - accuracy: 0.3250 - val_loss: 1.9101 - val_accuracy: 0.3667\n",
            "Epoch 25/100\n",
            "4/4 [==============================] - 0s 13ms/step - loss: 2.1311 - accuracy: 0.3250 - val_loss: 1.8219 - val_accuracy: 0.3667\n",
            "Epoch 26/100\n",
            "4/4 [==============================] - 0s 13ms/step - loss: 2.0229 - accuracy: 0.3250 - val_loss: 1.7371 - val_accuracy: 0.3667\n",
            "Epoch 27/100\n",
            "4/4 [==============================] - 0s 13ms/step - loss: 1.9187 - accuracy: 0.3250 - val_loss: 1.6581 - val_accuracy: 0.3667\n",
            "Epoch 28/100\n",
            "4/4 [==============================] - 0s 16ms/step - loss: 1.8194 - accuracy: 0.3250 - val_loss: 1.5832 - val_accuracy: 0.3667\n",
            "Epoch 29/100\n",
            "4/4 [==============================] - 0s 13ms/step - loss: 1.7264 - accuracy: 0.3250 - val_loss: 1.5134 - val_accuracy: 0.3667\n",
            "Epoch 30/100\n",
            "4/4 [==============================] - 0s 16ms/step - loss: 1.6393 - accuracy: 0.3250 - val_loss: 1.4494 - val_accuracy: 0.3667\n",
            "Epoch 31/100\n",
            "4/4 [==============================] - 0s 13ms/step - loss: 1.5543 - accuracy: 0.3250 - val_loss: 1.3846 - val_accuracy: 0.3667\n",
            "Epoch 32/100\n",
            "4/4 [==============================] - 0s 13ms/step - loss: 1.4724 - accuracy: 0.3250 - val_loss: 1.3267 - val_accuracy: 0.3667\n",
            "Epoch 33/100\n",
            "4/4 [==============================] - 0s 17ms/step - loss: 1.3993 - accuracy: 0.3250 - val_loss: 1.2747 - val_accuracy: 0.3667\n",
            "Epoch 34/100\n",
            "4/4 [==============================] - 0s 13ms/step - loss: 1.3324 - accuracy: 0.3250 - val_loss: 1.2279 - val_accuracy: 0.3667\n",
            "Epoch 35/100\n",
            "4/4 [==============================] - 0s 13ms/step - loss: 1.2728 - accuracy: 0.3250 - val_loss: 1.1850 - val_accuracy: 0.3667\n",
            "Epoch 36/100\n",
            "4/4 [==============================] - 0s 15ms/step - loss: 1.2177 - accuracy: 0.3250 - val_loss: 1.1514 - val_accuracy: 0.3667\n",
            "Epoch 37/100\n",
            "4/4 [==============================] - 0s 14ms/step - loss: 1.1768 - accuracy: 0.3250 - val_loss: 1.1256 - val_accuracy: 0.3667\n",
            "Epoch 38/100\n",
            "4/4 [==============================] - 0s 12ms/step - loss: 1.1403 - accuracy: 0.3250 - val_loss: 1.1036 - val_accuracy: 0.3667\n",
            "Epoch 39/100\n",
            "4/4 [==============================] - 0s 14ms/step - loss: 1.1112 - accuracy: 0.3167 - val_loss: 1.0865 - val_accuracy: 0.3667\n",
            "Epoch 40/100\n",
            "4/4 [==============================] - 0s 13ms/step - loss: 1.0889 - accuracy: 0.3083 - val_loss: 1.0728 - val_accuracy: 0.3000\n",
            "Epoch 41/100\n",
            "4/4 [==============================] - 0s 13ms/step - loss: 1.0683 - accuracy: 0.2917 - val_loss: 1.0597 - val_accuracy: 0.3000\n",
            "Epoch 42/100\n",
            "4/4 [==============================] - 0s 13ms/step - loss: 1.0527 - accuracy: 0.2750 - val_loss: 1.0471 - val_accuracy: 0.2333\n",
            "Epoch 43/100\n",
            "4/4 [==============================] - 0s 13ms/step - loss: 1.0374 - accuracy: 0.2583 - val_loss: 1.0350 - val_accuracy: 0.2333\n",
            "Epoch 44/100\n",
            "4/4 [==============================] - 0s 15ms/step - loss: 1.0240 - accuracy: 0.2583 - val_loss: 1.0243 - val_accuracy: 0.2000\n",
            "Epoch 45/100\n",
            "4/4 [==============================] - 0s 19ms/step - loss: 1.0101 - accuracy: 0.2417 - val_loss: 1.0146 - val_accuracy: 0.2000\n",
            "Epoch 46/100\n",
            "4/4 [==============================] - 0s 14ms/step - loss: 0.9987 - accuracy: 0.2167 - val_loss: 1.0018 - val_accuracy: 0.2000\n",
            "Epoch 47/100\n",
            "4/4 [==============================] - 0s 12ms/step - loss: 0.9861 - accuracy: 0.2250 - val_loss: 0.9908 - val_accuracy: 0.2000\n",
            "Epoch 48/100\n",
            "4/4 [==============================] - 0s 12ms/step - loss: 0.9830 - accuracy: 0.2333 - val_loss: 0.9813 - val_accuracy: 0.2000\n",
            "Epoch 49/100\n",
            "4/4 [==============================] - 0s 11ms/step - loss: 0.9657 - accuracy: 0.2250 - val_loss: 0.9737 - val_accuracy: 0.1667\n",
            "Epoch 50/100\n",
            "4/4 [==============================] - 0s 13ms/step - loss: 0.9542 - accuracy: 0.2417 - val_loss: 0.9621 - val_accuracy: 0.2000\n",
            "Epoch 51/100\n",
            "4/4 [==============================] - 0s 12ms/step - loss: 0.9439 - accuracy: 0.2667 - val_loss: 0.9506 - val_accuracy: 0.2000\n",
            "Epoch 52/100\n",
            "4/4 [==============================] - 0s 15ms/step - loss: 0.9344 - accuracy: 0.2667 - val_loss: 0.9392 - val_accuracy: 0.2000\n",
            "Epoch 53/100\n",
            "4/4 [==============================] - 0s 12ms/step - loss: 0.9231 - accuracy: 0.2833 - val_loss: 0.9263 - val_accuracy: 0.2333\n",
            "Epoch 54/100\n",
            "4/4 [==============================] - 0s 13ms/step - loss: 0.9125 - accuracy: 0.2833 - val_loss: 0.9166 - val_accuracy: 0.2000\n",
            "Epoch 55/100\n",
            "4/4 [==============================] - 0s 15ms/step - loss: 0.9059 - accuracy: 0.3167 - val_loss: 0.9064 - val_accuracy: 0.2000\n",
            "Epoch 56/100\n",
            "4/4 [==============================] - 0s 14ms/step - loss: 0.8941 - accuracy: 0.3250 - val_loss: 0.9000 - val_accuracy: 0.2333\n",
            "Epoch 57/100\n",
            "4/4 [==============================] - 0s 13ms/step - loss: 0.8845 - accuracy: 0.3167 - val_loss: 0.8933 - val_accuracy: 0.2667\n",
            "Epoch 58/100\n",
            "4/4 [==============================] - 0s 12ms/step - loss: 0.8777 - accuracy: 0.3583 - val_loss: 0.8832 - val_accuracy: 0.2667\n",
            "Epoch 59/100\n",
            "4/4 [==============================] - 0s 13ms/step - loss: 0.8691 - accuracy: 0.4167 - val_loss: 0.8768 - val_accuracy: 0.3667\n",
            "Epoch 60/100\n",
            "4/4 [==============================] - 0s 12ms/step - loss: 0.8640 - accuracy: 0.4917 - val_loss: 0.8654 - val_accuracy: 0.4667\n",
            "Epoch 61/100\n",
            "4/4 [==============================] - 0s 12ms/step - loss: 0.8576 - accuracy: 0.5167 - val_loss: 0.8578 - val_accuracy: 0.4667\n",
            "Epoch 62/100\n",
            "4/4 [==============================] - 0s 13ms/step - loss: 0.8467 - accuracy: 0.5500 - val_loss: 0.8513 - val_accuracy: 0.5000\n",
            "Epoch 63/100\n",
            "4/4 [==============================] - 0s 13ms/step - loss: 0.8417 - accuracy: 0.5833 - val_loss: 0.8423 - val_accuracy: 0.5667\n",
            "Epoch 64/100\n",
            "4/4 [==============================] - 0s 15ms/step - loss: 0.8368 - accuracy: 0.6083 - val_loss: 0.8354 - val_accuracy: 0.5667\n",
            "Epoch 65/100\n",
            "4/4 [==============================] - 0s 13ms/step - loss: 0.8297 - accuracy: 0.6667 - val_loss: 0.8307 - val_accuracy: 0.6333\n",
            "Epoch 66/100\n",
            "4/4 [==============================] - 0s 13ms/step - loss: 0.8228 - accuracy: 0.6833 - val_loss: 0.8241 - val_accuracy: 0.6333\n",
            "Epoch 67/100\n",
            "4/4 [==============================] - 0s 13ms/step - loss: 0.8145 - accuracy: 0.6917 - val_loss: 0.8199 - val_accuracy: 0.5667\n",
            "Epoch 68/100\n",
            "4/4 [==============================] - 0s 15ms/step - loss: 0.8096 - accuracy: 0.7083 - val_loss: 0.8146 - val_accuracy: 0.6000\n",
            "Epoch 69/100\n",
            "4/4 [==============================] - 0s 14ms/step - loss: 0.8037 - accuracy: 0.7167 - val_loss: 0.8103 - val_accuracy: 0.6333\n",
            "Epoch 70/100\n",
            "4/4 [==============================] - 0s 15ms/step - loss: 0.7968 - accuracy: 0.7000 - val_loss: 0.8043 - val_accuracy: 0.6667\n",
            "Epoch 71/100\n",
            "4/4 [==============================] - 0s 14ms/step - loss: 0.7900 - accuracy: 0.7083 - val_loss: 0.7959 - val_accuracy: 0.6333\n",
            "Epoch 72/100\n",
            "4/4 [==============================] - 0s 13ms/step - loss: 0.7861 - accuracy: 0.7333 - val_loss: 0.7902 - val_accuracy: 0.6333\n",
            "Epoch 73/100\n",
            "4/4 [==============================] - 0s 14ms/step - loss: 0.7798 - accuracy: 0.7333 - val_loss: 0.7849 - val_accuracy: 0.7000\n",
            "Epoch 74/100\n",
            "4/4 [==============================] - 0s 16ms/step - loss: 0.7745 - accuracy: 0.7417 - val_loss: 0.7802 - val_accuracy: 0.7333\n",
            "Epoch 75/100\n",
            "4/4 [==============================] - 0s 15ms/step - loss: 0.7703 - accuracy: 0.7333 - val_loss: 0.7717 - val_accuracy: 0.6667\n",
            "Epoch 76/100\n",
            "4/4 [==============================] - 0s 15ms/step - loss: 0.7622 - accuracy: 0.7417 - val_loss: 0.7668 - val_accuracy: 0.7000\n",
            "Epoch 77/100\n",
            "4/4 [==============================] - 0s 15ms/step - loss: 0.7577 - accuracy: 0.7667 - val_loss: 0.7611 - val_accuracy: 0.7000\n",
            "Epoch 78/100\n",
            "4/4 [==============================] - 0s 14ms/step - loss: 0.7504 - accuracy: 0.7750 - val_loss: 0.7551 - val_accuracy: 0.7333\n",
            "Epoch 79/100\n",
            "4/4 [==============================] - 0s 12ms/step - loss: 0.7482 - accuracy: 0.7667 - val_loss: 0.7479 - val_accuracy: 0.7333\n",
            "Epoch 80/100\n",
            "4/4 [==============================] - 0s 14ms/step - loss: 0.7400 - accuracy: 0.7833 - val_loss: 0.7417 - val_accuracy: 0.7333\n",
            "Epoch 81/100\n",
            "4/4 [==============================] - 0s 13ms/step - loss: 0.7352 - accuracy: 0.7667 - val_loss: 0.7360 - val_accuracy: 0.7333\n",
            "Epoch 82/100\n",
            "4/4 [==============================] - 0s 13ms/step - loss: 0.7319 - accuracy: 0.7333 - val_loss: 0.7341 - val_accuracy: 0.8333\n",
            "Epoch 83/100\n",
            "4/4 [==============================] - 0s 13ms/step - loss: 0.7237 - accuracy: 0.8000 - val_loss: 0.7272 - val_accuracy: 0.8333\n",
            "Epoch 84/100\n",
            "4/4 [==============================] - 0s 14ms/step - loss: 0.7193 - accuracy: 0.7917 - val_loss: 0.7210 - val_accuracy: 0.8333\n",
            "Epoch 85/100\n",
            "4/4 [==============================] - 0s 13ms/step - loss: 0.7143 - accuracy: 0.8167 - val_loss: 0.7125 - val_accuracy: 0.7333\n",
            "Epoch 86/100\n",
            "4/4 [==============================] - 0s 13ms/step - loss: 0.7079 - accuracy: 0.7917 - val_loss: 0.7099 - val_accuracy: 0.8333\n",
            "Epoch 87/100\n",
            "4/4 [==============================] - 0s 15ms/step - loss: 0.7025 - accuracy: 0.7750 - val_loss: 0.7032 - val_accuracy: 0.8333\n",
            "Epoch 88/100\n",
            "4/4 [==============================] - 0s 14ms/step - loss: 0.7040 - accuracy: 0.7917 - val_loss: 0.7031 - val_accuracy: 0.9000\n",
            "Epoch 89/100\n",
            "4/4 [==============================] - 0s 13ms/step - loss: 0.6935 - accuracy: 0.8167 - val_loss: 0.6946 - val_accuracy: 0.8667\n",
            "Epoch 90/100\n",
            "4/4 [==============================] - 0s 14ms/step - loss: 0.6892 - accuracy: 0.8167 - val_loss: 0.6887 - val_accuracy: 0.8333\n",
            "Epoch 91/100\n",
            "4/4 [==============================] - 0s 15ms/step - loss: 0.6878 - accuracy: 0.7833 - val_loss: 0.6873 - val_accuracy: 0.9000\n",
            "Epoch 92/100\n",
            "4/4 [==============================] - 0s 17ms/step - loss: 0.6800 - accuracy: 0.8167 - val_loss: 0.6833 - val_accuracy: 0.9000\n",
            "Epoch 93/100\n",
            "4/4 [==============================] - 0s 13ms/step - loss: 0.6787 - accuracy: 0.8250 - val_loss: 0.6750 - val_accuracy: 0.8333\n",
            "Epoch 94/100\n",
            "4/4 [==============================] - 0s 15ms/step - loss: 0.6738 - accuracy: 0.7750 - val_loss: 0.6735 - val_accuracy: 0.9000\n",
            "Epoch 95/100\n",
            "4/4 [==============================] - 0s 14ms/step - loss: 0.6670 - accuracy: 0.8417 - val_loss: 0.6666 - val_accuracy: 0.8333\n",
            "Epoch 96/100\n",
            "4/4 [==============================] - 0s 14ms/step - loss: 0.6645 - accuracy: 0.8167 - val_loss: 0.6636 - val_accuracy: 0.8667\n",
            "Epoch 97/100\n",
            "4/4 [==============================] - 0s 15ms/step - loss: 0.6639 - accuracy: 0.7917 - val_loss: 0.6611 - val_accuracy: 0.9333\n",
            "Epoch 98/100\n",
            "4/4 [==============================] - 0s 16ms/step - loss: 0.6543 - accuracy: 0.8417 - val_loss: 0.6554 - val_accuracy: 0.9000\n",
            "Epoch 99/100\n",
            "4/4 [==============================] - 0s 15ms/step - loss: 0.6509 - accuracy: 0.8250 - val_loss: 0.6519 - val_accuracy: 0.9333\n",
            "Epoch 100/100\n",
            "4/4 [==============================] - 0s 15ms/step - loss: 0.6474 - accuracy: 0.8583 - val_loss: 0.6436 - val_accuracy: 0.8333\n"
          ]
        },
        {
          "output_type": "execute_result",
          "data": {
            "text/plain": [
              "<keras.callbacks.History at 0x7feda36672d0>"
            ]
          },
          "metadata": {},
          "execution_count": 18
        }
      ]
    },
    {
      "cell_type": "code",
      "source": [
        "# Plot\n",
        "#\n",
        "# Accuracy improves and loss decreases over epochs. The number of \n",
        "# Dense units and the activation function in the hidden layer\n",
        "# is something that could be changed to get better results.\n",
        "#\n",
        "# We could also add more hidden layers and change the optimizer, \n",
        "# or change the learning rate of the optimizer.\n",
        "#\n",
        "# There is a lot of trial and error that happens when training a\n",
        "# neural network.\n",
        "plt.plot(model.history.history['accuracy'], label='Train Accuracy')\n",
        "plt.plot(model.history.history['val_accuracy'], label='Test Accuracy')\n",
        "plt.xlabel('Epochs')\n",
        "plt.ylabel('Accuracy')\n",
        "plt.legend()\n",
        "# plt.savefig('accuracy_plot.png')\n",
        "plt.show()"
      ],
      "metadata": {
        "colab": {
          "base_uri": "https://localhost:8080/",
          "height": 279
        },
        "id": "3CnQWmTDx3qg",
        "outputId": "542f5b68-f853-4ac1-c756-2ee67d581284"
      },
      "execution_count": 19,
      "outputs": [
        {
          "output_type": "display_data",
          "data": {
            "text/plain": [
              "<Figure size 432x288 with 1 Axes>"
            ],
            "image/png": "[encoded data removed]"
          },
          "metadata": {
            "needs_background": "light"
          }
        }
      ]
    },
    {
      "cell_type": "code",
      "source": [
        "plt.close()\n",
        "plt.plot(model.history.history['loss'], label='Train Loss')\n",
        "plt.plot(model.history.history['val_loss'], label='Test Loss')\n",
        "plt.xlabel('Epochs')\n",
        "plt.ylabel('Loss')\n",
        "plt.legend()\n",
        "# plt.savefig('loss_plot.png')\n",
        "plt.show()"
      ],
      "metadata": {
        "colab": {
          "base_uri": "https://localhost:8080/",
          "height": 279
        },
        "id": "3BywqaV-x6Cx",
        "outputId": "03655fca-08de-4e5d-c2f9-dafe73b0a2ce"
      },
      "execution_count": 20,
      "outputs": [
        {
          "output_type": "display_data",
          "data": {
            "text/plain": [
              "<Figure size 432x288 with 1 Axes>"
            ],
            "image/png": "[encoded data removed]"
          },
          "metadata": {
            "needs_background": "light"
          }
        }
      ]
    },
    {
      "cell_type": "code",
      "source": [
        ""
      ],
      "metadata": {
        "id": "ZLDEAvX_x6o8"
      },
      "execution_count": null,
      "outputs": []
    }
  ]
}